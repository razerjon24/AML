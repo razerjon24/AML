{
 "cells": [
  {
   "cell_type": "markdown",
   "metadata": {},
   "source": [
    "## Imports"
   ]
  },
  {
   "cell_type": "code",
   "execution_count": 83,
   "metadata": {},
   "outputs": [],
   "source": [
    "import numpy as np\n",
    "import pandas as pd\n",
    "import matplotlib.pyplot as plt\n",
    "%matplotlib inline\n",
    "import seaborn as sns; sns.set()"
   ]
  },
  {
   "cell_type": "markdown",
   "metadata": {},
   "source": [
    "## Get data"
   ]
  },
  {
   "cell_type": "code",
   "execution_count": 84,
   "metadata": {},
   "outputs": [],
   "source": [
    "x_train_raw = pd.read_csv('../data/X_train.csv').drop('id', axis=1)\n",
    "y_train_raw = pd.read_csv('../data/y_train.csv').drop('id', axis=1)"
   ]
  },
  {
   "cell_type": "code",
   "execution_count": 85,
   "metadata": {},
   "outputs": [
    {
     "data": {
      "text/plain": [
       "(4800, 1000)"
      ]
     },
     "execution_count": 85,
     "metadata": {},
     "output_type": "execute_result"
    }
   ],
   "source": [
    "x_train_raw.shape"
   ]
  },
  {
   "cell_type": "code",
   "execution_count": 86,
   "metadata": {},
   "outputs": [
    {
     "data": {
      "text/plain": [
       "(4800, 1)"
      ]
     },
     "execution_count": 86,
     "metadata": {},
     "output_type": "execute_result"
    }
   ],
   "source": [
    "y_train_raw.shape"
   ]
  },
  {
   "cell_type": "code",
   "execution_count": 87,
   "metadata": {},
   "outputs": [
    {
     "data": {
      "text/plain": [
       "(array([ 600.,    0.,    0.,    0.,    0., 3600.,    0.,    0.,    0.,\n",
       "         600.]),\n",
       " array([0. , 0.2, 0.4, 0.6, 0.8, 1. , 1.2, 1.4, 1.6, 1.8, 2. ]),\n",
       " <a list of 10 Patch objects>)"
      ]
     },
     "execution_count": 87,
     "metadata": {},
     "output_type": "execute_result"
    },
    {
     "data": {
      "image/png": "[encoded data removed]",
      "text/plain": [
       "<Figure size 432x288 with 1 Axes>"
      ]
     },
     "metadata": {},
     "output_type": "display_data"
    }
   ],
   "source": [
    "plt.hist(y_train_raw.values.ravel())"
   ]
  },
  {
   "cell_type": "code",
   "execution_count": 88,
   "metadata": {},
   "outputs": [
    {
     "data": {
      "text/html": [
       "<div>\n",
       "<style scoped>\n",
       "    .dataframe tbody tr th:only-of-type {\n",
       "        vertical-align: middle;\n",
       "    }\n",
       "\n",
       "    .dataframe tbody tr th {\n",
       "        vertical-align: top;\n",
       "    }\n",
       "\n",
       "    .dataframe thead th {\n",
       "        text-align: right;\n",
       "    }\n",
       "</style>\n",
       "<table border=\"1\" class=\"dataframe\">\n",
       "  <thead>\n",
       "    <tr style=\"text-align: right;\">\n",
       "      <th></th>\n",
       "      <th>x0</th>\n",
       "      <th>x1</th>\n",
       "      <th>x2</th>\n",
       "      <th>x3</th>\n",
       "      <th>x4</th>\n",
       "      <th>x5</th>\n",
       "      <th>x6</th>\n",
       "      <th>x7</th>\n",
       "      <th>x8</th>\n",
       "      <th>x9</th>\n",
       "      <th>...</th>\n",
       "      <th>x990</th>\n",
       "      <th>x991</th>\n",
       "      <th>x992</th>\n",
       "      <th>x993</th>\n",
       "      <th>x994</th>\n",
       "      <th>x995</th>\n",
       "      <th>x996</th>\n",
       "      <th>x997</th>\n",
       "      <th>x998</th>\n",
       "      <th>x999</th>\n",
       "    </tr>\n",
       "  </thead>\n",
       "  <tbody>\n",
       "    <tr>\n",
       "      <td>0</td>\n",
       "      <td>-1.099144</td>\n",
       "      <td>0.918165</td>\n",
       "      <td>-1.227394</td>\n",
       "      <td>0.887061</td>\n",
       "      <td>1.182734</td>\n",
       "      <td>-0.371802</td>\n",
       "      <td>-0.127331</td>\n",
       "      <td>1.201702</td>\n",
       "      <td>1.825839</td>\n",
       "      <td>2.944655</td>\n",
       "      <td>...</td>\n",
       "      <td>-1.111422</td>\n",
       "      <td>1.566261</td>\n",
       "      <td>-1.656656</td>\n",
       "      <td>-0.412988</td>\n",
       "      <td>2.803183</td>\n",
       "      <td>-3.253815</td>\n",
       "      <td>-2.042599</td>\n",
       "      <td>3.497246</td>\n",
       "      <td>-1.275422</td>\n",
       "      <td>2.440708</td>\n",
       "    </tr>\n",
       "    <tr>\n",
       "      <td>1</td>\n",
       "      <td>0.366477</td>\n",
       "      <td>0.933802</td>\n",
       "      <td>0.061234</td>\n",
       "      <td>0.430073</td>\n",
       "      <td>1.029673</td>\n",
       "      <td>-0.613771</td>\n",
       "      <td>0.364698</td>\n",
       "      <td>1.140867</td>\n",
       "      <td>0.182811</td>\n",
       "      <td>-0.344876</td>\n",
       "      <td>...</td>\n",
       "      <td>-0.672386</td>\n",
       "      <td>-0.003721</td>\n",
       "      <td>-0.496326</td>\n",
       "      <td>0.672818</td>\n",
       "      <td>-0.546066</td>\n",
       "      <td>-0.227112</td>\n",
       "      <td>0.291441</td>\n",
       "      <td>-0.150495</td>\n",
       "      <td>0.156421</td>\n",
       "      <td>0.714252</td>\n",
       "    </tr>\n",
       "    <tr>\n",
       "      <td>2</td>\n",
       "      <td>-0.425879</td>\n",
       "      <td>-0.802152</td>\n",
       "      <td>0.002718</td>\n",
       "      <td>0.820036</td>\n",
       "      <td>1.490237</td>\n",
       "      <td>-0.888121</td>\n",
       "      <td>0.769524</td>\n",
       "      <td>1.059020</td>\n",
       "      <td>0.854806</td>\n",
       "      <td>-0.077359</td>\n",
       "      <td>...</td>\n",
       "      <td>-1.031358</td>\n",
       "      <td>-0.085724</td>\n",
       "      <td>-0.557461</td>\n",
       "      <td>-0.091904</td>\n",
       "      <td>-0.123858</td>\n",
       "      <td>0.387162</td>\n",
       "      <td>1.031941</td>\n",
       "      <td>0.766522</td>\n",
       "      <td>0.339105</td>\n",
       "      <td>-0.046364</td>\n",
       "    </tr>\n",
       "    <tr>\n",
       "      <td>3</td>\n",
       "      <td>0.822922</td>\n",
       "      <td>-0.843041</td>\n",
       "      <td>-0.734624</td>\n",
       "      <td>-0.000040</td>\n",
       "      <td>0.123783</td>\n",
       "      <td>-1.777226</td>\n",
       "      <td>0.364601</td>\n",
       "      <td>0.425521</td>\n",
       "      <td>1.265122</td>\n",
       "      <td>0.734897</td>\n",
       "      <td>...</td>\n",
       "      <td>-0.118974</td>\n",
       "      <td>1.271367</td>\n",
       "      <td>-1.518161</td>\n",
       "      <td>-0.315441</td>\n",
       "      <td>0.218074</td>\n",
       "      <td>-1.880067</td>\n",
       "      <td>-0.495170</td>\n",
       "      <td>1.418946</td>\n",
       "      <td>-0.201938</td>\n",
       "      <td>1.475484</td>\n",
       "    </tr>\n",
       "    <tr>\n",
       "      <td>4</td>\n",
       "      <td>-0.285342</td>\n",
       "      <td>-0.641116</td>\n",
       "      <td>0.436524</td>\n",
       "      <td>-0.618663</td>\n",
       "      <td>0.319982</td>\n",
       "      <td>-1.160489</td>\n",
       "      <td>0.528379</td>\n",
       "      <td>0.337300</td>\n",
       "      <td>-0.156210</td>\n",
       "      <td>-0.756133</td>\n",
       "      <td>...</td>\n",
       "      <td>-0.997750</td>\n",
       "      <td>-1.008573</td>\n",
       "      <td>-0.404263</td>\n",
       "      <td>0.304188</td>\n",
       "      <td>0.313034</td>\n",
       "      <td>-0.514287</td>\n",
       "      <td>0.701526</td>\n",
       "      <td>0.473238</td>\n",
       "      <td>-0.046099</td>\n",
       "      <td>0.492881</td>\n",
       "    </tr>\n",
       "  </tbody>\n",
       "</table>\n",
       "<p>5 rows × 1000 columns</p>\n",
       "</div>"
      ],
      "text/plain": [
       "         x0        x1        x2        x3        x4        x5        x6  \\\n",
       "0 -1.099144  0.918165 -1.227394  0.887061  1.182734 -0.371802 -0.127331   \n",
       "1  0.366477  0.933802  0.061234  0.430073  1.029673 -0.613771  0.364698   \n",
       "2 -0.425879 -0.802152  0.002718  0.820036  1.490237 -0.888121  0.769524   \n",
       "3  0.822922 -0.843041 -0.734624 -0.000040  0.123783 -1.777226  0.364601   \n",
       "4 -0.285342 -0.641116  0.436524 -0.618663  0.319982 -1.160489  0.528379   \n",
       "\n",
       "         x7        x8        x9  ...      x990      x991      x992      x993  \\\n",
       "0  1.201702  1.825839  2.944655  ... -1.111422  1.566261 -1.656656 -0.412988   \n",
       "1  1.140867  0.182811 -0.344876  ... -0.672386 -0.003721 -0.496326  0.672818   \n",
       "2  1.059020  0.854806 -0.077359  ... -1.031358 -0.085724 -0.557461 -0.091904   \n",
       "3  0.425521  1.265122  0.734897  ... -0.118974  1.271367 -1.518161 -0.315441   \n",
       "4  0.337300 -0.156210 -0.756133  ... -0.997750 -1.008573 -0.404263  0.304188   \n",
       "\n",
       "       x994      x995      x996      x997      x998      x999  \n",
       "0  2.803183 -3.253815 -2.042599  3.497246 -1.275422  2.440708  \n",
       "1 -0.546066 -0.227112  0.291441 -0.150495  0.156421  0.714252  \n",
       "2 -0.123858  0.387162  1.031941  0.766522  0.339105 -0.046364  \n",
       "3  0.218074 -1.880067 -0.495170  1.418946 -0.201938  1.475484  \n",
       "4  0.313034 -0.514287  0.701526  0.473238 -0.046099  0.492881  \n",
       "\n",
       "[5 rows x 1000 columns]"
      ]
     },
     "execution_count": 88,
     "metadata": {},
     "output_type": "execute_result"
    }
   ],
   "source": [
    "x_train_raw.head()"
   ]
  },
  {
   "cell_type": "markdown",
   "metadata": {},
   "source": [
    "## Split data"
   ]
  },
  {
   "cell_type": "code",
   "execution_count": 89,
   "metadata": {},
   "outputs": [],
   "source": [
    "from sklearn.model_selection import train_test_split\n",
    "x_train, x_val, y_train, y_val = train_test_split(x_train_raw, y_train_raw, test_size = 0.2)"
   ]
  },
  {
   "cell_type": "markdown",
   "metadata": {},
   "source": [
    "## Upsample training data (with SMOTE)"
   ]
  },
  {
   "cell_type": "code",
   "execution_count": 90,
   "metadata": {},
   "outputs": [
    {
     "data": {
      "text/plain": [
       "1    2883\n",
       "2     486\n",
       "0     471\n",
       "Name: y, dtype: int64"
      ]
     },
     "execution_count": 90,
     "metadata": {},
     "output_type": "execute_result"
    }
   ],
   "source": [
    "y_counts = y_train.y.value_counts()\n",
    "y_counts"
   ]
  },
  {
   "cell_type": "code",
   "execution_count": 91,
   "metadata": {},
   "outputs": [
    {
     "name": "stderr",
     "output_type": "stream",
     "text": [
      "/Users/elrich/opt/anaconda3/lib/python3.7/site-packages/sklearn/utils/validation.py:724: DataConversionWarning: A column-vector y was passed when a 1d array was expected. Please change the shape of y to (n_samples, ), for example using ravel().\n",
      "  y = column_or_1d(y, warn=True)\n"
     ]
    }
   ],
   "source": [
    "# upsample all but the majority class\n",
    "from imblearn.over_sampling import SMOTE\n",
    "smote = SMOTE(ratio='not majority')\n",
    "x_sm, y_sm = smote.fit_sample(x_train, y_train)"
   ]
  },
  {
   "cell_type": "code",
   "execution_count": 92,
   "metadata": {},
   "outputs": [
    {
     "data": {
      "text/plain": [
       "[2883, 2883, 2883]"
      ]
     },
     "execution_count": 92,
     "metadata": {},
     "output_type": "execute_result"
    }
   ],
   "source": [
    "# check number of rows for each class\n",
    "[len([y for y in y_sm if y ==0]),len([y for y in y_sm if y ==1]),len([y for y in y_sm if y ==2])]"
   ]
  },
  {
   "cell_type": "markdown",
   "metadata": {},
   "source": [
    "## Fit Model"
   ]
  },
  {
   "cell_type": "code",
   "execution_count": 93,
   "metadata": {},
   "outputs": [],
   "source": [
    "from sklearn.metrics import balanced_accuracy_score\n",
    "def score(true, pred):\n",
    "    return balanced_accuracy_score(true, pred)"
   ]
  },
  {
   "cell_type": "markdown",
   "metadata": {},
   "source": [
    "### Random forests"
   ]
  },
  {
   "cell_type": "code",
   "execution_count": 94,
   "metadata": {},
   "outputs": [],
   "source": [
    "from sklearn.ensemble import RandomForestClassifier"
   ]
  },
  {
   "cell_type": "code",
   "execution_count": 102,
   "metadata": {},
   "outputs": [
    {
     "name": "stderr",
     "output_type": "stream",
     "text": [
      "/Users/elrich/opt/anaconda3/lib/python3.7/site-packages/sklearn/ensemble/forest.py:245: FutureWarning: The default value of n_estimators will change from 10 in version 0.20 to 100 in 0.22.\n",
      "  \"10 in version 0.20 to 100 in 0.22.\", FutureWarning)\n"
     ]
    },
    {
     "name": "stdout",
     "output_type": "stream",
     "text": [
      "train score:  0.9976875939414961\n",
      "test score  0.5670272629450763\n"
     ]
    }
   ],
   "source": [
    "rf = RandomForestClassifier(max_features=round(len(x_sm[0])/3))\n",
    "rf.fit(x_sm, y_sm)\n",
    "y_sm_pred = rf.predict(x_sm)\n",
    "train_score = score(y_sm, y_sm_pred)\n",
    "print('train score: ', train_score)\n",
    "y_val_pred = rf.predict(x_val)\n",
    "test_score = score(y_test, y_val_pred)\n",
    "print('test score ', test_score)"
   ]
  },
  {
   "cell_type": "code",
   "execution_count": 100,
   "metadata": {},
   "outputs": [
    {
     "data": {
      "text/plain": [
       "1000"
      ]
     },
     "execution_count": 100,
     "metadata": {},
     "output_type": "execute_result"
    }
   ],
   "source": [
    "len(x_sm[0])"
   ]
  },
  {
   "cell_type": "markdown",
   "metadata": {},
   "source": [
    "## Output predictions"
   ]
  },
  {
   "cell_type": "code",
   "execution_count": 103,
   "metadata": {},
   "outputs": [],
   "source": [
    "x_test_raw = pd.read_csv('../data/X_test.csv').drop('id', axis=1)\n",
    "def output_pred(model, name):\n",
    "    y_test_pred = rf.predict(x_test_raw)\n",
    "    output = pd.DataFrame({'id':[float(i) for i in range(0, len(x_test_raw))], 'y': y_test_pred})\n",
    "    output.to_csv(name,index=False)"
   ]
  },
  {
   "cell_type": "code",
   "execution_count": 104,
   "metadata": {},
   "outputs": [],
   "source": [
    "output_pred(rf, 'rf.csv')"
   ]
  },
  {
   "cell_type": "code",
   "execution_count": null,
   "metadata": {},
   "outputs": [],
   "source": []
  }
 ],
 "metadata": {
  "kernelspec": {
   "display_name": "Python 3",
   "language": "python",
   "name": "python3"
  },
  "language_info": {
   "codemirror_mode": {
    "name": "ipython",
    "version": 3
   },
   "file_extension": ".py",
   "mimetype": "text/x-python",
   "name": "python",
   "nbconvert_exporter": "python",
   "pygments_lexer": "ipython3",
   "version": "3.7.4"
  }
 },
 "nbformat": 4,
 "nbformat_minor": 2
}
