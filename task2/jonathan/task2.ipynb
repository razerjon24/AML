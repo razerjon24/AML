{
 "cells": [
  {
   "cell_type": "code",
   "execution_count": 56,
   "metadata": {},
   "outputs": [],
   "source": [
    "import pandas as pd\n",
    "import time\n",
    "from sklearn.preprocessing import StandardScaler\n",
    "from sklearn.feature_selection import RFE\n",
    "from sklearn.ensemble import RandomForestClassifier\n",
    "from sklearn.model_selection import cross_val_score\n",
    "from imblearn.over_sampling import SMOTE\n",
    "from sklearn.model_selection import KFold\n",
    "from sklearn.metrics import balanced_accuracy_score\n",
    "import numpy as np\n",
    "from sklearn import svm\n",
    "from sklearn.decomposition import PCA\n",
    "import matplotlib.pyplot as plt\n",
    "%matplotlib inline\n",
    "import seaborn as sns; sns.set()\n",
    "from sklearn.preprocessing import PolynomialFeatures\n",
    "from sklearn.pipeline import Pipeline\n",
    "from sklearn.model_selection import GridSearchCV\n",
    "from sklearn.linear_model import LogisticRegression\n",
    "from sklearn.gaussian_process import GaussianProcessClassifier\n",
    "from sklearn.svm import LinearSVC\n",
    "from sklearn.preprocessing import MinMaxScaler"
   ]
  },
  {
   "cell_type": "code",
   "execution_count": 2,
   "metadata": {},
   "outputs": [],
   "source": [
    "train = pd.read_csv(\"../data/X_train.csv\").drop('id', axis=1)\n",
    "test = pd.read_csv(\"../data/X_test.csv\").drop('id', axis=1)\n",
    "y = pd.read_csv(\"../data/y_train.csv\").y"
   ]
  },
  {
   "cell_type": "code",
   "execution_count": 69,
   "metadata": {},
   "outputs": [
    {
     "data": {
      "text/html": [
       "<div>\n",
       "<style scoped>\n",
       "    .dataframe tbody tr th:only-of-type {\n",
       "        vertical-align: middle;\n",
       "    }\n",
       "\n",
       "    .dataframe tbody tr th {\n",
       "        vertical-align: top;\n",
       "    }\n",
       "\n",
       "    .dataframe thead th {\n",
       "        text-align: right;\n",
       "    }\n",
       "</style>\n",
       "<table border=\"1\" class=\"dataframe\">\n",
       "  <thead>\n",
       "    <tr style=\"text-align: right;\">\n",
       "      <th></th>\n",
       "      <th>x0</th>\n",
       "      <th>x1</th>\n",
       "      <th>x2</th>\n",
       "      <th>x3</th>\n",
       "      <th>x4</th>\n",
       "      <th>x5</th>\n",
       "      <th>x6</th>\n",
       "      <th>x7</th>\n",
       "      <th>x8</th>\n",
       "      <th>x9</th>\n",
       "      <th>...</th>\n",
       "      <th>x990</th>\n",
       "      <th>x991</th>\n",
       "      <th>x992</th>\n",
       "      <th>x993</th>\n",
       "      <th>x994</th>\n",
       "      <th>x995</th>\n",
       "      <th>x996</th>\n",
       "      <th>x997</th>\n",
       "      <th>x998</th>\n",
       "      <th>x999</th>\n",
       "    </tr>\n",
       "  </thead>\n",
       "  <tbody>\n",
       "    <tr>\n",
       "      <th>0</th>\n",
       "      <td>0.338184</td>\n",
       "      <td>0.664250</td>\n",
       "      <td>0.431693</td>\n",
       "      <td>0.579132</td>\n",
       "      <td>0.578488</td>\n",
       "      <td>0.570850</td>\n",
       "      <td>0.487067</td>\n",
       "      <td>0.633250</td>\n",
       "      <td>0.621341</td>\n",
       "      <td>0.949429</td>\n",
       "      <td>...</td>\n",
       "      <td>0.471261</td>\n",
       "      <td>0.624875</td>\n",
       "      <td>0.466546</td>\n",
       "      <td>0.430609</td>\n",
       "      <td>0.996549</td>\n",
       "      <td>0.157947</td>\n",
       "      <td>0.264661</td>\n",
       "      <td>0.774912</td>\n",
       "      <td>0.121426</td>\n",
       "      <td>0.799894</td>\n",
       "    </tr>\n",
       "    <tr>\n",
       "      <th>1</th>\n",
       "      <td>0.610549</td>\n",
       "      <td>0.667054</td>\n",
       "      <td>0.645002</td>\n",
       "      <td>0.486750</td>\n",
       "      <td>0.553779</td>\n",
       "      <td>0.526908</td>\n",
       "      <td>0.586008</td>\n",
       "      <td>0.620548</td>\n",
       "      <td>0.325302</td>\n",
       "      <td>0.395117</td>\n",
       "      <td>...</td>\n",
       "      <td>0.544796</td>\n",
       "      <td>0.339638</td>\n",
       "      <td>0.629951</td>\n",
       "      <td>0.613613</td>\n",
       "      <td>0.234317</td>\n",
       "      <td>0.656230</td>\n",
       "      <td>0.594312</td>\n",
       "      <td>0.183105</td>\n",
       "      <td>0.420897</td>\n",
       "      <td>0.492220</td>\n",
       "    </tr>\n",
       "    <tr>\n",
       "      <th>2</th>\n",
       "      <td>0.463301</td>\n",
       "      <td>0.355687</td>\n",
       "      <td>0.635316</td>\n",
       "      <td>0.565582</td>\n",
       "      <td>0.628131</td>\n",
       "      <td>0.477085</td>\n",
       "      <td>0.667413</td>\n",
       "      <td>0.603458</td>\n",
       "      <td>0.446381</td>\n",
       "      <td>0.440196</td>\n",
       "      <td>...</td>\n",
       "      <td>0.484671</td>\n",
       "      <td>0.324740</td>\n",
       "      <td>0.621342</td>\n",
       "      <td>0.484725</td>\n",
       "      <td>0.330405</td>\n",
       "      <td>0.757357</td>\n",
       "      <td>0.698897</td>\n",
       "      <td>0.331881</td>\n",
       "      <td>0.459106</td>\n",
       "      <td>0.356669</td>\n",
       "    </tr>\n",
       "    <tr>\n",
       "      <th>3</th>\n",
       "      <td>0.695373</td>\n",
       "      <td>0.348353</td>\n",
       "      <td>0.513262</td>\n",
       "      <td>0.399802</td>\n",
       "      <td>0.407534</td>\n",
       "      <td>0.315622</td>\n",
       "      <td>0.585988</td>\n",
       "      <td>0.471186</td>\n",
       "      <td>0.520312</td>\n",
       "      <td>0.577067</td>\n",
       "      <td>...</td>\n",
       "      <td>0.637487</td>\n",
       "      <td>0.571298</td>\n",
       "      <td>0.486050</td>\n",
       "      <td>0.447050</td>\n",
       "      <td>0.408222</td>\n",
       "      <td>0.384105</td>\n",
       "      <td>0.483214</td>\n",
       "      <td>0.437730</td>\n",
       "      <td>0.345946</td>\n",
       "      <td>0.627880</td>\n",
       "    </tr>\n",
       "    <tr>\n",
       "      <th>4</th>\n",
       "      <td>0.489418</td>\n",
       "      <td>0.384571</td>\n",
       "      <td>0.707125</td>\n",
       "      <td>0.274745</td>\n",
       "      <td>0.439208</td>\n",
       "      <td>0.427623</td>\n",
       "      <td>0.618922</td>\n",
       "      <td>0.452765</td>\n",
       "      <td>0.264217</td>\n",
       "      <td>0.325817</td>\n",
       "      <td>...</td>\n",
       "      <td>0.490300</td>\n",
       "      <td>0.157076</td>\n",
       "      <td>0.642916</td>\n",
       "      <td>0.551484</td>\n",
       "      <td>0.429834</td>\n",
       "      <td>0.608952</td>\n",
       "      <td>0.652230</td>\n",
       "      <td>0.284299</td>\n",
       "      <td>0.378540</td>\n",
       "      <td>0.452769</td>\n",
       "    </tr>\n",
       "  </tbody>\n",
       "</table>\n",
       "<p>5 rows × 1000 columns</p>\n",
       "</div>"
      ],
      "text/plain": [
       "         x0        x1        x2        x3        x4        x5        x6  \\\n",
       "0  0.338184  0.664250  0.431693  0.579132  0.578488  0.570850  0.487067   \n",
       "1  0.610549  0.667054  0.645002  0.486750  0.553779  0.526908  0.586008   \n",
       "2  0.463301  0.355687  0.635316  0.565582  0.628131  0.477085  0.667413   \n",
       "3  0.695373  0.348353  0.513262  0.399802  0.407534  0.315622  0.585988   \n",
       "4  0.489418  0.384571  0.707125  0.274745  0.439208  0.427623  0.618922   \n",
       "\n",
       "         x7        x8        x9  ...      x990      x991      x992      x993  \\\n",
       "0  0.633250  0.621341  0.949429  ...  0.471261  0.624875  0.466546  0.430609   \n",
       "1  0.620548  0.325302  0.395117  ...  0.544796  0.339638  0.629951  0.613613   \n",
       "2  0.603458  0.446381  0.440196  ...  0.484671  0.324740  0.621342  0.484725   \n",
       "3  0.471186  0.520312  0.577067  ...  0.637487  0.571298  0.486050  0.447050   \n",
       "4  0.452765  0.264217  0.325817  ...  0.490300  0.157076  0.642916  0.551484   \n",
       "\n",
       "       x994      x995      x996      x997      x998      x999  \n",
       "0  0.996549  0.157947  0.264661  0.774912  0.121426  0.799894  \n",
       "1  0.234317  0.656230  0.594312  0.183105  0.420897  0.492220  \n",
       "2  0.330405  0.757357  0.698897  0.331881  0.459106  0.356669  \n",
       "3  0.408222  0.384105  0.483214  0.437730  0.345946  0.627880  \n",
       "4  0.429834  0.608952  0.652230  0.284299  0.378540  0.452769  \n",
       "\n",
       "[5 rows x 1000 columns]"
      ]
     },
     "execution_count": 69,
     "metadata": {},
     "output_type": "execute_result"
    }
   ],
   "source": [
    "scaler = MinMaxScaler().fit(train)\n",
    "train_ = scaler.transform(train)\n",
    "train_ = pd.DataFrame(train_, columns=train.columns)\n",
    "test_ = scaler.transform(test)\n",
    "test_ = pd.DataFrame(test_, columns=train.columns)\n",
    "train_.head()"
   ]
  },
  {
   "cell_type": "code",
   "execution_count": null,
   "metadata": {},
   "outputs": [],
   "source": [
    "# Get balanced accuracy score\n",
    "def score(true, pred):\n",
    "    return balanced_accuracy_score(true, pred)\n",
    "\n",
    "# Oversample using SMOTE\n",
    "def oversample(x_data, y_data):\n",
    "    smote = SMOTE(ratio='not majority', random_state=42)\n",
    "    return smote.fit_sample(x_data, y_data)\n",
    "\n",
    "# Oversample and fit model for a CV split\n",
    "def run_fold(x_train, y_train, x_test, y_test, model):\n",
    "    # Oversample data\n",
    "    #x_train_sm, y_train_sm = oversample(x_train, y_train)\n",
    "    x_train_sm, y_train_sm = x_train, y_train\n",
    "    # Fit model\n",
    "    model.fit(x_train_sm, y_train_sm)\n",
    "    y_train_pred = model.predict(x_train_sm)\n",
    "    train_score = score(y_train_sm, y_train_pred)\n",
    "    y_test_pred = model.predict(x_test)\n",
    "    test_score = score(y_test, y_test_pred)\n",
    "    return test_score, train_score\n",
    "\n",
    "def cross_validate(x_data, y_data, model, variable):\n",
    "    # Split data into folds\n",
    "    n_splits = 10\n",
    "    kf = KFold(n_splits=n_splits, shuffle=True, random_state=42)\n",
    "    folds = kf.split(x_data)\n",
    "    test_scores = []\n",
    "    train_scores = []\n",
    "    times = []\n",
    "    split = 0\n",
    "    for train_index, test_index in folds:\n",
    "        split += 1\n",
    "        #print('Running split {}/{}'.format(split, n_splits))\n",
    "        x_train = x_data[train_index]\n",
    "        y_train = y_data[train_index]\n",
    "        x_test = x_data[test_index]\n",
    "        y_test = y_data[test_index]\n",
    "        start_time = time.time()\n",
    "        test_score, train_score = run_fold(x_train, y_train, x_test, y_test, model)\n",
    "        end_time = time.time()\n",
    "        total_time = round(end_time-start_time, ndigits=0)\n",
    "        test_scores.append(test_score)\n",
    "        train_scores.append(train_score)\n",
    "        times.append(end_time-start_time)\n",
    "        #print('Test score = {}\\nTrain score = {}\\nTime = {}s\\n'.format(test_score, train_score, total_time))\n",
    "    print('Average test score: {}\\nAverage train score: {}\\nTotal time: {}s'.format(np.mean(test_scores), np.mean(train_scores), np.sum(times)))\n",
    "    return test_scores, train_scores, times"
   ]
  },
  {
   "cell_type": "code",
   "execution_count": null,
   "metadata": {},
   "outputs": [],
   "source": [
    "def cross_validate_pca(x_data, y_data, model, i):\n",
    "    # Split data into folds\n",
    "    n_splits = 10\n",
    "    kf = KFold(n_splits=n_splits, shuffle=True, random_state=42)\n",
    "    folds = kf.split(x_data)\n",
    "    test_scores = []\n",
    "    train_scores = []\n",
    "    times = []\n",
    "    split = 0\n",
    "    for train_index, test_index in folds:\n",
    "        split += 1\n",
    "        #print('Running split {}/{}'.format(split, n_splits))\n",
    "        x_train = x_data[train_index]\n",
    "        y_train = y_data[train_index]\n",
    "        x_test = x_data[test_index]\n",
    "        y_test = y_data[test_index]\n",
    "        pca = PCA(n_components = np.round(i,2))\n",
    "        pca.fit(pd.concat([pd.DataFrame(x_train),pd.DataFrame(x_test)]).values) \n",
    "        x_train_ = pd.DataFrame(pca.transform(x_train))\n",
    "        x_test_ = pd.DataFrame(pca.transform(x_test))\n",
    "        start_time = time.time()\n",
    "        test_score, train_score = run_fold(x_train_, y_train, x_test_, y_test, model)\n",
    "        end_time = time.time()\n",
    "        total_time = round(end_time-start_time, ndigits=0)\n",
    "        test_scores.append(test_score)\n",
    "        train_scores.append(train_score)\n",
    "        times.append(end_time-start_time)\n",
    "        #print('Test score = {}\\nTrain score = {}\\nTime = {}s\\n'.format(test_score, train_score, total_time))\n",
    "    print('Average test score: {}\\nAverage train score: {}\\nTotal time: {}s'.format(np.mean(test_scores), np.mean(train_scores), np.sum(times)))\n",
    "    return test_scores, train_scores, times"
   ]
  },
  {
   "cell_type": "code",
   "execution_count": null,
   "metadata": {},
   "outputs": [],
   "source": [
    "rf = RandomForestClassifier(n_estimators=100)\n",
    "test_scores, train_scores, times = cross_validate(train_.values, y.ravel(), rf)"
   ]
  },
  {
   "cell_type": "code",
   "execution_count": null,
   "metadata": {},
   "outputs": [],
   "source": [
    "poly = PolynomialFeatures(2,interaction_only = True)\n",
    "poly = poly.fit(pd.concat([train_,test_]).values)"
   ]
  },
  {
   "cell_type": "code",
   "execution_count": null,
   "metadata": {},
   "outputs": [],
   "source": [
    "poly_tr = pd.DataFrame(poly.transform(train_))\n",
    "poly_ts = pd.DataFrame(poly.transform(test_))"
   ]
  },
  {
   "cell_type": "code",
   "execution_count": null,
   "metadata": {},
   "outputs": [],
   "source": [
    "poly_tr.shape"
   ]
  },
  {
   "cell_type": "markdown",
   "metadata": {},
   "source": [
    "### PCA"
   ]
  },
  {
   "cell_type": "code",
   "execution_count": 112,
   "metadata": {},
   "outputs": [
    {
     "data": {
      "text/plain": [
       "281"
      ]
     },
     "execution_count": 112,
     "metadata": {},
     "output_type": "execute_result"
    }
   ],
   "source": [
    "pca = PCA(n_components = .844)\n",
    "pca.fit(train_.values)  \n",
    "len(pca.explained_variance_ratio_)\n",
    "# pca = PCA(n_components = 0.8)\n",
    "# pca.fit(pd.concat([poly_tr,poly_ts]).values)  \n",
    "# len(pca.explained_variance_ratio_)"
   ]
  },
  {
   "cell_type": "code",
   "execution_count": 84,
   "metadata": {},
   "outputs": [],
   "source": [
    "components = pca.transform(train_)\n",
    "components_df = pd.DataFrame(components)"
   ]
  },
  {
   "cell_type": "code",
   "execution_count": 85,
   "metadata": {},
   "outputs": [
    {
     "data": {
      "text/plain": [
       "<matplotlib.axes._subplots.AxesSubplot at 0x2573dc970c8>"
      ]
     },
     "execution_count": 85,
     "metadata": {},
     "output_type": "execute_result"
    },
    {
     "data": {
      "image/png": "[encoded data removed]",
      "text/plain": [
       "<Figure size 432x288 with 1 Axes>"
      ]
     },
     "metadata": {},
     "output_type": "display_data"
    }
   ],
   "source": [
    "components_df.iloc[:,0:2].plot.scatter(x=0,y=1,c=y)"
   ]
  },
  {
   "cell_type": "code",
   "execution_count": null,
   "metadata": {},
   "outputs": [],
   "source": [
    "def scores_pca(tr,ts,y,clf):\n",
    "    test_scores = list()\n",
    "    train_scores = list()\n",
    "    times_iters = list()\n",
    "    for i in np.arange(0.7,0.9,0.01,dtype=float):\n",
    "        print('Start of {}'.format(np.round(i,2)))\n",
    "        test_scores, train_scores, times = cross_validate_pca(tr.values, y.ravel(), clf, i)\n",
    "        test_scores.append(np.mean(test_scores))\n",
    "        train_scores.append(np.mean(train_scores))\n",
    "        times_iters.append(np.sum(times))\n",
    "        print('End of {}, time: {}s'.format(np.round(i,2),np.sum(times)))\n",
    "    return test_scores, train_scores, times_iters"
   ]
  },
  {
   "cell_type": "code",
   "execution_count": null,
   "metadata": {},
   "outputs": [],
   "source": [
    "clf = svm.SVC(gamma = 'scale' ,kernel = 'rbf', decision_function_shape='ovo', cache_size=3000, random_state = 42, class_weight = 'balanced')"
   ]
  },
  {
   "cell_type": "code",
   "execution_count": null,
   "metadata": {
    "scrolled": true
   },
   "outputs": [],
   "source": [
    "test_scores, train_scores, times_iters = scores_pca(train_,test_,y,clf)\n",
    "# Start of 0.79\n",
    "# Average test score: 0.7058763831465686\n",
    "# Average train score: 0.8430579667389339\n",
    "# Total time: 139.4414963722229s"
   ]
  },
  {
   "cell_type": "markdown",
   "metadata": {},
   "source": [
    "### Grid Search CV"
   ]
  },
  {
   "cell_type": "code",
   "execution_count": 77,
   "metadata": {},
   "outputs": [
    {
     "data": {
      "text/plain": [
       "0.0009991676539366876"
      ]
     },
     "execution_count": 77,
     "metadata": {},
     "output_type": "execute_result"
    }
   ],
   "source": [
    "1/(len(train.columns)+ train.values.var())"
   ]
  },
  {
   "cell_type": "code",
   "execution_count": 172,
   "metadata": {},
   "outputs": [],
   "source": [
    "C1 = [np.round(i,4) for i in np.arange(0.101,0.103,0.0001)]\n",
    "C2 = [np.round(i,4) for i in np.arange(0.931, 0.95,0.0001)]\n",
    "C3 = [np.round(i,6) for i in np.arange(0.00038,0.00039,0.000001)]"
   ]
  },
  {
   "cell_type": "code",
   "execution_count": 174,
   "metadata": {},
   "outputs": [],
   "source": [
    "pipe_steps1 = [('scaler', StandardScaler()), ('pca',PCA()), ('SVM', svm.SVC(kernel = 'poly', gamma='scale',\n",
    "                                                                decision_function_shape='ovo',\n",
    "                                                                cache_size=3000, random_state = 42,\n",
    "                                                                class_weight = 'balanced'))]\n",
    "pipeline1 = Pipeline(pipe_steps1)\n",
    "\n",
    "check_params1 = {\n",
    "    'pca__n_components':[0.8435],\n",
    "    'SVM__C': C1,\n",
    "    'SVM__degree': [3],\n",
    "    'SVM__coef0': [1]\n",
    "    #'SVM__gamma':np.logspace(-9, -3, 6)\n",
    "}\n",
    "\n",
    "# Best fit\n",
    "# {'SVM__C': 0.102, 'SVM__coef0': 1, 'SVM__degree': 3, 'pca__n_components': 0.8435}\n",
    "# 0.7050925925925926"
   ]
  },
  {
   "cell_type": "code",
   "execution_count": 175,
   "metadata": {},
   "outputs": [],
   "source": [
    "pipe_steps2 = [('scaler', MinMaxScaler()), ('pca',PCA()), ('SVM', svm.SVC(kernel = 'rbf', gamma='scale',\n",
    "                                                                decision_function_shape='ovo',\n",
    "                                                                cache_size=3000, random_state = 42,\n",
    "                                                                class_weight = 'balanced'))]\n",
    "pipeline2 = Pipeline(pipe_steps2)\n",
    "\n",
    "check_params2 = {\n",
    "    'pca__n_components':[0.8],\n",
    "    'SVM__C': C2\n",
    "    #'SVM__gamma':np.logspace(-9, -3, 6)\n",
    "}\n",
    "# Best fit\n",
    "# {'SVM__C': 0.9461, 'pca__n_components': 0.8}\n",
    "# 0.7047222222222222"
   ]
  },
  {
   "cell_type": "code",
   "execution_count": 163,
   "metadata": {},
   "outputs": [],
   "source": [
    "pipe_steps3 = [('scaler', StandardScaler()), ('pca',PCA()), ('SVM', LinearSVC(random_state = 42,\n",
    "                                                                multi_class= 'crammer_singer', max_iter=3000,\n",
    "                                                                class_weight = 'balanced'))]\n",
    "pipeline3 = Pipeline(pipe_steps3)\n",
    "\n",
    "check_params3 = {\n",
    "    'pca__n_components':[0.8],\n",
    "    'SVM__C': C3,\n",
    "    'SVM__fit_intercept': [False]\n",
    "    #'SVM__gamma':np.logspace(-9, -3, 6)\n",
    "}"
   ]
  },
  {
   "cell_type": "code",
   "execution_count": 176,
   "metadata": {},
   "outputs": [
    {
     "name": "stdout",
     "output_type": "stream",
     "text": [
      "Fitting 8 folds for each of 20 candidates, totalling 160 fits\n"
     ]
    },
    {
     "name": "stderr",
     "output_type": "stream",
     "text": [
      "[Parallel(n_jobs=-1)]: Using backend LokyBackend with 8 concurrent workers.\n",
      "[Parallel(n_jobs=-1)]: Done  25 tasks      | elapsed:  1.9min\n",
      "[Parallel(n_jobs=-1)]: Done 160 out of 160 | elapsed:  9.0min finished\n"
     ]
    },
    {
     "name": "stdout",
     "output_type": "stream",
     "text": [
      "Best fit\n",
      "{'SVM__C': 0.102, 'SVM__coef0': 1, 'SVM__degree': 3, 'pca__n_components': 0.8435}\n",
      "0.7050925925925926\n"
     ]
    }
   ],
   "source": [
    "#cross_values = cross_val_score\n",
    "create_grid=GridSearchCV(pipeline1, check_params1,cv=8, scoring='balanced_accuracy', n_jobs=-1, verbose=2)\n",
    "create_grid.fit(train,y)\n",
    "print(\"Best fit\")\n",
    "#print(cross_values.mean())\n",
    "#print(cross_values)\n",
    "print(create_grid.best_params_)\n",
    "print(create_grid.best_score_)"
   ]
  },
  {
   "cell_type": "code",
   "execution_count": 177,
   "metadata": {},
   "outputs": [
    {
     "name": "stdout",
     "output_type": "stream",
     "text": [
      "Fitting 8 folds for each of 190 candidates, totalling 1520 fits\n"
     ]
    },
    {
     "name": "stderr",
     "output_type": "stream",
     "text": [
      "[Parallel(n_jobs=-1)]: Using backend LokyBackend with 8 concurrent workers.\n",
      "[Parallel(n_jobs=-1)]: Done  25 tasks      | elapsed:  1.5min\n",
      "[Parallel(n_jobs=-1)]: Done 146 tasks      | elapsed:  7.1min\n",
      "[Parallel(n_jobs=-1)]: Done 349 tasks      | elapsed: 16.7min\n",
      "[Parallel(n_jobs=-1)]: Done 632 tasks      | elapsed: 30.1min\n",
      "[Parallel(n_jobs=-1)]: Done 997 tasks      | elapsed: 47.1min\n",
      "[Parallel(n_jobs=-1)]: Done 1442 tasks      | elapsed: 68.1min\n",
      "[Parallel(n_jobs=-1)]: Done 1520 out of 1520 | elapsed: 71.7min finished\n"
     ]
    },
    {
     "name": "stdout",
     "output_type": "stream",
     "text": [
      "Best fit\n",
      "{'SVM__C': 0.9461, 'pca__n_components': 0.8}\n",
      "0.7047222222222222\n"
     ]
    }
   ],
   "source": [
    "#cross_values = cross_val_score\n",
    "create_grid=GridSearchCV(pipeline2, check_params2,cv=8, scoring='balanced_accuracy', n_jobs=-1, verbose=2)\n",
    "create_grid.fit(train,y)\n",
    "print(\"Best fit\")\n",
    "#print(cross_values.mean())\n",
    "#print(cross_values)\n",
    "print(create_grid.best_params_)\n",
    "print(create_grid.best_score_)"
   ]
  },
  {
   "cell_type": "code",
   "execution_count": 166,
   "metadata": {},
   "outputs": [
    {
     "name": "stdout",
     "output_type": "stream",
     "text": [
      "Fitting 8 folds for each of 10 candidates, totalling 80 fits\n"
     ]
    },
    {
     "name": "stderr",
     "output_type": "stream",
     "text": [
      "[Parallel(n_jobs=-1)]: Using backend LokyBackend with 8 concurrent workers.\n",
      "[Parallel(n_jobs=-1)]: Done  25 tasks      | elapsed:   22.7s\n",
      "[Parallel(n_jobs=-1)]: Done  80 out of  80 | elapsed:   54.3s finished\n"
     ]
    },
    {
     "name": "stdout",
     "output_type": "stream",
     "text": [
      "Best fit\n",
      "{'SVM__C': 0.000389, 'SVM__fit_intercept': False, 'pca__n_components': 0.8}\n",
      "0.6905555555555555\n"
     ]
    }
   ],
   "source": [
    "#cross_values = cross_val_score\n",
    "create_grid=GridSearchCV(pipeline3, check_params3,cv=8, scoring='balanced_accuracy', n_jobs=-1, verbose=2)\n",
    "create_grid.fit(train,y)\n",
    "print(\"Best fit\")\n",
    "#print(cross_values.mean())\n",
    "#print(cross_values)\n",
    "print(create_grid.best_params_)\n",
    "print(create_grid.best_score_)"
   ]
  },
  {
   "cell_type": "code",
   "execution_count": 32,
   "metadata": {},
   "outputs": [
    {
     "name": "stdout",
     "output_type": "stream",
     "text": [
      "0.6973148148148148 {'SVM__C': 0.630957344480193, 'SVM__gamma': 0.001}\n"
     ]
    }
   ],
   "source": [
    "print(create_grid.best_score_,create_grid.best_params_)\n",
    "# 0.7015740740740742 {'SVM__C': 1, 'SVM__gamma': 0.001}\n",
    "# 0.6973148148148148 {'SVM__C': 0.630957344480193, 'SVM__gamma': 0.001}"
   ]
  },
  {
   "cell_type": "code",
   "execution_count": null,
   "metadata": {},
   "outputs": [],
   "source": [
    "clf = svm.SVC(gamma = 'scale' ,kernel = 'rbf', decision_function_shape='ovo', cache_size=3000, random_state = 42, class_weight = 'balanced')\n",
    "test_scores, train_scores, times = cross_validate(components_df.values, y.ravel(), clf)\n",
    "\n",
    "#WITH OVERSAMPLING\n",
    "# SVM 240 PCs (80.x%)\n",
    "# Average test score: 0.6624038730845622\n",
    "# Average train score: 0.9343450326600132\n",
    "# Total time: 493.02259135246277s\n",
    "# SVM PCs (90%)\n",
    "# Average test score: 0.649990375723468\n",
    "# Average train score: 0.9632699801869032\n",
    "# Total time: 975.6408638954163s\n",
    "# SVM 200 PCs (<80%)\n",
    "# Average test score: 0.6607910083259538\n",
    "# Average train score: 0.9231407317122418\n",
    "# Total time: 410.38625621795654s\n",
    "# SVM 238 PCs (80%)\n",
    "# Average test score: 0.6625778192190811\n",
    "# Average train score: 0.9326657068920167\n",
    "# Total time: 489.1878070831299s\n",
    "\n",
    "#WITH CLASS WEIGHTS\n",
    "#80%\n",
    "# Average test score: 0.6980772066781805\n",
    "# Average train score: 0.8506625620915867\n",
    "# Total time: 172.54561042785645s\n",
    "#70%\n",
    "# Average test score: 0.6946741811444423\n",
    "# Average train score: 0.8101701484126517\n",
    "# Total time: 80.19191813468933s\n",
    "#75%\n",
    "# Average test score: 0.6987988339325073\n",
    "# Average train score: 0.8314035482105762\n",
    "# Total time: 115.05265045166016s"
   ]
  },
  {
   "cell_type": "code",
   "execution_count": 37,
   "metadata": {},
   "outputs": [
    {
     "data": {
      "text/plain": [
       "SVC(C=1, cache_size=3000, class_weight='balanced', coef0=0.0,\n",
       "    decision_function_shape='ovo', degree=3, gamma=0.001, kernel='rbf',\n",
       "    max_iter=-1, probability=False, random_state=42, shrinking=True, tol=0.001,\n",
       "    verbose=False)"
      ]
     },
     "execution_count": 37,
     "metadata": {},
     "output_type": "execute_result"
    }
   ],
   "source": [
    "# x_ov, y_ov = oversample(components_df, y)\n",
    "# clf.fit(x_ov, y_ov)\n",
    "clf = svm.SVC(C=1,gamma = 0.001 ,kernel = 'rbf', decision_function_shape='ovo', cache_size=3000, random_state = 42, class_weight = 'balanced')\n",
    "clf.fit(components_df.values, y.ravel())"
   ]
  },
  {
   "cell_type": "code",
   "execution_count": 77,
   "metadata": {},
   "outputs": [],
   "source": [
    "pipe_steps = [('scaler', StandardScaler()),  ('pca',PCA(n_components=0.79)),\n",
    "              ('GAUSS', GaussianProcessClassifier(n_restarts_optimizer=1,multi_class='one_vs_one',max_iter_predict =500))]\n",
    "pipeline = Pipeline(pipe_steps)"
   ]
  },
  {
   "cell_type": "code",
   "execution_count": 78,
   "metadata": {},
   "outputs": [
    {
     "name": "stdout",
     "output_type": "stream",
     "text": [
      "Test-CV set score: 0.57546 \n"
     ]
    }
   ],
   "source": [
    "cv_scores = cross_val_score(pipeline, train, y, cv=10, scoring='balanced_accuracy',n_jobs =-1)\n",
    "print(\"Test-CV set score: {:0.5f} \".format(cv_scores.mean()))"
   ]
  },
  {
   "cell_type": "code",
   "execution_count": 58,
   "metadata": {},
   "outputs": [
    {
     "data": {
      "text/plain": [
       "array([0.64259259, 0.64444444, 0.675     , 0.675     , 0.67962963,\n",
       "       0.6962963 , 0.67037037, 0.68611111, 0.67592593, 0.68240741])"
      ]
     },
     "execution_count": 58,
     "metadata": {},
     "output_type": "execute_result"
    }
   ],
   "source": [
    "cv_scores\n",
    "# 1 elastic net LASSO\n",
    "# Test-CV set score: 0.67370 \n",
    "# array([0.64259259, 0.64351852, 0.675     , 0.67407407, 0.67962963,\n",
    "#        0.70185185, 0.67037037, 0.68611111, 0.68148148, 0.68240741])\n",
    "# 0.5 elastic net\n",
    "# Test-CV set score: 0.67139 \n",
    "# array([0.64259259, 0.64444444, 0.675     , 0.67592593, 0.67962963,\n",
    "#        0.69074074, 0.67037037, 0.68703704, 0.67592593, 0.67222222])\n",
    "# 0 elastic net RIDGE\n",
    "# Test-CV set score: 0.66824 \n",
    "# array([0.64259259, 0.64351852, 0.65833333, 0.67037037, 0.67962963,\n",
    "#        0.68981481, 0.66574074, 0.68333333, 0.67685185, 0.67222222])"
   ]
  },
  {
   "cell_type": "code",
   "execution_count": null,
   "metadata": {},
   "outputs": [],
   "source": [
    "def plot_contours(ax, clf_, xx, yy, **params):\n",
    "    Z = np.array([xx.ravel(), yy.ravel()] + [np.repeat(0, xx.ravel().size) for _ in range(236)]).T\n",
    "    Z = clf_.predict(Z).reshape(xx.shape) \n",
    "    out = ax.contourf(xx, yy, Z, **params)\n",
    "    return out\n",
    "\n",
    "def make_meshgrid(x, y, h=.1):\n",
    "    x_min, x_max = x.min() - 1 , x.max() + 1\n",
    "    y_min, y_max = y.min() - 1 , y.max() + 1\n",
    "    xx, yy = np.meshgrid(np.arange(x_min, x_max, h),\n",
    "                     np.arange(y_min, y_max, h))\n",
    "    return xx, yy\n"
   ]
  },
  {
   "cell_type": "code",
   "execution_count": null,
   "metadata": {},
   "outputs": [],
   "source": [
    "X0 = np.array(components_df.iloc[:,0])\n",
    "X1 = np.array(components_df.iloc[:,1])\n",
    "xx, yy = make_meshgrid(X0,X1)\n",
    "len(xx.ravel())"
   ]
  },
  {
   "cell_type": "code",
   "execution_count": null,
   "metadata": {},
   "outputs": [],
   "source": [
    "X0 = np.array(components_df.iloc[:,0])\n",
    "X1 = np.array(components_df.iloc[:,1])\n",
    "xx, yy = make_meshgrid(X0,X1)\n",
    "\n",
    "fig, ax = plt.subplots(figsize=(12,9))\n",
    "fig.patch.set_facecolor('white')\n",
    "cdict1={0:'lime',1:'deeppink', 2:'purple'}\n",
    "\n",
    "Y_tar_list = y.tolist()\n",
    "labels1 = Y_tar_list\n",
    "\n",
    "labl1 = {0:'0', 1:'1', 2:'2'}\n",
    "marker1= {0:'*',1:'d',2:'h'}\n",
    "alpha1={0:.6, 1:0.3, 2:0.6}\n",
    "\n",
    "for l1 in np.unique(labels1):\n",
    "    ix1 = np.where(labels1==l1)\n",
    "    ax.scatter(X0[ix1],X1[ix1], c=cdict1[l1], label=labl1[l1],s=70, \n",
    "               marker=marker1[l1], alpha=alpha1[l1])\n",
    "\n",
    "ax.scatter(clf.support_vectors_[:, 0], clf.support_vectors_[:, 1], s=40,\n",
    "          facecolors='none', edgecolors='navy', label='Support Vectors', alpha=0.5)\n",
    "\n",
    "plot_contours(ax, classify, xx, yy, cmap='seismic', alpha=0.4)\n",
    "plt.legend(fontsize=15)\n",
    "\n",
    "plt.xlabel(\"1st Principal Component\", fontsize=14)\n",
    "plt.ylabel(\"2nd Principal Component\", fontsize=14)\n",
    "\n",
    "plt.show()"
   ]
  },
  {
   "cell_type": "markdown",
   "metadata": {},
   "source": [
    "### TEST file"
   ]
  },
  {
   "cell_type": "code",
   "execution_count": 180,
   "metadata": {},
   "outputs": [],
   "source": [
    "scaler = StandardScaler().fit(train)\n",
    "train_ = scaler.transform(train)\n",
    "\n",
    "pca = PCA(n_components = 0.8435)\n",
    "pca.fit(train_)  \n",
    "components = pca.transform(train_)\n",
    "components_df = pd.DataFrame(components)\n",
    "\n",
    "clf = svm.SVC(kernel = 'poly', gamma='scale', degree= 3, coef0= 1,\n",
    "                decision_function_shape='ovo', C = 0.102,\n",
    "                cache_size=3000, random_state = 42,\n",
    "                class_weight = 'balanced')\n",
    "\n",
    "clf.fit(components_df, y)\n",
    "\n",
    "test_ = scaler.transform(test)\n",
    "components = pca.transform(test_)\n",
    "components_test = pd.DataFrame(components)\n",
    "test_y = clf.predict(components_test)\n",
    "file_test = \"svm_poly\""
   ]
  },
  {
   "cell_type": "code",
   "execution_count": 182,
   "metadata": {},
   "outputs": [],
   "source": [
    "scaler = MinMaxScaler().fit(train)\n",
    "train_ = scaler.transform(train)\n",
    "\n",
    "pca = PCA(n_components = 0.8)\n",
    "pca.fit(train_)  \n",
    "components = pca.transform(train_)\n",
    "components_df = pd.DataFrame(components)\n",
    "\n",
    "clf = svm.SVC(kernel = 'rbf', gamma='scale', C=0.9461,\n",
    "                decision_function_shape='ovo',\n",
    "                cache_size=3000, random_state = 42,\n",
    "                class_weight = 'balanced')\n",
    "clf.fit(components_df, y)\n",
    "\n",
    "\n",
    "test_ = scaler.transform(test)\n",
    "components = pca.transform(test_)\n",
    "components_test = pd.DataFrame(components)\n",
    "test_y = clf.predict(components_test)\n",
    "file_test = \"svm_rbf\""
   ]
  },
  {
   "cell_type": "code",
   "execution_count": 186,
   "metadata": {},
   "outputs": [],
   "source": [
    "scaler = StandardScaler().fit(train)\n",
    "train_ = scaler.transform(train)\n",
    "\n",
    "pca = PCA(n_components = 0.8)\n",
    "pca.fit(train_)  \n",
    "components = pca.transform(train_)\n",
    "components_df = pd.DataFrame(components)\n",
    "\n",
    "clf = LinearSVC(random_state = 42, C= 0.000389, fit_intercept =False,\n",
    "            multi_class= 'crammer_singer', max_iter=3000, class_weight = 'balanced')\n",
    "clf.fit(components_df, y)\n",
    "\n",
    "test_ = scaler.transform(test)\n",
    "components = pca.transform(test_)\n",
    "components_test = pd.DataFrame(components)\n",
    "test_y = clf.predict(components_test)\n",
    "file_test = \"svm_linear\""
   ]
  },
  {
   "cell_type": "code",
   "execution_count": 205,
   "metadata": {},
   "outputs": [],
   "source": [
    "output = pd.DataFrame({'id':[float(i) for i in range(0,len(test_y))],'y':test_y})\n",
    "output.to_csv(\"{}.csv\".format(file_test),index=False)"
   ]
  },
  {
   "cell_type": "code",
   "execution_count": 190,
   "metadata": {},
   "outputs": [],
   "source": [
    "df1 = pd.read_csv(\"svm_linear.csv\").drop('id',axis=1)\n",
    "df2 = pd.read_csv(\"svm_poly.csv\").drop('id',axis=1)\n",
    "df3 = pd.read_csv(\"svm_rbf.csv\").drop('id',axis=1)"
   ]
  },
  {
   "cell_type": "code",
   "execution_count": 192,
   "metadata": {},
   "outputs": [
    {
     "data": {
      "text/html": [
       "<div>\n",
       "<style scoped>\n",
       "    .dataframe tbody tr th:only-of-type {\n",
       "        vertical-align: middle;\n",
       "    }\n",
       "\n",
       "    .dataframe tbody tr th {\n",
       "        vertical-align: top;\n",
       "    }\n",
       "\n",
       "    .dataframe thead th {\n",
       "        text-align: right;\n",
       "    }\n",
       "</style>\n",
       "<table border=\"1\" class=\"dataframe\">\n",
       "  <thead>\n",
       "    <tr style=\"text-align: right;\">\n",
       "      <th></th>\n",
       "      <th>y</th>\n",
       "      <th>y</th>\n",
       "      <th>y</th>\n",
       "    </tr>\n",
       "  </thead>\n",
       "  <tbody>\n",
       "    <tr>\n",
       "      <th>0</th>\n",
       "      <td>1</td>\n",
       "      <td>1</td>\n",
       "      <td>1</td>\n",
       "    </tr>\n",
       "    <tr>\n",
       "      <th>1</th>\n",
       "      <td>2</td>\n",
       "      <td>0</td>\n",
       "      <td>0</td>\n",
       "    </tr>\n",
       "    <tr>\n",
       "      <th>2</th>\n",
       "      <td>1</td>\n",
       "      <td>1</td>\n",
       "      <td>1</td>\n",
       "    </tr>\n",
       "    <tr>\n",
       "      <th>3</th>\n",
       "      <td>2</td>\n",
       "      <td>2</td>\n",
       "      <td>2</td>\n",
       "    </tr>\n",
       "    <tr>\n",
       "      <th>4</th>\n",
       "      <td>1</td>\n",
       "      <td>1</td>\n",
       "      <td>1</td>\n",
       "    </tr>\n",
       "  </tbody>\n",
       "</table>\n",
       "</div>"
      ],
      "text/plain": [
       "   y  y  y\n",
       "0  1  1  1\n",
       "1  2  0  0\n",
       "2  1  1  1\n",
       "3  2  2  2\n",
       "4  1  1  1"
      ]
     },
     "execution_count": 192,
     "metadata": {},
     "output_type": "execute_result"
    }
   ],
   "source": [
    "df_all = pd.concat([df1,df2,df3],axis=1)\n",
    "df_all.head()"
   ]
  },
  {
   "cell_type": "code",
   "execution_count": 202,
   "metadata": {},
   "outputs": [],
   "source": [
    "def major_voting(row):\n",
    "    dict_ = {}\n",
    "    values = row.values\n",
    "    dict_[values[0]] = 1\n",
    "    for i in range(1,3):\n",
    "        if values[i] in dict_.keys():\n",
    "            dict_[values[i]] += 1\n",
    "        else:\n",
    "            dict_[values[i]] = 1\n",
    "    return int(max(dict_, key=dict_.get))"
   ]
  },
  {
   "cell_type": "code",
   "execution_count": 204,
   "metadata": {},
   "outputs": [],
   "source": [
    "test_y = df_all.apply(major_voting,axis=1)\n",
    "file_test = \"ensemble\""
   ]
  }
 ],
 "metadata": {
  "kernelspec": {
   "display_name": "Python 3",
   "language": "python",
   "name": "python3"
  },
  "language_info": {
   "codemirror_mode": {
    "name": "ipython",
    "version": 3
   },
   "file_extension": ".py",
   "mimetype": "text/x-python",
   "name": "python",
   "nbconvert_exporter": "python",
   "pygments_lexer": "ipython3",
   "version": "3.7.5"
  }
 },
 "nbformat": 4,
 "nbformat_minor": 2
}
