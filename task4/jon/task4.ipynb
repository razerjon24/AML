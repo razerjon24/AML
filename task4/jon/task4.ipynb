{
 "cells": [
  {
   "cell_type": "code",
   "execution_count": 2,
   "metadata": {},
   "outputs": [],
   "source": [
    "import pandas as pd\n",
    "import numpy as np\n",
    "from sklearn.metrics import balanced_accuracy_score\n",
    "from biosppy.signals import eeg\n",
    "from biosppy.signals import emg\n",
    "from scipy.stats import pearsonr\n",
    "from sklearn.ensemble import RandomForestClassifier\n",
    "import xgboost as xgb"
   ]
  },
  {
   "cell_type": "code",
   "execution_count": 3,
   "metadata": {},
   "outputs": [],
   "source": [
    "eeg_1 = pd.read_csv(\"../data/train_eeg1.csv\")\n",
    "eeg_2 = pd.read_csv(\"../data/train_eeg2.csv\")\n",
    "emg_1 = pd.read_csv(\"../data/train_emg.csv\")\n",
    "y = pd.read_csv(\"../data/train_labels.csv\").y"
   ]
  },
  {
   "cell_type": "code",
   "execution_count": 31,
   "metadata": {},
   "outputs": [],
   "source": [
    "eeg_1_test = pd.read_csv(\"../data/test_eeg1.csv\")\n",
    "eeg_2_test = pd.read_csv(\"../data/test_eeg2.csv\")\n",
    "emg_1_test = pd.read_csv(\"../data/test_emg.csv\")"
   ]
  },
  {
   "cell_type": "code",
   "execution_count": 35,
   "metadata": {},
   "outputs": [],
   "source": [
    "del eeg_1, eeg_2, emg_1, eeg_1_test, eeg_2_test, emg_1_test"
   ]
  },
  {
   "cell_type": "code",
   "execution_count": 34,
   "metadata": {},
   "outputs": [],
   "source": [
    "eeg_1_tl = pd.concat([eeg_1,eeg_1_test])\n",
    "eeg_2_tl = pd.concat([eeg_2,eeg_2_test])\n",
    "emg_1_tl = pd.concat([emg_1,emg_1_test])"
   ]
  },
  {
   "cell_type": "code",
   "execution_count": 5,
   "metadata": {},
   "outputs": [],
   "source": [
    "eeg_features1 = eeg.eeg(signal=np.array(eeg_1.iloc[0,1:]).reshape(-1,1), sampling_rate=128, show=False)"
   ]
  },
  {
   "cell_type": "code",
   "execution_count": 10,
   "metadata": {},
   "outputs": [],
   "source": [
    "_, _, _, theta, alpha_low , alpha_high, beta, gamma, alpha, delta, _, _ = eeg_features1"
   ]
  },
  {
   "cell_type": "code",
   "execution_count": 27,
   "metadata": {},
   "outputs": [],
   "source": [
    "signals = [theta, alpha, beta, gamma, delta]"
   ]
  },
  {
   "cell_type": "code",
   "execution_count": 29,
   "metadata": {},
   "outputs": [],
   "source": [
    "my_features = [calculate_basic_stats(signal) for signal in signals]"
   ]
  },
  {
   "cell_type": "code",
   "execution_count": 30,
   "metadata": {},
   "outputs": [
    {
     "data": {
      "text/plain": [
       "[array([3.91706364e-11, 4.03346199e-11, 1.74717498e-11, 1.33670501e-12,\n",
       "        8.49887725e-11]),\n",
       " array([2.65352610e-11, 2.21582652e-11, 1.22684866e-11, 8.91189764e-12,\n",
       "        4.81740407e-11]),\n",
       " array([2.82002115e-12, 2.72620134e-12, 1.48187505e-12, 5.47202108e-13,\n",
       "        5.87946611e-12]),\n",
       " array([1.15948423e-12, 1.23931937e-12, 3.92539799e-13, 2.09161057e-13,\n",
       "        2.18048069e-12]),\n",
       " array([1.59892814e-11, 1.90659742e-11, 9.94048083e-12, 8.23779279e-13,\n",
       "        4.04599253e-11])]"
      ]
     },
     "execution_count": 30,
     "metadata": {},
     "output_type": "execute_result"
    }
   ],
   "source": [
    "my_features"
   ]
  },
  {
   "cell_type": "code",
   "execution_count": 26,
   "metadata": {},
   "outputs": [],
   "source": [
    "RANGE_MAX = 64800\n",
    "SAMPLING_RATE = 128\n",
    "EMG_THRESHOLD_FREQ = 30\n",
    "\n",
    "def calculate_basic_stats(signal):\n",
    "    mean = np.mean(signal)\n",
    "    median = np.median(signal)\n",
    "    min = np.min(signal)\n",
    "    max = np.max(signal)\n",
    "    std = np.std(signal)\n",
    "    return np.array([mean,median,std,min,max])\n",
    "\n",
    "def produce_features(eeg_1,eeg_2,emg_1):\n",
    "    df_features = pd.DataFrame()\n",
    "    for i in range(0, RANGE_MAX):\n",
    "        eeg_features1 = eeg.eeg(signal=np.array(eeg_1.iloc[i,1:]).reshape(-1,1), sampling_rate=SAMPLING_RATE, show=False)\n",
    "        eeg_features2 = eeg.eeg(signal=np.array(eeg_2.iloc[i,1:]).reshape(-1,1), sampling_rate=SAMPLING_RATE, show=False)\n",
    "        emg_features = emg.emg(signal=emg_1.iloc[i,1:], sampling_rate=SAMPLING_RATE, frequency = EMG_THRESHOLD_FREQ ,show=False)\n",
    "        _, _, _, theta, _, _, beta, gamma, alpha, delta, _, _ = eeg_features1\n",
    "        _, _, _, theta2, _, _, beta2, gamma2, alpha2, delta2, _, _ = eeg_features2\n",
    "        inter_1 = alpha / theta\n",
    "        inter_2 = beta  / theta\n",
    "        inter_3 = alpha / delta\n",
    "        inter_4 = delta / theta\n",
    "        inter_5 = (delta*alpha)/(beta*gamma)\n",
    "        inter_6 = np.power(theta,2)/(delta*alpha)        \n",
    "        inter_1_2 = alpha2 / theta2\n",
    "        inter_2_2 = beta2  / theta2\n",
    "        inter_3_2 = alpha2 / delta2\n",
    "        inter_4_2 = delta2 / theta2\n",
    "        inter_5_2 = (delta2*alpha2)/(beta2*gamma2)\n",
    "        inter_6_2 = np.power(theta2,2)/(delta2*alpha2)  \n",
    "        emg_features = emg_1.iloc[i, emg_features['onsets']]\n",
    "        count_emg = np.size(emg_features)\n",
    "        emg_stats = calculate_basic_stats(emg_features) if count_emg == 0 else np.zeros(5)\n",
    "        signals = [theta, alpha, beta, gamma, delta, inter_1, inter_2, inter_3, inter_4, inter_5, inter_6,\n",
    "                   theta2, alpha2, beta2, gamma2, delta2, inter_1_2, inter_2_2, inter_3_2, inter_4_2, inter_5_2, inter_6_2,\n",
    "                   emg_stats]\n",
    "        #my_features = [calculate_basic_stats(signal) for signal in signals]\n",
    "        my_features = [signal.reshape(1,-1)[0] for signal in signals]\n",
    "        my_features = np.array([item for subarray in my_features for item in subarray])\n",
    "        my_features = np.append(my_features, count_emg)\n",
    "        df_features = pd.concat([df_features, pd.DataFrame([my_features])])\n",
    "    return df_features"
   ]
  },
  {
   "cell_type": "code",
   "execution_count": null,
   "metadata": {},
   "outputs": [],
   "source": [
    "features_tr = produce_features(eeg_1_tl, eeg_2_tl, emg_1_tl)\n",
    "#features_tr.head()\n",
    "features_tr.to_csv(\"features_all_tr_test.csv\",index=False)\n",
    "features_tr.shape"
   ]
  },
  {
   "cell_type": "code",
   "execution_count": null,
   "metadata": {},
   "outputs": [],
   "source": [
    "BMAC = balanced_accuracy_score(y_true, y_pred)"
   ]
  },
  {
   "cell_type": "code",
   "execution_count": null,
   "metadata": {},
   "outputs": [],
   "source": [
    "eeg_features1 = eeg.eeg(signal=np.array(eeg_2.iloc[0,1:]).reshape(-1,1), sampling_rate=128, show=False)"
   ]
  },
  {
   "cell_type": "code",
   "execution_count": null,
   "metadata": {},
   "outputs": [],
   "source": [
    "emg_features = emg.emg(signal=emg_1.iloc[1,1:], sampling_rate=128, frequency = 30 ,show=True)"
   ]
  },
  {
   "cell_type": "code",
   "execution_count": null,
   "metadata": {},
   "outputs": [],
   "source": [
    "emg_features['onsets'].shape"
   ]
  },
  {
   "cell_type": "code",
   "execution_count": null,
   "metadata": {},
   "outputs": [],
   "source": [
    "emg_features['onsets']"
   ]
  },
  {
   "cell_type": "code",
   "execution_count": null,
   "metadata": {},
   "outputs": [],
   "source": [
    "np.diff(emg_1.iloc[1,emg_features['onsets']])"
   ]
  },
  {
   "cell_type": "code",
   "execution_count": null,
   "metadata": {},
   "outputs": [],
   "source": [
    "features_df = pd.read_csv(\"features_all.csv\")\n",
    "y = pd.read_csv(\"../data/train_labels.csv\").y"
   ]
  },
  {
   "cell_type": "code",
   "execution_count": null,
   "metadata": {},
   "outputs": [],
   "source": [
    "features_df.shape"
   ]
  },
  {
   "cell_type": "code",
   "execution_count": null,
   "metadata": {},
   "outputs": [],
   "source": [
    "#Removing NAs\n",
    "#features_df = pd.DataFrame(np.nan_to_num(features_df))\n",
    "X_sub_1_2 = features_df.iloc[:43200,:]\n",
    "y_sub_1_2 = y[:43200]\n",
    "X_sub_3 = features_df.iloc[43200:,:]\n",
    "y_sub_3 = y[43200:]"
   ]
  },
  {
   "cell_type": "code",
   "execution_count": null,
   "metadata": {},
   "outputs": [],
   "source": [
    "cl = RandomForestClassifier(n_estimators=200)\n",
    "cl.fit(X_sub_1_2,y_sub_1_2)"
   ]
  },
  {
   "cell_type": "code",
   "execution_count": null,
   "metadata": {},
   "outputs": [],
   "source": [
    "model = xgb.XGBClassifier(n_estimators=200, learning_rate = 0.1, max_depth = 3)\n",
    "model.fit(X_sub_1_2,y_sub_1_2)"
   ]
  },
  {
   "cell_type": "code",
   "execution_count": null,
   "metadata": {},
   "outputs": [],
   "source": [
    "y_train_pred = model.predict(X_sub_3)\n",
    "balanced_accuracy_score(y_sub_3, y_train_pred)"
   ]
  }
 ],
 "metadata": {
  "kernelspec": {
   "display_name": "Python 3",
   "language": "python",
   "name": "python3"
  },
  "language_info": {
   "codemirror_mode": {
    "name": "ipython",
    "version": 3
   },
   "file_extension": ".py",
   "mimetype": "text/x-python",
   "name": "python",
   "nbconvert_exporter": "python",
   "pygments_lexer": "ipython3",
   "version": "3.7.5"
  }
 },
 "nbformat": 4,
 "nbformat_minor": 2
}
