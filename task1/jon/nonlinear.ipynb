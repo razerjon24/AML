{
 "cells": [
  {
   "cell_type": "code",
   "execution_count": 81,
   "metadata": {},
   "outputs": [],
   "source": [
    "import pandas as pd\n",
    "from fancyimpute import KNN   \n",
    "from sklearn import preprocessing\n",
    "from sklearn.linear_model import LassoCV\n",
    "from sklearn.linear_model import LinearRegression\n",
    "from sklearn.linear_model import RidgeCV\n",
    "from sklearn.linear_model import ElasticNetCV\n",
    "from sklearn.ensemble import RandomForestRegressor\n",
    "from xgboost import XGBRegressor\n",
    "from sklearn.model_selection import GridSearchCV\n",
    "from sklearn.neural_network import MLPRegressor\n",
    "import matplotlib.pyplot as plt\n",
    "%matplotlib inline\n",
    "import seaborn as sns; sns.set()\n",
    "from sklearn.preprocessing import PolynomialFeatures"
   ]
  },
  {
   "cell_type": "code",
   "execution_count": 1,
   "metadata": {},
   "outputs": [],
   "source": [
    "train = pd.read_csv(\"../data/X_train.csv\")\n",
    "test = pd.read_csv(\"../data/X_test.csv\")\n",
    "y = pd.read_csv(\"../data/y_train.csv\").y"
   ]
  },
  {
   "cell_type": "code",
   "execution_count": 2,
   "metadata": {},
   "outputs": [],
   "source": [
    "train = train.drop(columns=['id','x169','x283','x367','x777'])\n",
    "test = test.drop(columns=['id','x169','x283','x367','x777'])"
   ]
  },
  {
   "cell_type": "code",
   "execution_count": 3,
   "metadata": {},
   "outputs": [],
   "source": [
    "df = pd.concat([train,test])"
   ]
  },
  {
   "cell_type": "markdown",
   "metadata": {},
   "source": [
    "### Linear models"
   ]
  },
  {
   "cell_type": "code",
   "execution_count": 4,
   "metadata": {},
   "outputs": [
    {
     "name": "stderr",
     "output_type": "stream",
     "text": [
      "Using TensorFlow backend.\n",
      "c:\\users\\razerjon24\\appdata\\local\\programs\\python\\python37\\lib\\site-packages\\numpy\\core\\_methods.py:38: RuntimeWarning: overflow encountered in reduce\n",
      "  return umr_sum(a, axis, dtype, out, keepdims, initial, where)\n"
     ]
    },
    {
     "name": "stdout",
     "output_type": "stream",
     "text": [
      "Imputing row 1/1988 with 58 missing, elapsed time: 25.118\n",
      "Imputing row 101/1988 with 58 missing, elapsed time: 25.199\n",
      "Imputing row 201/1988 with 56 missing, elapsed time: 25.281\n",
      "Imputing row 301/1988 with 74 missing, elapsed time: 25.371\n",
      "Imputing row 401/1988 with 73 missing, elapsed time: 25.449\n",
      "Imputing row 501/1988 with 51 missing, elapsed time: 25.529\n",
      "Imputing row 601/1988 with 67 missing, elapsed time: 25.616\n",
      "Imputing row 701/1988 with 79 missing, elapsed time: 25.694\n",
      "Imputing row 801/1988 with 74 missing, elapsed time: 25.772\n",
      "Imputing row 901/1988 with 57 missing, elapsed time: 25.857\n",
      "Imputing row 1001/1988 with 61 missing, elapsed time: 25.936\n",
      "Imputing row 1101/1988 with 58 missing, elapsed time: 26.013\n",
      "Imputing row 1201/1988 with 61 missing, elapsed time: 26.103\n",
      "Imputing row 1301/1988 with 53 missing, elapsed time: 26.181\n",
      "Imputing row 1401/1988 with 48 missing, elapsed time: 26.246\n",
      "Imputing row 1501/1988 with 53 missing, elapsed time: 26.315\n",
      "Imputing row 1601/1988 with 64 missing, elapsed time: 26.383\n",
      "Imputing row 1701/1988 with 45 missing, elapsed time: 26.445\n",
      "Imputing row 1801/1988 with 53 missing, elapsed time: 26.506\n",
      "Imputing row 1901/1988 with 55 missing, elapsed time: 26.579\n"
     ]
    }
   ],
   "source": [
    "knnOutput = KNN(k=5).fit_transform(df)"
   ]
  },
  {
   "cell_type": "code",
   "execution_count": 5,
   "metadata": {},
   "outputs": [
    {
     "data": {
      "text/html": [
       "<div>\n",
       "<style scoped>\n",
       "    .dataframe tbody tr th:only-of-type {\n",
       "        vertical-align: middle;\n",
       "    }\n",
       "\n",
       "    .dataframe tbody tr th {\n",
       "        vertical-align: top;\n",
       "    }\n",
       "\n",
       "    .dataframe thead th {\n",
       "        text-align: right;\n",
       "    }\n",
       "</style>\n",
       "<table border=\"1\" class=\"dataframe\">\n",
       "  <thead>\n",
       "    <tr style=\"text-align: right;\">\n",
       "      <th></th>\n",
       "      <th>x0</th>\n",
       "      <th>x1</th>\n",
       "      <th>x2</th>\n",
       "      <th>x3</th>\n",
       "      <th>x4</th>\n",
       "      <th>x5</th>\n",
       "      <th>x6</th>\n",
       "      <th>x7</th>\n",
       "      <th>x8</th>\n",
       "      <th>x9</th>\n",
       "      <th>...</th>\n",
       "      <th>x822</th>\n",
       "      <th>x823</th>\n",
       "      <th>x824</th>\n",
       "      <th>x825</th>\n",
       "      <th>x826</th>\n",
       "      <th>x827</th>\n",
       "      <th>x828</th>\n",
       "      <th>x829</th>\n",
       "      <th>x830</th>\n",
       "      <th>x831</th>\n",
       "    </tr>\n",
       "  </thead>\n",
       "  <tbody>\n",
       "    <tr>\n",
       "      <th>0</th>\n",
       "      <td>118345.392781</td>\n",
       "      <td>3104.010883</td>\n",
       "      <td>82378.542430</td>\n",
       "      <td>1086.678601</td>\n",
       "      <td>11395.883550</td>\n",
       "      <td>10.455601</td>\n",
       "      <td>109886.476608</td>\n",
       "      <td>1.054926e+06</td>\n",
       "      <td>101877.946528</td>\n",
       "      <td>2.550290</td>\n",
       "      <td>...</td>\n",
       "      <td>10.769524</td>\n",
       "      <td>10.245068</td>\n",
       "      <td>1021.907543</td>\n",
       "      <td>1031.645762</td>\n",
       "      <td>107440.039766</td>\n",
       "      <td>107083.296966</td>\n",
       "      <td>5559.203921</td>\n",
       "      <td>10.861464</td>\n",
       "      <td>107548.413675</td>\n",
       "      <td>2.299202</td>\n",
       "    </tr>\n",
       "    <tr>\n",
       "      <th>1</th>\n",
       "      <td>100410.947605</td>\n",
       "      <td>5889.055991</td>\n",
       "      <td>97932.067482</td>\n",
       "      <td>1116.564363</td>\n",
       "      <td>12172.212426</td>\n",
       "      <td>10.502997</td>\n",
       "      <td>100372.504488</td>\n",
       "      <td>1.011783e+06</td>\n",
       "      <td>108852.296962</td>\n",
       "      <td>2.579040</td>\n",
       "      <td>...</td>\n",
       "      <td>10.859822</td>\n",
       "      <td>10.088023</td>\n",
       "      <td>988.135968</td>\n",
       "      <td>999.044639</td>\n",
       "      <td>105238.779040</td>\n",
       "      <td>106365.468525</td>\n",
       "      <td>10334.091649</td>\n",
       "      <td>10.087249</td>\n",
       "      <td>107841.227180</td>\n",
       "      <td>2.472763</td>\n",
       "    </tr>\n",
       "    <tr>\n",
       "      <th>2</th>\n",
       "      <td>95373.022035</td>\n",
       "      <td>6293.442455</td>\n",
       "      <td>93371.369288</td>\n",
       "      <td>1034.722073</td>\n",
       "      <td>11618.142107</td>\n",
       "      <td>10.947611</td>\n",
       "      <td>109337.757279</td>\n",
       "      <td>1.006491e+06</td>\n",
       "      <td>104540.883376</td>\n",
       "      <td>2.573247</td>\n",
       "      <td>...</td>\n",
       "      <td>10.356015</td>\n",
       "      <td>10.514234</td>\n",
       "      <td>995.480813</td>\n",
       "      <td>898.329758</td>\n",
       "      <td>107044.005199</td>\n",
       "      <td>102704.104686</td>\n",
       "      <td>7697.875887</td>\n",
       "      <td>10.277760</td>\n",
       "      <td>103414.594212</td>\n",
       "      <td>2.205969</td>\n",
       "    </tr>\n",
       "    <tr>\n",
       "      <th>3</th>\n",
       "      <td>105066.272301</td>\n",
       "      <td>3279.162164</td>\n",
       "      <td>119554.079514</td>\n",
       "      <td>1114.014483</td>\n",
       "      <td>12127.235755</td>\n",
       "      <td>10.540204</td>\n",
       "      <td>106215.391332</td>\n",
       "      <td>1.022381e+06</td>\n",
       "      <td>109597.474506</td>\n",
       "      <td>2.693256</td>\n",
       "      <td>...</td>\n",
       "      <td>10.609811</td>\n",
       "      <td>10.991861</td>\n",
       "      <td>1117.179063</td>\n",
       "      <td>867.267810</td>\n",
       "      <td>100617.082858</td>\n",
       "      <td>108893.304959</td>\n",
       "      <td>6549.131099</td>\n",
       "      <td>9.337688</td>\n",
       "      <td>105722.857008</td>\n",
       "      <td>2.484935</td>\n",
       "    </tr>\n",
       "    <tr>\n",
       "      <th>4</th>\n",
       "      <td>98957.033333</td>\n",
       "      <td>4177.482190</td>\n",
       "      <td>97239.708338</td>\n",
       "      <td>1049.430921</td>\n",
       "      <td>10417.250336</td>\n",
       "      <td>10.618957</td>\n",
       "      <td>102736.470171</td>\n",
       "      <td>1.086871e+06</td>\n",
       "      <td>103340.057448</td>\n",
       "      <td>2.540610</td>\n",
       "      <td>...</td>\n",
       "      <td>10.397777</td>\n",
       "      <td>10.315283</td>\n",
       "      <td>863.943966</td>\n",
       "      <td>1041.278922</td>\n",
       "      <td>105352.672454</td>\n",
       "      <td>101705.692839</td>\n",
       "      <td>5388.312773</td>\n",
       "      <td>12.196382</td>\n",
       "      <td>105017.950344</td>\n",
       "      <td>1.930136</td>\n",
       "    </tr>\n",
       "  </tbody>\n",
       "</table>\n",
       "<p>5 rows × 828 columns</p>\n",
       "</div>"
      ],
      "text/plain": [
       "              x0           x1             x2           x3            x4  \\\n",
       "0  118345.392781  3104.010883   82378.542430  1086.678601  11395.883550   \n",
       "1  100410.947605  5889.055991   97932.067482  1116.564363  12172.212426   \n",
       "2   95373.022035  6293.442455   93371.369288  1034.722073  11618.142107   \n",
       "3  105066.272301  3279.162164  119554.079514  1114.014483  12127.235755   \n",
       "4   98957.033333  4177.482190   97239.708338  1049.430921  10417.250336   \n",
       "\n",
       "          x5             x6            x7             x8        x9  ...  \\\n",
       "0  10.455601  109886.476608  1.054926e+06  101877.946528  2.550290  ...   \n",
       "1  10.502997  100372.504488  1.011783e+06  108852.296962  2.579040  ...   \n",
       "2  10.947611  109337.757279  1.006491e+06  104540.883376  2.573247  ...   \n",
       "3  10.540204  106215.391332  1.022381e+06  109597.474506  2.693256  ...   \n",
       "4  10.618957  102736.470171  1.086871e+06  103340.057448  2.540610  ...   \n",
       "\n",
       "        x822       x823         x824         x825           x826  \\\n",
       "0  10.769524  10.245068  1021.907543  1031.645762  107440.039766   \n",
       "1  10.859822  10.088023   988.135968   999.044639  105238.779040   \n",
       "2  10.356015  10.514234   995.480813   898.329758  107044.005199   \n",
       "3  10.609811  10.991861  1117.179063   867.267810  100617.082858   \n",
       "4  10.397777  10.315283   863.943966  1041.278922  105352.672454   \n",
       "\n",
       "            x827          x828       x829           x830      x831  \n",
       "0  107083.296966   5559.203921  10.861464  107548.413675  2.299202  \n",
       "1  106365.468525  10334.091649  10.087249  107841.227180  2.472763  \n",
       "2  102704.104686   7697.875887  10.277760  103414.594212  2.205969  \n",
       "3  108893.304959   6549.131099   9.337688  105722.857008  2.484935  \n",
       "4  101705.692839   5388.312773  12.196382  105017.950344  1.930136  \n",
       "\n",
       "[5 rows x 828 columns]"
      ]
     },
     "execution_count": 5,
     "metadata": {},
     "output_type": "execute_result"
    }
   ],
   "source": [
    "X = pd.DataFrame(knnOutput, columns = df.columns)\n",
    "X.head()"
   ]
  },
  {
   "cell_type": "markdown",
   "metadata": {},
   "source": [
    "## Linear Models"
   ]
  },
  {
   "cell_type": "code",
   "execution_count": 6,
   "metadata": {},
   "outputs": [
    {
     "data": {
      "text/html": [
       "<div>\n",
       "<style scoped>\n",
       "    .dataframe tbody tr th:only-of-type {\n",
       "        vertical-align: middle;\n",
       "    }\n",
       "\n",
       "    .dataframe tbody tr th {\n",
       "        vertical-align: top;\n",
       "    }\n",
       "\n",
       "    .dataframe thead th {\n",
       "        text-align: right;\n",
       "    }\n",
       "</style>\n",
       "<table border=\"1\" class=\"dataframe\">\n",
       "  <thead>\n",
       "    <tr style=\"text-align: right;\">\n",
       "      <th></th>\n",
       "      <th>0</th>\n",
       "      <th>1</th>\n",
       "      <th>2</th>\n",
       "      <th>3</th>\n",
       "      <th>4</th>\n",
       "      <th>5</th>\n",
       "      <th>6</th>\n",
       "      <th>7</th>\n",
       "      <th>8</th>\n",
       "      <th>9</th>\n",
       "      <th>...</th>\n",
       "      <th>818</th>\n",
       "      <th>819</th>\n",
       "      <th>820</th>\n",
       "      <th>821</th>\n",
       "      <th>822</th>\n",
       "      <th>823</th>\n",
       "      <th>824</th>\n",
       "      <th>825</th>\n",
       "      <th>826</th>\n",
       "      <th>827</th>\n",
       "    </tr>\n",
       "  </thead>\n",
       "  <tbody>\n",
       "    <tr>\n",
       "      <th>0</th>\n",
       "      <td>1.961464</td>\n",
       "      <td>-0.680265</td>\n",
       "      <td>-1.754225</td>\n",
       "      <td>0.894249</td>\n",
       "      <td>1.373118</td>\n",
       "      <td>-0.407906</td>\n",
       "      <td>1.763947</td>\n",
       "      <td>0.159192</td>\n",
       "      <td>-1.124495</td>\n",
       "      <td>0.308873</td>\n",
       "      <td>...</td>\n",
       "      <td>0.803815</td>\n",
       "      <td>-1.129968</td>\n",
       "      <td>0.214829</td>\n",
       "      <td>0.331462</td>\n",
       "      <td>0.869444</td>\n",
       "      <td>0.739583</td>\n",
       "      <td>-0.961916</td>\n",
       "      <td>0.831564</td>\n",
       "      <td>0.878198</td>\n",
       "      <td>0.197921</td>\n",
       "    </tr>\n",
       "    <tr>\n",
       "      <th>1</th>\n",
       "      <td>0.040000</td>\n",
       "      <td>2.435440</td>\n",
       "      <td>-0.159286</td>\n",
       "      <td>1.198309</td>\n",
       "      <td>2.136597</td>\n",
       "      <td>-0.238713</td>\n",
       "      <td>-1.765623</td>\n",
       "      <td>-1.372630</td>\n",
       "      <td>1.392227</td>\n",
       "      <td>0.505643</td>\n",
       "      <td>...</td>\n",
       "      <td>1.125224</td>\n",
       "      <td>-1.696768</td>\n",
       "      <td>-0.129810</td>\n",
       "      <td>-0.007895</td>\n",
       "      <td>0.081726</td>\n",
       "      <td>0.481329</td>\n",
       "      <td>2.704633</td>\n",
       "      <td>0.047744</td>\n",
       "      <td>0.980944</td>\n",
       "      <td>1.283666</td>\n",
       "    </tr>\n",
       "    <tr>\n",
       "      <th>2</th>\n",
       "      <td>-0.499755</td>\n",
       "      <td>2.887837</td>\n",
       "      <td>-0.626964</td>\n",
       "      <td>0.365639</td>\n",
       "      <td>1.591698</td>\n",
       "      <td>1.348469</td>\n",
       "      <td>1.560379</td>\n",
       "      <td>-1.560496</td>\n",
       "      <td>-0.163564</td>\n",
       "      <td>0.465994</td>\n",
       "      <td>...</td>\n",
       "      <td>-0.668045</td>\n",
       "      <td>-0.158504</td>\n",
       "      <td>-0.054856</td>\n",
       "      <td>-1.056273</td>\n",
       "      <td>0.727724</td>\n",
       "      <td>-0.835924</td>\n",
       "      <td>0.680331</td>\n",
       "      <td>0.240619</td>\n",
       "      <td>-0.572327</td>\n",
       "      <td>-0.385316</td>\n",
       "    </tr>\n",
       "    <tr>\n",
       "      <th>3</th>\n",
       "      <td>0.538763</td>\n",
       "      <td>-0.484318</td>\n",
       "      <td>2.057947</td>\n",
       "      <td>1.172367</td>\n",
       "      <td>2.092365</td>\n",
       "      <td>-0.105893</td>\n",
       "      <td>0.402018</td>\n",
       "      <td>-0.996348</td>\n",
       "      <td>1.661127</td>\n",
       "      <td>1.287340</td>\n",
       "      <td>...</td>\n",
       "      <td>0.235326</td>\n",
       "      <td>1.565329</td>\n",
       "      <td>1.187077</td>\n",
       "      <td>-1.379608</td>\n",
       "      <td>-1.572142</td>\n",
       "      <td>1.390772</td>\n",
       "      <td>-0.201769</td>\n",
       "      <td>-0.711115</td>\n",
       "      <td>0.237624</td>\n",
       "      <td>1.359809</td>\n",
       "    </tr>\n",
       "    <tr>\n",
       "      <th>4</th>\n",
       "      <td>-0.115770</td>\n",
       "      <td>0.520656</td>\n",
       "      <td>-0.230284</td>\n",
       "      <td>0.515288</td>\n",
       "      <td>0.410684</td>\n",
       "      <td>0.175241</td>\n",
       "      <td>-0.888620</td>\n",
       "      <td>1.293390</td>\n",
       "      <td>-0.596886</td>\n",
       "      <td>0.242622</td>\n",
       "      <td>...</td>\n",
       "      <td>-0.519398</td>\n",
       "      <td>-0.876551</td>\n",
       "      <td>-1.397192</td>\n",
       "      <td>0.431738</td>\n",
       "      <td>0.122483</td>\n",
       "      <td>-1.195124</td>\n",
       "      <td>-1.093140</td>\n",
       "      <td>2.183042</td>\n",
       "      <td>-0.009722</td>\n",
       "      <td>-2.110839</td>\n",
       "    </tr>\n",
       "  </tbody>\n",
       "</table>\n",
       "<p>5 rows × 828 columns</p>\n",
       "</div>"
      ],
      "text/plain": [
       "        0         1         2         3         4         5         6    \\\n",
       "0  1.961464 -0.680265 -1.754225  0.894249  1.373118 -0.407906  1.763947   \n",
       "1  0.040000  2.435440 -0.159286  1.198309  2.136597 -0.238713 -1.765623   \n",
       "2 -0.499755  2.887837 -0.626964  0.365639  1.591698  1.348469  1.560379   \n",
       "3  0.538763 -0.484318  2.057947  1.172367  2.092365 -0.105893  0.402018   \n",
       "4 -0.115770  0.520656 -0.230284  0.515288  0.410684  0.175241 -0.888620   \n",
       "\n",
       "        7         8         9    ...       818       819       820       821  \\\n",
       "0  0.159192 -1.124495  0.308873  ...  0.803815 -1.129968  0.214829  0.331462   \n",
       "1 -1.372630  1.392227  0.505643  ...  1.125224 -1.696768 -0.129810 -0.007895   \n",
       "2 -1.560496 -0.163564  0.465994  ... -0.668045 -0.158504 -0.054856 -1.056273   \n",
       "3 -0.996348  1.661127  1.287340  ...  0.235326  1.565329  1.187077 -1.379608   \n",
       "4  1.293390 -0.596886  0.242622  ... -0.519398 -0.876551 -1.397192  0.431738   \n",
       "\n",
       "        822       823       824       825       826       827  \n",
       "0  0.869444  0.739583 -0.961916  0.831564  0.878198  0.197921  \n",
       "1  0.081726  0.481329  2.704633  0.047744  0.980944  1.283666  \n",
       "2  0.727724 -0.835924  0.680331  0.240619 -0.572327 -0.385316  \n",
       "3 -1.572142  1.390772 -0.201769 -0.711115  0.237624  1.359809  \n",
       "4  0.122483 -1.195124 -1.093140  2.183042 -0.009722 -2.110839  \n",
       "\n",
       "[5 rows x 828 columns]"
      ]
     },
     "execution_count": 6,
     "metadata": {},
     "output_type": "execute_result"
    }
   ],
   "source": [
    "scaler = preprocessing.StandardScaler().fit(X)\n",
    "x_scale = scaler.transform(X)\n",
    "X_sc = pd.DataFrame(x_scale)\n",
    "X_sc.head()"
   ]
  },
  {
   "cell_type": "code",
   "execution_count": 7,
   "metadata": {},
   "outputs": [],
   "source": [
    "tr_set = X_sc.iloc[:len(train),:]\n",
    "ts_set = X_sc.iloc[len(train):,:]"
   ]
  },
  {
   "cell_type": "markdown",
   "metadata": {},
   "source": [
    "### Lasso regularization"
   ]
  },
  {
   "cell_type": "code",
   "execution_count": 8,
   "metadata": {},
   "outputs": [],
   "source": [
    "reg = LassoCV(cv=5, random_state=0, max_iter= 50000).fit(tr_set, y)"
   ]
  },
  {
   "cell_type": "code",
   "execution_count": 9,
   "metadata": {},
   "outputs": [
    {
     "data": {
      "text/plain": [
       "79"
      ]
     },
     "execution_count": 9,
     "metadata": {},
     "output_type": "execute_result"
    }
   ],
   "source": [
    "coefs = [i for i in range(len(reg.coef_)) if abs(reg.coef_[i]) > 0]\n",
    "len(coefs)"
   ]
  },
  {
   "cell_type": "code",
   "execution_count": 11,
   "metadata": {},
   "outputs": [],
   "source": [
    "# tr_score = reg.score(tr_set, y) \n",
    "# cv_scores = cross_val_score(reg, tr_set, y, cv=5)\n",
    "# print(\"Training set score: {:0.5f} \".format(tr_score))\n",
    "# print(\"Test-CV set score: {:0.5f} \".format(cv_scores.mean()))"
   ]
  },
  {
   "cell_type": "markdown",
   "metadata": {},
   "source": [
    "### Linear Regression with Lasso coefs"
   ]
  },
  {
   "cell_type": "code",
   "execution_count": 53,
   "metadata": {},
   "outputs": [
    {
     "name": "stdout",
     "output_type": "stream",
     "text": [
      "Training set score: 0.52557 \n",
      "Test-CV set score: 0.42810 \n"
     ]
    }
   ],
   "source": [
    "lr = LinearRegression().fit(tr_set[coefs], y)\n",
    "tr_score = lr.score(tr_set[coefs], y)\n",
    "cv_scores = cross_val_score(lr, tr_set[coefs], y, cv=5)\n",
    "print(\"Training set score: {:0.5f} \".format(tr_score))\n",
    "print(\"Test-CV set score: {:0.5f} \".format(cv_scores.mean()))"
   ]
  },
  {
   "cell_type": "markdown",
   "metadata": {},
   "source": [
    "### Ridge Regression"
   ]
  },
  {
   "cell_type": "code",
   "execution_count": 57,
   "metadata": {},
   "outputs": [],
   "source": [
    "rr = RidgeCV(cv=5).fit(tr_set, y)"
   ]
  },
  {
   "cell_type": "code",
   "execution_count": 58,
   "metadata": {},
   "outputs": [
    {
     "name": "stderr",
     "output_type": "stream",
     "text": [
      "c:\\users\\razerjon24\\appdata\\local\\programs\\python\\python37\\lib\\site-packages\\sklearn\\model_selection\\_search.py:814: DeprecationWarning: The default of the `iid` parameter will change from True to False in version 0.22 and will be removed in 0.24. This will change numeric results when test-set sizes are unequal.\n",
      "  DeprecationWarning)\n",
      "c:\\users\\razerjon24\\appdata\\local\\programs\\python\\python37\\lib\\site-packages\\sklearn\\model_selection\\_search.py:814: DeprecationWarning: The default of the `iid` parameter will change from True to False in version 0.22 and will be removed in 0.24. This will change numeric results when test-set sizes are unequal.\n",
      "  DeprecationWarning)\n"
     ]
    },
    {
     "name": "stdout",
     "output_type": "stream",
     "text": [
      "Training set score: 0.79365 \n",
      "Test-CV set score: -1.15601 \n"
     ]
    }
   ],
   "source": [
    "tr_score = rr.score(tr_set, y)\n",
    "cv_scores = cross_val_score(rr, tr_set, y, cv=5)\n",
    "print(\"Training set score: {:0.5f} \".format(tr_score))\n",
    "print(\"Test-CV set score: {:0.5f} \".format(cv_scores.mean()))"
   ]
  },
  {
   "cell_type": "markdown",
   "metadata": {},
   "source": [
    "### Ridge Regression with Lasso coefs"
   ]
  },
  {
   "cell_type": "code",
   "execution_count": 59,
   "metadata": {},
   "outputs": [
    {
     "name": "stdout",
     "output_type": "stream",
     "text": [
      "Training set score: 0.52554 \n",
      "Test-CV set score: 0.43019 \n"
     ]
    }
   ],
   "source": [
    "rr_pn = RidgeCV(cv=5).fit(tr_set[coefs], y)\n",
    "tr_score = rr_pn.score(tr_set[coefs], y)\n",
    "cv_scores = cross_val_score(rr_pn, tr_set[coefs], y, cv=5)\n",
    "print(\"Training set score: {:0.5f} \".format(tr_score))\n",
    "print(\"Test-CV set score: {:0.5f} \".format(cv_scores.mean()))"
   ]
  },
  {
   "cell_type": "markdown",
   "metadata": {},
   "source": [
    "### Elastic-net"
   ]
  },
  {
   "cell_type": "code",
   "execution_count": 60,
   "metadata": {},
   "outputs": [
    {
     "data": {
      "text/plain": [
       "ElasticNetCV(alphas=None, copy_X=True, cv=5, eps=0.001, fit_intercept=True,\n",
       "             l1_ratio=0.5, max_iter=50000, n_alphas=100, n_jobs=None,\n",
       "             normalize=False, positive=False, precompute='auto', random_state=0,\n",
       "             selection='cyclic', tol=0.0001, verbose=0)"
      ]
     },
     "execution_count": 60,
     "metadata": {},
     "output_type": "execute_result"
    }
   ],
   "source": [
    "enet = ElasticNetCV(cv=5, random_state=0, max_iter = 50000)\n",
    "enet.fit(tr_set, y)"
   ]
  },
  {
   "cell_type": "code",
   "execution_count": 64,
   "metadata": {},
   "outputs": [
    {
     "name": "stdout",
     "output_type": "stream",
     "text": [
      "Training set score: 0.47594 \n"
     ]
    }
   ],
   "source": [
    "tr_score = enet.score(tr_set, y)\n",
    "#cv_scores = cross_val_score(enet, tr_set, y, cv=5)\n",
    "print(\"Training set score: {:0.5f} \".format(tr_score))\n",
    "#print(\"Test-CV set score: {:0.5f} \".format(cv_scores.mean()))"
   ]
  },
  {
   "cell_type": "markdown",
   "metadata": {},
   "source": [
    "### Elastic-net with Lasso coefs"
   ]
  },
  {
   "cell_type": "code",
   "execution_count": 65,
   "metadata": {},
   "outputs": [
    {
     "name": "stdout",
     "output_type": "stream",
     "text": [
      "Training set score: 0.52217 \n",
      "Test-CV set score: 0.43494 \n"
     ]
    }
   ],
   "source": [
    "enet.fit(tr_set[coefs], y)\n",
    "tr_score = enet.score(tr_set[coefs], y)\n",
    "cv_scores = cross_val_score(enet, tr_set[coefs], y, cv=5)\n",
    "print(\"Training set score: {:0.5f} \".format(tr_score))\n",
    "print(\"Test-CV set score: {:0.5f} \".format(cv_scores.mean()))"
   ]
  },
  {
   "cell_type": "markdown",
   "metadata": {},
   "source": [
    "## Non-linear Models"
   ]
  },
  {
   "cell_type": "code",
   "execution_count": 12,
   "metadata": {},
   "outputs": [],
   "source": [
    "tr = X.iloc[:len(train),:]\n",
    "ts = X.iloc[len(train):,:]"
   ]
  },
  {
   "cell_type": "code",
   "execution_count": 100,
   "metadata": {},
   "outputs": [
    {
     "data": {
      "text/plain": [
       "['x252',\n",
       " 'x529',\n",
       " 'x757',\n",
       " 'x346',\n",
       " 'x737',\n",
       " 'x118',\n",
       " 'x809',\n",
       " 'x617',\n",
       " 'x595',\n",
       " 'x130',\n",
       " 'x11',\n",
       " 'x593',\n",
       " 'x811',\n",
       " 'x635',\n",
       " 'x87',\n",
       " 'x319',\n",
       " 'x744',\n",
       " 'x243',\n",
       " 'x556',\n",
       " 'x695',\n",
       " 'x480',\n",
       " 'x534',\n",
       " 'x513',\n",
       " 'x270',\n",
       " 'x167',\n",
       " 'x731',\n",
       " 'x563',\n",
       " 'x109',\n",
       " 'x377',\n",
       " 'x117',\n",
       " 'x474',\n",
       " 'x799',\n",
       " 'x798',\n",
       " 'x455',\n",
       " 'x145',\n",
       " 'x362',\n",
       " 'x156',\n",
       " 'x791',\n",
       " 'x481',\n",
       " 'x451',\n",
       " 'x760',\n",
       " 'x176',\n",
       " 'x516',\n",
       " 'x245',\n",
       " 'x254',\n",
       " 'x457',\n",
       " 'x686',\n",
       " 'x831',\n",
       " 'x420',\n",
       " 'x767',\n",
       " 'x80',\n",
       " 'x309',\n",
       " 'x239',\n",
       " 'x174',\n",
       " 'x422',\n",
       " 'x209',\n",
       " 'x132',\n",
       " 'x548',\n",
       " 'x387',\n",
       " 'x428',\n",
       " 'x197',\n",
       " 'x134',\n",
       " 'x682',\n",
       " 'x149',\n",
       " 'x55',\n",
       " 'x1',\n",
       " 'x632',\n",
       " 'x248',\n",
       " 'x267',\n",
       " 'x93',\n",
       " 'x250',\n",
       " 'x105',\n",
       " 'x45',\n",
       " 'x623',\n",
       " 'x78',\n",
       " 'x523',\n",
       " 'x116',\n",
       " 'x614',\n",
       " 'x29',\n",
       " 'x312',\n",
       " 'x42',\n",
       " 'x347',\n",
       " 'x383',\n",
       " 'x154',\n",
       " 'x287',\n",
       " 'x569',\n",
       " 'x551',\n",
       " 'x670',\n",
       " 'x828',\n",
       " 'x44',\n",
       " 'x315',\n",
       " 'x48',\n",
       " 'x72',\n",
       " 'x732',\n",
       " 'x564',\n",
       " 'x99',\n",
       " 'x511',\n",
       " 'x120',\n",
       " 'x637',\n",
       " 'x502',\n",
       " 'x618',\n",
       " 'x246',\n",
       " 'x684',\n",
       " 'x191',\n",
       " 'x706',\n",
       " 'x525',\n",
       " 'x537',\n",
       " 'x579',\n",
       " 'x803',\n",
       " 'x530',\n",
       " 'x400',\n",
       " 'x53',\n",
       " 'x419',\n",
       " 'x302',\n",
       " 'x659',\n",
       " 'x261',\n",
       " 'x210',\n",
       " 'x23',\n",
       " 'x445',\n",
       " 'x36',\n",
       " 'x769',\n",
       " 'x541',\n",
       " 'x129',\n",
       " 'x25',\n",
       " 'x49',\n",
       " 'x59',\n",
       " 'x671',\n",
       " 'x90',\n",
       " 'x709',\n",
       " 'x724',\n",
       " 'x583',\n",
       " 'x745',\n",
       " 'x219',\n",
       " 'x178',\n",
       " 'x421',\n",
       " 'x113',\n",
       " 'x646',\n",
       " 'x356',\n",
       " 'x58',\n",
       " 'x124',\n",
       " 'x510',\n",
       " 'x272',\n",
       " 'x125',\n",
       " 'x453',\n",
       " 'x314',\n",
       " 'x668',\n",
       " 'x284',\n",
       " 'x152',\n",
       " 'x348',\n",
       " 'x636',\n",
       " 'x565',\n",
       " 'x9',\n",
       " 'x466',\n",
       " 'x366',\n",
       " 'x607',\n",
       " 'x652',\n",
       " 'x15',\n",
       " 'x725',\n",
       " 'x504',\n",
       " 'x279',\n",
       " 'x662',\n",
       " 'x81',\n",
       " 'x307',\n",
       " 'x776',\n",
       " 'x160',\n",
       " 'x756',\n",
       " 'x168',\n",
       " 'x782',\n",
       " 'x431',\n",
       " 'x224',\n",
       " 'x738',\n",
       " 'x56',\n",
       " 'x289',\n",
       " 'x320',\n",
       " 'x486',\n",
       " 'x344',\n",
       " 'x495',\n",
       " 'x75',\n",
       " 'x629',\n",
       " 'x175',\n",
       " 'x817',\n",
       " 'x506',\n",
       " 'x816',\n",
       " 'x568',\n",
       " 'x293',\n",
       " 'x121',\n",
       " 'x672',\n",
       " 'x508',\n",
       " 'x297',\n",
       " 'x110',\n",
       " 'x372',\n",
       " 'x729',\n",
       " 'x190',\n",
       " 'x787',\n",
       " 'x71',\n",
       " 'x26',\n",
       " 'x531',\n",
       " 'x308',\n",
       " 'x187',\n",
       " 'x500',\n",
       " 'x144',\n",
       " 'x628',\n",
       " 'x382',\n",
       " 'x119',\n",
       " 'x396',\n",
       " 'x689',\n",
       " 'x687',\n",
       " 'x157',\n",
       " 'x351',\n",
       " 'x533',\n",
       " 'x596',\n",
       " 'x374',\n",
       " 'x18',\n",
       " 'x138',\n",
       " 'x378',\n",
       " 'x35',\n",
       " 'x349',\n",
       " 'x441',\n",
       " 'x669',\n",
       " 'x304',\n",
       " 'x753',\n",
       " 'x643',\n",
       " 'x716',\n",
       " 'x241',\n",
       " 'x379',\n",
       " 'x251',\n",
       " 'x793',\n",
       " 'x765',\n",
       " 'x407',\n",
       " 'x43',\n",
       " 'x393',\n",
       " 'x266',\n",
       " 'x484',\n",
       " 'x83',\n",
       " 'x195',\n",
       " 'x79',\n",
       " 'x465',\n",
       " 'x774',\n",
       " 'x768',\n",
       " 'x490',\n",
       " 'x182',\n",
       " 'x464',\n",
       " 'x170',\n",
       " 'x472',\n",
       " 'x115',\n",
       " 'x615',\n",
       " 'x808',\n",
       " 'x33',\n",
       " 'x719',\n",
       " 'x442',\n",
       " 'x131',\n",
       " 'x114',\n",
       " 'x677',\n",
       " 'x139',\n",
       " 'x192',\n",
       " 'x5',\n",
       " 'x645',\n",
       " 'x700',\n",
       " 'x458',\n",
       " 'x582',\n",
       " 'x497',\n",
       " 'x30',\n",
       " 'x549',\n",
       " 'x587',\n",
       " 'x12',\n",
       " 'x805',\n",
       " 'x202',\n",
       " 'x155',\n",
       " 'x586',\n",
       " 'x212',\n",
       " 'x781',\n",
       " 'x830',\n",
       " 'x496',\n",
       " 'x797',\n",
       " 'x337',\n",
       " 'x408',\n",
       " 'x22',\n",
       " 'x171',\n",
       " 'x599',\n",
       " 'x234',\n",
       " 'x423',\n",
       " 'x204',\n",
       " 'x255',\n",
       " 'x122',\n",
       " 'x4',\n",
       " 'x766',\n",
       " 'x325',\n",
       " 'x624',\n",
       " 'x342',\n",
       " 'x324',\n",
       " 'x741',\n",
       " 'x675',\n",
       " 'x630',\n",
       " 'x707',\n",
       " 'x658',\n",
       " 'x91',\n",
       " 'x499',\n",
       " 'x292',\n",
       " 'x73',\n",
       " 'x654',\n",
       " 'x101',\n",
       " 'x688',\n",
       " 'x288',\n",
       " 'x608',\n",
       " 'x66',\n",
       " 'x590',\n",
       " 'x180',\n",
       " 'x487',\n",
       " 'x664',\n",
       " 'x639',\n",
       " 'x24',\n",
       " 'x28',\n",
       " 'x228',\n",
       " 'x333',\n",
       " 'x86',\n",
       " 'x557',\n",
       " 'x6',\n",
       " 'x697',\n",
       " 'x509',\n",
       " 'x755',\n",
       " 'x812',\n",
       " 'x359',\n",
       " 'x244',\n",
       " 'x612',\n",
       " 'x259',\n",
       " 'x67',\n",
       " 'x676',\n",
       " 'x660',\n",
       " 'x771',\n",
       " 'x217',\n",
       " 'x57',\n",
       " 'x758',\n",
       " 'x463',\n",
       " 'x13',\n",
       " 'x392',\n",
       " 'x711',\n",
       " 'x406',\n",
       " 'x427',\n",
       " 'x165',\n",
       " 'x380',\n",
       " 'x588',\n",
       " 'x276',\n",
       " 'x172',\n",
       " 'x327',\n",
       " 'x409',\n",
       " 'x68',\n",
       " 'x734',\n",
       " 'x747',\n",
       " 'x274',\n",
       " 'x604',\n",
       " 'x203',\n",
       " 'x456',\n",
       " 'x126',\n",
       " 'x435',\n",
       " 'x227',\n",
       " 'x285',\n",
       " 'x438',\n",
       " 'x460',\n",
       " 'x795',\n",
       " 'x403',\n",
       " 'x298',\n",
       " 'x790',\n",
       " 'x762',\n",
       " 'x222',\n",
       " 'x20',\n",
       " 'x232',\n",
       " 'x794',\n",
       " 'x60',\n",
       " 'x814',\n",
       " 'x10',\n",
       " 'x414',\n",
       " 'x570',\n",
       " 'x447',\n",
       " 'x417',\n",
       " 'x494',\n",
       " 'x184',\n",
       " 'x806',\n",
       " 'x554',\n",
       " 'x96',\n",
       " 'x161',\n",
       " 'x37',\n",
       " 'x479',\n",
       " 'x173',\n",
       " 'x352',\n",
       " 'x721',\n",
       " 'x485',\n",
       " 'x216',\n",
       " 'x368',\n",
       " 'x616',\n",
       " 'x522',\n",
       " 'x788',\n",
       " 'x38',\n",
       " 'x653',\n",
       " 'x785',\n",
       " 'x559',\n",
       " 'x62',\n",
       " 'x323',\n",
       " 'x34',\n",
       " 'x64',\n",
       " 'x413',\n",
       " 'x299',\n",
       " 'x310',\n",
       " 'x19',\n",
       " 'x355',\n",
       " 'x291',\n",
       " 'x542',\n",
       " 'x376',\n",
       " 'x329',\n",
       " 'x398',\n",
       " 'x512',\n",
       " 'x603',\n",
       " 'x779',\n",
       " 'x273',\n",
       " 'x330',\n",
       " 'x277',\n",
       " 'x305',\n",
       " 'x54',\n",
       " 'x720',\n",
       " 'x810',\n",
       " 'x163',\n",
       " 'x550',\n",
       " 'x740',\n",
       " 'x271',\n",
       " 'x106',\n",
       " 'x543',\n",
       " 'x74',\n",
       " 'x786',\n",
       " 'x748',\n",
       " 'x726',\n",
       " 'x824',\n",
       " 'x338',\n",
       " 'x332',\n",
       " 'x381',\n",
       " 'x644',\n",
       " 'x208',\n",
       " 'x147',\n",
       " 'x714',\n",
       " 'x321',\n",
       " 'x397',\n",
       " 'x238',\n",
       " 'x275',\n",
       " 'x584',\n",
       " 'x135',\n",
       " 'x778',\n",
       " 'x823',\n",
       " 'x401',\n",
       " 'x546',\n",
       " 'x108',\n",
       " 'x77',\n",
       " 'x361',\n",
       " 'x661',\n",
       " 'x609',\n",
       " 'x226',\n",
       " 'x40',\n",
       " 'x764',\n",
       " 'x317',\n",
       " 'x199',\n",
       " 'x211',\n",
       " 'x386',\n",
       " 'x166',\n",
       " 'x411',\n",
       " 'x505',\n",
       " 'x425',\n",
       " 'x61',\n",
       " 'x278',\n",
       " 'x642',\n",
       " 'x429',\n",
       " 'x364',\n",
       " 'x693',\n",
       " 'x189',\n",
       " 'x553',\n",
       " 'x51',\n",
       " 'x142',\n",
       " 'x826',\n",
       " 'x471',\n",
       " 'x112',\n",
       " 'x16',\n",
       " 'x339',\n",
       " 'x694',\n",
       " 'x558',\n",
       " 'x313',\n",
       " 'x468',\n",
       " 'x783',\n",
       " 'x206',\n",
       " 'x807',\n",
       " 'x462',\n",
       " 'x230',\n",
       " 'x704',\n",
       " 'x492',\n",
       " 'x703',\n",
       " 'x822',\n",
       " 'x491',\n",
       " 'x518',\n",
       " 'x295',\n",
       " 'x201',\n",
       " 'x770',\n",
       " 'x482',\n",
       " 'x151',\n",
       " 'x47',\n",
       " 'x562',\n",
       " 'x193',\n",
       " 'x416',\n",
       " 'x514',\n",
       " 'x648',\n",
       " 'x373',\n",
       " 'x70',\n",
       " 'x733',\n",
       " 'x574',\n",
       " 'x237',\n",
       " 'x405',\n",
       " 'x749',\n",
       " 'x449',\n",
       " 'x415',\n",
       " 'x610',\n",
       " 'x572',\n",
       " 'x796',\n",
       " 'x718',\n",
       " 'x620',\n",
       " 'x566',\n",
       " 'x651',\n",
       " 'x601',\n",
       " 'x581',\n",
       " 'x264',\n",
       " 'x655',\n",
       " 'x602',\n",
       " 'x240',\n",
       " 'x804',\n",
       " 'x545',\n",
       " 'x573',\n",
       " 'x528',\n",
       " 'x223',\n",
       " 'x127',\n",
       " 'x41',\n",
       " 'x819',\n",
       " 'x827',\n",
       " 'x802',\n",
       " 'x667',\n",
       " 'x540',\n",
       " 'x158',\n",
       " 'x625',\n",
       " 'x789',\n",
       " 'x213',\n",
       " 'x454',\n",
       " 'x696',\n",
       " 'x818',\n",
       " 'x701',\n",
       " 'x715',\n",
       " 'x357',\n",
       " 'x196',\n",
       " 'x263',\n",
       " 'x257',\n",
       " 'x249',\n",
       " 'x619',\n",
       " 'x772',\n",
       " 'x231',\n",
       " 'x800',\n",
       " 'x384',\n",
       " 'x437',\n",
       " 'x430',\n",
       " 'x164',\n",
       " 'x85',\n",
       " 'x394',\n",
       " 'x434',\n",
       " 'x103',\n",
       " 'x524',\n",
       " 'x301',\n",
       " 'x780',\n",
       " 'x631',\n",
       " 'x712',\n",
       " 'x829',\n",
       " 'x385',\n",
       " 'x470',\n",
       " 'x526',\n",
       " 'x702',\n",
       " 'x640',\n",
       " 'x641',\n",
       " 'x235',\n",
       " 'x399',\n",
       " 'x710',\n",
       " 'x571',\n",
       " 'x148',\n",
       " 'x448',\n",
       " 'x111',\n",
       " 'x341',\n",
       " 'x402',\n",
       " 'x578',\n",
       " 'x39',\n",
       " 'x538',\n",
       " 'x363',\n",
       " 'x467',\n",
       " 'x218',\n",
       " 'x294',\n",
       " 'x650',\n",
       " 'x98',\n",
       " 'x179',\n",
       " 'x340',\n",
       " 'x691',\n",
       " 'x21',\n",
       " 'x233',\n",
       " 'x280',\n",
       " 'x404',\n",
       " 'x825',\n",
       " 'x194',\n",
       " 'x750',\n",
       " 'x713',\n",
       " 'x100',\n",
       " 'x225',\n",
       " 'x14',\n",
       " 'x698',\n",
       " 'x679',\n",
       " 'x150',\n",
       " 'x815',\n",
       " 'x181',\n",
       " 'x183',\n",
       " 'x473',\n",
       " 'x761',\n",
       " 'x775',\n",
       " 'x214',\n",
       " 'x567',\n",
       " 'x663',\n",
       " 'x577',\n",
       " 'x699',\n",
       " 'x517',\n",
       " 'x727',\n",
       " 'x350',\n",
       " 'x673',\n",
       " 'x634',\n",
       " 'x611',\n",
       " 'x690',\n",
       " 'x269',\n",
       " 'x334',\n",
       " 'x521',\n",
       " 'x336',\n",
       " 'x621',\n",
       " 'x185',\n",
       " 'x446',\n",
       " 'x95',\n",
       " 'x681',\n",
       " 'x426',\n",
       " 'x536',\n",
       " 'x547',\n",
       " 'x69',\n",
       " 'x683',\n",
       " 'x507',\n",
       " 'x395',\n",
       " 'x390',\n",
       " 'x598',\n",
       " 'x461',\n",
       " 'x84',\n",
       " 'x739',\n",
       " 'x600',\n",
       " 'x2',\n",
       " 'x128',\n",
       " 'x552',\n",
       " 'x316',\n",
       " 'x589',\n",
       " 'x692',\n",
       " 'x162',\n",
       " 'x256',\n",
       " 'x52',\n",
       " 'x360',\n",
       " 'x353',\n",
       " 'x527',\n",
       " 'x519',\n",
       " 'x813',\n",
       " 'x140',\n",
       " 'x220',\n",
       " 'x678',\n",
       " 'x594',\n",
       " 'x32',\n",
       " 'x0',\n",
       " 'x311',\n",
       " 'x335',\n",
       " 'x539',\n",
       " 'x801',\n",
       " 'x88',\n",
       " 'x159',\n",
       " 'x821',\n",
       " 'x76',\n",
       " 'x483',\n",
       " 'x318',\n",
       " 'x708',\n",
       " 'x236',\n",
       " 'x436',\n",
       " 'x597',\n",
       " 'x375',\n",
       " 'x31',\n",
       " 'x63',\n",
       " 'x306',\n",
       " 'x784',\n",
       " 'x746',\n",
       " 'x50',\n",
       " 'x123',\n",
       " 'x742',\n",
       " 'x354',\n",
       " 'x207',\n",
       " 'x65',\n",
       " 'x627',\n",
       " 'x665',\n",
       " 'x424',\n",
       " 'x303',\n",
       " 'x605',\n",
       " 'x89',\n",
       " 'x345',\n",
       " 'x735',\n",
       " 'x260',\n",
       " 'x3',\n",
       " 'x666',\n",
       " 'x469',\n",
       " 'x743',\n",
       " 'x46',\n",
       " 'x136',\n",
       " 'x792',\n",
       " 'x262',\n",
       " 'x685',\n",
       " 'x412',\n",
       " 'x391',\n",
       " 'x7',\n",
       " 'x221',\n",
       " 'x92',\n",
       " 'x268',\n",
       " 'x633',\n",
       " 'x143',\n",
       " 'x680',\n",
       " 'x282',\n",
       " 'x17',\n",
       " 'x290',\n",
       " 'x544',\n",
       " 'x561',\n",
       " 'x736',\n",
       " 'x450',\n",
       " 'x622',\n",
       " 'x94',\n",
       " 'x488',\n",
       " 'x418',\n",
       " 'x575',\n",
       " 'x591',\n",
       " 'x186',\n",
       " 'x253',\n",
       " 'x141',\n",
       " 'x247',\n",
       " 'x705',\n",
       " 'x722',\n",
       " 'x343',\n",
       " 'x198',\n",
       " 'x723',\n",
       " 'x410',\n",
       " 'x242',\n",
       " 'x433',\n",
       " 'x476',\n",
       " 'x281',\n",
       " 'x657',\n",
       " 'x475',\n",
       " 'x515',\n",
       " 'x613',\n",
       " 'x153',\n",
       " 'x555',\n",
       " 'x493',\n",
       " 'x389',\n",
       " 'x730',\n",
       " 'x498',\n",
       " 'x97',\n",
       " 'x576',\n",
       " 'x452',\n",
       " 'x432',\n",
       " 'x626',\n",
       " 'x326',\n",
       " 'x177',\n",
       " 'x440',\n",
       " 'x580',\n",
       " 'x322',\n",
       " 'x8',\n",
       " 'x638',\n",
       " 'x296',\n",
       " 'x82',\n",
       " 'x286',\n",
       " 'x331',\n",
       " 'x520',\n",
       " 'x27',\n",
       " 'x751',\n",
       " 'x647',\n",
       " 'x371',\n",
       " 'x773',\n",
       " 'x820',\n",
       " 'x752',\n",
       " 'x370',\n",
       " 'x443',\n",
       " 'x205',\n",
       " 'x146',\n",
       " 'x754',\n",
       " 'x592',\n",
       " 'x102',\n",
       " 'x535',\n",
       " 'x137',\n",
       " 'x300',\n",
       " 'x229',\n",
       " 'x656',\n",
       " 'x439',\n",
       " 'x328',\n",
       " 'x459',\n",
       " 'x265',\n",
       " 'x200',\n",
       " 'x358',\n",
       " 'x759',\n",
       " 'x188',\n",
       " 'x728',\n",
       " 'x104',\n",
       " 'x532',\n",
       " 'x585',\n",
       " 'x258',\n",
       " 'x215',\n",
       " 'x674',\n",
       " 'x478',\n",
       " 'x369',\n",
       " 'x763',\n",
       " 'x606',\n",
       " 'x444',\n",
       " 'x503',\n",
       " 'x133',\n",
       " 'x501',\n",
       " 'x649',\n",
       " 'x717',\n",
       " 'x388',\n",
       " 'x107',\n",
       " 'x365',\n",
       " 'x489',\n",
       " 'x477',\n",
       " 'x560']"
      ]
     },
     "execution_count": 100,
     "metadata": {},
     "output_type": "execute_result"
    }
   ],
   "source": [
    "model = RandomForestRegressor(n_estimators=200,max_features=round(len(tr.columns)/3))\n",
    "model.fit(tr, y)\n",
    "top_1 = [x[1] for x in sorted(zip(model.feature_importances_, tr.columns),reverse=True)]\n",
    "top_1"
   ]
  },
  {
   "cell_type": "markdown",
   "metadata": {},
   "source": [
    "### Random Forest"
   ]
  },
  {
   "cell_type": "code",
   "execution_count": 67,
   "metadata": {},
   "outputs": [
    {
     "data": {
      "text/plain": [
       "RandomForestRegressor(bootstrap=True, criterion='mse', max_depth=50,\n",
       "                      max_features=276, max_leaf_nodes=None,\n",
       "                      min_impurity_decrease=0.0, min_impurity_split=None,\n",
       "                      min_samples_leaf=1, min_samples_split=2,\n",
       "                      min_weight_fraction_leaf=0.0, n_estimators=200,\n",
       "                      n_jobs=None, oob_score=False, random_state=None,\n",
       "                      verbose=0, warm_start=False)"
      ]
     },
     "execution_count": 67,
     "metadata": {},
     "output_type": "execute_result"
    }
   ],
   "source": [
    "rf = RandomForestRegressor(n_estimators=200, max_depth=50, max_features=round(len(tr.columns)/3), min_samples_split=2)\n",
    "rf.fit(tr, y)"
   ]
  },
  {
   "cell_type": "code",
   "execution_count": 69,
   "metadata": {},
   "outputs": [
    {
     "name": "stdout",
     "output_type": "stream",
     "text": [
      "Training set score: 0.92986 \n",
      "Test-CV set score: 0.47464 \n"
     ]
    }
   ],
   "source": [
    "tr_score = rf.score(tr, y)\n",
    "cv_scores = cross_val_score(rf, tr, y, cv=5, scoring=\"r2\")\n",
    "print(\"Training set score: {:0.5f} \".format(tr_score))\n",
    "print(\"Test-CV set score: {:0.5f} \".format(cv_scores.mean()))"
   ]
  },
  {
   "cell_type": "markdown",
   "metadata": {},
   "source": [
    "### Random Forest with best top features"
   ]
  },
  {
   "cell_type": "code",
   "execution_count": 74,
   "metadata": {},
   "outputs": [
    {
     "name": "stdout",
     "output_type": "stream",
     "text": [
      "Top 30 features\n",
      "Top 32 features\n",
      "Top 34 features\n",
      "Top 36 features\n",
      "Top 38 features\n",
      "Top 40 features\n",
      "Top 42 features\n",
      "Top 44 features\n",
      "Top 46 features\n",
      "Top 48 features\n",
      "Top 50 features\n"
     ]
    }
   ],
   "source": [
    "cv_vals = list()\n",
    "for i in range(30,52,2):\n",
    "    rf = RandomForestRegressor(n_estimators=200, max_depth=50, max_features=round(i/3), min_samples_split=2)\n",
    "    rf.fit(tr[top_1[:i]], y)\n",
    "    cv_scores = cross_val_score(rf, tr[top[:i]], y, cv=5, scoring=\"r2\")\n",
    "    cv_vals.append(cv_scores.mean())\n",
    "    print(\"Top {} features\".format(i))"
   ]
  },
  {
   "cell_type": "code",
   "execution_count": 75,
   "metadata": {},
   "outputs": [
    {
     "data": {
      "text/plain": [
       "<matplotlib.axes._subplots.AxesSubplot at 0x2d27fc971c8>"
      ]
     },
     "execution_count": 75,
     "metadata": {},
     "output_type": "execute_result"
    },
    {
     "data": {
      "image/png": "[encoded data removed]",
      "text/plain": [
       "<Figure size 432x288 with 1 Axes>"
      ]
     },
     "metadata": {},
     "output_type": "display_data"
    }
   ],
   "source": [
    "pd.Series(cv_vals, index=[28+i*2 for i in range(1,len(cv_vals)+1)]).plot()"
   ]
  },
  {
   "cell_type": "code",
   "execution_count": 78,
   "metadata": {},
   "outputs": [
    {
     "name": "stdout",
     "output_type": "stream",
     "text": [
      "Training set score: 0.93870 \n",
      "Test-CV set score: 0.53602 \n"
     ]
    }
   ],
   "source": [
    "rf = RandomForestRegressor(n_estimators=200, max_depth=50, max_features=round(34/3), min_samples_split=2)\n",
    "rf.fit(tr[top_1[:34]], y)\n",
    "tr_score = rf.score(tr[top_1[:34]], y)\n",
    "cv_scores = cross_val_score(rf, tr[top_1[:34]], y, cv=5, scoring=\"r2\")\n",
    "print(\"Training set score: {:0.5f} \".format(tr_score))\n",
    "print(\"Test-CV set score: {:0.5f} \".format(cv_scores.mean()))"
   ]
  },
  {
   "cell_type": "markdown",
   "metadata": {},
   "source": [
    "### Interactions"
   ]
  },
  {
   "cell_type": "code",
   "execution_count": 158,
   "metadata": {},
   "outputs": [
    {
     "data": {
      "text/html": [
       "<div>\n",
       "<style scoped>\n",
       "    .dataframe tbody tr th:only-of-type {\n",
       "        vertical-align: middle;\n",
       "    }\n",
       "\n",
       "    .dataframe tbody tr th {\n",
       "        vertical-align: top;\n",
       "    }\n",
       "\n",
       "    .dataframe thead th {\n",
       "        text-align: right;\n",
       "    }\n",
       "</style>\n",
       "<table border=\"1\" class=\"dataframe\">\n",
       "  <thead>\n",
       "    <tr style=\"text-align: right;\">\n",
       "      <th></th>\n",
       "      <th>0</th>\n",
       "      <th>1</th>\n",
       "      <th>2</th>\n",
       "      <th>3</th>\n",
       "      <th>4</th>\n",
       "      <th>5</th>\n",
       "      <th>6</th>\n",
       "      <th>7</th>\n",
       "      <th>8</th>\n",
       "      <th>9</th>\n",
       "      <th>...</th>\n",
       "      <th>1316</th>\n",
       "      <th>1317</th>\n",
       "      <th>1318</th>\n",
       "      <th>1319</th>\n",
       "      <th>1320</th>\n",
       "      <th>1321</th>\n",
       "      <th>1322</th>\n",
       "      <th>1323</th>\n",
       "      <th>1324</th>\n",
       "      <th>1325</th>\n",
       "    </tr>\n",
       "  </thead>\n",
       "  <tbody>\n",
       "    <tr>\n",
       "      <th>0</th>\n",
       "      <td>1.0</td>\n",
       "      <td>2243.302901</td>\n",
       "      <td>564.003090</td>\n",
       "      <td>2.745800</td>\n",
       "      <td>7346.839297</td>\n",
       "      <td>266.863177</td>\n",
       "      <td>9291.193684</td>\n",
       "      <td>248.754308</td>\n",
       "      <td>1045.689682</td>\n",
       "      <td>19168.336582</td>\n",
       "      <td>...</td>\n",
       "      <td>7.819871e+07</td>\n",
       "      <td>20331.850600</td>\n",
       "      <td>17480.459029</td>\n",
       "      <td>19896.158392</td>\n",
       "      <td>5.286330</td>\n",
       "      <td>4.544961</td>\n",
       "      <td>5.173049</td>\n",
       "      <td>3.907564</td>\n",
       "      <td>4.447567</td>\n",
       "      <td>5.062195</td>\n",
       "    </tr>\n",
       "    <tr>\n",
       "      <th>1</th>\n",
       "      <td>1.0</td>\n",
       "      <td>2608.930250</td>\n",
       "      <td>163.163481</td>\n",
       "      <td>2.928650</td>\n",
       "      <td>9430.575216</td>\n",
       "      <td>175.179986</td>\n",
       "      <td>18423.700135</td>\n",
       "      <td>133.422869</td>\n",
       "      <td>1269.789300</td>\n",
       "      <td>6454.866169</td>\n",
       "      <td>...</td>\n",
       "      <td>9.099345e+07</td>\n",
       "      <td>23587.808632</td>\n",
       "      <td>20122.637349</td>\n",
       "      <td>22254.500866</td>\n",
       "      <td>6.114558</td>\n",
       "      <td>5.216298</td>\n",
       "      <td>5.768931</td>\n",
       "      <td>4.449997</td>\n",
       "      <td>4.921445</td>\n",
       "      <td>5.442840</td>\n",
       "    </tr>\n",
       "    <tr>\n",
       "      <th>2</th>\n",
       "      <td>1.0</td>\n",
       "      <td>7759.176464</td>\n",
       "      <td>1836.514563</td>\n",
       "      <td>2.633866</td>\n",
       "      <td>7913.283619</td>\n",
       "      <td>942.853867</td>\n",
       "      <td>39176.219061</td>\n",
       "      <td>805.482669</td>\n",
       "      <td>1971.570050</td>\n",
       "      <td>-30172.204065</td>\n",
       "      <td>...</td>\n",
       "      <td>8.432832e+07</td>\n",
       "      <td>20257.512604</td>\n",
       "      <td>17117.335480</td>\n",
       "      <td>19413.173845</td>\n",
       "      <td>4.866299</td>\n",
       "      <td>4.111959</td>\n",
       "      <td>4.663470</td>\n",
       "      <td>3.474552</td>\n",
       "      <td>3.940572</td>\n",
       "      <td>4.469095</td>\n",
       "    </tr>\n",
       "    <tr>\n",
       "      <th>3</th>\n",
       "      <td>1.0</td>\n",
       "      <td>1818.615834</td>\n",
       "      <td>459.178240</td>\n",
       "      <td>2.658636</td>\n",
       "      <td>8542.248694</td>\n",
       "      <td>283.879920</td>\n",
       "      <td>16213.024512</td>\n",
       "      <td>99.129244</td>\n",
       "      <td>1412.169105</td>\n",
       "      <td>4403.581908</td>\n",
       "      <td>...</td>\n",
       "      <td>6.937304e+07</td>\n",
       "      <td>20697.142600</td>\n",
       "      <td>19241.699108</td>\n",
       "      <td>21155.840678</td>\n",
       "      <td>6.174902</td>\n",
       "      <td>5.740677</td>\n",
       "      <td>6.311752</td>\n",
       "      <td>5.336987</td>\n",
       "      <td>5.867904</td>\n",
       "      <td>6.451636</td>\n",
       "    </tr>\n",
       "    <tr>\n",
       "      <th>4</th>\n",
       "      <td>1.0</td>\n",
       "      <td>7231.383826</td>\n",
       "      <td>3009.587437</td>\n",
       "      <td>2.437194</td>\n",
       "      <td>6496.708149</td>\n",
       "      <td>3327.509708</td>\n",
       "      <td>31267.618199</td>\n",
       "      <td>246.717392</td>\n",
       "      <td>3791.751924</td>\n",
       "      <td>-3575.232287</td>\n",
       "      <td>...</td>\n",
       "      <td>6.959021e+07</td>\n",
       "      <td>16101.341763</td>\n",
       "      <td>17902.504915</td>\n",
       "      <td>17746.700734</td>\n",
       "      <td>3.725426</td>\n",
       "      <td>4.142168</td>\n",
       "      <td>4.106119</td>\n",
       "      <td>4.605528</td>\n",
       "      <td>4.565447</td>\n",
       "      <td>4.525714</td>\n",
       "    </tr>\n",
       "  </tbody>\n",
       "</table>\n",
       "<p>5 rows × 1326 columns</p>\n",
       "</div>"
      ],
      "text/plain": [
       "   0            1            2         3            4            5     \\\n",
       "0   1.0  2243.302901   564.003090  2.745800  7346.839297   266.863177   \n",
       "1   1.0  2608.930250   163.163481  2.928650  9430.575216   175.179986   \n",
       "2   1.0  7759.176464  1836.514563  2.633866  7913.283619   942.853867   \n",
       "3   1.0  1818.615834   459.178240  2.658636  8542.248694   283.879920   \n",
       "4   1.0  7231.383826  3009.587437  2.437194  6496.708149  3327.509708   \n",
       "\n",
       "           6           7            8             9     ...          1316  \\\n",
       "0   9291.193684  248.754308  1045.689682  19168.336582  ...  7.819871e+07   \n",
       "1  18423.700135  133.422869  1269.789300   6454.866169  ...  9.099345e+07   \n",
       "2  39176.219061  805.482669  1971.570050 -30172.204065  ...  8.432832e+07   \n",
       "3  16213.024512   99.129244  1412.169105   4403.581908  ...  6.937304e+07   \n",
       "4  31267.618199  246.717392  3791.751924  -3575.232287  ...  6.959021e+07   \n",
       "\n",
       "           1317          1318          1319      1320      1321      1322  \\\n",
       "0  20331.850600  17480.459029  19896.158392  5.286330  4.544961  5.173049   \n",
       "1  23587.808632  20122.637349  22254.500866  6.114558  5.216298  5.768931   \n",
       "2  20257.512604  17117.335480  19413.173845  4.866299  4.111959  4.663470   \n",
       "3  20697.142600  19241.699108  21155.840678  6.174902  5.740677  6.311752   \n",
       "4  16101.341763  17902.504915  17746.700734  3.725426  4.142168  4.106119   \n",
       "\n",
       "       1323      1324      1325  \n",
       "0  3.907564  4.447567  5.062195  \n",
       "1  4.449997  4.921445  5.442840  \n",
       "2  3.474552  3.940572  4.469095  \n",
       "3  5.336987  5.867904  6.451636  \n",
       "4  4.605528  4.565447  4.525714  \n",
       "\n",
       "[5 rows x 1326 columns]"
      ]
     },
     "execution_count": 158,
     "metadata": {},
     "output_type": "execute_result"
    }
   ],
   "source": [
    "poly = PolynomialFeatures(2)\n",
    "poly_all = pd.DataFrame(poly.fit_transform(X[top_1[:50]]))\n",
    "poly_df = poly_all.iloc[:len(train),:]\n",
    "poly_ts = poly_all.iloc[len(train):,:]\n",
    "poly_df.head()"
   ]
  },
  {
   "cell_type": "code",
   "execution_count": 134,
   "metadata": {},
   "outputs": [
    {
     "data": {
      "text/plain": [
       "[36,\n",
       " 39,\n",
       " 196,\n",
       " 74,\n",
       " 35,\n",
       " 158,\n",
       " 40,\n",
       " 143,\n",
       " 103,\n",
       " 117,\n",
       " 167,\n",
       " 148,\n",
       " 58,\n",
       " 153,\n",
       " 45,\n",
       " 41,\n",
       " 42,\n",
       " 147,\n",
       " 73,\n",
       " 355,\n",
       " 390,\n",
       " 72,\n",
       " 501,\n",
       " 166,\n",
       " 109,\n",
       " 395,\n",
       " 1,\n",
       " 325,\n",
       " 225,\n",
       " 171,\n",
       " 144,\n",
       " 159,\n",
       " 151,\n",
       " 411,\n",
       " 149,\n",
       " 309,\n",
       " 157,\n",
       " 146,\n",
       " 156,\n",
       " 228,\n",
       " 78,\n",
       " 184,\n",
       " 125,\n",
       " 564,\n",
       " 374,\n",
       " 356,\n",
       " 478,\n",
       " 311,\n",
       " 498,\n",
       " 126,\n",
       " 485,\n",
       " 91,\n",
       " 268,\n",
       " 115,\n",
       " 490,\n",
       " 365,\n",
       " 433,\n",
       " 155,\n",
       " 130,\n",
       " 114,\n",
       " 17,\n",
       " 416,\n",
       " 59,\n",
       " 360,\n",
       " 598,\n",
       " 128,\n",
       " 459,\n",
       " 375,\n",
       " 316,\n",
       " 404,\n",
       " 312,\n",
       " 364,\n",
       " 3,\n",
       " 111,\n",
       " 326,\n",
       " 269,\n",
       " 323,\n",
       " 471,\n",
       " 457,\n",
       " 387,\n",
       " 24,\n",
       " 61,\n",
       " 134,\n",
       " 405,\n",
       " 496,\n",
       " 392,\n",
       " 361,\n",
       " 441,\n",
       " 421,\n",
       " 313,\n",
       " 161,\n",
       " 308,\n",
       " 358,\n",
       " 605,\n",
       " 54,\n",
       " 322,\n",
       " 129,\n",
       " 522,\n",
       " 506,\n",
       " 493,\n",
       " 233,\n",
       " 469,\n",
       " 4,\n",
       " 116,\n",
       " 260,\n",
       " 164,\n",
       " 264,\n",
       " 512,\n",
       " 590,\n",
       " 580,\n",
       " 439,\n",
       " 581,\n",
       " 47,\n",
       " 616,\n",
       " 443,\n",
       " 460,\n",
       " 55,\n",
       " 423,\n",
       " 546,\n",
       " 150,\n",
       " 562,\n",
       " 62,\n",
       " 241,\n",
       " 49,\n",
       " 64,\n",
       " 514,\n",
       " 458,\n",
       " 75,\n",
       " 509,\n",
       " 18,\n",
       " 197,\n",
       " 486,\n",
       " 118,\n",
       " 168,\n",
       " 595,\n",
       " 329,\n",
       " 470,\n",
       " 362,\n",
       " 302,\n",
       " 383,\n",
       " 545,\n",
       " 418,\n",
       " 119,\n",
       " 382,\n",
       " 594,\n",
       " 50,\n",
       " 27,\n",
       " 479,\n",
       " 401,\n",
       " 376,\n",
       " 25,\n",
       " 602,\n",
       " 569,\n",
       " 536,\n",
       " 497,\n",
       " 160,\n",
       " 46,\n",
       " 548,\n",
       " 541,\n",
       " 553,\n",
       " 391,\n",
       " 307,\n",
       " 450,\n",
       " 238,\n",
       " 142,\n",
       " 366,\n",
       " 112,\n",
       " 121,\n",
       " 371,\n",
       " 378,\n",
       " 465,\n",
       " 560,\n",
       " 369,\n",
       " 367,\n",
       " 237,\n",
       " 567,\n",
       " 429,\n",
       " 63,\n",
       " 489,\n",
       " 372,\n",
       " 56,\n",
       " 434,\n",
       " 577,\n",
       " 473,\n",
       " 321,\n",
       " 484,\n",
       " 102,\n",
       " 340,\n",
       " 487,\n",
       " 124,\n",
       " 462,\n",
       " 504,\n",
       " 446,\n",
       " 251,\n",
       " 477,\n",
       " 422,\n",
       " 154,\n",
       " 370,\n",
       " 255,\n",
       " 449,\n",
       " 140,\n",
       " 213,\n",
       " 20,\n",
       " 551,\n",
       " 48,\n",
       " 540,\n",
       " 181,\n",
       " 626,\n",
       " 314,\n",
       " 456,\n",
       " 505,\n",
       " 482,\n",
       " 122,\n",
       " 588,\n",
       " 520,\n",
       " 445,\n",
       " 539,\n",
       " 628,\n",
       " 381,\n",
       " 403,\n",
       " 544,\n",
       " 224,\n",
       " 324,\n",
       " 461,\n",
       " 609,\n",
       " 593,\n",
       " 210,\n",
       " 265,\n",
       " 68,\n",
       " 535,\n",
       " 30,\n",
       " 444,\n",
       " 163,\n",
       " 568,\n",
       " 615,\n",
       " 407,\n",
       " 611,\n",
       " 515,\n",
       " 379,\n",
       " 291,\n",
       " 499,\n",
       " 14,\n",
       " 37,\n",
       " 152,\n",
       " 603,\n",
       " 66,\n",
       " 565,\n",
       " 113,\n",
       " 271,\n",
       " 272,\n",
       " 513,\n",
       " 377,\n",
       " 587,\n",
       " 495,\n",
       " 573,\n",
       " 516,\n",
       " 132,\n",
       " 320,\n",
       " 88,\n",
       " 133,\n",
       " 464,\n",
       " 282,\n",
       " 466,\n",
       " 394,\n",
       " 180,\n",
       " 359,\n",
       " 543,\n",
       " 448,\n",
       " 43,\n",
       " 623,\n",
       " 10,\n",
       " 169,\n",
       " 120,\n",
       " 135,\n",
       " 481,\n",
       " 574,\n",
       " 388,\n",
       " 357,\n",
       " 8,\n",
       " 368,\n",
       " 566,\n",
       " 315,\n",
       " 402,\n",
       " 261,\n",
       " 13,\n",
       " 76,\n",
       " 319,\n",
       " 570,\n",
       " 252,\n",
       " 583,\n",
       " 257,\n",
       " 500,\n",
       " 44,\n",
       " 518,\n",
       " 629,\n",
       " 431,\n",
       " 596,\n",
       " 424,\n",
       " 558,\n",
       " 279,\n",
       " 258,\n",
       " 555,\n",
       " 538,\n",
       " 468,\n",
       " 483,\n",
       " 22,\n",
       " 380,\n",
       " 249,\n",
       " 399,\n",
       " 273,\n",
       " 229,\n",
       " 425,\n",
       " 339,\n",
       " 523,\n",
       " 620,\n",
       " 246,\n",
       " 452,\n",
       " 393,\n",
       " 597,\n",
       " 256,\n",
       " 262,\n",
       " 239,\n",
       " 26,\n",
       " 274,\n",
       " 223,\n",
       " 608,\n",
       " 552,\n",
       " 53,\n",
       " 467,\n",
       " 557,\n",
       " 127,\n",
       " 521,\n",
       " 455,\n",
       " 585,\n",
       " 524,\n",
       " 453,\n",
       " 351,\n",
       " 619,\n",
       " 610,\n",
       " 38,\n",
       " 170,\n",
       " 412,\n",
       " 29,\n",
       " 259,\n",
       " 447,\n",
       " 51,\n",
       " 491,\n",
       " 442,\n",
       " 221,\n",
       " 232,\n",
       " 430,\n",
       " 71,\n",
       " 530,\n",
       " 16,\n",
       " 123,\n",
       " 209,\n",
       " 363,\n",
       " 165,\n",
       " 328,\n",
       " 389,\n",
       " 327,\n",
       " 510,\n",
       " 310,\n",
       " 488,\n",
       " 189,\n",
       " 400,\n",
       " 254,\n",
       " 7,\n",
       " 23,\n",
       " 472,\n",
       " 622,\n",
       " 563,\n",
       " 591,\n",
       " 413,\n",
       " 28,\n",
       " 386,\n",
       " 57,\n",
       " 334,\n",
       " 428,\n",
       " 427,\n",
       " 589,\n",
       " 480,\n",
       " 278,\n",
       " 417,\n",
       " 205,\n",
       " 335,\n",
       " 195,\n",
       " 281,\n",
       " 204,\n",
       " 547,\n",
       " 145,\n",
       " 227,\n",
       " 432,\n",
       " 12,\n",
       " 87,\n",
       " 437,\n",
       " 420,\n",
       " 494,\n",
       " 373,\n",
       " 266,\n",
       " 276,\n",
       " 248,\n",
       " 426,\n",
       " 245,\n",
       " 571,\n",
       " 600,\n",
       " 502,\n",
       " 621,\n",
       " 408,\n",
       " 575,\n",
       " 419,\n",
       " 250,\n",
       " 409,\n",
       " 526,\n",
       " 242,\n",
       " 296,\n",
       " 231,\n",
       " 211,\n",
       " 476,\n",
       " 576,\n",
       " 305,\n",
       " 586,\n",
       " 592,\n",
       " 604,\n",
       " 614,\n",
       " 508,\n",
       " 317,\n",
       " 415,\n",
       " 579,\n",
       " 542,\n",
       " 582,\n",
       " 194,\n",
       " 15,\n",
       " 492,\n",
       " 511,\n",
       " 398,\n",
       " 90,\n",
       " 578,\n",
       " 247,\n",
       " 93,\n",
       " 463,\n",
       " 191,\n",
       " 234,\n",
       " 226,\n",
       " 318,\n",
       " 101,\n",
       " 60,\n",
       " 384,\n",
       " 277,\n",
       " 240,\n",
       " 138,\n",
       " 556,\n",
       " 554,\n",
       " 67,\n",
       " 454,\n",
       " 5,\n",
       " 176,\n",
       " 243,\n",
       " 549,\n",
       " 517,\n",
       " 341,\n",
       " 82,\n",
       " 33,\n",
       " 200,\n",
       " 275,\n",
       " 65,\n",
       " 584,\n",
       " 550,\n",
       " 290,\n",
       " 397,\n",
       " 451,\n",
       " 270,\n",
       " 343,\n",
       " 435,\n",
       " 440,\n",
       " 79,\n",
       " 253,\n",
       " 627,\n",
       " 267,\n",
       " 230,\n",
       " 187,\n",
       " 244,\n",
       " 192,\n",
       " 607,\n",
       " 208,\n",
       " 193,\n",
       " 601,\n",
       " 199,\n",
       " 52,\n",
       " 396,\n",
       " 31,\n",
       " 618,\n",
       " 475,\n",
       " 331,\n",
       " 201,\n",
       " 414,\n",
       " 353,\n",
       " 345,\n",
       " 198,\n",
       " 561,\n",
       " 406,\n",
       " 92,\n",
       " 503,\n",
       " 99,\n",
       " 105,\n",
       " 212,\n",
       " 284,\n",
       " 299,\n",
       " 350,\n",
       " 385,\n",
       " 410,\n",
       " 519,\n",
       " 337,\n",
       " 83,\n",
       " 215,\n",
       " 162,\n",
       " 625,\n",
       " 177,\n",
       " 80,\n",
       " 77,\n",
       " 98,\n",
       " 354,\n",
       " 613,\n",
       " 438,\n",
       " 106,\n",
       " 527,\n",
       " 107,\n",
       " 507,\n",
       " 286,\n",
       " 19,\n",
       " 349,\n",
       " 96,\n",
       " 182,\n",
       " 178,\n",
       " 534,\n",
       " 559,\n",
       " 172,\n",
       " 292,\n",
       " 34,\n",
       " 206,\n",
       " 203,\n",
       " 214,\n",
       " 69,\n",
       " 304,\n",
       " 190,\n",
       " 141,\n",
       " 533,\n",
       " 185,\n",
       " 95,\n",
       " 220,\n",
       " 263,\n",
       " 332,\n",
       " 306,\n",
       " 94,\n",
       " 222,\n",
       " 347,\n",
       " 344,\n",
       " 283,\n",
       " 532,\n",
       " 474,\n",
       " 136,\n",
       " 175,\n",
       " 525,\n",
       " 529,\n",
       " 85,\n",
       " 599,\n",
       " 330,\n",
       " 86,\n",
       " 624,\n",
       " 298,\n",
       " 183,\n",
       " 179,\n",
       " 288,\n",
       " 219,\n",
       " 528,\n",
       " 84,\n",
       " 289,\n",
       " 236,\n",
       " 218,\n",
       " 301,\n",
       " 11,\n",
       " 9,\n",
       " 336,\n",
       " 436,\n",
       " 295,\n",
       " 537,\n",
       " 617,\n",
       " 235,\n",
       " 352,\n",
       " 104,\n",
       " 338,\n",
       " 531,\n",
       " 348,\n",
       " 207,\n",
       " 97,\n",
       " 174,\n",
       " 70,\n",
       " 280,\n",
       " 139,\n",
       " 606,\n",
       " 612,\n",
       " 131,\n",
       " 342,\n",
       " 572,\n",
       " 188,\n",
       " 217,\n",
       " 297,\n",
       " 89,\n",
       " 216,\n",
       " 202,\n",
       " 186,\n",
       " 108,\n",
       " 346,\n",
       " 333,\n",
       " 21,\n",
       " 110,\n",
       " 100,\n",
       " 287,\n",
       " 300,\n",
       " 293,\n",
       " 2,\n",
       " 137,\n",
       " 81,\n",
       " 294,\n",
       " 173,\n",
       " 6,\n",
       " 32,\n",
       " 285,\n",
       " 303,\n",
       " 0]"
      ]
     },
     "execution_count": 134,
     "metadata": {},
     "output_type": "execute_result"
    }
   ],
   "source": [
    "model = RandomForestRegressor(n_estimators=200, max_depth=50, max_features=round(len(poly_df.columns)/3), min_samples_split=2)\n",
    "model.fit(poly_df, y)\n",
    "top = [x[1] for x in sorted(zip(model.feature_importances_, poly_df.columns),reverse=True)]\n",
    "top"
   ]
  },
  {
   "cell_type": "code",
   "execution_count": 137,
   "metadata": {},
   "outputs": [
    {
     "name": "stdout",
     "output_type": "stream",
     "text": [
      "Top 146 features\n",
      "Top 148 features\n",
      "Top 150 features\n",
      "Top 152 features\n",
      "Top 154 features\n"
     ]
    }
   ],
   "source": [
    "cv_vals = list()\n",
    "for i in range(146,156,2):\n",
    "    rf = RandomForestRegressor(n_estimators=200, max_depth=50, max_features=round(i/3), min_samples_split=2)\n",
    "    rf.fit(poly_df[top[:i]], y)\n",
    "    cv_scores = cross_val_score(rf, poly_df[top[:i]], y, cv=5, scoring=\"r2\")\n",
    "    cv_vals.append(cv_scores.mean())\n",
    "    print(\"Top {} features\".format(i))"
   ]
  },
  {
   "cell_type": "code",
   "execution_count": 138,
   "metadata": {},
   "outputs": [
    {
     "data": {
      "text/plain": [
       "<matplotlib.axes._subplots.AxesSubplot at 0x2d27c7e8348>"
      ]
     },
     "execution_count": 138,
     "metadata": {},
     "output_type": "execute_result"
    },
    {
     "data": {
      "image/png": "[encoded data removed]",
      "text/plain": [
       "<Figure size 432x288 with 1 Axes>"
      ]
     },
     "metadata": {},
     "output_type": "display_data"
    }
   ],
   "source": [
    "pd.Series(cv_vals, index=[144+i*2 for i in range(1,len(cv_vals)+1)]).plot()"
   ]
  },
  {
   "cell_type": "code",
   "execution_count": 139,
   "metadata": {},
   "outputs": [
    {
     "name": "stdout",
     "output_type": "stream",
     "text": [
      "Training set score: 0.93787 \n",
      "Test-CV set score: 0.54655 \n"
     ]
    }
   ],
   "source": [
    "rf = RandomForestRegressor(n_estimators=200, max_depth=50, max_features=round(154/3), min_samples_split=2)\n",
    "rf.fit(poly_df[top[:154]], y)\n",
    "tr_score = rf.score(poly_df[top[:154]], y)\n",
    "cv_scores = cross_val_score(rf, poly_df[top[:154]], y, cv=5, scoring=\"r2\")\n",
    "print(\"Training set score: {:0.5f} \".format(tr_score))\n",
    "print(\"Test-CV set score: {:0.5f} \".format(cv_scores.mean()))"
   ]
  },
  {
   "cell_type": "code",
   "execution_count": 101,
   "metadata": {},
   "outputs": [
    {
     "data": {
      "text/plain": [
       "GridSearchCV(cv=5, error_score='raise-deprecating',\n",
       "             estimator=RandomForestRegressor(bootstrap=True, criterion='mse',\n",
       "                                             max_depth=None,\n",
       "                                             max_features='auto',\n",
       "                                             max_leaf_nodes=None,\n",
       "                                             min_impurity_decrease=0.0,\n",
       "                                             min_impurity_split=None,\n",
       "                                             min_samples_leaf=1,\n",
       "                                             min_samples_split=2,\n",
       "                                             min_weight_fraction_leaf=0.0,\n",
       "                                             n_estimators='warn', n_jobs=None,\n",
       "                                             oob_score=False, random_state=None,\n",
       "                                             verbose=0, warm_start=False),\n",
       "             iid='warn', n_jobs=None,\n",
       "             param_grid={'max_depth': [40, 50, 60], 'max_features': [49],\n",
       "                         'min_samples_leaf': [1, 2],\n",
       "                         'min_samples_split': [2, 5],\n",
       "                         'n_estimators': [200, 300]},\n",
       "             pre_dispatch='2*n_jobs', refit=True, return_train_score=False,\n",
       "             scoring='r2', verbose=0)"
      ]
     },
     "execution_count": 101,
     "metadata": {},
     "output_type": "execute_result"
    }
   ],
   "source": [
    "parameters = {  'max_depth': [40, 50, 60],\n",
    "                'max_features': [round(146/3)],\n",
    "                'min_samples_leaf': [1, 2],\n",
    "                'min_samples_split': [2, 5],\n",
    "                'n_estimators': [200, 300]\n",
    "            }\n",
    "grid = GridSearchCV(RandomForestRegressor(), parameters, cv=5, scoring='r2')\n",
    "grid.fit(poly_df[top[:146]], y)"
   ]
  },
  {
   "cell_type": "code",
   "execution_count": 102,
   "metadata": {},
   "outputs": [
    {
     "data": {
      "text/plain": [
       "{'max_depth': 50,\n",
       " 'max_features': 49,\n",
       " 'min_samples_leaf': 2,\n",
       " 'min_samples_split': 5,\n",
       " 'n_estimators': 200}"
      ]
     },
     "execution_count": 102,
     "metadata": {},
     "output_type": "execute_result"
    }
   ],
   "source": [
    "grid.best_params_"
   ]
  },
  {
   "cell_type": "code",
   "execution_count": 104,
   "metadata": {},
   "outputs": [
    {
     "data": {
      "text/plain": [
       "0.5567570191014624"
      ]
     },
     "execution_count": 104,
     "metadata": {},
     "output_type": "execute_result"
    }
   ],
   "source": [
    "grid.best_score_ "
   ]
  },
  {
   "cell_type": "code",
   "execution_count": 150,
   "metadata": {},
   "outputs": [
    {
     "data": {
      "text/plain": [
       "RandomForestRegressor(bootstrap=True, criterion='mse', max_depth=50,\n",
       "                      max_features=51, max_leaf_nodes=None,\n",
       "                      min_impurity_decrease=0.0, min_impurity_split=None,\n",
       "                      min_samples_leaf=2, min_samples_split=5,\n",
       "                      min_weight_fraction_leaf=0.0, n_estimators=200,\n",
       "                      n_jobs=None, oob_score=False, random_state=None,\n",
       "                      verbose=0, warm_start=False)"
      ]
     },
     "execution_count": 150,
     "metadata": {},
     "output_type": "execute_result"
    }
   ],
   "source": [
    "rf = RandomForestRegressor(max_depth= 50, n_estimators=200, max_features=round(154/3), min_samples_split=5, min_samples_leaf = 2)\n",
    "rf.fit(poly_df[top[:154]], y)"
   ]
  },
  {
   "cell_type": "code",
   "execution_count": 151,
   "metadata": {},
   "outputs": [
    {
     "name": "stdout",
     "output_type": "stream",
     "text": [
      "Training set score: 0.91631 \n",
      "Test-CV set score: 0.54355 \n"
     ]
    }
   ],
   "source": [
    "tr_score = rf.score(poly_df[top[:154]], y)\n",
    "cv_scores = cross_val_score(rf, poly_df[top[:154]], y, cv=5, scoring=\"r2\")\n",
    "print(\"Training set score: {:0.5f} \".format(tr_score))\n",
    "print(\"Test-CV set score: {:0.5f} \".format(cv_scores.mean()))"
   ]
  },
  {
   "cell_type": "code",
   "execution_count": 153,
   "metadata": {},
   "outputs": [
    {
     "name": "stdout",
     "output_type": "stream",
     "text": [
      "Training set score: 0.92054 \n",
      "Test-CV set score: 0.53829 \n"
     ]
    }
   ],
   "source": [
    "rf = RandomForestRegressor(max_depth= 50, n_estimators=200, max_features=round(len(poly_df.columns)/3), min_samples_split=5, min_samples_leaf = 2)\n",
    "rf.fit(poly_df, y)\n",
    "tr_score = rf.score(poly_df, y)\n",
    "cv_scores = cross_val_score(rf, poly_df, y, cv=5, scoring=\"r2\")\n",
    "print(\"Training set score: {:0.5f} \".format(tr_score))\n",
    "print(\"Test-CV set score: {:0.5f} \".format(cv_scores.mean()))"
   ]
  },
  {
   "cell_type": "code",
   "execution_count": 140,
   "metadata": {},
   "outputs": [
    {
     "data": {
      "text/plain": [
       "RandomForestRegressor(bootstrap=True, criterion='mse', max_depth=50,\n",
       "                      max_features=51, max_leaf_nodes=None,\n",
       "                      min_impurity_decrease=0.0, min_impurity_split=None,\n",
       "                      min_samples_leaf=1, min_samples_split=2,\n",
       "                      min_weight_fraction_leaf=0.0, n_estimators=200,\n",
       "                      n_jobs=None, oob_score=False, random_state=None,\n",
       "                      verbose=0, warm_start=False)"
      ]
     },
     "execution_count": 140,
     "metadata": {},
     "output_type": "execute_result"
    }
   ],
   "source": [
    "rf = RandomForestRegressor(n_estimators=200, max_depth=50, max_features=round(154/3), min_samples_split=2)\n",
    "rf.fit(poly_df[top[:154]], y)"
   ]
  },
  {
   "cell_type": "markdown",
   "metadata": {},
   "source": [
    "### Random Forest with Lasso coefs"
   ]
  },
  {
   "cell_type": "code",
   "execution_count": 79,
   "metadata": {},
   "outputs": [
    {
     "data": {
      "text/plain": [
       "RandomForestRegressor(bootstrap=True, criterion='mse', max_depth=50,\n",
       "                      max_features=26, max_leaf_nodes=None,\n",
       "                      min_impurity_decrease=0.0, min_impurity_split=None,\n",
       "                      min_samples_leaf=1, min_samples_split=2,\n",
       "                      min_weight_fraction_leaf=0.0, n_estimators=200,\n",
       "                      n_jobs=None, oob_score=False, random_state=None,\n",
       "                      verbose=0, warm_start=False)"
      ]
     },
     "execution_count": 79,
     "metadata": {},
     "output_type": "execute_result"
    }
   ],
   "source": [
    "rf = RandomForestRegressor(n_estimators=200, max_depth=50, max_features=round(len((tr.iloc[:,coefs]).columns)/3), min_samples_split=2)\n",
    "rf.fit(tr.iloc[:,coefs], y)"
   ]
  },
  {
   "cell_type": "code",
   "execution_count": 81,
   "metadata": {},
   "outputs": [
    {
     "name": "stdout",
     "output_type": "stream",
     "text": [
      "Training set score: 0.93647 \n",
      "Test-CV set score: 0.51338 \n"
     ]
    }
   ],
   "source": [
    "tr_score = rf.score(tr.iloc[:,coefs], y)\n",
    "cv_scores = cross_val_score(rf, tr.iloc[:,coefs], y, cv=5, scoring=\"r2\")\n",
    "print(\"Training set score: {:0.5f} \".format(tr_score))\n",
    "print(\"Test-CV set score: {:0.5f} \".format(cv_scores.mean()))"
   ]
  },
  {
   "cell_type": "markdown",
   "metadata": {},
   "source": [
    "### XGBoost"
   ]
  },
  {
   "cell_type": "code",
   "execution_count": 13,
   "metadata": {},
   "outputs": [
    {
     "name": "stderr",
     "output_type": "stream",
     "text": [
      "c:\\users\\razerjon24\\appdata\\local\\programs\\python\\python37\\lib\\site-packages\\xgboost\\core.py:587: FutureWarning: Series.base is deprecated and will be removed in a future version\n",
      "  if getattr(data, 'base', None) is not None and \\\n",
      "c:\\users\\razerjon24\\appdata\\local\\programs\\python\\python37\\lib\\site-packages\\xgboost\\core.py:588: FutureWarning: Series.base is deprecated and will be removed in a future version\n",
      "  data.base is not None and isinstance(data, np.ndarray) \\\n"
     ]
    },
    {
     "name": "stdout",
     "output_type": "stream",
     "text": [
      "[23:05:25] WARNING: C:/Jenkins/workspace/xgboost-win64_release_0.90/src/objective/regression_obj.cu:152: reg:linear is now deprecated in favor of reg:squarederror.\n"
     ]
    },
    {
     "data": {
      "text/plain": [
       "XGBRegressor(base_score=0.5, booster='gbtree', colsample_bylevel=1,\n",
       "             colsample_bynode=1, colsample_bytree=1, gamma=0,\n",
       "             importance_type='gain', learning_rate=0.1, max_delta_step=0,\n",
       "             max_depth=3, min_child_weight=1, missing=None, n_estimators=100,\n",
       "             n_jobs=1, nthread=None, objective='reg:linear', random_state=0,\n",
       "             reg_alpha=0, reg_lambda=1, scale_pos_weight=1, seed=None,\n",
       "             silent=None, subsample=1, verbosity=1)"
      ]
     },
     "execution_count": 13,
     "metadata": {},
     "output_type": "execute_result"
    }
   ],
   "source": [
    "xgb = XGBRegressor(objective ='reg:squarederror', learning_rate = 0.1, max_depth = 3)\n",
    "xgb.fit(tr, y)"
   ]
  },
  {
   "cell_type": "code",
   "execution_count": 14,
   "metadata": {
    "scrolled": true
   },
   "outputs": [
    {
     "name": "stderr",
     "output_type": "stream",
     "text": [
      "c:\\users\\razerjon24\\appdata\\local\\programs\\python\\python37\\lib\\site-packages\\xgboost\\core.py:587: FutureWarning: Series.base is deprecated and will be removed in a future version\n",
      "  if getattr(data, 'base', None) is not None and \\\n"
     ]
    },
    {
     "name": "stdout",
     "output_type": "stream",
     "text": [
      "[23:06:02] WARNING: C:/Jenkins/workspace/xgboost-win64_release_0.90/src/objective/regression_obj.cu:152: reg:linear is now deprecated in favor of reg:squarederror.\n"
     ]
    },
    {
     "name": "stderr",
     "output_type": "stream",
     "text": [
      "c:\\users\\razerjon24\\appdata\\local\\programs\\python\\python37\\lib\\site-packages\\xgboost\\core.py:587: FutureWarning: Series.base is deprecated and will be removed in a future version\n",
      "  if getattr(data, 'base', None) is not None and \\\n"
     ]
    },
    {
     "name": "stdout",
     "output_type": "stream",
     "text": [
      "[23:06:09] WARNING: C:/Jenkins/workspace/xgboost-win64_release_0.90/src/objective/regression_obj.cu:152: reg:linear is now deprecated in favor of reg:squarederror.\n"
     ]
    },
    {
     "name": "stderr",
     "output_type": "stream",
     "text": [
      "c:\\users\\razerjon24\\appdata\\local\\programs\\python\\python37\\lib\\site-packages\\xgboost\\core.py:587: FutureWarning: Series.base is deprecated and will be removed in a future version\n",
      "  if getattr(data, 'base', None) is not None and \\\n"
     ]
    },
    {
     "name": "stdout",
     "output_type": "stream",
     "text": [
      "[23:06:15] WARNING: C:/Jenkins/workspace/xgboost-win64_release_0.90/src/objective/regression_obj.cu:152: reg:linear is now deprecated in favor of reg:squarederror.\n"
     ]
    },
    {
     "name": "stderr",
     "output_type": "stream",
     "text": [
      "c:\\users\\razerjon24\\appdata\\local\\programs\\python\\python37\\lib\\site-packages\\xgboost\\core.py:587: FutureWarning: Series.base is deprecated and will be removed in a future version\n",
      "  if getattr(data, 'base', None) is not None and \\\n"
     ]
    },
    {
     "name": "stdout",
     "output_type": "stream",
     "text": [
      "[23:06:21] WARNING: C:/Jenkins/workspace/xgboost-win64_release_0.90/src/objective/regression_obj.cu:152: reg:linear is now deprecated in favor of reg:squarederror.\n"
     ]
    },
    {
     "name": "stderr",
     "output_type": "stream",
     "text": [
      "c:\\users\\razerjon24\\appdata\\local\\programs\\python\\python37\\lib\\site-packages\\xgboost\\core.py:587: FutureWarning: Series.base is deprecated and will be removed in a future version\n",
      "  if getattr(data, 'base', None) is not None and \\\n"
     ]
    },
    {
     "name": "stdout",
     "output_type": "stream",
     "text": [
      "[23:06:27] WARNING: C:/Jenkins/workspace/xgboost-win64_release_0.90/src/objective/regression_obj.cu:152: reg:linear is now deprecated in favor of reg:squarederror.\n",
      "Training set score: 0.87779 \n",
      "Test-CV set score: 0.49028 \n"
     ]
    }
   ],
   "source": [
    "tr_score = xgb.score(tr, y)\n",
    "cv_scores = cross_val_score(xgb, tr, y, cv=5, scoring=\"r2\")\n",
    "print(\"Training set score: {:0.5f} \".format(tr_score))\n",
    "print(\"Test-CV set score: {:0.5f} \".format(cv_scores.mean()))"
   ]
  },
  {
   "cell_type": "markdown",
   "metadata": {},
   "source": [
    "### XGBoost with interactions"
   ]
  },
  {
   "cell_type": "code",
   "execution_count": 161,
   "metadata": {},
   "outputs": [
    {
     "name": "stderr",
     "output_type": "stream",
     "text": [
      "c:\\users\\razerjon24\\appdata\\local\\programs\\python\\python37\\lib\\site-packages\\xgboost\\core.py:587: FutureWarning: Series.base is deprecated and will be removed in a future version\n",
      "  if getattr(data, 'base', None) is not None and \\\n",
      "c:\\users\\razerjon24\\appdata\\local\\programs\\python\\python37\\lib\\site-packages\\xgboost\\core.py:588: FutureWarning: Series.base is deprecated and will be removed in a future version\n",
      "  data.base is not None and isinstance(data, np.ndarray) \\\n"
     ]
    },
    {
     "data": {
      "text/plain": [
       "XGBRegressor(base_score=0.5, booster='gbtree', colsample_bylevel=1,\n",
       "             colsample_bynode=1, colsample_bytree=1, gamma=0,\n",
       "             importance_type='gain', learning_rate=0.1, max_delta_step=0,\n",
       "             max_depth=3, min_child_weight=1, missing=None, n_estimators=100,\n",
       "             n_jobs=1, nthread=None, objective='reg:squarederror',\n",
       "             random_state=0, reg_alpha=0, reg_lambda=1, scale_pos_weight=1,\n",
       "             seed=None, silent=None, subsample=1, verbosity=1)"
      ]
     },
     "execution_count": 161,
     "metadata": {},
     "output_type": "execute_result"
    }
   ],
   "source": [
    "xgb = XGBRegressor(objective ='reg:squarederror', learning_rate = 0.1, max_depth = 3)\n",
    "xgb.fit(poly_df, y)"
   ]
  },
  {
   "cell_type": "code",
   "execution_count": 160,
   "metadata": {},
   "outputs": [
    {
     "name": "stderr",
     "output_type": "stream",
     "text": [
      "c:\\users\\razerjon24\\appdata\\local\\programs\\python\\python37\\lib\\site-packages\\xgboost\\core.py:587: FutureWarning: Series.base is deprecated and will be removed in a future version\n",
      "  if getattr(data, 'base', None) is not None and \\\n",
      "c:\\users\\razerjon24\\appdata\\local\\programs\\python\\python37\\lib\\site-packages\\xgboost\\core.py:587: FutureWarning: Series.base is deprecated and will be removed in a future version\n",
      "  if getattr(data, 'base', None) is not None and \\\n",
      "c:\\users\\razerjon24\\appdata\\local\\programs\\python\\python37\\lib\\site-packages\\xgboost\\core.py:587: FutureWarning: Series.base is deprecated and will be removed in a future version\n",
      "  if getattr(data, 'base', None) is not None and \\\n",
      "c:\\users\\razerjon24\\appdata\\local\\programs\\python\\python37\\lib\\site-packages\\xgboost\\core.py:587: FutureWarning: Series.base is deprecated and will be removed in a future version\n",
      "  if getattr(data, 'base', None) is not None and \\\n",
      "c:\\users\\razerjon24\\appdata\\local\\programs\\python\\python37\\lib\\site-packages\\xgboost\\core.py:587: FutureWarning: Series.base is deprecated and will be removed in a future version\n",
      "  if getattr(data, 'base', None) is not None and \\\n"
     ]
    },
    {
     "name": "stdout",
     "output_type": "stream",
     "text": [
      "Training set score: 0.87274 \n",
      "Test-CV set score: 0.55007 \n"
     ]
    }
   ],
   "source": [
    "tr_score = xgb.score(poly_df, y)\n",
    "cv_scores = cross_val_score(xgb, poly_df, y, cv=5, scoring=\"r2\")\n",
    "print(\"Training set score: {:0.5f} \".format(tr_score))\n",
    "print(\"Test-CV set score: {:0.5f} \".format(cv_scores.mean()))"
   ]
  },
  {
   "cell_type": "code",
   "execution_count": 175,
   "metadata": {},
   "outputs": [],
   "source": [
    "parameters = {  'learning_rate': [0.1,0.15], \n",
    "              'max_depth': [6]\n",
    "            }"
   ]
  },
  {
   "cell_type": "code",
   "execution_count": 176,
   "metadata": {
    "scrolled": true
   },
   "outputs": [
    {
     "name": "stdout",
     "output_type": "stream",
     "text": [
      "[04:10:04] WARNING: C:/Jenkins/workspace/xgboost-win64_release_0.90/src/objective/regression_obj.cu:152: reg:linear is now deprecated in favor of reg:squarederror.\n"
     ]
    },
    {
     "name": "stderr",
     "output_type": "stream",
     "text": [
      "c:\\users\\razerjon24\\appdata\\local\\programs\\python\\python37\\lib\\site-packages\\xgboost\\core.py:587: FutureWarning: Series.base is deprecated and will be removed in a future version\n",
      "  if getattr(data, 'base', None) is not None and \\\n"
     ]
    },
    {
     "name": "stdout",
     "output_type": "stream",
     "text": [
      "[04:10:23] WARNING: C:/Jenkins/workspace/xgboost-win64_release_0.90/src/objective/regression_obj.cu:152: reg:linear is now deprecated in favor of reg:squarederror.\n"
     ]
    },
    {
     "name": "stderr",
     "output_type": "stream",
     "text": [
      "c:\\users\\razerjon24\\appdata\\local\\programs\\python\\python37\\lib\\site-packages\\xgboost\\core.py:587: FutureWarning: Series.base is deprecated and will be removed in a future version\n",
      "  if getattr(data, 'base', None) is not None and \\\n"
     ]
    },
    {
     "name": "stdout",
     "output_type": "stream",
     "text": [
      "[04:10:42] WARNING: C:/Jenkins/workspace/xgboost-win64_release_0.90/src/objective/regression_obj.cu:152: reg:linear is now deprecated in favor of reg:squarederror.\n"
     ]
    },
    {
     "name": "stderr",
     "output_type": "stream",
     "text": [
      "c:\\users\\razerjon24\\appdata\\local\\programs\\python\\python37\\lib\\site-packages\\xgboost\\core.py:587: FutureWarning: Series.base is deprecated and will be removed in a future version\n",
      "  if getattr(data, 'base', None) is not None and \\\n"
     ]
    },
    {
     "name": "stdout",
     "output_type": "stream",
     "text": [
      "[04:11:02] WARNING: C:/Jenkins/workspace/xgboost-win64_release_0.90/src/objective/regression_obj.cu:152: reg:linear is now deprecated in favor of reg:squarederror.\n"
     ]
    },
    {
     "name": "stderr",
     "output_type": "stream",
     "text": [
      "c:\\users\\razerjon24\\appdata\\local\\programs\\python\\python37\\lib\\site-packages\\xgboost\\core.py:587: FutureWarning: Series.base is deprecated and will be removed in a future version\n",
      "  if getattr(data, 'base', None) is not None and \\\n"
     ]
    },
    {
     "name": "stdout",
     "output_type": "stream",
     "text": [
      "[04:11:21] WARNING: C:/Jenkins/workspace/xgboost-win64_release_0.90/src/objective/regression_obj.cu:152: reg:linear is now deprecated in favor of reg:squarederror.\n"
     ]
    },
    {
     "name": "stderr",
     "output_type": "stream",
     "text": [
      "c:\\users\\razerjon24\\appdata\\local\\programs\\python\\python37\\lib\\site-packages\\xgboost\\core.py:587: FutureWarning: Series.base is deprecated and will be removed in a future version\n",
      "  if getattr(data, 'base', None) is not None and \\\n"
     ]
    },
    {
     "name": "stdout",
     "output_type": "stream",
     "text": [
      "[04:11:42] WARNING: C:/Jenkins/workspace/xgboost-win64_release_0.90/src/objective/regression_obj.cu:152: reg:linear is now deprecated in favor of reg:squarederror.\n"
     ]
    },
    {
     "name": "stderr",
     "output_type": "stream",
     "text": [
      "c:\\users\\razerjon24\\appdata\\local\\programs\\python\\python37\\lib\\site-packages\\xgboost\\core.py:587: FutureWarning: Series.base is deprecated and will be removed in a future version\n",
      "  if getattr(data, 'base', None) is not None and \\\n"
     ]
    },
    {
     "name": "stdout",
     "output_type": "stream",
     "text": [
      "[04:12:04] WARNING: C:/Jenkins/workspace/xgboost-win64_release_0.90/src/objective/regression_obj.cu:152: reg:linear is now deprecated in favor of reg:squarederror.\n"
     ]
    },
    {
     "name": "stderr",
     "output_type": "stream",
     "text": [
      "c:\\users\\razerjon24\\appdata\\local\\programs\\python\\python37\\lib\\site-packages\\xgboost\\core.py:587: FutureWarning: Series.base is deprecated and will be removed in a future version\n",
      "  if getattr(data, 'base', None) is not None and \\\n"
     ]
    },
    {
     "name": "stdout",
     "output_type": "stream",
     "text": [
      "[04:12:24] WARNING: C:/Jenkins/workspace/xgboost-win64_release_0.90/src/objective/regression_obj.cu:152: reg:linear is now deprecated in favor of reg:squarederror.\n"
     ]
    },
    {
     "name": "stderr",
     "output_type": "stream",
     "text": [
      "c:\\users\\razerjon24\\appdata\\local\\programs\\python\\python37\\lib\\site-packages\\xgboost\\core.py:587: FutureWarning: Series.base is deprecated and will be removed in a future version\n",
      "  if getattr(data, 'base', None) is not None and \\\n"
     ]
    },
    {
     "name": "stdout",
     "output_type": "stream",
     "text": [
      "[04:12:44] WARNING: C:/Jenkins/workspace/xgboost-win64_release_0.90/src/objective/regression_obj.cu:152: reg:linear is now deprecated in favor of reg:squarederror.\n"
     ]
    },
    {
     "name": "stderr",
     "output_type": "stream",
     "text": [
      "c:\\users\\razerjon24\\appdata\\local\\programs\\python\\python37\\lib\\site-packages\\xgboost\\core.py:587: FutureWarning: Series.base is deprecated and will be removed in a future version\n",
      "  if getattr(data, 'base', None) is not None and \\\n"
     ]
    },
    {
     "name": "stdout",
     "output_type": "stream",
     "text": [
      "[04:13:04] WARNING: C:/Jenkins/workspace/xgboost-win64_release_0.90/src/objective/regression_obj.cu:152: reg:linear is now deprecated in favor of reg:squarederror.\n"
     ]
    },
    {
     "name": "stderr",
     "output_type": "stream",
     "text": [
      "c:\\users\\razerjon24\\appdata\\local\\programs\\python\\python37\\lib\\site-packages\\xgboost\\core.py:587: FutureWarning: Series.base is deprecated and will be removed in a future version\n",
      "  if getattr(data, 'base', None) is not None and \\\n",
      "c:\\users\\razerjon24\\appdata\\local\\programs\\python\\python37\\lib\\site-packages\\xgboost\\core.py:588: FutureWarning: Series.base is deprecated and will be removed in a future version\n",
      "  data.base is not None and isinstance(data, np.ndarray) \\\n"
     ]
    },
    {
     "name": "stdout",
     "output_type": "stream",
     "text": [
      "[04:13:23] WARNING: C:/Jenkins/workspace/xgboost-win64_release_0.90/src/objective/regression_obj.cu:152: reg:linear is now deprecated in favor of reg:squarederror.\n"
     ]
    },
    {
     "data": {
      "text/plain": [
       "GridSearchCV(cv=5, error_score='raise-deprecating',\n",
       "             estimator=XGBRegressor(base_score=0.5, booster='gbtree',\n",
       "                                    colsample_bylevel=1, colsample_bynode=1,\n",
       "                                    colsample_bytree=1, gamma=0,\n",
       "                                    importance_type='gain', learning_rate=0.1,\n",
       "                                    max_delta_step=0, max_depth=3,\n",
       "                                    min_child_weight=1, missing=None,\n",
       "                                    n_estimators=100, n_jobs=1, nthread=None,\n",
       "                                    objective='reg:linear', random_state=0,\n",
       "                                    reg_alpha=0, reg_lambda=1,\n",
       "                                    scale_pos_weight=1, seed=None, silent=None,\n",
       "                                    subsample=1, verbosity=1),\n",
       "             iid='warn', n_jobs=None,\n",
       "             param_grid={'learning_rate': [0.1, 0.15], 'max_depth': [6]},\n",
       "             pre_dispatch='2*n_jobs', refit=True, return_train_score=False,\n",
       "             scoring='r2', verbose=0)"
      ]
     },
     "execution_count": 176,
     "metadata": {},
     "output_type": "execute_result"
    }
   ],
   "source": [
    "grid = GridSearchCV(XGBRegressor(), parameters, cv=5, scoring='r2')\n",
    "grid.fit(poly_df, y)"
   ]
  },
  {
   "cell_type": "code",
   "execution_count": 177,
   "metadata": {},
   "outputs": [
    {
     "data": {
      "text/plain": [
       "{'learning_rate': 0.1, 'max_depth': 6}"
      ]
     },
     "execution_count": 177,
     "metadata": {},
     "output_type": "execute_result"
    }
   ],
   "source": [
    "grid.best_params_"
   ]
  },
  {
   "cell_type": "code",
   "execution_count": 178,
   "metadata": {},
   "outputs": [
    {
     "data": {
      "text/plain": [
       "0.550922107875314"
      ]
     },
     "execution_count": 178,
     "metadata": {},
     "output_type": "execute_result"
    }
   ],
   "source": [
    "grid.best_score_"
   ]
  },
  {
   "cell_type": "code",
   "execution_count": 179,
   "metadata": {
    "scrolled": true
   },
   "outputs": [
    {
     "name": "stdout",
     "output_type": "stream",
     "text": [
      "[04:14:02] WARNING: C:/Jenkins/workspace/xgboost-win64_release_0.90/src/objective/regression_obj.cu:152: reg:linear is now deprecated in favor of reg:squarederror.\n"
     ]
    },
    {
     "data": {
      "text/plain": [
       "XGBRegressor(base_score=0.5, booster='gbtree', colsample_bylevel=1,\n",
       "             colsample_bynode=1, colsample_bytree=1, gamma=0,\n",
       "             importance_type='gain', learning_rate=0.1, max_delta_step=0,\n",
       "             max_depth=6, min_child_weight=1, missing=None, n_estimators=100,\n",
       "             n_jobs=1, nthread=None, objective='reg:linear', random_state=0,\n",
       "             reg_alpha=0, reg_lambda=1, scale_pos_weight=1, seed=None,\n",
       "             silent=None, subsample=1, verbosity=1)"
      ]
     },
     "execution_count": 179,
     "metadata": {},
     "output_type": "execute_result"
    }
   ],
   "source": [
    "xgb = XGBRegressor(learning_rate= 0.1, max_depth= 6)\n",
    "xgb.fit(poly_df, y)"
   ]
  },
  {
   "cell_type": "markdown",
   "metadata": {},
   "source": [
    "### XGBoost with Lasso coefs"
   ]
  },
  {
   "cell_type": "code",
   "execution_count": 15,
   "metadata": {},
   "outputs": [
    {
     "name": "stderr",
     "output_type": "stream",
     "text": [
      "c:\\users\\razerjon24\\appdata\\local\\programs\\python\\python37\\lib\\site-packages\\xgboost\\core.py:587: FutureWarning: Series.base is deprecated and will be removed in a future version\n",
      "  if getattr(data, 'base', None) is not None and \\\n",
      "c:\\users\\razerjon24\\appdata\\local\\programs\\python\\python37\\lib\\site-packages\\xgboost\\core.py:588: FutureWarning: Series.base is deprecated and will be removed in a future version\n",
      "  data.base is not None and isinstance(data, np.ndarray) \\\n"
     ]
    },
    {
     "name": "stdout",
     "output_type": "stream",
     "text": [
      "[23:07:46] WARNING: C:/Jenkins/workspace/xgboost-win64_release_0.90/src/objective/regression_obj.cu:152: reg:linear is now deprecated in favor of reg:squarederror.\n"
     ]
    },
    {
     "data": {
      "text/plain": [
       "XGBRegressor(base_score=0.5, booster='gbtree', colsample_bylevel=1,\n",
       "             colsample_bynode=1, colsample_bytree=1, gamma=0,\n",
       "             importance_type='gain', learning_rate=0.1, max_delta_step=0,\n",
       "             max_depth=3, min_child_weight=1, missing=None, n_estimators=100,\n",
       "             n_jobs=1, nthread=None, objective='reg:linear', random_state=0,\n",
       "             reg_alpha=0, reg_lambda=1, scale_pos_weight=1, seed=None,\n",
       "             silent=None, subsample=1, verbosity=1)"
      ]
     },
     "execution_count": 15,
     "metadata": {},
     "output_type": "execute_result"
    }
   ],
   "source": [
    "xgb.fit(tr.iloc[:,coefs], y)"
   ]
  },
  {
   "cell_type": "code",
   "execution_count": 16,
   "metadata": {
    "scrolled": true
   },
   "outputs": [
    {
     "name": "stderr",
     "output_type": "stream",
     "text": [
      "c:\\users\\razerjon24\\appdata\\local\\programs\\python\\python37\\lib\\site-packages\\xgboost\\core.py:587: FutureWarning: Series.base is deprecated and will be removed in a future version\n",
      "  if getattr(data, 'base', None) is not None and \\\n"
     ]
    },
    {
     "name": "stdout",
     "output_type": "stream",
     "text": [
      "[23:08:10] WARNING: C:/Jenkins/workspace/xgboost-win64_release_0.90/src/objective/regression_obj.cu:152: reg:linear is now deprecated in favor of reg:squarederror.\n"
     ]
    },
    {
     "name": "stderr",
     "output_type": "stream",
     "text": [
      "c:\\users\\razerjon24\\appdata\\local\\programs\\python\\python37\\lib\\site-packages\\xgboost\\core.py:587: FutureWarning: Series.base is deprecated and will be removed in a future version\n",
      "  if getattr(data, 'base', None) is not None and \\\n"
     ]
    },
    {
     "name": "stdout",
     "output_type": "stream",
     "text": [
      "[23:08:10] WARNING: C:/Jenkins/workspace/xgboost-win64_release_0.90/src/objective/regression_obj.cu:152: reg:linear is now deprecated in favor of reg:squarederror.\n"
     ]
    },
    {
     "name": "stderr",
     "output_type": "stream",
     "text": [
      "c:\\users\\razerjon24\\appdata\\local\\programs\\python\\python37\\lib\\site-packages\\xgboost\\core.py:587: FutureWarning: Series.base is deprecated and will be removed in a future version\n",
      "  if getattr(data, 'base', None) is not None and \\\n"
     ]
    },
    {
     "name": "stdout",
     "output_type": "stream",
     "text": [
      "[23:08:11] WARNING: C:/Jenkins/workspace/xgboost-win64_release_0.90/src/objective/regression_obj.cu:152: reg:linear is now deprecated in favor of reg:squarederror.\n"
     ]
    },
    {
     "name": "stderr",
     "output_type": "stream",
     "text": [
      "c:\\users\\razerjon24\\appdata\\local\\programs\\python\\python37\\lib\\site-packages\\xgboost\\core.py:587: FutureWarning: Series.base is deprecated and will be removed in a future version\n",
      "  if getattr(data, 'base', None) is not None and \\\n"
     ]
    },
    {
     "name": "stdout",
     "output_type": "stream",
     "text": [
      "[23:08:12] WARNING: C:/Jenkins/workspace/xgboost-win64_release_0.90/src/objective/regression_obj.cu:152: reg:linear is now deprecated in favor of reg:squarederror.\n"
     ]
    },
    {
     "name": "stderr",
     "output_type": "stream",
     "text": [
      "c:\\users\\razerjon24\\appdata\\local\\programs\\python\\python37\\lib\\site-packages\\xgboost\\core.py:587: FutureWarning: Series.base is deprecated and will be removed in a future version\n",
      "  if getattr(data, 'base', None) is not None and \\\n"
     ]
    },
    {
     "name": "stdout",
     "output_type": "stream",
     "text": [
      "[23:08:12] WARNING: C:/Jenkins/workspace/xgboost-win64_release_0.90/src/objective/regression_obj.cu:152: reg:linear is now deprecated in favor of reg:squarederror.\n",
      "Training set score: 0.85435 \n",
      "Test-CV set score: 0.52265 \n"
     ]
    }
   ],
   "source": [
    "tr_score = xgb.score(tr.iloc[:,coefs], y)\n",
    "cv_scores = cross_val_score(xgb,tr.iloc[:,coefs], y, cv=5, scoring=\"r2\")\n",
    "print(\"Training set score: {:0.5f} \".format(tr_score))\n",
    "print(\"Test-CV set score: {:0.5f} \".format(cv_scores.mean()))"
   ]
  },
  {
   "cell_type": "code",
   "execution_count": 34,
   "metadata": {
    "scrolled": true
   },
   "outputs": [
    {
     "name": "stderr",
     "output_type": "stream",
     "text": [
      "c:\\users\\razerjon24\\appdata\\local\\programs\\python\\python37\\lib\\site-packages\\xgboost\\core.py:587: FutureWarning: Series.base is deprecated and will be removed in a future version\n",
      "  if getattr(data, 'base', None) is not None and \\\n"
     ]
    },
    {
     "name": "stdout",
     "output_type": "stream",
     "text": [
      "[23:33:35] WARNING: C:/Jenkins/workspace/xgboost-win64_release_0.90/src/objective/regression_obj.cu:152: reg:linear is now deprecated in favor of reg:squarederror.\n"
     ]
    },
    {
     "name": "stderr",
     "output_type": "stream",
     "text": [
      "c:\\users\\razerjon24\\appdata\\local\\programs\\python\\python37\\lib\\site-packages\\xgboost\\core.py:587: FutureWarning: Series.base is deprecated and will be removed in a future version\n",
      "  if getattr(data, 'base', None) is not None and \\\n"
     ]
    },
    {
     "name": "stdout",
     "output_type": "stream",
     "text": [
      "[23:33:35] WARNING: C:/Jenkins/workspace/xgboost-win64_release_0.90/src/objective/regression_obj.cu:152: reg:linear is now deprecated in favor of reg:squarederror.\n"
     ]
    },
    {
     "name": "stderr",
     "output_type": "stream",
     "text": [
      "c:\\users\\razerjon24\\appdata\\local\\programs\\python\\python37\\lib\\site-packages\\xgboost\\core.py:587: FutureWarning: Series.base is deprecated and will be removed in a future version\n",
      "  if getattr(data, 'base', None) is not None and \\\n"
     ]
    },
    {
     "name": "stdout",
     "output_type": "stream",
     "text": [
      "[23:33:36] WARNING: C:/Jenkins/workspace/xgboost-win64_release_0.90/src/objective/regression_obj.cu:152: reg:linear is now deprecated in favor of reg:squarederror.\n"
     ]
    },
    {
     "name": "stderr",
     "output_type": "stream",
     "text": [
      "c:\\users\\razerjon24\\appdata\\local\\programs\\python\\python37\\lib\\site-packages\\xgboost\\core.py:587: FutureWarning: Series.base is deprecated and will be removed in a future version\n",
      "  if getattr(data, 'base', None) is not None and \\\n"
     ]
    },
    {
     "name": "stdout",
     "output_type": "stream",
     "text": [
      "[23:33:36] WARNING: C:/Jenkins/workspace/xgboost-win64_release_0.90/src/objective/regression_obj.cu:152: reg:linear is now deprecated in favor of reg:squarederror.\n"
     ]
    },
    {
     "name": "stderr",
     "output_type": "stream",
     "text": [
      "c:\\users\\razerjon24\\appdata\\local\\programs\\python\\python37\\lib\\site-packages\\xgboost\\core.py:587: FutureWarning: Series.base is deprecated and will be removed in a future version\n",
      "  if getattr(data, 'base', None) is not None and \\\n"
     ]
    },
    {
     "name": "stdout",
     "output_type": "stream",
     "text": [
      "[23:33:37] WARNING: C:/Jenkins/workspace/xgboost-win64_release_0.90/src/objective/regression_obj.cu:152: reg:linear is now deprecated in favor of reg:squarederror.\n",
      "Training set score: 0.94157 \n",
      "Test-CV set score: 0.53337 \n"
     ]
    }
   ],
   "source": [
    "tr_score = xgb.score(tr.iloc[:,coefs], y)\n",
    "cv_scores = cross_val_score(xgb,tr.iloc[:,coefs], y, cv=5, scoring=\"r2\")\n",
    "print(\"Training set score: {:0.5f} \".format(tr_score))\n",
    "print(\"Test-CV set score: {:0.5f} \".format(cv_scores.mean()))"
   ]
  },
  {
   "cell_type": "markdown",
   "metadata": {},
   "source": [
    "### Multi-layer Perceptron Neural Network"
   ]
  },
  {
   "cell_type": "code",
   "execution_count": null,
   "metadata": {},
   "outputs": [],
   "source": [
    "mlp = MLPRegressor()\n",
    "mlp.fit(tr_set.iloc[:,coefs], y) #standardized"
   ]
  },
  {
   "cell_type": "markdown",
   "metadata": {},
   "source": [
    "## Test"
   ]
  },
  {
   "cell_type": "code",
   "execution_count": 79,
   "metadata": {},
   "outputs": [],
   "source": [
    "test_y = rf.predict(ts[top[:34]])"
   ]
  },
  {
   "cell_type": "code",
   "execution_count": 143,
   "metadata": {},
   "outputs": [],
   "source": [
    "test_y = rf.predict(poly_ts[top[:154]])\n",
    "file_test = \"rf_inter_top\""
   ]
  },
  {
   "cell_type": "code",
   "execution_count": 26,
   "metadata": {},
   "outputs": [],
   "source": [
    "test_y = xgb.predict(ts.iloc[:,coefs])"
   ]
  },
  {
   "cell_type": "code",
   "execution_count": 180,
   "metadata": {},
   "outputs": [],
   "source": [
    "test_y = xgb.predict(poly_ts)\n",
    "file_test = \"xgb_inter_top_grid\""
   ]
  },
  {
   "cell_type": "code",
   "execution_count": 181,
   "metadata": {},
   "outputs": [],
   "source": [
    "output = pd.DataFrame({'id':[float(i) for i in range(0,len(test_y))],'y':test_y})\n",
    "output.to_csv(\"{}.csv\".format(file_test),index=False)"
   ]
  },
  {
   "cell_type": "markdown",
   "metadata": {},
   "source": [
    "## Ensemble"
   ]
  },
  {
   "cell_type": "code",
   "execution_count": 183,
   "metadata": {},
   "outputs": [],
   "source": [
    "out_1 = pd.read_csv(\"rf_inter_top.csv\").y\n",
    "out_2 = pd.read_csv(\"xgb_inter_top_grid.csv\").y"
   ]
  },
  {
   "cell_type": "markdown",
   "metadata": {},
   "source": [
    "### mean"
   ]
  },
  {
   "cell_type": "code",
   "execution_count": 184,
   "metadata": {},
   "outputs": [],
   "source": [
    "ensemble = (out_1+out_2)/2\n",
    "out_ensemble = pd.DataFrame({'id':[float(i) for i in range(0,len(ensemble))],'y':ensemble})\n",
    "out_ensemble.to_csv(\"ensemble_mean.csv\",index=False)"
   ]
  },
  {
   "cell_type": "markdown",
   "metadata": {},
   "source": [
    "### linear regression"
   ]
  },
  {
   "cell_type": "code",
   "execution_count": null,
   "metadata": {},
   "outputs": [],
   "source": [
    "lr_ensemble = LinearRegression().fit(tr_set[coefs], y)\n"
   ]
  }
 ],
 "metadata": {
  "kernelspec": {
   "display_name": "Python 3",
   "language": "python",
   "name": "python3"
  },
  "language_info": {
   "codemirror_mode": {
    "name": "ipython",
    "version": 3
   },
   "file_extension": ".py",
   "mimetype": "text/x-python",
   "name": "python",
   "nbconvert_exporter": "python",
   "pygments_lexer": "ipython3",
   "version": "3.7.5"
  }
 },
 "nbformat": 4,
 "nbformat_minor": 2
}
