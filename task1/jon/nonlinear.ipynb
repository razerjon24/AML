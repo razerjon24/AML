{
 "cells": [
  {
   "cell_type": "code",
   "execution_count": 14,
   "metadata": {},
   "outputs": [],
   "source": [
    "import pandas as pd\n",
    "from fancyimpute import KNN   \n",
    "from sklearn import preprocessing\n",
    "from sklearn.linear_model import LassoCV\n",
    "from sklearn.linear_model import LinearRegression\n",
    "from sklearn.linear_model import RidgeCV\n",
    "from sklearn.linear_model import ElasticNetCV\n",
    "from sklearn.ensemble import RandomForestRegressor\n",
    "from sklearn.model_selection import cross_val_score\n",
    "from xgboost import XGBRegressor\n",
    "from sklearn.model_selection import GridSearchCV\n",
    "from sklearn.neural_network import MLPRegressor\n",
    "import matplotlib.pyplot as plt\n",
    "%matplotlib inline\n",
    "import seaborn as sns; sns.set()\n",
    "from sklearn.preprocessing import PolynomialFeatures"
   ]
  },
  {
   "cell_type": "code",
   "execution_count": 2,
   "metadata": {},
   "outputs": [],
   "source": [
    "train = pd.read_csv(\"../data/X_train.csv\")\n",
    "test = pd.read_csv(\"../data/X_test.csv\")\n",
    "y = pd.read_csv(\"../data/y_train.csv\").y"
   ]
  },
  {
   "cell_type": "code",
   "execution_count": 3,
   "metadata": {},
   "outputs": [],
   "source": [
    "train = train.drop(columns=['id','x169','x283','x367','x777'])\n",
    "test = test.drop(columns=['id','x169','x283','x367','x777'])"
   ]
  },
  {
   "cell_type": "code",
   "execution_count": 4,
   "metadata": {},
   "outputs": [],
   "source": [
    "df = pd.concat([train,test])"
   ]
  },
  {
   "cell_type": "markdown",
   "metadata": {},
   "source": [
    "### Linear models"
   ]
  },
  {
   "cell_type": "code",
   "execution_count": 5,
   "metadata": {},
   "outputs": [
    {
     "name": "stderr",
     "output_type": "stream",
     "text": [
      "c:\\users\\razerjon24\\appdata\\local\\programs\\python\\python37\\lib\\site-packages\\numpy\\core\\_methods.py:38: RuntimeWarning: overflow encountered in reduce\n",
      "  return umr_sum(a, axis, dtype, out, keepdims, initial, where)\n"
     ]
    },
    {
     "name": "stdout",
     "output_type": "stream",
     "text": [
      "Imputing row 1/1988 with 58 missing, elapsed time: 25.842\n",
      "Imputing row 101/1988 with 58 missing, elapsed time: 25.926\n",
      "Imputing row 201/1988 with 56 missing, elapsed time: 26.007\n",
      "Imputing row 301/1988 with 74 missing, elapsed time: 26.099\n",
      "Imputing row 401/1988 with 73 missing, elapsed time: 26.184\n",
      "Imputing row 501/1988 with 51 missing, elapsed time: 26.268\n",
      "Imputing row 601/1988 with 67 missing, elapsed time: 26.360\n",
      "Imputing row 701/1988 with 79 missing, elapsed time: 26.443\n",
      "Imputing row 801/1988 with 74 missing, elapsed time: 26.528\n",
      "Imputing row 901/1988 with 57 missing, elapsed time: 26.617\n",
      "Imputing row 1001/1988 with 61 missing, elapsed time: 26.705\n",
      "Imputing row 1101/1988 with 58 missing, elapsed time: 26.798\n",
      "Imputing row 1201/1988 with 61 missing, elapsed time: 26.892\n",
      "Imputing row 1301/1988 with 53 missing, elapsed time: 26.966\n",
      "Imputing row 1401/1988 with 48 missing, elapsed time: 27.032\n",
      "Imputing row 1501/1988 with 53 missing, elapsed time: 27.108\n",
      "Imputing row 1601/1988 with 64 missing, elapsed time: 27.184\n",
      "Imputing row 1701/1988 with 45 missing, elapsed time: 27.250\n",
      "Imputing row 1801/1988 with 53 missing, elapsed time: 27.319\n",
      "Imputing row 1901/1988 with 55 missing, elapsed time: 27.391\n"
     ]
    }
   ],
   "source": [
    "knnOutput = KNN(k=3).fit_transform(df)"
   ]
  },
  {
   "cell_type": "code",
   "execution_count": 9,
   "metadata": {},
   "outputs": [
    {
     "data": {
      "text/html": [
       "<div>\n",
       "<style scoped>\n",
       "    .dataframe tbody tr th:only-of-type {\n",
       "        vertical-align: middle;\n",
       "    }\n",
       "\n",
       "    .dataframe tbody tr th {\n",
       "        vertical-align: top;\n",
       "    }\n",
       "\n",
       "    .dataframe thead th {\n",
       "        text-align: right;\n",
       "    }\n",
       "</style>\n",
       "<table border=\"1\" class=\"dataframe\">\n",
       "  <thead>\n",
       "    <tr style=\"text-align: right;\">\n",
       "      <th></th>\n",
       "      <th>x0</th>\n",
       "      <th>x1</th>\n",
       "      <th>x2</th>\n",
       "      <th>x3</th>\n",
       "      <th>x4</th>\n",
       "      <th>x5</th>\n",
       "      <th>x6</th>\n",
       "      <th>x7</th>\n",
       "      <th>x8</th>\n",
       "      <th>x9</th>\n",
       "      <th>...</th>\n",
       "      <th>x822</th>\n",
       "      <th>x823</th>\n",
       "      <th>x824</th>\n",
       "      <th>x825</th>\n",
       "      <th>x826</th>\n",
       "      <th>x827</th>\n",
       "      <th>x828</th>\n",
       "      <th>x829</th>\n",
       "      <th>x830</th>\n",
       "      <th>x831</th>\n",
       "    </tr>\n",
       "  </thead>\n",
       "  <tbody>\n",
       "    <tr>\n",
       "      <th>0</th>\n",
       "      <td>118345.392781</td>\n",
       "      <td>3104.010883</td>\n",
       "      <td>82378.542430</td>\n",
       "      <td>1086.678601</td>\n",
       "      <td>11395.883550</td>\n",
       "      <td>10.455601</td>\n",
       "      <td>109886.476608</td>\n",
       "      <td>1.054926e+06</td>\n",
       "      <td>101877.946528</td>\n",
       "      <td>2.550290</td>\n",
       "      <td>...</td>\n",
       "      <td>10.769524</td>\n",
       "      <td>10.245068</td>\n",
       "      <td>1021.907543</td>\n",
       "      <td>1031.645762</td>\n",
       "      <td>107440.039766</td>\n",
       "      <td>107083.296966</td>\n",
       "      <td>5559.203921</td>\n",
       "      <td>10.861464</td>\n",
       "      <td>107548.413675</td>\n",
       "      <td>2.299202</td>\n",
       "    </tr>\n",
       "    <tr>\n",
       "      <th>1</th>\n",
       "      <td>100083.476176</td>\n",
       "      <td>5889.055991</td>\n",
       "      <td>97932.067482</td>\n",
       "      <td>1116.564363</td>\n",
       "      <td>12172.212426</td>\n",
       "      <td>10.502997</td>\n",
       "      <td>100372.504488</td>\n",
       "      <td>1.011783e+06</td>\n",
       "      <td>108852.296962</td>\n",
       "      <td>2.579040</td>\n",
       "      <td>...</td>\n",
       "      <td>10.859822</td>\n",
       "      <td>10.088023</td>\n",
       "      <td>988.135968</td>\n",
       "      <td>999.044639</td>\n",
       "      <td>105238.779040</td>\n",
       "      <td>106365.468525</td>\n",
       "      <td>10334.091649</td>\n",
       "      <td>10.081664</td>\n",
       "      <td>107841.227180</td>\n",
       "      <td>2.472763</td>\n",
       "    </tr>\n",
       "    <tr>\n",
       "      <th>2</th>\n",
       "      <td>95373.022035</td>\n",
       "      <td>6293.442455</td>\n",
       "      <td>93371.369288</td>\n",
       "      <td>1034.722073</td>\n",
       "      <td>11618.142107</td>\n",
       "      <td>10.947611</td>\n",
       "      <td>109337.757279</td>\n",
       "      <td>1.006491e+06</td>\n",
       "      <td>104540.883376</td>\n",
       "      <td>2.573247</td>\n",
       "      <td>...</td>\n",
       "      <td>10.356015</td>\n",
       "      <td>10.514234</td>\n",
       "      <td>995.480813</td>\n",
       "      <td>898.329758</td>\n",
       "      <td>107044.005199</td>\n",
       "      <td>102704.104686</td>\n",
       "      <td>7697.875887</td>\n",
       "      <td>10.277760</td>\n",
       "      <td>103414.594212</td>\n",
       "      <td>2.205969</td>\n",
       "    </tr>\n",
       "    <tr>\n",
       "      <th>3</th>\n",
       "      <td>105066.272301</td>\n",
       "      <td>3279.162164</td>\n",
       "      <td>119554.079514</td>\n",
       "      <td>1114.014483</td>\n",
       "      <td>12127.235755</td>\n",
       "      <td>10.540204</td>\n",
       "      <td>106215.391332</td>\n",
       "      <td>1.022381e+06</td>\n",
       "      <td>109597.474506</td>\n",
       "      <td>2.693256</td>\n",
       "      <td>...</td>\n",
       "      <td>10.609811</td>\n",
       "      <td>10.991861</td>\n",
       "      <td>1117.179063</td>\n",
       "      <td>867.267810</td>\n",
       "      <td>100617.082858</td>\n",
       "      <td>108893.304959</td>\n",
       "      <td>6549.131099</td>\n",
       "      <td>9.337688</td>\n",
       "      <td>105722.857008</td>\n",
       "      <td>2.484935</td>\n",
       "    </tr>\n",
       "    <tr>\n",
       "      <th>4</th>\n",
       "      <td>98957.033333</td>\n",
       "      <td>4177.482190</td>\n",
       "      <td>97239.708338</td>\n",
       "      <td>1049.430921</td>\n",
       "      <td>10417.250336</td>\n",
       "      <td>10.618957</td>\n",
       "      <td>102736.470171</td>\n",
       "      <td>1.086871e+06</td>\n",
       "      <td>103340.057448</td>\n",
       "      <td>2.540610</td>\n",
       "      <td>...</td>\n",
       "      <td>10.397777</td>\n",
       "      <td>10.313230</td>\n",
       "      <td>863.943966</td>\n",
       "      <td>1041.278922</td>\n",
       "      <td>105352.672454</td>\n",
       "      <td>101705.692839</td>\n",
       "      <td>5388.312773</td>\n",
       "      <td>12.196382</td>\n",
       "      <td>106075.960094</td>\n",
       "      <td>1.930136</td>\n",
       "    </tr>\n",
       "  </tbody>\n",
       "</table>\n",
       "<p>5 rows × 828 columns</p>\n",
       "</div>"
      ],
      "text/plain": [
       "              x0           x1             x2           x3            x4  \\\n",
       "0  118345.392781  3104.010883   82378.542430  1086.678601  11395.883550   \n",
       "1  100083.476176  5889.055991   97932.067482  1116.564363  12172.212426   \n",
       "2   95373.022035  6293.442455   93371.369288  1034.722073  11618.142107   \n",
       "3  105066.272301  3279.162164  119554.079514  1114.014483  12127.235755   \n",
       "4   98957.033333  4177.482190   97239.708338  1049.430921  10417.250336   \n",
       "\n",
       "          x5             x6            x7             x8        x9  ...  \\\n",
       "0  10.455601  109886.476608  1.054926e+06  101877.946528  2.550290  ...   \n",
       "1  10.502997  100372.504488  1.011783e+06  108852.296962  2.579040  ...   \n",
       "2  10.947611  109337.757279  1.006491e+06  104540.883376  2.573247  ...   \n",
       "3  10.540204  106215.391332  1.022381e+06  109597.474506  2.693256  ...   \n",
       "4  10.618957  102736.470171  1.086871e+06  103340.057448  2.540610  ...   \n",
       "\n",
       "        x822       x823         x824         x825           x826  \\\n",
       "0  10.769524  10.245068  1021.907543  1031.645762  107440.039766   \n",
       "1  10.859822  10.088023   988.135968   999.044639  105238.779040   \n",
       "2  10.356015  10.514234   995.480813   898.329758  107044.005199   \n",
       "3  10.609811  10.991861  1117.179063   867.267810  100617.082858   \n",
       "4  10.397777  10.313230   863.943966  1041.278922  105352.672454   \n",
       "\n",
       "            x827          x828       x829           x830      x831  \n",
       "0  107083.296966   5559.203921  10.861464  107548.413675  2.299202  \n",
       "1  106365.468525  10334.091649  10.081664  107841.227180  2.472763  \n",
       "2  102704.104686   7697.875887  10.277760  103414.594212  2.205969  \n",
       "3  108893.304959   6549.131099   9.337688  105722.857008  2.484935  \n",
       "4  101705.692839   5388.312773  12.196382  106075.960094  1.930136  \n",
       "\n",
       "[5 rows x 828 columns]"
      ]
     },
     "execution_count": 9,
     "metadata": {},
     "output_type": "execute_result"
    }
   ],
   "source": [
    "X = pd.DataFrame(knnOutput, columns = df.columns)\n",
    "X.head()"
   ]
  },
  {
   "cell_type": "markdown",
   "metadata": {},
   "source": [
    "## Linear Models"
   ]
  },
  {
   "cell_type": "code",
   "execution_count": 6,
   "metadata": {},
   "outputs": [
    {
     "data": {
      "text/html": [
       "<div>\n",
       "<style scoped>\n",
       "    .dataframe tbody tr th:only-of-type {\n",
       "        vertical-align: middle;\n",
       "    }\n",
       "\n",
       "    .dataframe tbody tr th {\n",
       "        vertical-align: top;\n",
       "    }\n",
       "\n",
       "    .dataframe thead th {\n",
       "        text-align: right;\n",
       "    }\n",
       "</style>\n",
       "<table border=\"1\" class=\"dataframe\">\n",
       "  <thead>\n",
       "    <tr style=\"text-align: right;\">\n",
       "      <th></th>\n",
       "      <th>0</th>\n",
       "      <th>1</th>\n",
       "      <th>2</th>\n",
       "      <th>3</th>\n",
       "      <th>4</th>\n",
       "      <th>5</th>\n",
       "      <th>6</th>\n",
       "      <th>7</th>\n",
       "      <th>8</th>\n",
       "      <th>9</th>\n",
       "      <th>...</th>\n",
       "      <th>818</th>\n",
       "      <th>819</th>\n",
       "      <th>820</th>\n",
       "      <th>821</th>\n",
       "      <th>822</th>\n",
       "      <th>823</th>\n",
       "      <th>824</th>\n",
       "      <th>825</th>\n",
       "      <th>826</th>\n",
       "      <th>827</th>\n",
       "    </tr>\n",
       "  </thead>\n",
       "  <tbody>\n",
       "    <tr>\n",
       "      <th>0</th>\n",
       "      <td>1.961464</td>\n",
       "      <td>-0.680265</td>\n",
       "      <td>-1.754225</td>\n",
       "      <td>0.894249</td>\n",
       "      <td>1.373118</td>\n",
       "      <td>-0.407906</td>\n",
       "      <td>1.763947</td>\n",
       "      <td>0.159192</td>\n",
       "      <td>-1.124495</td>\n",
       "      <td>0.308873</td>\n",
       "      <td>...</td>\n",
       "      <td>0.803815</td>\n",
       "      <td>-1.129968</td>\n",
       "      <td>0.214829</td>\n",
       "      <td>0.331462</td>\n",
       "      <td>0.869444</td>\n",
       "      <td>0.739583</td>\n",
       "      <td>-0.961916</td>\n",
       "      <td>0.831564</td>\n",
       "      <td>0.878198</td>\n",
       "      <td>0.197921</td>\n",
       "    </tr>\n",
       "    <tr>\n",
       "      <th>1</th>\n",
       "      <td>0.040000</td>\n",
       "      <td>2.435440</td>\n",
       "      <td>-0.159286</td>\n",
       "      <td>1.198309</td>\n",
       "      <td>2.136597</td>\n",
       "      <td>-0.238713</td>\n",
       "      <td>-1.765623</td>\n",
       "      <td>-1.372630</td>\n",
       "      <td>1.392227</td>\n",
       "      <td>0.505643</td>\n",
       "      <td>...</td>\n",
       "      <td>1.125224</td>\n",
       "      <td>-1.696768</td>\n",
       "      <td>-0.129810</td>\n",
       "      <td>-0.007895</td>\n",
       "      <td>0.081726</td>\n",
       "      <td>0.481329</td>\n",
       "      <td>2.704633</td>\n",
       "      <td>0.047744</td>\n",
       "      <td>0.980944</td>\n",
       "      <td>1.283666</td>\n",
       "    </tr>\n",
       "    <tr>\n",
       "      <th>2</th>\n",
       "      <td>-0.499755</td>\n",
       "      <td>2.887837</td>\n",
       "      <td>-0.626964</td>\n",
       "      <td>0.365639</td>\n",
       "      <td>1.591698</td>\n",
       "      <td>1.348469</td>\n",
       "      <td>1.560379</td>\n",
       "      <td>-1.560496</td>\n",
       "      <td>-0.163564</td>\n",
       "      <td>0.465994</td>\n",
       "      <td>...</td>\n",
       "      <td>-0.668045</td>\n",
       "      <td>-0.158504</td>\n",
       "      <td>-0.054856</td>\n",
       "      <td>-1.056273</td>\n",
       "      <td>0.727724</td>\n",
       "      <td>-0.835924</td>\n",
       "      <td>0.680331</td>\n",
       "      <td>0.240619</td>\n",
       "      <td>-0.572327</td>\n",
       "      <td>-0.385316</td>\n",
       "    </tr>\n",
       "    <tr>\n",
       "      <th>3</th>\n",
       "      <td>0.538763</td>\n",
       "      <td>-0.484318</td>\n",
       "      <td>2.057947</td>\n",
       "      <td>1.172367</td>\n",
       "      <td>2.092365</td>\n",
       "      <td>-0.105893</td>\n",
       "      <td>0.402018</td>\n",
       "      <td>-0.996348</td>\n",
       "      <td>1.661127</td>\n",
       "      <td>1.287340</td>\n",
       "      <td>...</td>\n",
       "      <td>0.235326</td>\n",
       "      <td>1.565329</td>\n",
       "      <td>1.187077</td>\n",
       "      <td>-1.379608</td>\n",
       "      <td>-1.572142</td>\n",
       "      <td>1.390772</td>\n",
       "      <td>-0.201769</td>\n",
       "      <td>-0.711115</td>\n",
       "      <td>0.237624</td>\n",
       "      <td>1.359809</td>\n",
       "    </tr>\n",
       "    <tr>\n",
       "      <th>4</th>\n",
       "      <td>-0.115770</td>\n",
       "      <td>0.520656</td>\n",
       "      <td>-0.230284</td>\n",
       "      <td>0.515288</td>\n",
       "      <td>0.410684</td>\n",
       "      <td>0.175241</td>\n",
       "      <td>-0.888620</td>\n",
       "      <td>1.293390</td>\n",
       "      <td>-0.596886</td>\n",
       "      <td>0.242622</td>\n",
       "      <td>...</td>\n",
       "      <td>-0.519398</td>\n",
       "      <td>-0.876551</td>\n",
       "      <td>-1.397192</td>\n",
       "      <td>0.431738</td>\n",
       "      <td>0.122483</td>\n",
       "      <td>-1.195124</td>\n",
       "      <td>-1.093140</td>\n",
       "      <td>2.183042</td>\n",
       "      <td>-0.009722</td>\n",
       "      <td>-2.110839</td>\n",
       "    </tr>\n",
       "  </tbody>\n",
       "</table>\n",
       "<p>5 rows × 828 columns</p>\n",
       "</div>"
      ],
      "text/plain": [
       "        0         1         2         3         4         5         6    \\\n",
       "0  1.961464 -0.680265 -1.754225  0.894249  1.373118 -0.407906  1.763947   \n",
       "1  0.040000  2.435440 -0.159286  1.198309  2.136597 -0.238713 -1.765623   \n",
       "2 -0.499755  2.887837 -0.626964  0.365639  1.591698  1.348469  1.560379   \n",
       "3  0.538763 -0.484318  2.057947  1.172367  2.092365 -0.105893  0.402018   \n",
       "4 -0.115770  0.520656 -0.230284  0.515288  0.410684  0.175241 -0.888620   \n",
       "\n",
       "        7         8         9    ...       818       819       820       821  \\\n",
       "0  0.159192 -1.124495  0.308873  ...  0.803815 -1.129968  0.214829  0.331462   \n",
       "1 -1.372630  1.392227  0.505643  ...  1.125224 -1.696768 -0.129810 -0.007895   \n",
       "2 -1.560496 -0.163564  0.465994  ... -0.668045 -0.158504 -0.054856 -1.056273   \n",
       "3 -0.996348  1.661127  1.287340  ...  0.235326  1.565329  1.187077 -1.379608   \n",
       "4  1.293390 -0.596886  0.242622  ... -0.519398 -0.876551 -1.397192  0.431738   \n",
       "\n",
       "        822       823       824       825       826       827  \n",
       "0  0.869444  0.739583 -0.961916  0.831564  0.878198  0.197921  \n",
       "1  0.081726  0.481329  2.704633  0.047744  0.980944  1.283666  \n",
       "2  0.727724 -0.835924  0.680331  0.240619 -0.572327 -0.385316  \n",
       "3 -1.572142  1.390772 -0.201769 -0.711115  0.237624  1.359809  \n",
       "4  0.122483 -1.195124 -1.093140  2.183042 -0.009722 -2.110839  \n",
       "\n",
       "[5 rows x 828 columns]"
      ]
     },
     "execution_count": 6,
     "metadata": {},
     "output_type": "execute_result"
    }
   ],
   "source": [
    "scaler = preprocessing.StandardScaler().fit(X)\n",
    "x_scale = scaler.transform(X)\n",
    "X_sc = pd.DataFrame(x_scale)\n",
    "X_sc.head()"
   ]
  },
  {
   "cell_type": "code",
   "execution_count": 8,
   "metadata": {},
   "outputs": [
    {
     "ename": "NameError",
     "evalue": "name 'X_sc' is not defined",
     "output_type": "error",
     "traceback": [
      "\u001b[1;31m---------------------------------------------------------------------------\u001b[0m",
      "\u001b[1;31mNameError\u001b[0m                                 Traceback (most recent call last)",
      "\u001b[1;32m<ipython-input-8-e1668655c2ec>\u001b[0m in \u001b[0;36m<module>\u001b[1;34m\u001b[0m\n\u001b[1;32m----> 1\u001b[1;33m \u001b[0mtr_set\u001b[0m \u001b[1;33m=\u001b[0m \u001b[0mX_sc\u001b[0m\u001b[1;33m.\u001b[0m\u001b[0miloc\u001b[0m\u001b[1;33m[\u001b[0m\u001b[1;33m:\u001b[0m\u001b[0mlen\u001b[0m\u001b[1;33m(\u001b[0m\u001b[0mtrain\u001b[0m\u001b[1;33m)\u001b[0m\u001b[1;33m,\u001b[0m\u001b[1;33m:\u001b[0m\u001b[1;33m]\u001b[0m\u001b[1;33m\u001b[0m\u001b[1;33m\u001b[0m\u001b[0m\n\u001b[0m\u001b[0;32m      2\u001b[0m \u001b[0mts_set\u001b[0m \u001b[1;33m=\u001b[0m \u001b[0mX_sc\u001b[0m\u001b[1;33m.\u001b[0m\u001b[0miloc\u001b[0m\u001b[1;33m[\u001b[0m\u001b[0mlen\u001b[0m\u001b[1;33m(\u001b[0m\u001b[0mtrain\u001b[0m\u001b[1;33m)\u001b[0m\u001b[1;33m:\u001b[0m\u001b[1;33m,\u001b[0m\u001b[1;33m:\u001b[0m\u001b[1;33m]\u001b[0m\u001b[1;33m\u001b[0m\u001b[1;33m\u001b[0m\u001b[0m\n",
      "\u001b[1;31mNameError\u001b[0m: name 'X_sc' is not defined"
     ]
    }
   ],
   "source": [
    "tr_set = X_sc.iloc[:len(train),:]\n",
    "ts_set = X_sc.iloc[len(train):,:]"
   ]
  },
  {
   "cell_type": "markdown",
   "metadata": {},
   "source": [
    "### Lasso regularization"
   ]
  },
  {
   "cell_type": "code",
   "execution_count": 8,
   "metadata": {},
   "outputs": [],
   "source": [
    "reg = LassoCV(cv=5, random_state=0, max_iter= 50000).fit(tr_set, y)"
   ]
  },
  {
   "cell_type": "code",
   "execution_count": 9,
   "metadata": {},
   "outputs": [
    {
     "data": {
      "text/plain": [
       "79"
      ]
     },
     "execution_count": 9,
     "metadata": {},
     "output_type": "execute_result"
    }
   ],
   "source": [
    "coefs = [i for i in range(len(reg.coef_)) if abs(reg.coef_[i]) > 0]\n",
    "len(coefs)"
   ]
  },
  {
   "cell_type": "code",
   "execution_count": 11,
   "metadata": {},
   "outputs": [],
   "source": [
    "# tr_score = reg.score(tr_set, y) \n",
    "# cv_scores = cross_val_score(reg, tr_set, y, cv=5)\n",
    "# print(\"Training set score: {:0.5f} \".format(tr_score))\n",
    "# print(\"Test-CV set score: {:0.5f} \".format(cv_scores.mean()))"
   ]
  },
  {
   "cell_type": "markdown",
   "metadata": {},
   "source": [
    "### Linear Regression with Lasso coefs"
   ]
  },
  {
   "cell_type": "code",
   "execution_count": 53,
   "metadata": {},
   "outputs": [
    {
     "name": "stdout",
     "output_type": "stream",
     "text": [
      "Training set score: 0.52557 \n",
      "Test-CV set score: 0.42810 \n"
     ]
    }
   ],
   "source": [
    "lr = LinearRegression().fit(tr_set[coefs], y)\n",
    "tr_score = lr.score(tr_set[coefs], y)\n",
    "cv_scores = cross_val_score(lr, tr_set[coefs], y, cv=5)\n",
    "print(\"Training set score: {:0.5f} \".format(tr_score))\n",
    "print(\"Test-CV set score: {:0.5f} \".format(cv_scores.mean()))"
   ]
  },
  {
   "cell_type": "markdown",
   "metadata": {},
   "source": [
    "### Ridge Regression"
   ]
  },
  {
   "cell_type": "code",
   "execution_count": 57,
   "metadata": {},
   "outputs": [],
   "source": [
    "rr = RidgeCV(cv=5).fit(tr_set, y)"
   ]
  },
  {
   "cell_type": "code",
   "execution_count": 58,
   "metadata": {},
   "outputs": [
    {
     "name": "stderr",
     "output_type": "stream",
     "text": [
      "c:\\users\\razerjon24\\appdata\\local\\programs\\python\\python37\\lib\\site-packages\\sklearn\\model_selection\\_search.py:814: DeprecationWarning: The default of the `iid` parameter will change from True to False in version 0.22 and will be removed in 0.24. This will change numeric results when test-set sizes are unequal.\n",
      "  DeprecationWarning)\n",
      "c:\\users\\razerjon24\\appdata\\local\\programs\\python\\python37\\lib\\site-packages\\sklearn\\model_selection\\_search.py:814: DeprecationWarning: The default of the `iid` parameter will change from True to False in version 0.22 and will be removed in 0.24. This will change numeric results when test-set sizes are unequal.\n",
      "  DeprecationWarning)\n"
     ]
    },
    {
     "name": "stdout",
     "output_type": "stream",
     "text": [
      "Training set score: 0.79365 \n",
      "Test-CV set score: -1.15601 \n"
     ]
    }
   ],
   "source": [
    "tr_score = rr.score(tr_set, y)\n",
    "cv_scores = cross_val_score(rr, tr_set, y, cv=5)\n",
    "print(\"Training set score: {:0.5f} \".format(tr_score))\n",
    "print(\"Test-CV set score: {:0.5f} \".format(cv_scores.mean()))"
   ]
  },
  {
   "cell_type": "markdown",
   "metadata": {},
   "source": [
    "### Ridge Regression with Lasso coefs"
   ]
  },
  {
   "cell_type": "code",
   "execution_count": 59,
   "metadata": {},
   "outputs": [
    {
     "name": "stdout",
     "output_type": "stream",
     "text": [
      "Training set score: 0.52554 \n",
      "Test-CV set score: 0.43019 \n"
     ]
    }
   ],
   "source": [
    "rr_pn = RidgeCV(cv=5).fit(tr_set[coefs], y)\n",
    "tr_score = rr_pn.score(tr_set[coefs], y)\n",
    "cv_scores = cross_val_score(rr_pn, tr_set[coefs], y, cv=5)\n",
    "print(\"Training set score: {:0.5f} \".format(tr_score))\n",
    "print(\"Test-CV set score: {:0.5f} \".format(cv_scores.mean()))"
   ]
  },
  {
   "cell_type": "markdown",
   "metadata": {},
   "source": [
    "### Elastic-net"
   ]
  },
  {
   "cell_type": "code",
   "execution_count": 60,
   "metadata": {},
   "outputs": [
    {
     "data": {
      "text/plain": [
       "ElasticNetCV(alphas=None, copy_X=True, cv=5, eps=0.001, fit_intercept=True,\n",
       "             l1_ratio=0.5, max_iter=50000, n_alphas=100, n_jobs=None,\n",
       "             normalize=False, positive=False, precompute='auto', random_state=0,\n",
       "             selection='cyclic', tol=0.0001, verbose=0)"
      ]
     },
     "execution_count": 60,
     "metadata": {},
     "output_type": "execute_result"
    }
   ],
   "source": [
    "enet = ElasticNetCV(cv=5, random_state=0, max_iter = 50000)\n",
    "enet.fit(tr_set, y)"
   ]
  },
  {
   "cell_type": "code",
   "execution_count": 64,
   "metadata": {},
   "outputs": [
    {
     "name": "stdout",
     "output_type": "stream",
     "text": [
      "Training set score: 0.47594 \n"
     ]
    }
   ],
   "source": [
    "tr_score = enet.score(tr_set, y)\n",
    "#cv_scores = cross_val_score(enet, tr_set, y, cv=5)\n",
    "print(\"Training set score: {:0.5f} \".format(tr_score))\n",
    "#print(\"Test-CV set score: {:0.5f} \".format(cv_scores.mean()))"
   ]
  },
  {
   "cell_type": "markdown",
   "metadata": {},
   "source": [
    "### Elastic-net with Lasso coefs"
   ]
  },
  {
   "cell_type": "code",
   "execution_count": 65,
   "metadata": {},
   "outputs": [
    {
     "name": "stdout",
     "output_type": "stream",
     "text": [
      "Training set score: 0.52217 \n",
      "Test-CV set score: 0.43494 \n"
     ]
    }
   ],
   "source": [
    "enet.fit(tr_set[coefs], y)\n",
    "tr_score = enet.score(tr_set[coefs], y)\n",
    "cv_scores = cross_val_score(enet, tr_set[coefs], y, cv=5)\n",
    "print(\"Training set score: {:0.5f} \".format(tr_score))\n",
    "print(\"Test-CV set score: {:0.5f} \".format(cv_scores.mean()))"
   ]
  },
  {
   "cell_type": "markdown",
   "metadata": {},
   "source": [
    "## Non-linear Models"
   ]
  },
  {
   "cell_type": "code",
   "execution_count": 10,
   "metadata": {},
   "outputs": [],
   "source": [
    "tr = X.iloc[:len(train),:]\n",
    "ts = X.iloc[len(train):,:]"
   ]
  },
  {
   "cell_type": "code",
   "execution_count": 11,
   "metadata": {},
   "outputs": [
    {
     "data": {
      "text/plain": [
       "['x529', 'x346', 'x757', 'x737', 'x617', 'x593', 'x809', 'x744', 'x130']"
      ]
     },
     "execution_count": 11,
     "metadata": {},
     "output_type": "execute_result"
    }
   ],
   "source": [
    "model = RandomForestRegressor(n_estimators=100)\n",
    "model.fit(tr, y)\n",
    "top_1 = [x[1] for x in sorted(zip(model.feature_importances_, tr.columns),reverse=True)]\n",
    "top_1[1:10]"
   ]
  },
  {
   "cell_type": "markdown",
   "metadata": {},
   "source": [
    "### Random Forest"
   ]
  },
  {
   "cell_type": "code",
   "execution_count": 12,
   "metadata": {},
   "outputs": [
    {
     "data": {
      "text/plain": [
       "RandomForestRegressor(bootstrap=True, criterion='mse', max_depth=None,\n",
       "                      max_features='auto', max_leaf_nodes=None,\n",
       "                      min_impurity_decrease=0.0, min_impurity_split=None,\n",
       "                      min_samples_leaf=1, min_samples_split=2,\n",
       "                      min_weight_fraction_leaf=0.0, n_estimators=100,\n",
       "                      n_jobs=None, oob_score=False, random_state=None,\n",
       "                      verbose=0, warm_start=False)"
      ]
     },
     "execution_count": 12,
     "metadata": {},
     "output_type": "execute_result"
    }
   ],
   "source": [
    "rf = RandomForestRegressor(n_estimators=100)\n",
    "rf.fit(tr, y)"
   ]
  },
  {
   "cell_type": "code",
   "execution_count": 15,
   "metadata": {},
   "outputs": [
    {
     "name": "stdout",
     "output_type": "stream",
     "text": [
      "Training set score: 0.92835 \n",
      "Test 10-fold-CV score: 0.48184 \n"
     ]
    }
   ],
   "source": [
    "tr_score = rf.score(tr, y)\n",
    "cv_scores = cross_val_score(rf, tr, y, cv=10, scoring=\"r2\")\n",
    "print(\"Training set score: {:0.5f} \".format(tr_score))\n",
    "print(\"Test 10-fold-CV score: {:0.5f} \".format(cv_scores.mean()))"
   ]
  },
  {
   "cell_type": "markdown",
   "metadata": {},
   "source": [
    "### Random Forest with best top features"
   ]
  },
  {
   "cell_type": "code",
   "execution_count": 18,
   "metadata": {},
   "outputs": [
    {
     "name": "stdout",
     "output_type": "stream",
     "text": [
      "Top 10 features\n",
      "Top 20 features\n",
      "Top 30 features\n",
      "Top 40 features\n",
      "Top 50 features\n",
      "Top 60 features\n",
      "Top 70 features\n",
      "Top 80 features\n",
      "Top 90 features\n",
      "Top 100 features\n",
      "Top 110 features\n",
      "Top 120 features\n",
      "Top 130 features\n",
      "Top 140 features\n",
      "Top 150 features\n",
      "Top 160 features\n",
      "Top 170 features\n",
      "Top 180 features\n",
      "Top 190 features\n"
     ]
    }
   ],
   "source": [
    "cv_vals = list()\n",
    "for i in range(10,200,10):\n",
    "    rf = RandomForestRegressor(n_estimators=100)\n",
    "    rf.fit(tr[top_1[:i]], y)\n",
    "    cv_scores = cross_val_score(rf, tr[top_1[:i]], y, cv=10, scoring=\"r2\")\n",
    "    cv_vals.append(cv_scores.mean())\n",
    "    print(\"Top {} features\".format(i))"
   ]
  },
  {
   "cell_type": "code",
   "execution_count": 20,
   "metadata": {},
   "outputs": [
    {
     "data": {
      "text/plain": [
       "<matplotlib.axes._subplots.AxesSubplot at 0x26b247238c8>"
      ]
     },
     "execution_count": 20,
     "metadata": {},
     "output_type": "execute_result"
    },
    {
     "data": {
      "image/png": "[encoded data removed]",
      "text/plain": [
       "<Figure size 432x288 with 1 Axes>"
      ]
     },
     "metadata": {},
     "output_type": "display_data"
    }
   ],
   "source": [
    "pd.Series(cv_vals, index=[10+i*10 for i in range(1,len(cv_vals)+1)]).plot()"
   ]
  },
  {
   "cell_type": "code",
   "execution_count": 21,
   "metadata": {},
   "outputs": [
    {
     "name": "stdout",
     "output_type": "stream",
     "text": [
      "Training set score: 0.93783 \n",
      "Test-CV set score: 0.54070 \n"
     ]
    }
   ],
   "source": [
    "rf = RandomForestRegressor(n_estimators=100)\n",
    "rf.fit(tr[top_1[:40]], y)\n",
    "tr_score = rf.score(tr[top_1[:40]], y)\n",
    "cv_scores = cross_val_score(rf, tr[top_1[:40]], y, cv=10, scoring=\"r2\")\n",
    "print(\"Training set score: {:0.5f} \".format(tr_score))\n",
    "print(\"Test-CV set score: {:0.5f} \".format(cv_scores.mean()))"
   ]
  },
  {
   "cell_type": "markdown",
   "metadata": {},
   "source": [
    "### Interactions"
   ]
  },
  {
   "cell_type": "code",
   "execution_count": 158,
   "metadata": {},
   "outputs": [
    {
     "data": {
      "text/html": [
       "<div>\n",
       "<style scoped>\n",
       "    .dataframe tbody tr th:only-of-type {\n",
       "        vertical-align: middle;\n",
       "    }\n",
       "\n",
       "    .dataframe tbody tr th {\n",
       "        vertical-align: top;\n",
       "    }\n",
       "\n",
       "    .dataframe thead th {\n",
       "        text-align: right;\n",
       "    }\n",
       "</style>\n",
       "<table border=\"1\" class=\"dataframe\">\n",
       "  <thead>\n",
       "    <tr style=\"text-align: right;\">\n",
       "      <th></th>\n",
       "      <th>0</th>\n",
       "      <th>1</th>\n",
       "      <th>2</th>\n",
       "      <th>3</th>\n",
       "      <th>4</th>\n",
       "      <th>5</th>\n",
       "      <th>6</th>\n",
       "      <th>7</th>\n",
       "      <th>8</th>\n",
       "      <th>9</th>\n",
       "      <th>...</th>\n",
       "      <th>1316</th>\n",
       "      <th>1317</th>\n",
       "      <th>1318</th>\n",
       "      <th>1319</th>\n",
       "      <th>1320</th>\n",
       "      <th>1321</th>\n",
       "      <th>1322</th>\n",
       "      <th>1323</th>\n",
       "      <th>1324</th>\n",
       "      <th>1325</th>\n",
       "    </tr>\n",
       "  </thead>\n",
       "  <tbody>\n",
       "    <tr>\n",
       "      <th>0</th>\n",
       "      <td>1.0</td>\n",
       "      <td>2243.302901</td>\n",
       "      <td>564.003090</td>\n",
       "      <td>2.745800</td>\n",
       "      <td>7346.839297</td>\n",
       "      <td>266.863177</td>\n",
       "      <td>9291.193684</td>\n",
       "      <td>248.754308</td>\n",
       "      <td>1045.689682</td>\n",
       "      <td>19168.336582</td>\n",
       "      <td>...</td>\n",
       "      <td>7.819871e+07</td>\n",
       "      <td>20331.850600</td>\n",
       "      <td>17480.459029</td>\n",
       "      <td>19896.158392</td>\n",
       "      <td>5.286330</td>\n",
       "      <td>4.544961</td>\n",
       "      <td>5.173049</td>\n",
       "      <td>3.907564</td>\n",
       "      <td>4.447567</td>\n",
       "      <td>5.062195</td>\n",
       "    </tr>\n",
       "    <tr>\n",
       "      <th>1</th>\n",
       "      <td>1.0</td>\n",
       "      <td>2608.930250</td>\n",
       "      <td>163.163481</td>\n",
       "      <td>2.928650</td>\n",
       "      <td>9430.575216</td>\n",
       "      <td>175.179986</td>\n",
       "      <td>18423.700135</td>\n",
       "      <td>133.422869</td>\n",
       "      <td>1269.789300</td>\n",
       "      <td>6454.866169</td>\n",
       "      <td>...</td>\n",
       "      <td>9.099345e+07</td>\n",
       "      <td>23587.808632</td>\n",
       "      <td>20122.637349</td>\n",
       "      <td>22254.500866</td>\n",
       "      <td>6.114558</td>\n",
       "      <td>5.216298</td>\n",
       "      <td>5.768931</td>\n",
       "      <td>4.449997</td>\n",
       "      <td>4.921445</td>\n",
       "      <td>5.442840</td>\n",
       "    </tr>\n",
       "    <tr>\n",
       "      <th>2</th>\n",
       "      <td>1.0</td>\n",
       "      <td>7759.176464</td>\n",
       "      <td>1836.514563</td>\n",
       "      <td>2.633866</td>\n",
       "      <td>7913.283619</td>\n",
       "      <td>942.853867</td>\n",
       "      <td>39176.219061</td>\n",
       "      <td>805.482669</td>\n",
       "      <td>1971.570050</td>\n",
       "      <td>-30172.204065</td>\n",
       "      <td>...</td>\n",
       "      <td>8.432832e+07</td>\n",
       "      <td>20257.512604</td>\n",
       "      <td>17117.335480</td>\n",
       "      <td>19413.173845</td>\n",
       "      <td>4.866299</td>\n",
       "      <td>4.111959</td>\n",
       "      <td>4.663470</td>\n",
       "      <td>3.474552</td>\n",
       "      <td>3.940572</td>\n",
       "      <td>4.469095</td>\n",
       "    </tr>\n",
       "    <tr>\n",
       "      <th>3</th>\n",
       "      <td>1.0</td>\n",
       "      <td>1818.615834</td>\n",
       "      <td>459.178240</td>\n",
       "      <td>2.658636</td>\n",
       "      <td>8542.248694</td>\n",
       "      <td>283.879920</td>\n",
       "      <td>16213.024512</td>\n",
       "      <td>99.129244</td>\n",
       "      <td>1412.169105</td>\n",
       "      <td>4403.581908</td>\n",
       "      <td>...</td>\n",
       "      <td>6.937304e+07</td>\n",
       "      <td>20697.142600</td>\n",
       "      <td>19241.699108</td>\n",
       "      <td>21155.840678</td>\n",
       "      <td>6.174902</td>\n",
       "      <td>5.740677</td>\n",
       "      <td>6.311752</td>\n",
       "      <td>5.336987</td>\n",
       "      <td>5.867904</td>\n",
       "      <td>6.451636</td>\n",
       "    </tr>\n",
       "    <tr>\n",
       "      <th>4</th>\n",
       "      <td>1.0</td>\n",
       "      <td>7231.383826</td>\n",
       "      <td>3009.587437</td>\n",
       "      <td>2.437194</td>\n",
       "      <td>6496.708149</td>\n",
       "      <td>3327.509708</td>\n",
       "      <td>31267.618199</td>\n",
       "      <td>246.717392</td>\n",
       "      <td>3791.751924</td>\n",
       "      <td>-3575.232287</td>\n",
       "      <td>...</td>\n",
       "      <td>6.959021e+07</td>\n",
       "      <td>16101.341763</td>\n",
       "      <td>17902.504915</td>\n",
       "      <td>17746.700734</td>\n",
       "      <td>3.725426</td>\n",
       "      <td>4.142168</td>\n",
       "      <td>4.106119</td>\n",
       "      <td>4.605528</td>\n",
       "      <td>4.565447</td>\n",
       "      <td>4.525714</td>\n",
       "    </tr>\n",
       "  </tbody>\n",
       "</table>\n",
       "<p>5 rows × 1326 columns</p>\n",
       "</div>"
      ],
      "text/plain": [
       "   0            1            2         3            4            5     \\\n",
       "0   1.0  2243.302901   564.003090  2.745800  7346.839297   266.863177   \n",
       "1   1.0  2608.930250   163.163481  2.928650  9430.575216   175.179986   \n",
       "2   1.0  7759.176464  1836.514563  2.633866  7913.283619   942.853867   \n",
       "3   1.0  1818.615834   459.178240  2.658636  8542.248694   283.879920   \n",
       "4   1.0  7231.383826  3009.587437  2.437194  6496.708149  3327.509708   \n",
       "\n",
       "           6           7            8             9     ...          1316  \\\n",
       "0   9291.193684  248.754308  1045.689682  19168.336582  ...  7.819871e+07   \n",
       "1  18423.700135  133.422869  1269.789300   6454.866169  ...  9.099345e+07   \n",
       "2  39176.219061  805.482669  1971.570050 -30172.204065  ...  8.432832e+07   \n",
       "3  16213.024512   99.129244  1412.169105   4403.581908  ...  6.937304e+07   \n",
       "4  31267.618199  246.717392  3791.751924  -3575.232287  ...  6.959021e+07   \n",
       "\n",
       "           1317          1318          1319      1320      1321      1322  \\\n",
       "0  20331.850600  17480.459029  19896.158392  5.286330  4.544961  5.173049   \n",
       "1  23587.808632  20122.637349  22254.500866  6.114558  5.216298  5.768931   \n",
       "2  20257.512604  17117.335480  19413.173845  4.866299  4.111959  4.663470   \n",
       "3  20697.142600  19241.699108  21155.840678  6.174902  5.740677  6.311752   \n",
       "4  16101.341763  17902.504915  17746.700734  3.725426  4.142168  4.106119   \n",
       "\n",
       "       1323      1324      1325  \n",
       "0  3.907564  4.447567  5.062195  \n",
       "1  4.449997  4.921445  5.442840  \n",
       "2  3.474552  3.940572  4.469095  \n",
       "3  5.336987  5.867904  6.451636  \n",
       "4  4.605528  4.565447  4.525714  \n",
       "\n",
       "[5 rows x 1326 columns]"
      ]
     },
     "execution_count": 158,
     "metadata": {},
     "output_type": "execute_result"
    }
   ],
   "source": [
    "poly = PolynomialFeatures(2)\n",
    "poly_all = pd.DataFrame(poly.fit_transform(X[top_1[:50]]))\n",
    "poly_df = poly_all.iloc[:len(train),:]\n",
    "poly_ts = poly_all.iloc[len(train):,:]\n",
    "poly_df.head()"
   ]
  },
  {
   "cell_type": "code",
   "execution_count": 134,
   "metadata": {},
   "outputs": [
    {
     "data": {
      "text/plain": [
       "[36,\n",
       " 39,\n",
       " 196,\n",
       " 74,\n",
       " 35,\n",
       " 158,\n",
       " 40,\n",
       " 143,\n",
       " 103,\n",
       " 117,\n",
       " 167,\n",
       " 148,\n",
       " 58,\n",
       " 153,\n",
       " 45,\n",
       " 41,\n",
       " 42,\n",
       " 147,\n",
       " 73,\n",
       " 355,\n",
       " 390,\n",
       " 72,\n",
       " 501,\n",
       " 166,\n",
       " 109,\n",
       " 395,\n",
       " 1,\n",
       " 325,\n",
       " 225,\n",
       " 171,\n",
       " 144,\n",
       " 159,\n",
       " 151,\n",
       " 411,\n",
       " 149,\n",
       " 309,\n",
       " 157,\n",
       " 146,\n",
       " 156,\n",
       " 228,\n",
       " 78,\n",
       " 184,\n",
       " 125,\n",
       " 564,\n",
       " 374,\n",
       " 356,\n",
       " 478,\n",
       " 311,\n",
       " 498,\n",
       " 126,\n",
       " 485,\n",
       " 91,\n",
       " 268,\n",
       " 115,\n",
       " 490,\n",
       " 365,\n",
       " 433,\n",
       " 155,\n",
       " 130,\n",
       " 114,\n",
       " 17,\n",
       " 416,\n",
       " 59,\n",
       " 360,\n",
       " 598,\n",
       " 128,\n",
       " 459,\n",
       " 375,\n",
       " 316,\n",
       " 404,\n",
       " 312,\n",
       " 364,\n",
       " 3,\n",
       " 111,\n",
       " 326,\n",
       " 269,\n",
       " 323,\n",
       " 471,\n",
       " 457,\n",
       " 387,\n",
       " 24,\n",
       " 61,\n",
       " 134,\n",
       " 405,\n",
       " 496,\n",
       " 392,\n",
       " 361,\n",
       " 441,\n",
       " 421,\n",
       " 313,\n",
       " 161,\n",
       " 308,\n",
       " 358,\n",
       " 605,\n",
       " 54,\n",
       " 322,\n",
       " 129,\n",
       " 522,\n",
       " 506,\n",
       " 493,\n",
       " 233,\n",
       " 469,\n",
       " 4,\n",
       " 116,\n",
       " 260,\n",
       " 164,\n",
       " 264,\n",
       " 512,\n",
       " 590,\n",
       " 580,\n",
       " 439,\n",
       " 581,\n",
       " 47,\n",
       " 616,\n",
       " 443,\n",
       " 460,\n",
       " 55,\n",
       " 423,\n",
       " 546,\n",
       " 150,\n",
       " 562,\n",
       " 62,\n",
       " 241,\n",
       " 49,\n",
       " 64,\n",
       " 514,\n",
       " 458,\n",
       " 75,\n",
       " 509,\n",
       " 18,\n",
       " 197,\n",
       " 486,\n",
       " 118,\n",
       " 168,\n",
       " 595,\n",
       " 329,\n",
       " 470,\n",
       " 362,\n",
       " 302,\n",
       " 383,\n",
       " 545,\n",
       " 418,\n",
       " 119,\n",
       " 382,\n",
       " 594,\n",
       " 50,\n",
       " 27,\n",
       " 479,\n",
       " 401,\n",
       " 376,\n",
       " 25,\n",
       " 602,\n",
       " 569,\n",
       " 536,\n",
       " 497,\n",
       " 160,\n",
       " 46,\n",
       " 548,\n",
       " 541,\n",
       " 553,\n",
       " 391,\n",
       " 307,\n",
       " 450,\n",
       " 238,\n",
       " 142,\n",
       " 366,\n",
       " 112,\n",
       " 121,\n",
       " 371,\n",
       " 378,\n",
       " 465,\n",
       " 560,\n",
       " 369,\n",
       " 367,\n",
       " 237,\n",
       " 567,\n",
       " 429,\n",
       " 63,\n",
       " 489,\n",
       " 372,\n",
       " 56,\n",
       " 434,\n",
       " 577,\n",
       " 473,\n",
       " 321,\n",
       " 484,\n",
       " 102,\n",
       " 340,\n",
       " 487,\n",
       " 124,\n",
       " 462,\n",
       " 504,\n",
       " 446,\n",
       " 251,\n",
       " 477,\n",
       " 422,\n",
       " 154,\n",
       " 370,\n",
       " 255,\n",
       " 449,\n",
       " 140,\n",
       " 213,\n",
       " 20,\n",
       " 551,\n",
       " 48,\n",
       " 540,\n",
       " 181,\n",
       " 626,\n",
       " 314,\n",
       " 456,\n",
       " 505,\n",
       " 482,\n",
       " 122,\n",
       " 588,\n",
       " 520,\n",
       " 445,\n",
       " 539,\n",
       " 628,\n",
       " 381,\n",
       " 403,\n",
       " 544,\n",
       " 224,\n",
       " 324,\n",
       " 461,\n",
       " 609,\n",
       " 593,\n",
       " 210,\n",
       " 265,\n",
       " 68,\n",
       " 535,\n",
       " 30,\n",
       " 444,\n",
       " 163,\n",
       " 568,\n",
       " 615,\n",
       " 407,\n",
       " 611,\n",
       " 515,\n",
       " 379,\n",
       " 291,\n",
       " 499,\n",
       " 14,\n",
       " 37,\n",
       " 152,\n",
       " 603,\n",
       " 66,\n",
       " 565,\n",
       " 113,\n",
       " 271,\n",
       " 272,\n",
       " 513,\n",
       " 377,\n",
       " 587,\n",
       " 495,\n",
       " 573,\n",
       " 516,\n",
       " 132,\n",
       " 320,\n",
       " 88,\n",
       " 133,\n",
       " 464,\n",
       " 282,\n",
       " 466,\n",
       " 394,\n",
       " 180,\n",
       " 359,\n",
       " 543,\n",
       " 448,\n",
       " 43,\n",
       " 623,\n",
       " 10,\n",
       " 169,\n",
       " 120,\n",
       " 135,\n",
       " 481,\n",
       " 574,\n",
       " 388,\n",
       " 357,\n",
       " 8,\n",
       " 368,\n",
       " 566,\n",
       " 315,\n",
       " 402,\n",
       " 261,\n",
       " 13,\n",
       " 76,\n",
       " 319,\n",
       " 570,\n",
       " 252,\n",
       " 583,\n",
       " 257,\n",
       " 500,\n",
       " 44,\n",
       " 518,\n",
       " 629,\n",
       " 431,\n",
       " 596,\n",
       " 424,\n",
       " 558,\n",
       " 279,\n",
       " 258,\n",
       " 555,\n",
       " 538,\n",
       " 468,\n",
       " 483,\n",
       " 22,\n",
       " 380,\n",
       " 249,\n",
       " 399,\n",
       " 273,\n",
       " 229,\n",
       " 425,\n",
       " 339,\n",
       " 523,\n",
       " 620,\n",
       " 246,\n",
       " 452,\n",
       " 393,\n",
       " 597,\n",
       " 256,\n",
       " 262,\n",
       " 239,\n",
       " 26,\n",
       " 274,\n",
       " 223,\n",
       " 608,\n",
       " 552,\n",
       " 53,\n",
       " 467,\n",
       " 557,\n",
       " 127,\n",
       " 521,\n",
       " 455,\n",
       " 585,\n",
       " 524,\n",
       " 453,\n",
       " 351,\n",
       " 619,\n",
       " 610,\n",
       " 38,\n",
       " 170,\n",
       " 412,\n",
       " 29,\n",
       " 259,\n",
       " 447,\n",
       " 51,\n",
       " 491,\n",
       " 442,\n",
       " 221,\n",
       " 232,\n",
       " 430,\n",
       " 71,\n",
       " 530,\n",
       " 16,\n",
       " 123,\n",
       " 209,\n",
       " 363,\n",
       " 165,\n",
       " 328,\n",
       " 389,\n",
       " 327,\n",
       " 510,\n",
       " 310,\n",
       " 488,\n",
       " 189,\n",
       " 400,\n",
       " 254,\n",
       " 7,\n",
       " 23,\n",
       " 472,\n",
       " 622,\n",
       " 563,\n",
       " 591,\n",
       " 413,\n",
       " 28,\n",
       " 386,\n",
       " 57,\n",
       " 334,\n",
       " 428,\n",
       " 427,\n",
       " 589,\n",
       " 480,\n",
       " 278,\n",
       " 417,\n",
       " 205,\n",
       " 335,\n",
       " 195,\n",
       " 281,\n",
       " 204,\n",
       " 547,\n",
       " 145,\n",
       " 227,\n",
       " 432,\n",
       " 12,\n",
       " 87,\n",
       " 437,\n",
       " 420,\n",
       " 494,\n",
       " 373,\n",
       " 266,\n",
       " 276,\n",
       " 248,\n",
       " 426,\n",
       " 245,\n",
       " 571,\n",
       " 600,\n",
       " 502,\n",
       " 621,\n",
       " 408,\n",
       " 575,\n",
       " 419,\n",
       " 250,\n",
       " 409,\n",
       " 526,\n",
       " 242,\n",
       " 296,\n",
       " 231,\n",
       " 211,\n",
       " 476,\n",
       " 576,\n",
       " 305,\n",
       " 586,\n",
       " 592,\n",
       " 604,\n",
       " 614,\n",
       " 508,\n",
       " 317,\n",
       " 415,\n",
       " 579,\n",
       " 542,\n",
       " 582,\n",
       " 194,\n",
       " 15,\n",
       " 492,\n",
       " 511,\n",
       " 398,\n",
       " 90,\n",
       " 578,\n",
       " 247,\n",
       " 93,\n",
       " 463,\n",
       " 191,\n",
       " 234,\n",
       " 226,\n",
       " 318,\n",
       " 101,\n",
       " 60,\n",
       " 384,\n",
       " 277,\n",
       " 240,\n",
       " 138,\n",
       " 556,\n",
       " 554,\n",
       " 67,\n",
       " 454,\n",
       " 5,\n",
       " 176,\n",
       " 243,\n",
       " 549,\n",
       " 517,\n",
       " 341,\n",
       " 82,\n",
       " 33,\n",
       " 200,\n",
       " 275,\n",
       " 65,\n",
       " 584,\n",
       " 550,\n",
       " 290,\n",
       " 397,\n",
       " 451,\n",
       " 270,\n",
       " 343,\n",
       " 435,\n",
       " 440,\n",
       " 79,\n",
       " 253,\n",
       " 627,\n",
       " 267,\n",
       " 230,\n",
       " 187,\n",
       " 244,\n",
       " 192,\n",
       " 607,\n",
       " 208,\n",
       " 193,\n",
       " 601,\n",
       " 199,\n",
       " 52,\n",
       " 396,\n",
       " 31,\n",
       " 618,\n",
       " 475,\n",
       " 331,\n",
       " 201,\n",
       " 414,\n",
       " 353,\n",
       " 345,\n",
       " 198,\n",
       " 561,\n",
       " 406,\n",
       " 92,\n",
       " 503,\n",
       " 99,\n",
       " 105,\n",
       " 212,\n",
       " 284,\n",
       " 299,\n",
       " 350,\n",
       " 385,\n",
       " 410,\n",
       " 519,\n",
       " 337,\n",
       " 83,\n",
       " 215,\n",
       " 162,\n",
       " 625,\n",
       " 177,\n",
       " 80,\n",
       " 77,\n",
       " 98,\n",
       " 354,\n",
       " 613,\n",
       " 438,\n",
       " 106,\n",
       " 527,\n",
       " 107,\n",
       " 507,\n",
       " 286,\n",
       " 19,\n",
       " 349,\n",
       " 96,\n",
       " 182,\n",
       " 178,\n",
       " 534,\n",
       " 559,\n",
       " 172,\n",
       " 292,\n",
       " 34,\n",
       " 206,\n",
       " 203,\n",
       " 214,\n",
       " 69,\n",
       " 304,\n",
       " 190,\n",
       " 141,\n",
       " 533,\n",
       " 185,\n",
       " 95,\n",
       " 220,\n",
       " 263,\n",
       " 332,\n",
       " 306,\n",
       " 94,\n",
       " 222,\n",
       " 347,\n",
       " 344,\n",
       " 283,\n",
       " 532,\n",
       " 474,\n",
       " 136,\n",
       " 175,\n",
       " 525,\n",
       " 529,\n",
       " 85,\n",
       " 599,\n",
       " 330,\n",
       " 86,\n",
       " 624,\n",
       " 298,\n",
       " 183,\n",
       " 179,\n",
       " 288,\n",
       " 219,\n",
       " 528,\n",
       " 84,\n",
       " 289,\n",
       " 236,\n",
       " 218,\n",
       " 301,\n",
       " 11,\n",
       " 9,\n",
       " 336,\n",
       " 436,\n",
       " 295,\n",
       " 537,\n",
       " 617,\n",
       " 235,\n",
       " 352,\n",
       " 104,\n",
       " 338,\n",
       " 531,\n",
       " 348,\n",
       " 207,\n",
       " 97,\n",
       " 174,\n",
       " 70,\n",
       " 280,\n",
       " 139,\n",
       " 606,\n",
       " 612,\n",
       " 131,\n",
       " 342,\n",
       " 572,\n",
       " 188,\n",
       " 217,\n",
       " 297,\n",
       " 89,\n",
       " 216,\n",
       " 202,\n",
       " 186,\n",
       " 108,\n",
       " 346,\n",
       " 333,\n",
       " 21,\n",
       " 110,\n",
       " 100,\n",
       " 287,\n",
       " 300,\n",
       " 293,\n",
       " 2,\n",
       " 137,\n",
       " 81,\n",
       " 294,\n",
       " 173,\n",
       " 6,\n",
       " 32,\n",
       " 285,\n",
       " 303,\n",
       " 0]"
      ]
     },
     "execution_count": 134,
     "metadata": {},
     "output_type": "execute_result"
    }
   ],
   "source": [
    "model = RandomForestRegressor(n_estimators=200, max_depth=50, max_features=round(len(poly_df.columns)/3), min_samples_split=2)\n",
    "model.fit(poly_df, y)\n",
    "top = [x[1] for x in sorted(zip(model.feature_importances_, poly_df.columns),reverse=True)]\n",
    "top"
   ]
  },
  {
   "cell_type": "code",
   "execution_count": 137,
   "metadata": {},
   "outputs": [
    {
     "name": "stdout",
     "output_type": "stream",
     "text": [
      "Top 146 features\n",
      "Top 148 features\n",
      "Top 150 features\n",
      "Top 152 features\n",
      "Top 154 features\n"
     ]
    }
   ],
   "source": [
    "cv_vals = list()\n",
    "for i in range(146,156,2):\n",
    "    rf = RandomForestRegressor(n_estimators=200, max_depth=50, max_features=round(i/3), min_samples_split=2)\n",
    "    rf.fit(poly_df[top[:i]], y)\n",
    "    cv_scores = cross_val_score(rf, poly_df[top[:i]], y, cv=5, scoring=\"r2\")\n",
    "    cv_vals.append(cv_scores.mean())\n",
    "    print(\"Top {} features\".format(i))"
   ]
  },
  {
   "cell_type": "code",
   "execution_count": 138,
   "metadata": {},
   "outputs": [
    {
     "data": {
      "text/plain": [
       "<matplotlib.axes._subplots.AxesSubplot at 0x2d27c7e8348>"
      ]
     },
     "execution_count": 138,
     "metadata": {},
     "output_type": "execute_result"
    },
    {
     "data": {
      "image/png": "[encoded data removed]",
      "text/plain": [
       "<Figure size 432x288 with 1 Axes>"
      ]
     },
     "metadata": {},
     "output_type": "display_data"
    }
   ],
   "source": [
    "pd.Series(cv_vals, index=[144+i*2 for i in range(1,len(cv_vals)+1)]).plot()"
   ]
  },
  {
   "cell_type": "code",
   "execution_count": 139,
   "metadata": {},
   "outputs": [
    {
     "name": "stdout",
     "output_type": "stream",
     "text": [
      "Training set score: 0.93787 \n",
      "Test-CV set score: 0.54655 \n"
     ]
    }
   ],
   "source": [
    "rf = RandomForestRegressor(n_estimators=200, max_depth=50, max_features=round(154/3), min_samples_split=2)\n",
    "rf.fit(poly_df[top[:154]], y)\n",
    "tr_score = rf.score(poly_df[top[:154]], y)\n",
    "cv_scores = cross_val_score(rf, poly_df[top[:154]], y, cv=5, scoring=\"r2\")\n",
    "print(\"Training set score: {:0.5f} \".format(tr_score))\n",
    "print(\"Test-CV set score: {:0.5f} \".format(cv_scores.mean()))"
   ]
  },
  {
   "cell_type": "code",
   "execution_count": 101,
   "metadata": {},
   "outputs": [
    {
     "data": {
      "text/plain": [
       "GridSearchCV(cv=5, error_score='raise-deprecating',\n",
       "             estimator=RandomForestRegressor(bootstrap=True, criterion='mse',\n",
       "                                             max_depth=None,\n",
       "                                             max_features='auto',\n",
       "                                             max_leaf_nodes=None,\n",
       "                                             min_impurity_decrease=0.0,\n",
       "                                             min_impurity_split=None,\n",
       "                                             min_samples_leaf=1,\n",
       "                                             min_samples_split=2,\n",
       "                                             min_weight_fraction_leaf=0.0,\n",
       "                                             n_estimators='warn', n_jobs=None,\n",
       "                                             oob_score=False, random_state=None,\n",
       "                                             verbose=0, warm_start=False),\n",
       "             iid='warn', n_jobs=None,\n",
       "             param_grid={'max_depth': [40, 50, 60], 'max_features': [49],\n",
       "                         'min_samples_leaf': [1, 2],\n",
       "                         'min_samples_split': [2, 5],\n",
       "                         'n_estimators': [200, 300]},\n",
       "             pre_dispatch='2*n_jobs', refit=True, return_train_score=False,\n",
       "             scoring='r2', verbose=0)"
      ]
     },
     "execution_count": 101,
     "metadata": {},
     "output_type": "execute_result"
    }
   ],
   "source": [
    "parameters = {  'max_depth': [40, 50, 60],\n",
    "                'max_features': [round(146/3)],\n",
    "                'min_samples_leaf': [1, 2],\n",
    "                'min_samples_split': [2, 5],\n",
    "                'n_estimators': [200, 300]\n",
    "            }\n",
    "grid = GridSearchCV(RandomForestRegressor(), parameters, cv=5, scoring='r2')\n",
    "grid.fit(poly_df[top[:146]], y)"
   ]
  },
  {
   "cell_type": "code",
   "execution_count": 102,
   "metadata": {},
   "outputs": [
    {
     "data": {
      "text/plain": [
       "{'max_depth': 50,\n",
       " 'max_features': 49,\n",
       " 'min_samples_leaf': 2,\n",
       " 'min_samples_split': 5,\n",
       " 'n_estimators': 200}"
      ]
     },
     "execution_count": 102,
     "metadata": {},
     "output_type": "execute_result"
    }
   ],
   "source": [
    "grid.best_params_"
   ]
  },
  {
   "cell_type": "code",
   "execution_count": 104,
   "metadata": {},
   "outputs": [
    {
     "data": {
      "text/plain": [
       "0.5567570191014624"
      ]
     },
     "execution_count": 104,
     "metadata": {},
     "output_type": "execute_result"
    }
   ],
   "source": [
    "grid.best_score_ "
   ]
  },
  {
   "cell_type": "code",
   "execution_count": 150,
   "metadata": {},
   "outputs": [
    {
     "data": {
      "text/plain": [
       "RandomForestRegressor(bootstrap=True, criterion='mse', max_depth=50,\n",
       "                      max_features=51, max_leaf_nodes=None,\n",
       "                      min_impurity_decrease=0.0, min_impurity_split=None,\n",
       "                      min_samples_leaf=2, min_samples_split=5,\n",
       "                      min_weight_fraction_leaf=0.0, n_estimators=200,\n",
       "                      n_jobs=None, oob_score=False, random_state=None,\n",
       "                      verbose=0, warm_start=False)"
      ]
     },
     "execution_count": 150,
     "metadata": {},
     "output_type": "execute_result"
    }
   ],
   "source": [
    "rf = RandomForestRegressor(max_depth= 50, n_estimators=200, max_features=round(154/3), min_samples_split=5, min_samples_leaf = 2)\n",
    "rf.fit(poly_df[top[:154]], y)"
   ]
  },
  {
   "cell_type": "code",
   "execution_count": 151,
   "metadata": {},
   "outputs": [
    {
     "name": "stdout",
     "output_type": "stream",
     "text": [
      "Training set score: 0.91631 \n",
      "Test-CV set score: 0.54355 \n"
     ]
    }
   ],
   "source": [
    "tr_score = rf.score(poly_df[top[:154]], y)\n",
    "cv_scores = cross_val_score(rf, poly_df[top[:154]], y, cv=5, scoring=\"r2\")\n",
    "print(\"Training set score: {:0.5f} \".format(tr_score))\n",
    "print(\"Test-CV set score: {:0.5f} \".format(cv_scores.mean()))"
   ]
  },
  {
   "cell_type": "code",
   "execution_count": 153,
   "metadata": {},
   "outputs": [
    {
     "name": "stdout",
     "output_type": "stream",
     "text": [
      "Training set score: 0.92054 \n",
      "Test-CV set score: 0.53829 \n"
     ]
    }
   ],
   "source": [
    "rf = RandomForestRegressor(max_depth= 50, n_estimators=200, max_features=round(len(poly_df.columns)/3), min_samples_split=5, min_samples_leaf = 2)\n",
    "rf.fit(poly_df, y)\n",
    "tr_score = rf.score(poly_df, y)\n",
    "cv_scores = cross_val_score(rf, poly_df, y, cv=5, scoring=\"r2\")\n",
    "print(\"Training set score: {:0.5f} \".format(tr_score))\n",
    "print(\"Test-CV set score: {:0.5f} \".format(cv_scores.mean()))"
   ]
  },
  {
   "cell_type": "code",
   "execution_count": 140,
   "metadata": {},
   "outputs": [
    {
     "data": {
      "text/plain": [
       "RandomForestRegressor(bootstrap=True, criterion='mse', max_depth=50,\n",
       "                      max_features=51, max_leaf_nodes=None,\n",
       "                      min_impurity_decrease=0.0, min_impurity_split=None,\n",
       "                      min_samples_leaf=1, min_samples_split=2,\n",
       "                      min_weight_fraction_leaf=0.0, n_estimators=200,\n",
       "                      n_jobs=None, oob_score=False, random_state=None,\n",
       "                      verbose=0, warm_start=False)"
      ]
     },
     "execution_count": 140,
     "metadata": {},
     "output_type": "execute_result"
    }
   ],
   "source": [
    "rf = RandomForestRegressor(n_estimators=200, max_depth=50, max_features=round(154/3), min_samples_split=2)\n",
    "rf.fit(poly_df[top[:154]], y)"
   ]
  },
  {
   "cell_type": "markdown",
   "metadata": {},
   "source": [
    "### Random Forest with Lasso coefs"
   ]
  },
  {
   "cell_type": "code",
   "execution_count": 79,
   "metadata": {},
   "outputs": [
    {
     "data": {
      "text/plain": [
       "RandomForestRegressor(bootstrap=True, criterion='mse', max_depth=50,\n",
       "                      max_features=26, max_leaf_nodes=None,\n",
       "                      min_impurity_decrease=0.0, min_impurity_split=None,\n",
       "                      min_samples_leaf=1, min_samples_split=2,\n",
       "                      min_weight_fraction_leaf=0.0, n_estimators=200,\n",
       "                      n_jobs=None, oob_score=False, random_state=None,\n",
       "                      verbose=0, warm_start=False)"
      ]
     },
     "execution_count": 79,
     "metadata": {},
     "output_type": "execute_result"
    }
   ],
   "source": [
    "rf = RandomForestRegressor(n_estimators=200, max_depth=50, max_features=round(len((tr.iloc[:,coefs]).columns)/3), min_samples_split=2)\n",
    "rf.fit(tr.iloc[:,coefs], y)"
   ]
  },
  {
   "cell_type": "code",
   "execution_count": 81,
   "metadata": {},
   "outputs": [
    {
     "name": "stdout",
     "output_type": "stream",
     "text": [
      "Training set score: 0.93647 \n",
      "Test-CV set score: 0.51338 \n"
     ]
    }
   ],
   "source": [
    "tr_score = rf.score(tr.iloc[:,coefs], y)\n",
    "cv_scores = cross_val_score(rf, tr.iloc[:,coefs], y, cv=5, scoring=\"r2\")\n",
    "print(\"Training set score: {:0.5f} \".format(tr_score))\n",
    "print(\"Test-CV set score: {:0.5f} \".format(cv_scores.mean()))"
   ]
  },
  {
   "cell_type": "markdown",
   "metadata": {},
   "source": [
    "### XGBoost"
   ]
  },
  {
   "cell_type": "code",
   "execution_count": 13,
   "metadata": {},
   "outputs": [
    {
     "name": "stderr",
     "output_type": "stream",
     "text": [
      "c:\\users\\razerjon24\\appdata\\local\\programs\\python\\python37\\lib\\site-packages\\xgboost\\core.py:587: FutureWarning: Series.base is deprecated and will be removed in a future version\n",
      "  if getattr(data, 'base', None) is not None and \\\n",
      "c:\\users\\razerjon24\\appdata\\local\\programs\\python\\python37\\lib\\site-packages\\xgboost\\core.py:588: FutureWarning: Series.base is deprecated and will be removed in a future version\n",
      "  data.base is not None and isinstance(data, np.ndarray) \\\n"
     ]
    },
    {
     "name": "stdout",
     "output_type": "stream",
     "text": [
      "[23:05:25] WARNING: C:/Jenkins/workspace/xgboost-win64_release_0.90/src/objective/regression_obj.cu:152: reg:linear is now deprecated in favor of reg:squarederror.\n"
     ]
    },
    {
     "data": {
      "text/plain": [
       "XGBRegressor(base_score=0.5, booster='gbtree', colsample_bylevel=1,\n",
       "             colsample_bynode=1, colsample_bytree=1, gamma=0,\n",
       "             importance_type='gain', learning_rate=0.1, max_delta_step=0,\n",
       "             max_depth=3, min_child_weight=1, missing=None, n_estimators=100,\n",
       "             n_jobs=1, nthread=None, objective='reg:linear', random_state=0,\n",
       "             reg_alpha=0, reg_lambda=1, scale_pos_weight=1, seed=None,\n",
       "             silent=None, subsample=1, verbosity=1)"
      ]
     },
     "execution_count": 13,
     "metadata": {},
     "output_type": "execute_result"
    }
   ],
   "source": [
    "xgb = XGBRegressor(objective ='reg:squarederror', learning_rate = 0.1, max_depth = 3)\n",
    "xgb.fit(tr, y)"
   ]
  },
  {
   "cell_type": "code",
   "execution_count": 14,
   "metadata": {
    "scrolled": true
   },
   "outputs": [
    {
     "name": "stderr",
     "output_type": "stream",
     "text": [
      "c:\\users\\razerjon24\\appdata\\local\\programs\\python\\python37\\lib\\site-packages\\xgboost\\core.py:587: FutureWarning: Series.base is deprecated and will be removed in a future version\n",
      "  if getattr(data, 'base', None) is not None and \\\n"
     ]
    },
    {
     "name": "stdout",
     "output_type": "stream",
     "text": [
      "[23:06:02] WARNING: C:/Jenkins/workspace/xgboost-win64_release_0.90/src/objective/regression_obj.cu:152: reg:linear is now deprecated in favor of reg:squarederror.\n"
     ]
    },
    {
     "name": "stderr",
     "output_type": "stream",
     "text": [
      "c:\\users\\razerjon24\\appdata\\local\\programs\\python\\python37\\lib\\site-packages\\xgboost\\core.py:587: FutureWarning: Series.base is deprecated and will be removed in a future version\n",
      "  if getattr(data, 'base', None) is not None and \\\n"
     ]
    },
    {
     "name": "stdout",
     "output_type": "stream",
     "text": [
      "[23:06:09] WARNING: C:/Jenkins/workspace/xgboost-win64_release_0.90/src/objective/regression_obj.cu:152: reg:linear is now deprecated in favor of reg:squarederror.\n"
     ]
    },
    {
     "name": "stderr",
     "output_type": "stream",
     "text": [
      "c:\\users\\razerjon24\\appdata\\local\\programs\\python\\python37\\lib\\site-packages\\xgboost\\core.py:587: FutureWarning: Series.base is deprecated and will be removed in a future version\n",
      "  if getattr(data, 'base', None) is not None and \\\n"
     ]
    },
    {
     "name": "stdout",
     "output_type": "stream",
     "text": [
      "[23:06:15] WARNING: C:/Jenkins/workspace/xgboost-win64_release_0.90/src/objective/regression_obj.cu:152: reg:linear is now deprecated in favor of reg:squarederror.\n"
     ]
    },
    {
     "name": "stderr",
     "output_type": "stream",
     "text": [
      "c:\\users\\razerjon24\\appdata\\local\\programs\\python\\python37\\lib\\site-packages\\xgboost\\core.py:587: FutureWarning: Series.base is deprecated and will be removed in a future version\n",
      "  if getattr(data, 'base', None) is not None and \\\n"
     ]
    },
    {
     "name": "stdout",
     "output_type": "stream",
     "text": [
      "[23:06:21] WARNING: C:/Jenkins/workspace/xgboost-win64_release_0.90/src/objective/regression_obj.cu:152: reg:linear is now deprecated in favor of reg:squarederror.\n"
     ]
    },
    {
     "name": "stderr",
     "output_type": "stream",
     "text": [
      "c:\\users\\razerjon24\\appdata\\local\\programs\\python\\python37\\lib\\site-packages\\xgboost\\core.py:587: FutureWarning: Series.base is deprecated and will be removed in a future version\n",
      "  if getattr(data, 'base', None) is not None and \\\n"
     ]
    },
    {
     "name": "stdout",
     "output_type": "stream",
     "text": [
      "[23:06:27] WARNING: C:/Jenkins/workspace/xgboost-win64_release_0.90/src/objective/regression_obj.cu:152: reg:linear is now deprecated in favor of reg:squarederror.\n",
      "Training set score: 0.87779 \n",
      "Test-CV set score: 0.49028 \n"
     ]
    }
   ],
   "source": [
    "tr_score = xgb.score(tr, y)\n",
    "cv_scores = cross_val_score(xgb, tr, y, cv=5, scoring=\"r2\")\n",
    "print(\"Training set score: {:0.5f} \".format(tr_score))\n",
    "print(\"Test-CV set score: {:0.5f} \".format(cv_scores.mean()))"
   ]
  },
  {
   "cell_type": "markdown",
   "metadata": {},
   "source": [
    "### XGBoost with interactions"
   ]
  },
  {
   "cell_type": "code",
   "execution_count": 161,
   "metadata": {},
   "outputs": [
    {
     "name": "stderr",
     "output_type": "stream",
     "text": [
      "c:\\users\\razerjon24\\appdata\\local\\programs\\python\\python37\\lib\\site-packages\\xgboost\\core.py:587: FutureWarning: Series.base is deprecated and will be removed in a future version\n",
      "  if getattr(data, 'base', None) is not None and \\\n",
      "c:\\users\\razerjon24\\appdata\\local\\programs\\python\\python37\\lib\\site-packages\\xgboost\\core.py:588: FutureWarning: Series.base is deprecated and will be removed in a future version\n",
      "  data.base is not None and isinstance(data, np.ndarray) \\\n"
     ]
    },
    {
     "data": {
      "text/plain": [
       "XGBRegressor(base_score=0.5, booster='gbtree', colsample_bylevel=1,\n",
       "             colsample_bynode=1, colsample_bytree=1, gamma=0,\n",
       "             importance_type='gain', learning_rate=0.1, max_delta_step=0,\n",
       "             max_depth=3, min_child_weight=1, missing=None, n_estimators=100,\n",
       "             n_jobs=1, nthread=None, objective='reg:squarederror',\n",
       "             random_state=0, reg_alpha=0, reg_lambda=1, scale_pos_weight=1,\n",
       "             seed=None, silent=None, subsample=1, verbosity=1)"
      ]
     },
     "execution_count": 161,
     "metadata": {},
     "output_type": "execute_result"
    }
   ],
   "source": [
    "xgb = XGBRegressor(objective ='reg:squarederror', learning_rate = 0.1, max_depth = 3)\n",
    "xgb.fit(poly_df, y)"
   ]
  },
  {
   "cell_type": "code",
   "execution_count": 160,
   "metadata": {},
   "outputs": [
    {
     "name": "stderr",
     "output_type": "stream",
     "text": [
      "c:\\users\\razerjon24\\appdata\\local\\programs\\python\\python37\\lib\\site-packages\\xgboost\\core.py:587: FutureWarning: Series.base is deprecated and will be removed in a future version\n",
      "  if getattr(data, 'base', None) is not None and \\\n",
      "c:\\users\\razerjon24\\appdata\\local\\programs\\python\\python37\\lib\\site-packages\\xgboost\\core.py:587: FutureWarning: Series.base is deprecated and will be removed in a future version\n",
      "  if getattr(data, 'base', None) is not None and \\\n",
      "c:\\users\\razerjon24\\appdata\\local\\programs\\python\\python37\\lib\\site-packages\\xgboost\\core.py:587: FutureWarning: Series.base is deprecated and will be removed in a future version\n",
      "  if getattr(data, 'base', None) is not None and \\\n",
      "c:\\users\\razerjon24\\appdata\\local\\programs\\python\\python37\\lib\\site-packages\\xgboost\\core.py:587: FutureWarning: Series.base is deprecated and will be removed in a future version\n",
      "  if getattr(data, 'base', None) is not None and \\\n",
      "c:\\users\\razerjon24\\appdata\\local\\programs\\python\\python37\\lib\\site-packages\\xgboost\\core.py:587: FutureWarning: Series.base is deprecated and will be removed in a future version\n",
      "  if getattr(data, 'base', None) is not None and \\\n"
     ]
    },
    {
     "name": "stdout",
     "output_type": "stream",
     "text": [
      "Training set score: 0.87274 \n",
      "Test-CV set score: 0.55007 \n"
     ]
    }
   ],
   "source": [
    "tr_score = xgb.score(poly_df, y)\n",
    "cv_scores = cross_val_score(xgb, poly_df, y, cv=5, scoring=\"r2\")\n",
    "print(\"Training set score: {:0.5f} \".format(tr_score))\n",
    "print(\"Test-CV set score: {:0.5f} \".format(cv_scores.mean()))"
   ]
  },
  {
   "cell_type": "code",
   "execution_count": 175,
   "metadata": {},
   "outputs": [],
   "source": [
    "parameters = {  'learning_rate': [0.1,0.15], \n",
    "              'max_depth': [6]\n",
    "            }"
   ]
  },
  {
   "cell_type": "code",
   "execution_count": 176,
   "metadata": {
    "scrolled": true
   },
   "outputs": [
    {
     "name": "stdout",
     "output_type": "stream",
     "text": [
      "[04:10:04] WARNING: C:/Jenkins/workspace/xgboost-win64_release_0.90/src/objective/regression_obj.cu:152: reg:linear is now deprecated in favor of reg:squarederror.\n"
     ]
    },
    {
     "name": "stderr",
     "output_type": "stream",
     "text": [
      "c:\\users\\razerjon24\\appdata\\local\\programs\\python\\python37\\lib\\site-packages\\xgboost\\core.py:587: FutureWarning: Series.base is deprecated and will be removed in a future version\n",
      "  if getattr(data, 'base', None) is not None and \\\n"
     ]
    },
    {
     "name": "stdout",
     "output_type": "stream",
     "text": [
      "[04:10:23] WARNING: C:/Jenkins/workspace/xgboost-win64_release_0.90/src/objective/regression_obj.cu:152: reg:linear is now deprecated in favor of reg:squarederror.\n"
     ]
    },
    {
     "name": "stderr",
     "output_type": "stream",
     "text": [
      "c:\\users\\razerjon24\\appdata\\local\\programs\\python\\python37\\lib\\site-packages\\xgboost\\core.py:587: FutureWarning: Series.base is deprecated and will be removed in a future version\n",
      "  if getattr(data, 'base', None) is not None and \\\n"
     ]
    },
    {
     "name": "stdout",
     "output_type": "stream",
     "text": [
      "[04:10:42] WARNING: C:/Jenkins/workspace/xgboost-win64_release_0.90/src/objective/regression_obj.cu:152: reg:linear is now deprecated in favor of reg:squarederror.\n"
     ]
    },
    {
     "name": "stderr",
     "output_type": "stream",
     "text": [
      "c:\\users\\razerjon24\\appdata\\local\\programs\\python\\python37\\lib\\site-packages\\xgboost\\core.py:587: FutureWarning: Series.base is deprecated and will be removed in a future version\n",
      "  if getattr(data, 'base', None) is not None and \\\n"
     ]
    },
    {
     "name": "stdout",
     "output_type": "stream",
     "text": [
      "[04:11:02] WARNING: C:/Jenkins/workspace/xgboost-win64_release_0.90/src/objective/regression_obj.cu:152: reg:linear is now deprecated in favor of reg:squarederror.\n"
     ]
    },
    {
     "name": "stderr",
     "output_type": "stream",
     "text": [
      "c:\\users\\razerjon24\\appdata\\local\\programs\\python\\python37\\lib\\site-packages\\xgboost\\core.py:587: FutureWarning: Series.base is deprecated and will be removed in a future version\n",
      "  if getattr(data, 'base', None) is not None and \\\n"
     ]
    },
    {
     "name": "stdout",
     "output_type": "stream",
     "text": [
      "[04:11:21] WARNING: C:/Jenkins/workspace/xgboost-win64_release_0.90/src/objective/regression_obj.cu:152: reg:linear is now deprecated in favor of reg:squarederror.\n"
     ]
    },
    {
     "name": "stderr",
     "output_type": "stream",
     "text": [
      "c:\\users\\razerjon24\\appdata\\local\\programs\\python\\python37\\lib\\site-packages\\xgboost\\core.py:587: FutureWarning: Series.base is deprecated and will be removed in a future version\n",
      "  if getattr(data, 'base', None) is not None and \\\n"
     ]
    },
    {
     "name": "stdout",
     "output_type": "stream",
     "text": [
      "[04:11:42] WARNING: C:/Jenkins/workspace/xgboost-win64_release_0.90/src/objective/regression_obj.cu:152: reg:linear is now deprecated in favor of reg:squarederror.\n"
     ]
    },
    {
     "name": "stderr",
     "output_type": "stream",
     "text": [
      "c:\\users\\razerjon24\\appdata\\local\\programs\\python\\python37\\lib\\site-packages\\xgboost\\core.py:587: FutureWarning: Series.base is deprecated and will be removed in a future version\n",
      "  if getattr(data, 'base', None) is not None and \\\n"
     ]
    },
    {
     "name": "stdout",
     "output_type": "stream",
     "text": [
      "[04:12:04] WARNING: C:/Jenkins/workspace/xgboost-win64_release_0.90/src/objective/regression_obj.cu:152: reg:linear is now deprecated in favor of reg:squarederror.\n"
     ]
    },
    {
     "name": "stderr",
     "output_type": "stream",
     "text": [
      "c:\\users\\razerjon24\\appdata\\local\\programs\\python\\python37\\lib\\site-packages\\xgboost\\core.py:587: FutureWarning: Series.base is deprecated and will be removed in a future version\n",
      "  if getattr(data, 'base', None) is not None and \\\n"
     ]
    },
    {
     "name": "stdout",
     "output_type": "stream",
     "text": [
      "[04:12:24] WARNING: C:/Jenkins/workspace/xgboost-win64_release_0.90/src/objective/regression_obj.cu:152: reg:linear is now deprecated in favor of reg:squarederror.\n"
     ]
    },
    {
     "name": "stderr",
     "output_type": "stream",
     "text": [
      "c:\\users\\razerjon24\\appdata\\local\\programs\\python\\python37\\lib\\site-packages\\xgboost\\core.py:587: FutureWarning: Series.base is deprecated and will be removed in a future version\n",
      "  if getattr(data, 'base', None) is not None and \\\n"
     ]
    },
    {
     "name": "stdout",
     "output_type": "stream",
     "text": [
      "[04:12:44] WARNING: C:/Jenkins/workspace/xgboost-win64_release_0.90/src/objective/regression_obj.cu:152: reg:linear is now deprecated in favor of reg:squarederror.\n"
     ]
    },
    {
     "name": "stderr",
     "output_type": "stream",
     "text": [
      "c:\\users\\razerjon24\\appdata\\local\\programs\\python\\python37\\lib\\site-packages\\xgboost\\core.py:587: FutureWarning: Series.base is deprecated and will be removed in a future version\n",
      "  if getattr(data, 'base', None) is not None and \\\n"
     ]
    },
    {
     "name": "stdout",
     "output_type": "stream",
     "text": [
      "[04:13:04] WARNING: C:/Jenkins/workspace/xgboost-win64_release_0.90/src/objective/regression_obj.cu:152: reg:linear is now deprecated in favor of reg:squarederror.\n"
     ]
    },
    {
     "name": "stderr",
     "output_type": "stream",
     "text": [
      "c:\\users\\razerjon24\\appdata\\local\\programs\\python\\python37\\lib\\site-packages\\xgboost\\core.py:587: FutureWarning: Series.base is deprecated and will be removed in a future version\n",
      "  if getattr(data, 'base', None) is not None and \\\n",
      "c:\\users\\razerjon24\\appdata\\local\\programs\\python\\python37\\lib\\site-packages\\xgboost\\core.py:588: FutureWarning: Series.base is deprecated and will be removed in a future version\n",
      "  data.base is not None and isinstance(data, np.ndarray) \\\n"
     ]
    },
    {
     "name": "stdout",
     "output_type": "stream",
     "text": [
      "[04:13:23] WARNING: C:/Jenkins/workspace/xgboost-win64_release_0.90/src/objective/regression_obj.cu:152: reg:linear is now deprecated in favor of reg:squarederror.\n"
     ]
    },
    {
     "data": {
      "text/plain": [
       "GridSearchCV(cv=5, error_score='raise-deprecating',\n",
       "             estimator=XGBRegressor(base_score=0.5, booster='gbtree',\n",
       "                                    colsample_bylevel=1, colsample_bynode=1,\n",
       "                                    colsample_bytree=1, gamma=0,\n",
       "                                    importance_type='gain', learning_rate=0.1,\n",
       "                                    max_delta_step=0, max_depth=3,\n",
       "                                    min_child_weight=1, missing=None,\n",
       "                                    n_estimators=100, n_jobs=1, nthread=None,\n",
       "                                    objective='reg:linear', random_state=0,\n",
       "                                    reg_alpha=0, reg_lambda=1,\n",
       "                                    scale_pos_weight=1, seed=None, silent=None,\n",
       "                                    subsample=1, verbosity=1),\n",
       "             iid='warn', n_jobs=None,\n",
       "             param_grid={'learning_rate': [0.1, 0.15], 'max_depth': [6]},\n",
       "             pre_dispatch='2*n_jobs', refit=True, return_train_score=False,\n",
       "             scoring='r2', verbose=0)"
      ]
     },
     "execution_count": 176,
     "metadata": {},
     "output_type": "execute_result"
    }
   ],
   "source": [
    "grid = GridSearchCV(XGBRegressor(), parameters, cv=5, scoring='r2')\n",
    "grid.fit(poly_df, y)"
   ]
  },
  {
   "cell_type": "code",
   "execution_count": 177,
   "metadata": {},
   "outputs": [
    {
     "data": {
      "text/plain": [
       "{'learning_rate': 0.1, 'max_depth': 6}"
      ]
     },
     "execution_count": 177,
     "metadata": {},
     "output_type": "execute_result"
    }
   ],
   "source": [
    "grid.best_params_"
   ]
  },
  {
   "cell_type": "code",
   "execution_count": 178,
   "metadata": {},
   "outputs": [
    {
     "data": {
      "text/plain": [
       "0.550922107875314"
      ]
     },
     "execution_count": 178,
     "metadata": {},
     "output_type": "execute_result"
    }
   ],
   "source": [
    "grid.best_score_"
   ]
  },
  {
   "cell_type": "code",
   "execution_count": 179,
   "metadata": {
    "scrolled": true
   },
   "outputs": [
    {
     "name": "stdout",
     "output_type": "stream",
     "text": [
      "[04:14:02] WARNING: C:/Jenkins/workspace/xgboost-win64_release_0.90/src/objective/regression_obj.cu:152: reg:linear is now deprecated in favor of reg:squarederror.\n"
     ]
    },
    {
     "data": {
      "text/plain": [
       "XGBRegressor(base_score=0.5, booster='gbtree', colsample_bylevel=1,\n",
       "             colsample_bynode=1, colsample_bytree=1, gamma=0,\n",
       "             importance_type='gain', learning_rate=0.1, max_delta_step=0,\n",
       "             max_depth=6, min_child_weight=1, missing=None, n_estimators=100,\n",
       "             n_jobs=1, nthread=None, objective='reg:linear', random_state=0,\n",
       "             reg_alpha=0, reg_lambda=1, scale_pos_weight=1, seed=None,\n",
       "             silent=None, subsample=1, verbosity=1)"
      ]
     },
     "execution_count": 179,
     "metadata": {},
     "output_type": "execute_result"
    }
   ],
   "source": [
    "xgb = XGBRegressor(learning_rate= 0.1, max_depth= 6)\n",
    "xgb.fit(poly_df, y)"
   ]
  },
  {
   "cell_type": "markdown",
   "metadata": {},
   "source": [
    "### XGBoost with Lasso coefs"
   ]
  },
  {
   "cell_type": "code",
   "execution_count": 15,
   "metadata": {},
   "outputs": [
    {
     "name": "stderr",
     "output_type": "stream",
     "text": [
      "c:\\users\\razerjon24\\appdata\\local\\programs\\python\\python37\\lib\\site-packages\\xgboost\\core.py:587: FutureWarning: Series.base is deprecated and will be removed in a future version\n",
      "  if getattr(data, 'base', None) is not None and \\\n",
      "c:\\users\\razerjon24\\appdata\\local\\programs\\python\\python37\\lib\\site-packages\\xgboost\\core.py:588: FutureWarning: Series.base is deprecated and will be removed in a future version\n",
      "  data.base is not None and isinstance(data, np.ndarray) \\\n"
     ]
    },
    {
     "name": "stdout",
     "output_type": "stream",
     "text": [
      "[23:07:46] WARNING: C:/Jenkins/workspace/xgboost-win64_release_0.90/src/objective/regression_obj.cu:152: reg:linear is now deprecated in favor of reg:squarederror.\n"
     ]
    },
    {
     "data": {
      "text/plain": [
       "XGBRegressor(base_score=0.5, booster='gbtree', colsample_bylevel=1,\n",
       "             colsample_bynode=1, colsample_bytree=1, gamma=0,\n",
       "             importance_type='gain', learning_rate=0.1, max_delta_step=0,\n",
       "             max_depth=3, min_child_weight=1, missing=None, n_estimators=100,\n",
       "             n_jobs=1, nthread=None, objective='reg:linear', random_state=0,\n",
       "             reg_alpha=0, reg_lambda=1, scale_pos_weight=1, seed=None,\n",
       "             silent=None, subsample=1, verbosity=1)"
      ]
     },
     "execution_count": 15,
     "metadata": {},
     "output_type": "execute_result"
    }
   ],
   "source": [
    "xgb.fit(tr.iloc[:,coefs], y)"
   ]
  },
  {
   "cell_type": "code",
   "execution_count": 16,
   "metadata": {
    "scrolled": true
   },
   "outputs": [
    {
     "name": "stderr",
     "output_type": "stream",
     "text": [
      "c:\\users\\razerjon24\\appdata\\local\\programs\\python\\python37\\lib\\site-packages\\xgboost\\core.py:587: FutureWarning: Series.base is deprecated and will be removed in a future version\n",
      "  if getattr(data, 'base', None) is not None and \\\n"
     ]
    },
    {
     "name": "stdout",
     "output_type": "stream",
     "text": [
      "[23:08:10] WARNING: C:/Jenkins/workspace/xgboost-win64_release_0.90/src/objective/regression_obj.cu:152: reg:linear is now deprecated in favor of reg:squarederror.\n"
     ]
    },
    {
     "name": "stderr",
     "output_type": "stream",
     "text": [
      "c:\\users\\razerjon24\\appdata\\local\\programs\\python\\python37\\lib\\site-packages\\xgboost\\core.py:587: FutureWarning: Series.base is deprecated and will be removed in a future version\n",
      "  if getattr(data, 'base', None) is not None and \\\n"
     ]
    },
    {
     "name": "stdout",
     "output_type": "stream",
     "text": [
      "[23:08:10] WARNING: C:/Jenkins/workspace/xgboost-win64_release_0.90/src/objective/regression_obj.cu:152: reg:linear is now deprecated in favor of reg:squarederror.\n"
     ]
    },
    {
     "name": "stderr",
     "output_type": "stream",
     "text": [
      "c:\\users\\razerjon24\\appdata\\local\\programs\\python\\python37\\lib\\site-packages\\xgboost\\core.py:587: FutureWarning: Series.base is deprecated and will be removed in a future version\n",
      "  if getattr(data, 'base', None) is not None and \\\n"
     ]
    },
    {
     "name": "stdout",
     "output_type": "stream",
     "text": [
      "[23:08:11] WARNING: C:/Jenkins/workspace/xgboost-win64_release_0.90/src/objective/regression_obj.cu:152: reg:linear is now deprecated in favor of reg:squarederror.\n"
     ]
    },
    {
     "name": "stderr",
     "output_type": "stream",
     "text": [
      "c:\\users\\razerjon24\\appdata\\local\\programs\\python\\python37\\lib\\site-packages\\xgboost\\core.py:587: FutureWarning: Series.base is deprecated and will be removed in a future version\n",
      "  if getattr(data, 'base', None) is not None and \\\n"
     ]
    },
    {
     "name": "stdout",
     "output_type": "stream",
     "text": [
      "[23:08:12] WARNING: C:/Jenkins/workspace/xgboost-win64_release_0.90/src/objective/regression_obj.cu:152: reg:linear is now deprecated in favor of reg:squarederror.\n"
     ]
    },
    {
     "name": "stderr",
     "output_type": "stream",
     "text": [
      "c:\\users\\razerjon24\\appdata\\local\\programs\\python\\python37\\lib\\site-packages\\xgboost\\core.py:587: FutureWarning: Series.base is deprecated and will be removed in a future version\n",
      "  if getattr(data, 'base', None) is not None and \\\n"
     ]
    },
    {
     "name": "stdout",
     "output_type": "stream",
     "text": [
      "[23:08:12] WARNING: C:/Jenkins/workspace/xgboost-win64_release_0.90/src/objective/regression_obj.cu:152: reg:linear is now deprecated in favor of reg:squarederror.\n",
      "Training set score: 0.85435 \n",
      "Test-CV set score: 0.52265 \n"
     ]
    }
   ],
   "source": [
    "tr_score = xgb.score(tr.iloc[:,coefs], y)\n",
    "cv_scores = cross_val_score(xgb,tr.iloc[:,coefs], y, cv=5, scoring=\"r2\")\n",
    "print(\"Training set score: {:0.5f} \".format(tr_score))\n",
    "print(\"Test-CV set score: {:0.5f} \".format(cv_scores.mean()))"
   ]
  },
  {
   "cell_type": "code",
   "execution_count": 34,
   "metadata": {
    "scrolled": true
   },
   "outputs": [
    {
     "name": "stderr",
     "output_type": "stream",
     "text": [
      "c:\\users\\razerjon24\\appdata\\local\\programs\\python\\python37\\lib\\site-packages\\xgboost\\core.py:587: FutureWarning: Series.base is deprecated and will be removed in a future version\n",
      "  if getattr(data, 'base', None) is not None and \\\n"
     ]
    },
    {
     "name": "stdout",
     "output_type": "stream",
     "text": [
      "[23:33:35] WARNING: C:/Jenkins/workspace/xgboost-win64_release_0.90/src/objective/regression_obj.cu:152: reg:linear is now deprecated in favor of reg:squarederror.\n"
     ]
    },
    {
     "name": "stderr",
     "output_type": "stream",
     "text": [
      "c:\\users\\razerjon24\\appdata\\local\\programs\\python\\python37\\lib\\site-packages\\xgboost\\core.py:587: FutureWarning: Series.base is deprecated and will be removed in a future version\n",
      "  if getattr(data, 'base', None) is not None and \\\n"
     ]
    },
    {
     "name": "stdout",
     "output_type": "stream",
     "text": [
      "[23:33:35] WARNING: C:/Jenkins/workspace/xgboost-win64_release_0.90/src/objective/regression_obj.cu:152: reg:linear is now deprecated in favor of reg:squarederror.\n"
     ]
    },
    {
     "name": "stderr",
     "output_type": "stream",
     "text": [
      "c:\\users\\razerjon24\\appdata\\local\\programs\\python\\python37\\lib\\site-packages\\xgboost\\core.py:587: FutureWarning: Series.base is deprecated and will be removed in a future version\n",
      "  if getattr(data, 'base', None) is not None and \\\n"
     ]
    },
    {
     "name": "stdout",
     "output_type": "stream",
     "text": [
      "[23:33:36] WARNING: C:/Jenkins/workspace/xgboost-win64_release_0.90/src/objective/regression_obj.cu:152: reg:linear is now deprecated in favor of reg:squarederror.\n"
     ]
    },
    {
     "name": "stderr",
     "output_type": "stream",
     "text": [
      "c:\\users\\razerjon24\\appdata\\local\\programs\\python\\python37\\lib\\site-packages\\xgboost\\core.py:587: FutureWarning: Series.base is deprecated and will be removed in a future version\n",
      "  if getattr(data, 'base', None) is not None and \\\n"
     ]
    },
    {
     "name": "stdout",
     "output_type": "stream",
     "text": [
      "[23:33:36] WARNING: C:/Jenkins/workspace/xgboost-win64_release_0.90/src/objective/regression_obj.cu:152: reg:linear is now deprecated in favor of reg:squarederror.\n"
     ]
    },
    {
     "name": "stderr",
     "output_type": "stream",
     "text": [
      "c:\\users\\razerjon24\\appdata\\local\\programs\\python\\python37\\lib\\site-packages\\xgboost\\core.py:587: FutureWarning: Series.base is deprecated and will be removed in a future version\n",
      "  if getattr(data, 'base', None) is not None and \\\n"
     ]
    },
    {
     "name": "stdout",
     "output_type": "stream",
     "text": [
      "[23:33:37] WARNING: C:/Jenkins/workspace/xgboost-win64_release_0.90/src/objective/regression_obj.cu:152: reg:linear is now deprecated in favor of reg:squarederror.\n",
      "Training set score: 0.94157 \n",
      "Test-CV set score: 0.53337 \n"
     ]
    }
   ],
   "source": [
    "tr_score = xgb.score(tr.iloc[:,coefs], y)\n",
    "cv_scores = cross_val_score(xgb,tr.iloc[:,coefs], y, cv=5, scoring=\"r2\")\n",
    "print(\"Training set score: {:0.5f} \".format(tr_score))\n",
    "print(\"Test-CV set score: {:0.5f} \".format(cv_scores.mean()))"
   ]
  },
  {
   "cell_type": "markdown",
   "metadata": {},
   "source": [
    "### Multi-layer Perceptron Neural Network"
   ]
  },
  {
   "cell_type": "code",
   "execution_count": null,
   "metadata": {},
   "outputs": [],
   "source": [
    "mlp = MLPRegressor()\n",
    "mlp.fit(tr_set.iloc[:,coefs], y) #standardized"
   ]
  },
  {
   "cell_type": "markdown",
   "metadata": {},
   "source": [
    "## Test"
   ]
  },
  {
   "cell_type": "code",
   "execution_count": 24,
   "metadata": {},
   "outputs": [],
   "source": [
    "test_y = rf.predict(ts[top_1[:40]])\n",
    "file_test = \"rf_top_40\""
   ]
  },
  {
   "cell_type": "code",
   "execution_count": 143,
   "metadata": {},
   "outputs": [],
   "source": [
    "test_y = rf.predict(poly_ts[top[:154]])\n",
    "file_test = \"rf_inter_top\""
   ]
  },
  {
   "cell_type": "code",
   "execution_count": 26,
   "metadata": {},
   "outputs": [],
   "source": [
    "test_y = xgb.predict(ts.iloc[:,coefs])"
   ]
  },
  {
   "cell_type": "code",
   "execution_count": 180,
   "metadata": {},
   "outputs": [],
   "source": [
    "test_y = xgb.predict(poly_ts)\n",
    "file_test = \"xgb_inter_top_grid\""
   ]
  },
  {
   "cell_type": "code",
   "execution_count": 25,
   "metadata": {},
   "outputs": [],
   "source": [
    "output = pd.DataFrame({'id':[float(i) for i in range(0,len(test_y))],'y':test_y})\n",
    "output.to_csv(\"{}.csv\".format(file_test),index=False)"
   ]
  },
  {
   "cell_type": "markdown",
   "metadata": {},
   "source": [
    "## Ensemble"
   ]
  },
  {
   "cell_type": "code",
   "execution_count": 183,
   "metadata": {},
   "outputs": [],
   "source": [
    "out_1 = pd.read_csv(\"rf_inter_top.csv\").y\n",
    "out_2 = pd.read_csv(\"xgb_inter_top_grid.csv\").y"
   ]
  },
  {
   "cell_type": "markdown",
   "metadata": {},
   "source": [
    "### mean"
   ]
  },
  {
   "cell_type": "code",
   "execution_count": 184,
   "metadata": {},
   "outputs": [],
   "source": [
    "ensemble = (out_1+out_2)/2\n",
    "out_ensemble = pd.DataFrame({'id':[float(i) for i in range(0,len(ensemble))],'y':ensemble})\n",
    "out_ensemble.to_csv(\"ensemble_mean.csv\",index=False)"
   ]
  },
  {
   "cell_type": "markdown",
   "metadata": {},
   "source": [
    "### linear regression"
   ]
  },
  {
   "cell_type": "code",
   "execution_count": null,
   "metadata": {},
   "outputs": [],
   "source": [
    "lr_ensemble = LinearRegression().fit(tr_set[coefs], y)\n"
   ]
  }
 ],
 "metadata": {
  "kernelspec": {
   "display_name": "Python 3",
   "language": "python",
   "name": "python3"
  },
  "language_info": {
   "codemirror_mode": {
    "name": "ipython",
    "version": 3
   },
   "file_extension": ".py",
   "mimetype": "text/x-python",
   "name": "python",
   "nbconvert_exporter": "python",
   "pygments_lexer": "ipython3",
   "version": "3.7.5"
  }
 },
 "nbformat": 4,
 "nbformat_minor": 2
}
