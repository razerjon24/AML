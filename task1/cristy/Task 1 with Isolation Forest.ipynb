{
 "cells": [
  {
   "cell_type": "code",
   "execution_count": 1,
   "metadata": {},
   "outputs": [],
   "source": [
    "import pandas as pd\n",
    "from pandas import read_csv\n",
    "from pandas.api.types import is_numeric_dtype\n",
    "import numpy as np\n",
    "from matplotlib import pyplot as plt\n",
    "import seaborn as sns\n",
    "from scipy import stats\n",
    "from sklearn.model_selection import train_test_split\n",
    "from sklearn.ensemble import RandomForestRegressor\n",
    "from sklearn.ensemble import IsolationForest\n",
    "from sklearn.feature_selection import SelectFromModel\n",
    "from sklearn.metrics import r2_score\n",
    "import xgboost as xgb\n",
    "\n",
    "dataset = read_csv('/Users/Cristy/Downloads/task1/X_train.csv')\n",
    "dataset.drop('id',axis=1,inplace=True)\n",
    "y_train=read_csv('/Users/Cristy/Downloads/task1/y_train.csv')\n",
    "dataset['y']=y_train.y\n",
    "\n",
    "#Fill-in with median\n",
    "df2=dataset.fillna(dataset.median())"
   ]
  },
  {
   "cell_type": "markdown",
   "metadata": {},
   "source": [
    "# Outliers:"
   ]
  },
  {
   "cell_type": "markdown",
   "metadata": {},
   "source": [
    "## Isolation Forest "
   ]
  },
  {
   "cell_type": "code",
   "execution_count": 2,
   "metadata": {},
   "outputs": [],
   "source": [
    "clf = IsolationForest(max_samples=100, random_state=42, behaviour=\"new\",contamination=.1)\n",
    "\n",
    "clf.fit(df2.drop('y', axis = 1))\n",
    "y_pred_train = clf.predict(df2.drop('y', axis = 1))\n",
    "df2_clean = df2[np.where(y_pred_train == 1, True, False)]"
   ]
  },
  {
   "cell_type": "markdown",
   "metadata": {},
   "source": [
    "New dataset without outliers:"
   ]
  },
  {
   "cell_type": "code",
   "execution_count": 3,
   "metadata": {},
   "outputs": [
    {
     "data": {
      "text/plain": [
       "(1090, 833)"
      ]
     },
     "execution_count": 3,
     "metadata": {},
     "output_type": "execute_result"
    }
   ],
   "source": [
    "df2_clean.shape"
   ]
  },
  {
   "cell_type": "code",
   "execution_count": 4,
   "metadata": {},
   "outputs": [
    {
     "data": {
      "text/plain": [
       "(1090, 95)"
      ]
     },
     "execution_count": 4,
     "metadata": {},
     "output_type": "execute_result"
    }
   ],
   "source": [
    "\n",
    "features= np.array(df2_clean.drop('y', axis = 1))\n",
    "labels=np.array(df2_clean['y'])\n",
    "rf = RandomForestRegressor(n_estimators = 1000, random_state = 42)\n",
    "rf=rf.fit(features,labels)\n",
    "rf.feature_importances_\n",
    "sfm=SelectFromModel(rf,prefit=True)\n",
    "features_new=sfm.transform(features)\n",
    "\n",
    "features_new.shape"
   ]
  },
  {
   "cell_type": "markdown",
   "metadata": {},
   "source": [
    "### Selecting more features (threshold greater than mean of feature importance values)"
   ]
  },
  {
   "cell_type": "code",
   "execution_count": 5,
   "metadata": {},
   "outputs": [
    {
     "data": {
      "text/plain": [
       "(1090, 120)"
      ]
     },
     "execution_count": 5,
     "metadata": {},
     "output_type": "execute_result"
    }
   ],
   "source": [
    "sfm3=SelectFromModel(rf,prefit=True,threshold=1e-3)\n",
    "features_new3=sfm3.transform(features)\n",
    "features_new3.shape"
   ]
  },
  {
   "cell_type": "code",
   "execution_count": 6,
   "metadata": {},
   "outputs": [],
   "source": [
    "train_features, test_features, train_labels, test_labels = train_test_split(features_new3, labels, test_size = 0.25, random_state = 42)\n"
   ]
  },
  {
   "cell_type": "code",
   "execution_count": 7,
   "metadata": {},
   "outputs": [
    {
     "name": "stdout",
     "output_type": "stream",
     "text": [
      "[17:00:50] WARNING: src/objective/regression_obj.cu:152: reg:linear is now deprecated in favor of reg:squarederror.\n",
      "train score:  0.5585837672002434\n"
     ]
    }
   ],
   "source": [
    "model = xgb.XGBRegressor(learning_rate = 0.1, max_depth = 3)\n",
    "model.fit(train_features, train_labels)\n",
    "y_train_pred = model.predict(test_features)\n",
    "score = r2_score(test_labels, y_train_pred)\n",
    "print('train score: ', score)"
   ]
  },
  {
   "cell_type": "code",
   "execution_count": 8,
   "metadata": {},
   "outputs": [],
   "source": [
    "test = read_csv('/Users/Cristy/Downloads/task1/X_test.csv')\n",
    "test.drop('id',axis=1,inplace=True)\n",
    "df2=test.fillna(dataset.median())\n",
    "test_features=np.array(df2)\n",
    "test_features_new=sfm3.transform(test_features)\n",
    "predictions = model.predict(test_features_new)\n",
    "out = pd.DataFrame({'id':[float(i) for i in range(0,len(test_features_new))],'y':predictions})\n",
    "out.to_csv(\"sampleIsolXGB2.csv\",index=False)"
   ]
  },
  {
   "cell_type": "code",
   "execution_count": null,
   "metadata": {},
   "outputs": [],
   "source": []
  }
 ],
 "metadata": {
  "kernelspec": {
   "display_name": "myenv",
   "language": "python",
   "name": "myenv"
  },
  "language_info": {
   "codemirror_mode": {
    "name": "ipython",
    "version": 3
   },
   "file_extension": ".py",
   "mimetype": "text/x-python",
   "name": "python",
   "nbconvert_exporter": "python",
   "pygments_lexer": "ipython3",
   "version": "3.7.4"
  }
 },
 "nbformat": 4,
 "nbformat_minor": 2
}
