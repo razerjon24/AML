{
 "cells": [
  {
   "cell_type": "markdown",
   "metadata": {},
   "source": [
    "# Imports"
   ]
  },
  {
   "cell_type": "code",
   "execution_count": 420,
   "metadata": {},
   "outputs": [],
   "source": [
    "import numpy as np\n",
    "import pandas as pd\n",
    "import matplotlib.pyplot as plt\n",
    "%matplotlib inline\n",
    "import seaborn as sns; sns.set()\n",
    "import biosppy.signals.ecg as ecg\n",
    "from keras.models import Sequential\n",
    "from keras.layers import Dense, Activation, LSTM, Dropout, Embedding\n",
    "from keras.utils import to_categorical\n",
    "from sklearn.preprocessing import MinMaxScaler\n",
    "from sklearn.utils import resample\n",
    "from sklearn.model_selection import train_test_split\n",
    "from sklearn.metrics import f1_score\n",
    "from sklearn.utils import class_weight"
   ]
  },
  {
   "cell_type": "markdown",
   "metadata": {},
   "source": [
    "# Data"
   ]
  },
  {
   "cell_type": "code",
   "execution_count": 198,
   "metadata": {},
   "outputs": [],
   "source": [
    "x_train = pd.read_csv('../data/X_train.csv').drop('id', axis=1)"
   ]
  },
  {
   "cell_type": "code",
   "execution_count": 199,
   "metadata": {},
   "outputs": [],
   "source": [
    "y_train = pd.read_csv('../data/y_train.csv').drop('id', axis=1)"
   ]
  },
  {
   "cell_type": "code",
   "execution_count": 194,
   "metadata": {},
   "outputs": [],
   "source": [
    "x_test = pd.read_csv('../data/X_test.csv').drop('id', axis=1)"
   ]
  },
  {
   "cell_type": "code",
   "execution_count": 200,
   "metadata": {},
   "outputs": [],
   "source": [
    "sampling_rate=300"
   ]
  },
  {
   "cell_type": "code",
   "execution_count": 203,
   "metadata": {},
   "outputs": [],
   "source": [
    "\"\"\"\n",
    "Extracts heartbeats from one row of the input data. Also scales data to between 0 and 1\n",
    "\"\"\"\n",
    "def get_heartbeats(data):\n",
    "    signal = data[~np.isnan(data)]\n",
    "    signal = np.interp(signal, (signal.min(), signal.max()), (0, 1))\n",
    "    rpeaks = ecg.christov_segmenter(signal=signal, sampling_rate=sampling_rate)[0]\n",
    "    beats = ecg.extract_heartbeats(signal=signal,rpeaks=rpeaks,sampling_rate=sampling_rate)\n",
    "    return beats[0]\n",
    "\n",
    "\"\"\"\n",
    "Creates training data where every row is an individual heartbeat\n",
    "\"\"\"\n",
    "def create_training_data(x_train, y_train):\n",
    "    X = np.empty((0,180))\n",
    "    y = np.array([])\n",
    "    for i in range(0, x_train.shape[0]):\n",
    "        if i % 100 == 0:\n",
    "            print(i)\n",
    "        beats = get_heartbeats(x_train.iloc[i].values)\n",
    "        if beats.shape[0] == 0: # some rows gave back 0 beats for some reason ? \n",
    "            print('0 shape, row {}, class {}'.format(i, y_train.y[i]))\n",
    "            continue\n",
    "        X = np.append(X, beats, axis=0)\n",
    "        classes = np.full((beats.shape[0], 1), y_train.y[i])\n",
    "        y = np.append(y, classes)\n",
    "    return X, y"
   ]
  },
  {
   "cell_type": "code",
   "execution_count": 204,
   "metadata": {
    "collapsed": true
   },
   "outputs": [
    {
     "name": "stdout",
     "output_type": "stream",
     "text": [
      "0\n",
      "100\n",
      "200\n",
      "300\n",
      "0 shape, row 333, class 3\n",
      "400\n",
      "0 shape, row 429, class 2\n",
      "500\n",
      "600\n",
      "700\n",
      "800\n",
      "900\n",
      "1000\n",
      "1100\n",
      "0 shape, row 1101, class 1\n",
      "1200\n",
      "1300\n",
      "1400\n",
      "0 shape, row 1474, class 2\n",
      "1500\n",
      "1600\n",
      "1700\n",
      "1800\n",
      "1900\n",
      "2000\n",
      "2100\n",
      "2200\n",
      "0 shape, row 2292, class 0\n",
      "2300\n",
      "2400\n",
      "2500\n",
      "2600\n",
      "2700\n",
      "2800\n",
      "2900\n",
      "3000\n",
      "3100\n",
      "3200\n",
      "3300\n",
      "3400\n",
      "3500\n",
      "3600\n",
      "3700\n",
      "0 shape, row 3784, class 0\n",
      "3800\n",
      "0 shape, row 3871, class 3\n",
      "3900\n",
      "4000\n",
      "4100\n",
      "4200\n",
      "0 shape, row 4253, class 0\n",
      "4300\n",
      "4400\n",
      "0 shape, row 4400, class 2\n",
      "4500\n",
      "4600\n",
      "4700\n",
      "4800\n",
      "4900\n",
      "5000\n",
      "5100\n"
     ]
    }
   ],
   "source": [
    "X, y = create_training_data(x_train, y_train)"
   ]
  },
  {
   "cell_type": "code",
   "execution_count": 205,
   "metadata": {},
   "outputs": [
    {
     "data": {
      "text/plain": [
       "(177230, 180)"
      ]
     },
     "execution_count": 205,
     "metadata": {},
     "output_type": "execute_result"
    }
   ],
   "source": [
    "X.shape"
   ]
  },
  {
   "cell_type": "code",
   "execution_count": 206,
   "metadata": {},
   "outputs": [
    {
     "data": {
      "text/plain": [
       "(177230,)"
      ]
     },
     "execution_count": 206,
     "metadata": {},
     "output_type": "execute_result"
    }
   ],
   "source": [
    "y.shape"
   ]
  },
  {
   "cell_type": "code",
   "execution_count": 207,
   "metadata": {},
   "outputs": [
    {
     "data": {
      "text/plain": [
       "array([100965,  18776,  54122,   3367])"
      ]
     },
     "execution_count": 207,
     "metadata": {},
     "output_type": "execute_result"
    }
   ],
   "source": [
    "unique, counts = np.unique(y, return_counts=True)\n",
    "counts"
   ]
  },
  {
   "cell_type": "code",
   "execution_count": 208,
   "metadata": {},
   "outputs": [],
   "source": [
    "xdf = pd.DataFrame(X)\n",
    "ydf = pd.DataFrame(y)"
   ]
  },
  {
   "cell_type": "code",
   "execution_count": 209,
   "metadata": {},
   "outputs": [
    {
     "data": {
      "text/plain": [
       "0.0    100965\n",
       "2.0     54122\n",
       "1.0     18776\n",
       "3.0      3367\n",
       "Name: 0, dtype: int64"
      ]
     },
     "execution_count": 209,
     "metadata": {},
     "output_type": "execute_result"
    }
   ],
   "source": [
    "ydf[0].value_counts()"
   ]
  },
  {
   "cell_type": "code",
   "execution_count": 210,
   "metadata": {},
   "outputs": [],
   "source": [
    "x0 = xdf[ydf[0] == 0]\n",
    "x1 = xdf[ydf[0] == 1]\n",
    "x2 = xdf[ydf[0] == 2]\n",
    "x3 = xdf[ydf[0] == 3]"
   ]
  },
  {
   "cell_type": "code",
   "execution_count": 211,
   "metadata": {},
   "outputs": [
    {
     "data": {
      "text/plain": [
       "(100965, 180)"
      ]
     },
     "execution_count": 211,
     "metadata": {},
     "output_type": "execute_result"
    }
   ],
   "source": [
    "x0.shape"
   ]
  },
  {
   "cell_type": "code",
   "execution_count": 440,
   "metadata": {},
   "outputs": [],
   "source": [
    "# get 7000 samples of each class\n",
    "state = 1234\n",
    "n_samples = 10000\n",
    "x0new = resample(x0,replace=False,n_samples=8000,random_state=state)\n",
    "x1new = resample(x1,replace=True,n_samples=8000,random_state=state)\n",
    "x2new = resample(x2,replace=False,n_samples=8000,random_state=state)\n",
    "x3new = resample(x3,replace=True,n_samples=8000,random_state=state)"
   ]
  },
  {
   "cell_type": "code",
   "execution_count": 441,
   "metadata": {},
   "outputs": [],
   "source": [
    "X_balanced = pd.concat([x0new, x1new, x2new, x3new])\n",
    "y_balanced = pd.concat([pd.DataFrame(np.full((len(x0new)),0)),\n",
    "                            pd.DataFrame(np.full((len(x1new)),1)),\n",
    "                            pd.DataFrame(np.full((len(x2new)),2)),\n",
    "                            pd.DataFrame(np.full((len(x3new)),3))])"
   ]
  },
  {
   "cell_type": "code",
   "execution_count": 442,
   "metadata": {},
   "outputs": [],
   "source": [
    "Xtr, Xtest, ytr, ytest = train_test_split(X_balanced, to_categorical(y_balanced), test_size=0.2, random_state=state)"
   ]
  },
  {
   "cell_type": "code",
   "execution_count": 443,
   "metadata": {},
   "outputs": [],
   "source": [
    "cw = class_weight.compute_class_weight('balanced', np.unique(y_balanced), y_balanced[0].values.ravel())\n",
    "weights = dict(enumerate(cw))"
   ]
  },
  {
   "cell_type": "markdown",
   "metadata": {},
   "source": [
    "## Class weights"
   ]
  },
  {
   "cell_type": "code",
   "execution_count": 255,
   "metadata": {},
   "outputs": [],
   "source": [
    "Xtr, Xtest, ytr, ytest = train_test_split(xdf, to_categorical(ydf), test_size=0.2, random_state=state)"
   ]
  },
  {
   "cell_type": "code",
   "execution_count": 380,
   "metadata": {},
   "outputs": [
    {
     "name": "stderr",
     "output_type": "stream",
     "text": [
      "/Users/elrich/opt/anaconda3/lib/python3.7/site-packages/sklearn/preprocessing/label.py:235: DataConversionWarning: A column-vector y was passed when a 1d array was expected. Please change the shape of y to (n_samples, ), for example using ravel().\n",
      "  y = column_or_1d(y, warn=True)\n"
     ]
    }
   ],
   "source": [
    "cw = class_weight.compute_class_weight('balanced', np.unique(ydf[0]), ydf)"
   ]
  },
  {
   "cell_type": "code",
   "execution_count": 257,
   "metadata": {},
   "outputs": [
    {
     "data": {
      "text/plain": [
       "array([ 0.43884019,  2.35979442,  0.81865969, 13.15934066])"
      ]
     },
     "execution_count": 257,
     "metadata": {},
     "output_type": "execute_result"
    }
   ],
   "source": [
    "cw"
   ]
  },
  {
   "cell_type": "code",
   "execution_count": 258,
   "metadata": {},
   "outputs": [],
   "source": [
    "weights = dict(enumerate(cw))"
   ]
  },
  {
   "cell_type": "markdown",
   "metadata": {},
   "source": [
    "# Model"
   ]
  },
  {
   "cell_type": "code",
   "execution_count": 444,
   "metadata": {},
   "outputs": [
    {
     "name": "stdout",
     "output_type": "stream",
     "text": [
      "Train on 25600 samples, validate on 6400 samples\n",
      "Epoch 1/200\n",
      "25600/25600 [==============================] - 1s 27us/step - loss: 1.2081 - categorical_accuracy: 0.4479 - val_loss: 1.1461 - val_categorical_accuracy: 0.4784\n",
      "Epoch 2/200\n",
      "25600/25600 [==============================] - 0s 18us/step - loss: 1.1141 - categorical_accuracy: 0.5017 - val_loss: 1.1013 - val_categorical_accuracy: 0.5041\n",
      "Epoch 3/200\n",
      "25600/25600 [==============================] - 0s 18us/step - loss: 1.0820 - categorical_accuracy: 0.5198 - val_loss: 1.0616 - val_categorical_accuracy: 0.5334\n",
      "Epoch 4/200\n",
      "25600/25600 [==============================] - 0s 19us/step - loss: 1.0583 - categorical_accuracy: 0.5361 - val_loss: 1.0767 - val_categorical_accuracy: 0.5275\n",
      "Epoch 5/200\n",
      "25600/25600 [==============================] - 0s 19us/step - loss: 1.0400 - categorical_accuracy: 0.5474 - val_loss: 1.0566 - val_categorical_accuracy: 0.5348\n",
      "Epoch 6/200\n",
      "25600/25600 [==============================] - 0s 18us/step - loss: 1.0244 - categorical_accuracy: 0.5563 - val_loss: 1.0345 - val_categorical_accuracy: 0.5555\n",
      "Epoch 7/200\n",
      "25600/25600 [==============================] - 0s 18us/step - loss: 1.0132 - categorical_accuracy: 0.5587 - val_loss: 1.0117 - val_categorical_accuracy: 0.5672\n",
      "Epoch 8/200\n",
      "25600/25600 [==============================] - 0s 19us/step - loss: 1.0036 - categorical_accuracy: 0.5653 - val_loss: 1.0270 - val_categorical_accuracy: 0.5566\n",
      "Epoch 9/200\n",
      "25600/25600 [==============================] - 0s 18us/step - loss: 0.9908 - categorical_accuracy: 0.5737 - val_loss: 0.9855 - val_categorical_accuracy: 0.5744\n",
      "Epoch 10/200\n",
      "25600/25600 [==============================] - 0s 18us/step - loss: 0.9760 - categorical_accuracy: 0.5798 - val_loss: 0.9939 - val_categorical_accuracy: 0.5716\n",
      "Epoch 11/200\n",
      "25600/25600 [==============================] - 0s 18us/step - loss: 0.9761 - categorical_accuracy: 0.5794 - val_loss: 0.9880 - val_categorical_accuracy: 0.5784\n",
      "Epoch 12/200\n",
      "25600/25600 [==============================] - 0s 19us/step - loss: 0.9695 - categorical_accuracy: 0.5837 - val_loss: 1.0039 - val_categorical_accuracy: 0.5606\n",
      "Epoch 13/200\n",
      "25600/25600 [==============================] - 0s 18us/step - loss: 0.9608 - categorical_accuracy: 0.5818 - val_loss: 0.9710 - val_categorical_accuracy: 0.5806\n",
      "Epoch 14/200\n",
      "25600/25600 [==============================] - 0s 18us/step - loss: 0.9511 - categorical_accuracy: 0.5927 - val_loss: 0.9941 - val_categorical_accuracy: 0.5630\n",
      "Epoch 15/200\n",
      "25600/25600 [==============================] - 0s 18us/step - loss: 0.9456 - categorical_accuracy: 0.5945 - val_loss: 0.9495 - val_categorical_accuracy: 0.5997\n",
      "Epoch 16/200\n",
      "25600/25600 [==============================] - 0s 18us/step - loss: 0.9396 - categorical_accuracy: 0.5988 - val_loss: 0.9520 - val_categorical_accuracy: 0.5959\n",
      "Epoch 17/200\n",
      "25600/25600 [==============================] - 0s 18us/step - loss: 0.9302 - categorical_accuracy: 0.6046 - val_loss: 0.9601 - val_categorical_accuracy: 0.5863\n",
      "Epoch 18/200\n",
      "25600/25600 [==============================] - 0s 19us/step - loss: 0.9186 - categorical_accuracy: 0.6096 - val_loss: 0.9413 - val_categorical_accuracy: 0.5998\n",
      "Epoch 19/200\n",
      "25600/25600 [==============================] - 0s 18us/step - loss: 0.9184 - categorical_accuracy: 0.6104 - val_loss: 0.9410 - val_categorical_accuracy: 0.5978\n",
      "Epoch 20/200\n",
      "25600/25600 [==============================] - 0s 18us/step - loss: 0.9168 - categorical_accuracy: 0.6095 - val_loss: 0.9546 - val_categorical_accuracy: 0.5964\n",
      "Epoch 21/200\n",
      "25600/25600 [==============================] - 0s 18us/step - loss: 0.9066 - categorical_accuracy: 0.6155 - val_loss: 0.9437 - val_categorical_accuracy: 0.5919\n",
      "Epoch 22/200\n",
      "25600/25600 [==============================] - 0s 18us/step - loss: 0.9103 - categorical_accuracy: 0.6130 - val_loss: 0.9294 - val_categorical_accuracy: 0.6052\n",
      "Epoch 23/200\n",
      "25600/25600 [==============================] - 0s 19us/step - loss: 0.8927 - categorical_accuracy: 0.6218 - val_loss: 0.9181 - val_categorical_accuracy: 0.6161\n",
      "Epoch 24/200\n",
      "25600/25600 [==============================] - 0s 18us/step - loss: 0.8863 - categorical_accuracy: 0.6239 - val_loss: 0.9076 - val_categorical_accuracy: 0.6162\n",
      "Epoch 25/200\n",
      "25600/25600 [==============================] - 0s 18us/step - loss: 0.8835 - categorical_accuracy: 0.6252 - val_loss: 0.9302 - val_categorical_accuracy: 0.6092\n",
      "Epoch 26/200\n",
      "25600/25600 [==============================] - 0s 19us/step - loss: 0.8866 - categorical_accuracy: 0.6229 - val_loss: 0.9144 - val_categorical_accuracy: 0.6119\n",
      "Epoch 27/200\n",
      "25600/25600 [==============================] - 0s 18us/step - loss: 0.8756 - categorical_accuracy: 0.6295 - val_loss: 0.9044 - val_categorical_accuracy: 0.6208\n",
      "Epoch 28/200\n",
      "25600/25600 [==============================] - 0s 18us/step - loss: 0.8734 - categorical_accuracy: 0.6282 - val_loss: 0.9479 - val_categorical_accuracy: 0.5966\n",
      "Epoch 29/200\n",
      "25600/25600 [==============================] - 0s 19us/step - loss: 0.8628 - categorical_accuracy: 0.6331 - val_loss: 0.9150 - val_categorical_accuracy: 0.6133\n",
      "Epoch 30/200\n",
      "25600/25600 [==============================] - 0s 19us/step - loss: 0.8599 - categorical_accuracy: 0.6374 - val_loss: 0.8999 - val_categorical_accuracy: 0.6230\n",
      "Epoch 31/200\n",
      "25600/25600 [==============================] - 0s 18us/step - loss: 0.8501 - categorical_accuracy: 0.6373 - val_loss: 0.8980 - val_categorical_accuracy: 0.6195\n",
      "Epoch 32/200\n",
      "25600/25600 [==============================] - 0s 19us/step - loss: 0.8500 - categorical_accuracy: 0.6430 - val_loss: 0.9031 - val_categorical_accuracy: 0.6212\n",
      "Epoch 33/200\n",
      "25600/25600 [==============================] - 0s 18us/step - loss: 0.8431 - categorical_accuracy: 0.6441 - val_loss: 0.9001 - val_categorical_accuracy: 0.6219\n",
      "Epoch 34/200\n",
      "25600/25600 [==============================] - 0s 18us/step - loss: 0.8397 - categorical_accuracy: 0.6446 - val_loss: 0.9038 - val_categorical_accuracy: 0.6250\n",
      "Epoch 35/200\n",
      "25600/25600 [==============================] - 0s 18us/step - loss: 0.8372 - categorical_accuracy: 0.6468 - val_loss: 0.8860 - val_categorical_accuracy: 0.6270\n",
      "Epoch 36/200\n",
      "25600/25600 [==============================] - 0s 18us/step - loss: 0.8287 - categorical_accuracy: 0.6511 - val_loss: 0.8759 - val_categorical_accuracy: 0.6344\n",
      "Epoch 37/200\n",
      "25600/25600 [==============================] - 1s 21us/step - loss: 0.8235 - categorical_accuracy: 0.6543 - val_loss: 0.8871 - val_categorical_accuracy: 0.6256\n",
      "Epoch 38/200\n",
      "25600/25600 [==============================] - 0s 19us/step - loss: 0.8234 - categorical_accuracy: 0.6509 - val_loss: 0.8716 - val_categorical_accuracy: 0.6320\n",
      "Epoch 39/200\n",
      "25600/25600 [==============================] - 0s 18us/step - loss: 0.8204 - categorical_accuracy: 0.6542 - val_loss: 0.8795 - val_categorical_accuracy: 0.6305\n",
      "Epoch 40/200\n",
      "25600/25600 [==============================] - 1s 20us/step - loss: 0.8122 - categorical_accuracy: 0.6587 - val_loss: 0.8812 - val_categorical_accuracy: 0.6284\n",
      "Epoch 41/200\n",
      "25600/25600 [==============================] - 0s 18us/step - loss: 0.8113 - categorical_accuracy: 0.6554 - val_loss: 0.8681 - val_categorical_accuracy: 0.6355\n",
      "Epoch 42/200\n",
      "25600/25600 [==============================] - 0s 19us/step - loss: 0.8041 - categorical_accuracy: 0.6601 - val_loss: 0.8748 - val_categorical_accuracy: 0.6345\n",
      "Epoch 43/200\n",
      "25600/25600 [==============================] - 0s 20us/step - loss: 0.7964 - categorical_accuracy: 0.6645 - val_loss: 0.8634 - val_categorical_accuracy: 0.6392\n",
      "Epoch 44/200\n",
      "25600/25600 [==============================] - 0s 19us/step - loss: 0.7945 - categorical_accuracy: 0.6653 - val_loss: 0.8995 - val_categorical_accuracy: 0.6225\n",
      "Epoch 45/200\n",
      "25600/25600 [==============================] - 0s 19us/step - loss: 0.7907 - categorical_accuracy: 0.6680 - val_loss: 0.8822 - val_categorical_accuracy: 0.6306\n",
      "Epoch 46/200\n",
      "25600/25600 [==============================] - 0s 19us/step - loss: 0.7949 - categorical_accuracy: 0.6642 - val_loss: 0.8688 - val_categorical_accuracy: 0.6341\n",
      "Epoch 47/200\n",
      "25600/25600 [==============================] - 0s 19us/step - loss: 0.7815 - categorical_accuracy: 0.6709 - val_loss: 0.8469 - val_categorical_accuracy: 0.6463\n",
      "Epoch 48/200\n"
     ]
    },
    {
     "name": "stdout",
     "output_type": "stream",
     "text": [
      "25600/25600 [==============================] - 0s 18us/step - loss: 0.7765 - categorical_accuracy: 0.6747 - val_loss: 0.8392 - val_categorical_accuracy: 0.6570\n",
      "Epoch 49/200\n",
      "25600/25600 [==============================] - 0s 19us/step - loss: 0.7746 - categorical_accuracy: 0.6766 - val_loss: 0.8477 - val_categorical_accuracy: 0.6453\n",
      "Epoch 50/200\n",
      "25600/25600 [==============================] - 0s 19us/step - loss: 0.7789 - categorical_accuracy: 0.6752 - val_loss: 0.8461 - val_categorical_accuracy: 0.6481\n",
      "Epoch 51/200\n",
      "25600/25600 [==============================] - 0s 19us/step - loss: 0.7704 - categorical_accuracy: 0.6743 - val_loss: 0.8720 - val_categorical_accuracy: 0.6370\n",
      "Epoch 52/200\n",
      "25600/25600 [==============================] - 0s 19us/step - loss: 0.7632 - categorical_accuracy: 0.6814 - val_loss: 0.8449 - val_categorical_accuracy: 0.6463\n",
      "Epoch 53/200\n",
      "25600/25600 [==============================] - 0s 19us/step - loss: 0.7584 - categorical_accuracy: 0.6832 - val_loss: 0.8776 - val_categorical_accuracy: 0.6389\n",
      "Epoch 54/200\n",
      "25600/25600 [==============================] - 0s 19us/step - loss: 0.7603 - categorical_accuracy: 0.6802 - val_loss: 0.8481 - val_categorical_accuracy: 0.6422\n",
      "Epoch 55/200\n",
      "25600/25600 [==============================] - 0s 19us/step - loss: 0.7455 - categorical_accuracy: 0.6879 - val_loss: 0.8334 - val_categorical_accuracy: 0.6569\n",
      "Epoch 56/200\n",
      "25600/25600 [==============================] - 0s 19us/step - loss: 0.7502 - categorical_accuracy: 0.6884 - val_loss: 0.8453 - val_categorical_accuracy: 0.6481\n",
      "Epoch 57/200\n",
      "25600/25600 [==============================] - 1s 20us/step - loss: 0.7409 - categorical_accuracy: 0.6931 - val_loss: 0.8606 - val_categorical_accuracy: 0.6470\n",
      "Epoch 58/200\n",
      "25600/25600 [==============================] - 0s 18us/step - loss: 0.7445 - categorical_accuracy: 0.6861 - val_loss: 0.8448 - val_categorical_accuracy: 0.6491\n",
      "Epoch 59/200\n",
      "25600/25600 [==============================] - 0s 18us/step - loss: 0.7360 - categorical_accuracy: 0.6950 - val_loss: 0.8556 - val_categorical_accuracy: 0.6495\n",
      "Epoch 60/200\n",
      "25600/25600 [==============================] - 1s 20us/step - loss: 0.7335 - categorical_accuracy: 0.6928 - val_loss: 0.8314 - val_categorical_accuracy: 0.6603\n",
      "Epoch 61/200\n",
      "25600/25600 [==============================] - 0s 19us/step - loss: 0.7389 - categorical_accuracy: 0.6907 - val_loss: 0.8424 - val_categorical_accuracy: 0.6523\n",
      "Epoch 62/200\n",
      "25600/25600 [==============================] - 0s 18us/step - loss: 0.7317 - categorical_accuracy: 0.6964 - val_loss: 0.8674 - val_categorical_accuracy: 0.6456\n",
      "Epoch 63/200\n",
      "25600/25600 [==============================] - 0s 18us/step - loss: 0.7229 - categorical_accuracy: 0.6992 - val_loss: 0.8341 - val_categorical_accuracy: 0.6517\n",
      "Epoch 64/200\n",
      "25600/25600 [==============================] - 0s 19us/step - loss: 0.7209 - categorical_accuracy: 0.7024 - val_loss: 0.8410 - val_categorical_accuracy: 0.6541\n",
      "Epoch 65/200\n",
      "25600/25600 [==============================] - 1s 20us/step - loss: 0.7174 - categorical_accuracy: 0.7007 - val_loss: 0.8367 - val_categorical_accuracy: 0.6498\n",
      "Epoch 66/200\n",
      "25600/25600 [==============================] - 1s 20us/step - loss: 0.7152 - categorical_accuracy: 0.7022 - val_loss: 0.8366 - val_categorical_accuracy: 0.6538\n",
      "Epoch 67/200\n",
      "25600/25600 [==============================] - 1s 20us/step - loss: 0.7129 - categorical_accuracy: 0.7048 - val_loss: 0.8341 - val_categorical_accuracy: 0.6606\n",
      "Epoch 68/200\n",
      "25600/25600 [==============================] - 0s 19us/step - loss: 0.7061 - categorical_accuracy: 0.7043 - val_loss: 0.8324 - val_categorical_accuracy: 0.6647\n",
      "Epoch 69/200\n",
      "25600/25600 [==============================] - 0s 18us/step - loss: 0.7014 - categorical_accuracy: 0.7070 - val_loss: 0.8170 - val_categorical_accuracy: 0.6675\n",
      "Epoch 70/200\n",
      "25600/25600 [==============================] - 0s 19us/step - loss: 0.6967 - categorical_accuracy: 0.7107 - val_loss: 0.8417 - val_categorical_accuracy: 0.6620\n",
      "Epoch 71/200\n",
      "25600/25600 [==============================] - 0s 19us/step - loss: 0.6985 - categorical_accuracy: 0.7078 - val_loss: 0.8129 - val_categorical_accuracy: 0.6700\n",
      "Epoch 72/200\n",
      "25600/25600 [==============================] - 0s 19us/step - loss: 0.7058 - categorical_accuracy: 0.7055 - val_loss: 0.8230 - val_categorical_accuracy: 0.6687\n",
      "Epoch 73/200\n",
      "25600/25600 [==============================] - 0s 18us/step - loss: 0.6962 - categorical_accuracy: 0.7096 - val_loss: 0.8228 - val_categorical_accuracy: 0.6678\n",
      "Epoch 74/200\n",
      "25600/25600 [==============================] - 0s 19us/step - loss: 0.6890 - categorical_accuracy: 0.7128 - val_loss: 0.8252 - val_categorical_accuracy: 0.6677\n",
      "Epoch 75/200\n",
      "25600/25600 [==============================] - 0s 19us/step - loss: 0.6869 - categorical_accuracy: 0.7162 - val_loss: 0.8242 - val_categorical_accuracy: 0.6669\n",
      "Epoch 76/200\n",
      "25600/25600 [==============================] - 1s 20us/step - loss: 0.6830 - categorical_accuracy: 0.7164 - val_loss: 0.7967 - val_categorical_accuracy: 0.6794\n",
      "Epoch 77/200\n",
      "25600/25600 [==============================] - 0s 19us/step - loss: 0.6772 - categorical_accuracy: 0.7184 - val_loss: 0.8335 - val_categorical_accuracy: 0.6647\n",
      "Epoch 78/200\n",
      "25600/25600 [==============================] - 0s 19us/step - loss: 0.6813 - categorical_accuracy: 0.7169 - val_loss: 0.8130 - val_categorical_accuracy: 0.6770\n",
      "Epoch 79/200\n",
      "25600/25600 [==============================] - 0s 19us/step - loss: 0.6848 - categorical_accuracy: 0.7168 - val_loss: 0.8088 - val_categorical_accuracy: 0.6802\n",
      "Epoch 80/200\n",
      "25600/25600 [==============================] - 0s 19us/step - loss: 0.6719 - categorical_accuracy: 0.7209 - val_loss: 0.8081 - val_categorical_accuracy: 0.6770\n",
      "Epoch 81/200\n",
      "25600/25600 [==============================] - 0s 18us/step - loss: 0.6676 - categorical_accuracy: 0.7241 - val_loss: 0.8500 - val_categorical_accuracy: 0.6603\n",
      "Epoch 82/200\n",
      "25600/25600 [==============================] - 0s 19us/step - loss: 0.6718 - categorical_accuracy: 0.7205 - val_loss: 0.8177 - val_categorical_accuracy: 0.6797\n",
      "Epoch 83/200\n",
      "25600/25600 [==============================] - 0s 19us/step - loss: 0.6742 - categorical_accuracy: 0.7195 - val_loss: 0.8220 - val_categorical_accuracy: 0.6744\n",
      "Epoch 84/200\n",
      "25600/25600 [==============================] - 0s 18us/step - loss: 0.6638 - categorical_accuracy: 0.7240 - val_loss: 0.8236 - val_categorical_accuracy: 0.6736\n",
      "Epoch 85/200\n",
      "25600/25600 [==============================] - 0s 18us/step - loss: 0.6552 - categorical_accuracy: 0.7266 - val_loss: 0.8026 - val_categorical_accuracy: 0.6761\n",
      "Epoch 86/200\n",
      "25600/25600 [==============================] - 0s 19us/step - loss: 0.6534 - categorical_accuracy: 0.7266 - val_loss: 0.8312 - val_categorical_accuracy: 0.6692\n",
      "Epoch 87/200\n",
      "25600/25600 [==============================] - 0s 19us/step - loss: 0.6539 - categorical_accuracy: 0.7305 - val_loss: 0.8099 - val_categorical_accuracy: 0.6770\n",
      "Epoch 88/200\n",
      "25600/25600 [==============================] - 0s 19us/step - loss: 0.6553 - categorical_accuracy: 0.7278 - val_loss: 0.8020 - val_categorical_accuracy: 0.6855\n",
      "Epoch 89/200\n",
      "25600/25600 [==============================] - 0s 19us/step - loss: 0.6510 - categorical_accuracy: 0.7308 - val_loss: 0.8190 - val_categorical_accuracy: 0.6750\n",
      "Epoch 90/200\n",
      "25600/25600 [==============================] - 0s 19us/step - loss: 0.6480 - categorical_accuracy: 0.7336 - val_loss: 0.7945 - val_categorical_accuracy: 0.6888\n",
      "Epoch 91/200\n",
      "25600/25600 [==============================] - 0s 19us/step - loss: 0.6421 - categorical_accuracy: 0.7337 - val_loss: 0.8065 - val_categorical_accuracy: 0.6850\n",
      "Epoch 92/200\n",
      "25600/25600 [==============================] - 0s 18us/step - loss: 0.6417 - categorical_accuracy: 0.7346 - val_loss: 0.8019 - val_categorical_accuracy: 0.6825\n",
      "Epoch 93/200\n",
      "25600/25600 [==============================] - 0s 19us/step - loss: 0.6400 - categorical_accuracy: 0.7342 - val_loss: 0.8044 - val_categorical_accuracy: 0.6817\n",
      "Epoch 94/200\n",
      "25600/25600 [==============================] - 0s 18us/step - loss: 0.6377 - categorical_accuracy: 0.7333 - val_loss: 0.8099 - val_categorical_accuracy: 0.6808\n",
      "Epoch 95/200\n"
     ]
    },
    {
     "name": "stdout",
     "output_type": "stream",
     "text": [
      "25600/25600 [==============================] - 0s 18us/step - loss: 0.6268 - categorical_accuracy: 0.7400 - val_loss: 0.8060 - val_categorical_accuracy: 0.6844\n",
      "Epoch 96/200\n",
      "25600/25600 [==============================] - 0s 19us/step - loss: 0.6413 - categorical_accuracy: 0.7346 - val_loss: 0.8158 - val_categorical_accuracy: 0.6752\n",
      "Epoch 97/200\n",
      "25600/25600 [==============================] - 0s 19us/step - loss: 0.6307 - categorical_accuracy: 0.7375 - val_loss: 0.8044 - val_categorical_accuracy: 0.6867\n",
      "Epoch 98/200\n",
      "25600/25600 [==============================] - 0s 18us/step - loss: 0.6242 - categorical_accuracy: 0.7416 - val_loss: 0.8104 - val_categorical_accuracy: 0.6777\n",
      "Epoch 99/200\n",
      "25600/25600 [==============================] - 0s 19us/step - loss: 0.6200 - categorical_accuracy: 0.7408 - val_loss: 0.7924 - val_categorical_accuracy: 0.7005\n",
      "Epoch 100/200\n",
      "25600/25600 [==============================] - 0s 18us/step - loss: 0.6256 - categorical_accuracy: 0.7437 - val_loss: 0.8015 - val_categorical_accuracy: 0.6894\n",
      "Epoch 101/200\n",
      "25600/25600 [==============================] - 0s 18us/step - loss: 0.6172 - categorical_accuracy: 0.7436 - val_loss: 0.8227 - val_categorical_accuracy: 0.6814\n",
      "Epoch 102/200\n",
      "25600/25600 [==============================] - 0s 19us/step - loss: 0.6225 - categorical_accuracy: 0.7404 - val_loss: 0.8092 - val_categorical_accuracy: 0.6836\n",
      "Epoch 103/200\n",
      "25600/25600 [==============================] - 0s 19us/step - loss: 0.6157 - categorical_accuracy: 0.7442 - val_loss: 0.7997 - val_categorical_accuracy: 0.6873\n",
      "Epoch 104/200\n",
      "25600/25600 [==============================] - 0s 18us/step - loss: 0.6181 - categorical_accuracy: 0.7444 - val_loss: 0.8173 - val_categorical_accuracy: 0.6827\n",
      "Epoch 105/200\n",
      "25600/25600 [==============================] - 0s 19us/step - loss: 0.6028 - categorical_accuracy: 0.7498 - val_loss: 0.7832 - val_categorical_accuracy: 0.7002\n",
      "Epoch 106/200\n",
      "25600/25600 [==============================] - 0s 18us/step - loss: 0.6002 - categorical_accuracy: 0.7551 - val_loss: 0.8226 - val_categorical_accuracy: 0.6747\n",
      "Epoch 107/200\n",
      "25600/25600 [==============================] - 0s 19us/step - loss: 0.6075 - categorical_accuracy: 0.7516 - val_loss: 0.7993 - val_categorical_accuracy: 0.6914\n",
      "Epoch 108/200\n",
      "25600/25600 [==============================] - 0s 19us/step - loss: 0.6088 - categorical_accuracy: 0.7465 - val_loss: 0.8063 - val_categorical_accuracy: 0.6953\n",
      "Epoch 109/200\n",
      "25600/25600 [==============================] - 0s 19us/step - loss: 0.6009 - categorical_accuracy: 0.7534 - val_loss: 0.8021 - val_categorical_accuracy: 0.6881\n",
      "Epoch 110/200\n",
      "25600/25600 [==============================] - 0s 19us/step - loss: 0.6036 - categorical_accuracy: 0.7494 - val_loss: 0.8294 - val_categorical_accuracy: 0.6789\n",
      "Epoch 111/200\n",
      "25600/25600 [==============================] - 0s 19us/step - loss: 0.6001 - categorical_accuracy: 0.7516 - val_loss: 0.8247 - val_categorical_accuracy: 0.6927\n",
      "Epoch 112/200\n",
      "25600/25600 [==============================] - 0s 19us/step - loss: 0.5972 - categorical_accuracy: 0.7538 - val_loss: 0.8034 - val_categorical_accuracy: 0.7011\n",
      "Epoch 113/200\n",
      "25600/25600 [==============================] - 0s 19us/step - loss: 0.5908 - categorical_accuracy: 0.7580 - val_loss: 0.8053 - val_categorical_accuracy: 0.6925\n",
      "Epoch 114/200\n",
      "25600/25600 [==============================] - 0s 19us/step - loss: 0.5978 - categorical_accuracy: 0.7540 - val_loss: 0.8259 - val_categorical_accuracy: 0.6872\n",
      "Epoch 115/200\n",
      "25600/25600 [==============================] - 0s 19us/step - loss: 0.5922 - categorical_accuracy: 0.7570 - val_loss: 0.8031 - val_categorical_accuracy: 0.6903\n",
      "Epoch 116/200\n",
      "25600/25600 [==============================] - 0s 19us/step - loss: 0.5912 - categorical_accuracy: 0.7548 - val_loss: 0.8122 - val_categorical_accuracy: 0.6894\n",
      "Epoch 117/200\n",
      "25600/25600 [==============================] - 0s 19us/step - loss: 0.5853 - categorical_accuracy: 0.7590 - val_loss: 0.8151 - val_categorical_accuracy: 0.6919\n",
      "Epoch 118/200\n",
      "25600/25600 [==============================] - 0s 19us/step - loss: 0.5862 - categorical_accuracy: 0.7580 - val_loss: 0.8101 - val_categorical_accuracy: 0.6963\n",
      "Epoch 119/200\n",
      "25600/25600 [==============================] - 0s 19us/step - loss: 0.5899 - categorical_accuracy: 0.7550 - val_loss: 0.8091 - val_categorical_accuracy: 0.6888\n",
      "Epoch 120/200\n",
      "25600/25600 [==============================] - 0s 19us/step - loss: 0.5824 - categorical_accuracy: 0.7580 - val_loss: 0.8099 - val_categorical_accuracy: 0.6925\n",
      "Epoch 121/200\n",
      "25600/25600 [==============================] - 0s 19us/step - loss: 0.5718 - categorical_accuracy: 0.7642 - val_loss: 0.8094 - val_categorical_accuracy: 0.6967\n",
      "Epoch 122/200\n",
      "25600/25600 [==============================] - 1s 21us/step - loss: 0.5782 - categorical_accuracy: 0.7608 - val_loss: 0.8058 - val_categorical_accuracy: 0.6888\n",
      "Epoch 123/200\n",
      "25600/25600 [==============================] - 1s 20us/step - loss: 0.5643 - categorical_accuracy: 0.7681 - val_loss: 0.8076 - val_categorical_accuracy: 0.6958\n",
      "Epoch 124/200\n",
      "25600/25600 [==============================] - 1s 21us/step - loss: 0.5788 - categorical_accuracy: 0.7640 - val_loss: 0.8120 - val_categorical_accuracy: 0.6992\n",
      "Epoch 125/200\n",
      "25600/25600 [==============================] - 0s 19us/step - loss: 0.5802 - categorical_accuracy: 0.7629 - val_loss: 0.8215 - val_categorical_accuracy: 0.6931\n",
      "Epoch 126/200\n",
      "25600/25600 [==============================] - 1s 21us/step - loss: 0.5711 - categorical_accuracy: 0.7659 - val_loss: 0.8225 - val_categorical_accuracy: 0.6917\n",
      "Epoch 127/200\n",
      "25600/25600 [==============================] - 1s 21us/step - loss: 0.5675 - categorical_accuracy: 0.7679 - val_loss: 0.7968 - val_categorical_accuracy: 0.6980\n",
      "Epoch 128/200\n",
      "25600/25600 [==============================] - 1s 20us/step - loss: 0.5676 - categorical_accuracy: 0.7673 - val_loss: 0.8229 - val_categorical_accuracy: 0.6938\n",
      "Epoch 129/200\n",
      "25600/25600 [==============================] - 0s 19us/step - loss: 0.5616 - categorical_accuracy: 0.7684 - val_loss: 0.8069 - val_categorical_accuracy: 0.6931\n",
      "Epoch 130/200\n",
      "25600/25600 [==============================] - 0s 19us/step - loss: 0.5630 - categorical_accuracy: 0.7718 - val_loss: 0.8230 - val_categorical_accuracy: 0.6986\n",
      "Epoch 131/200\n",
      "25600/25600 [==============================] - 0s 19us/step - loss: 0.5688 - categorical_accuracy: 0.7662 - val_loss: 0.8104 - val_categorical_accuracy: 0.6978\n",
      "Epoch 132/200\n",
      "25600/25600 [==============================] - 0s 18us/step - loss: 0.5706 - categorical_accuracy: 0.7642 - val_loss: 0.8130 - val_categorical_accuracy: 0.7041\n",
      "Epoch 133/200\n",
      "25600/25600 [==============================] - 0s 18us/step - loss: 0.5536 - categorical_accuracy: 0.7732 - val_loss: 0.8027 - val_categorical_accuracy: 0.7023\n",
      "Epoch 134/200\n",
      "25600/25600 [==============================] - 0s 18us/step - loss: 0.5552 - categorical_accuracy: 0.7723 - val_loss: 0.8376 - val_categorical_accuracy: 0.6916\n",
      "Epoch 135/200\n",
      "25600/25600 [==============================] - 0s 18us/step - loss: 0.5540 - categorical_accuracy: 0.7718 - val_loss: 0.8063 - val_categorical_accuracy: 0.7048\n",
      "Epoch 136/200\n",
      "25600/25600 [==============================] - 0s 19us/step - loss: 0.5575 - categorical_accuracy: 0.7699 - val_loss: 0.8259 - val_categorical_accuracy: 0.6963\n",
      "Epoch 137/200\n",
      "25600/25600 [==============================] - 0s 18us/step - loss: 0.5559 - categorical_accuracy: 0.7714 - val_loss: 0.8291 - val_categorical_accuracy: 0.6942\n",
      "Epoch 138/200\n",
      "25600/25600 [==============================] - 0s 19us/step - loss: 0.5560 - categorical_accuracy: 0.7704 - val_loss: 0.8435 - val_categorical_accuracy: 0.6942\n",
      "Epoch 139/200\n",
      "25600/25600 [==============================] - 0s 18us/step - loss: 0.5525 - categorical_accuracy: 0.7723 - val_loss: 0.7919 - val_categorical_accuracy: 0.7150\n",
      "Epoch 140/200\n",
      "25600/25600 [==============================] - 0s 19us/step - loss: 0.5587 - categorical_accuracy: 0.7734 - val_loss: 0.8263 - val_categorical_accuracy: 0.6964\n",
      "Epoch 141/200\n",
      "25600/25600 [==============================] - 0s 18us/step - loss: 0.5461 - categorical_accuracy: 0.7783 - val_loss: 0.8171 - val_categorical_accuracy: 0.7066\n",
      "Epoch 142/200\n"
     ]
    },
    {
     "name": "stdout",
     "output_type": "stream",
     "text": [
      "25600/25600 [==============================] - 0s 17us/step - loss: 0.5499 - categorical_accuracy: 0.7750 - val_loss: 0.8288 - val_categorical_accuracy: 0.7006\n",
      "Epoch 143/200\n",
      "25600/25600 [==============================] - 0s 18us/step - loss: 0.5501 - categorical_accuracy: 0.7722 - val_loss: 0.8155 - val_categorical_accuracy: 0.7041\n",
      "Epoch 144/200\n",
      "25600/25600 [==============================] - 0s 18us/step - loss: 0.5484 - categorical_accuracy: 0.7745 - val_loss: 0.8247 - val_categorical_accuracy: 0.7053\n",
      "Epoch 145/200\n",
      "25600/25600 [==============================] - 0s 18us/step - loss: 0.5423 - categorical_accuracy: 0.7775 - val_loss: 0.8222 - val_categorical_accuracy: 0.7034\n",
      "Epoch 146/200\n",
      "25600/25600 [==============================] - 0s 18us/step - loss: 0.5370 - categorical_accuracy: 0.7780 - val_loss: 0.8130 - val_categorical_accuracy: 0.7120\n",
      "Epoch 147/200\n",
      "25600/25600 [==============================] - 0s 18us/step - loss: 0.5393 - categorical_accuracy: 0.7782 - val_loss: 0.8258 - val_categorical_accuracy: 0.7041\n",
      "Epoch 148/200\n",
      "25600/25600 [==============================] - 0s 18us/step - loss: 0.5353 - categorical_accuracy: 0.7815 - val_loss: 0.8173 - val_categorical_accuracy: 0.7080\n",
      "Epoch 149/200\n",
      "25600/25600 [==============================] - 0s 18us/step - loss: 0.5357 - categorical_accuracy: 0.7822 - val_loss: 0.8209 - val_categorical_accuracy: 0.7008\n",
      "Epoch 150/200\n",
      "25600/25600 [==============================] - 0s 19us/step - loss: 0.5328 - categorical_accuracy: 0.7832 - val_loss: 0.8053 - val_categorical_accuracy: 0.7070\n",
      "Epoch 151/200\n",
      "25600/25600 [==============================] - 0s 18us/step - loss: 0.5346 - categorical_accuracy: 0.7813 - val_loss: 0.8227 - val_categorical_accuracy: 0.7042\n",
      "Epoch 152/200\n",
      "25600/25600 [==============================] - 0s 19us/step - loss: 0.5304 - categorical_accuracy: 0.7856 - val_loss: 0.8385 - val_categorical_accuracy: 0.7008\n",
      "Epoch 153/200\n",
      "25600/25600 [==============================] - 0s 18us/step - loss: 0.5303 - categorical_accuracy: 0.7849 - val_loss: 0.8354 - val_categorical_accuracy: 0.7016\n",
      "Epoch 154/200\n",
      "25600/25600 [==============================] - 0s 18us/step - loss: 0.5258 - categorical_accuracy: 0.7852 - val_loss: 0.7988 - val_categorical_accuracy: 0.7048\n",
      "Epoch 155/200\n",
      "25600/25600 [==============================] - 0s 18us/step - loss: 0.5308 - categorical_accuracy: 0.7852 - val_loss: 0.8010 - val_categorical_accuracy: 0.7163\n",
      "Epoch 156/200\n",
      "25600/25600 [==============================] - 0s 18us/step - loss: 0.5306 - categorical_accuracy: 0.7816 - val_loss: 0.8114 - val_categorical_accuracy: 0.7044\n",
      "Epoch 157/200\n",
      "25600/25600 [==============================] - 0s 19us/step - loss: 0.5319 - categorical_accuracy: 0.7830 - val_loss: 0.8271 - val_categorical_accuracy: 0.7106\n",
      "Epoch 158/200\n",
      "25600/25600 [==============================] - 0s 17us/step - loss: 0.5170 - categorical_accuracy: 0.7879 - val_loss: 0.8374 - val_categorical_accuracy: 0.7025\n",
      "Epoch 159/200\n",
      "25600/25600 [==============================] - 0s 18us/step - loss: 0.5283 - categorical_accuracy: 0.7839 - val_loss: 0.8210 - val_categorical_accuracy: 0.7128\n",
      "Epoch 160/200\n",
      "25600/25600 [==============================] - 0s 18us/step - loss: 0.5189 - categorical_accuracy: 0.7895 - val_loss: 0.8216 - val_categorical_accuracy: 0.7080\n",
      "Epoch 161/200\n",
      "25600/25600 [==============================] - 0s 18us/step - loss: 0.5134 - categorical_accuracy: 0.7886 - val_loss: 0.8242 - val_categorical_accuracy: 0.7100\n",
      "Epoch 162/200\n",
      "25600/25600 [==============================] - 0s 18us/step - loss: 0.5224 - categorical_accuracy: 0.7880 - val_loss: 0.8190 - val_categorical_accuracy: 0.7073\n",
      "Epoch 163/200\n",
      "25600/25600 [==============================] - 0s 18us/step - loss: 0.5158 - categorical_accuracy: 0.7885 - val_loss: 0.8238 - val_categorical_accuracy: 0.7109\n",
      "Epoch 164/200\n",
      "25600/25600 [==============================] - 0s 18us/step - loss: 0.5168 - categorical_accuracy: 0.7871 - val_loss: 0.8294 - val_categorical_accuracy: 0.7067\n",
      "Epoch 165/200\n",
      "25600/25600 [==============================] - 0s 18us/step - loss: 0.5124 - categorical_accuracy: 0.7898 - val_loss: 0.8077 - val_categorical_accuracy: 0.7028\n",
      "Epoch 166/200\n",
      "25600/25600 [==============================] - 0s 18us/step - loss: 0.5101 - categorical_accuracy: 0.7915 - val_loss: 0.8206 - val_categorical_accuracy: 0.7080\n",
      "Epoch 167/200\n",
      "25600/25600 [==============================] - 0s 19us/step - loss: 0.5198 - categorical_accuracy: 0.7868 - val_loss: 0.8335 - val_categorical_accuracy: 0.7091\n",
      "Epoch 168/200\n",
      "25600/25600 [==============================] - 0s 19us/step - loss: 0.5119 - categorical_accuracy: 0.7908 - val_loss: 0.8242 - val_categorical_accuracy: 0.7095\n",
      "Epoch 169/200\n",
      "25600/25600 [==============================] - 0s 19us/step - loss: 0.5146 - categorical_accuracy: 0.7904 - val_loss: 0.8417 - val_categorical_accuracy: 0.7008\n",
      "Epoch 170/200\n",
      "25600/25600 [==============================] - 0s 19us/step - loss: 0.5120 - categorical_accuracy: 0.7908 - val_loss: 0.8090 - val_categorical_accuracy: 0.7141\n",
      "Epoch 171/200\n",
      "25600/25600 [==============================] - 0s 19us/step - loss: 0.5007 - categorical_accuracy: 0.7966 - val_loss: 0.8170 - val_categorical_accuracy: 0.7133\n",
      "Epoch 172/200\n",
      "25600/25600 [==============================] - 1s 22us/step - loss: 0.5092 - categorical_accuracy: 0.7904 - val_loss: 0.8489 - val_categorical_accuracy: 0.7070\n",
      "Epoch 173/200\n",
      "25600/25600 [==============================] - 1s 20us/step - loss: 0.5001 - categorical_accuracy: 0.7955 - val_loss: 0.8284 - val_categorical_accuracy: 0.7166\n",
      "Epoch 174/200\n",
      "25600/25600 [==============================] - 1s 20us/step - loss: 0.5051 - categorical_accuracy: 0.7941 - val_loss: 0.8345 - val_categorical_accuracy: 0.7064\n",
      "Epoch 175/200\n",
      "25600/25600 [==============================] - 0s 19us/step - loss: 0.5027 - categorical_accuracy: 0.7957 - val_loss: 0.8246 - val_categorical_accuracy: 0.7094\n",
      "Epoch 176/200\n",
      "25600/25600 [==============================] - 0s 19us/step - loss: 0.5130 - categorical_accuracy: 0.7889 - val_loss: 0.8581 - val_categorical_accuracy: 0.6997\n",
      "Epoch 177/200\n",
      "25600/25600 [==============================] - 0s 19us/step - loss: 0.5154 - categorical_accuracy: 0.7898 - val_loss: 0.8657 - val_categorical_accuracy: 0.7041\n",
      "Epoch 178/200\n",
      "25600/25600 [==============================] - 1s 20us/step - loss: 0.5026 - categorical_accuracy: 0.7965 - val_loss: 0.8185 - val_categorical_accuracy: 0.7152\n",
      "Epoch 179/200\n",
      "25600/25600 [==============================] - 0s 19us/step - loss: 0.4995 - categorical_accuracy: 0.8003 - val_loss: 0.8320 - val_categorical_accuracy: 0.7083\n",
      "Epoch 180/200\n",
      "25600/25600 [==============================] - 0s 19us/step - loss: 0.4972 - categorical_accuracy: 0.7985 - val_loss: 0.8232 - val_categorical_accuracy: 0.7148\n",
      "Epoch 181/200\n",
      "25600/25600 [==============================] - 0s 19us/step - loss: 0.5034 - categorical_accuracy: 0.7952 - val_loss: 0.8373 - val_categorical_accuracy: 0.7159\n",
      "Epoch 182/200\n",
      "25600/25600 [==============================] - 0s 19us/step - loss: 0.5012 - categorical_accuracy: 0.7959 - val_loss: 0.8602 - val_categorical_accuracy: 0.7075\n",
      "Epoch 183/200\n",
      "25600/25600 [==============================] - 1s 20us/step - loss: 0.4945 - categorical_accuracy: 0.7986 - val_loss: 0.8572 - val_categorical_accuracy: 0.7125\n",
      "Epoch 184/200\n",
      "25600/25600 [==============================] - 1s 21us/step - loss: 0.4841 - categorical_accuracy: 0.8016 - val_loss: 0.8248 - val_categorical_accuracy: 0.7164\n",
      "Epoch 185/200\n",
      "25600/25600 [==============================] - 0s 19us/step - loss: 0.4887 - categorical_accuracy: 0.8004 - val_loss: 0.8421 - val_categorical_accuracy: 0.7113\n",
      "Epoch 186/200\n",
      "25600/25600 [==============================] - 0s 19us/step - loss: 0.4922 - categorical_accuracy: 0.7998 - val_loss: 0.8112 - val_categorical_accuracy: 0.7220\n",
      "Epoch 187/200\n",
      "25600/25600 [==============================] - 0s 19us/step - loss: 0.4908 - categorical_accuracy: 0.7990 - val_loss: 0.8391 - val_categorical_accuracy: 0.7114\n",
      "Epoch 188/200\n",
      "25600/25600 [==============================] - 0s 18us/step - loss: 0.4869 - categorical_accuracy: 0.8013 - val_loss: 0.8361 - val_categorical_accuracy: 0.7175\n",
      "Epoch 189/200\n"
     ]
    },
    {
     "name": "stdout",
     "output_type": "stream",
     "text": [
      "25600/25600 [==============================] - 0s 18us/step - loss: 0.4937 - categorical_accuracy: 0.7994 - val_loss: 0.8196 - val_categorical_accuracy: 0.7128\n",
      "Epoch 190/200\n",
      "25600/25600 [==============================] - 0s 19us/step - loss: 0.4867 - categorical_accuracy: 0.8037 - val_loss: 0.8278 - val_categorical_accuracy: 0.7220\n",
      "Epoch 191/200\n",
      "25600/25600 [==============================] - 0s 19us/step - loss: 0.4884 - categorical_accuracy: 0.8032 - val_loss: 0.8374 - val_categorical_accuracy: 0.7123\n",
      "Epoch 192/200\n",
      "25600/25600 [==============================] - 0s 19us/step - loss: 0.4753 - categorical_accuracy: 0.8063 - val_loss: 0.8394 - val_categorical_accuracy: 0.7133\n",
      "Epoch 193/200\n",
      "25600/25600 [==============================] - 0s 19us/step - loss: 0.4884 - categorical_accuracy: 0.8016 - val_loss: 0.8247 - val_categorical_accuracy: 0.7227\n",
      "Epoch 194/200\n",
      "25600/25600 [==============================] - 0s 19us/step - loss: 0.4921 - categorical_accuracy: 0.8004 - val_loss: 0.8147 - val_categorical_accuracy: 0.7180\n",
      "Epoch 195/200\n",
      "25600/25600 [==============================] - 0s 18us/step - loss: 0.4815 - categorical_accuracy: 0.8021 - val_loss: 0.8355 - val_categorical_accuracy: 0.7097\n",
      "Epoch 196/200\n",
      "25600/25600 [==============================] - 0s 19us/step - loss: 0.4823 - categorical_accuracy: 0.8018 - val_loss: 0.8821 - val_categorical_accuracy: 0.7013\n",
      "Epoch 197/200\n",
      "25600/25600 [==============================] - 0s 18us/step - loss: 0.4795 - categorical_accuracy: 0.8066 - val_loss: 0.8267 - val_categorical_accuracy: 0.7136\n",
      "Epoch 198/200\n",
      "25600/25600 [==============================] - 0s 18us/step - loss: 0.4744 - categorical_accuracy: 0.8089 - val_loss: 0.8564 - val_categorical_accuracy: 0.7163\n",
      "Epoch 199/200\n",
      "25600/25600 [==============================] - 0s 18us/step - loss: 0.4882 - categorical_accuracy: 0.7987 - val_loss: 0.8490 - val_categorical_accuracy: 0.7128\n",
      "Epoch 200/200\n",
      "25600/25600 [==============================] - 0s 18us/step - loss: 0.4813 - categorical_accuracy: 0.8018 - val_loss: 0.8396 - val_categorical_accuracy: 0.7069\n"
     ]
    }
   ],
   "source": [
    "model = Sequential()\n",
    "\n",
    "model.add(Dense(128, activation='relu', input_shape=(180,)))\n",
    "model.add(Dense(128, activation='relu'))\n",
    "model.add(Dropout(0.1))\n",
    "model.add(Dense(128, activation='relu'))\n",
    "model.add(Dense(4, activation='softmax'))\n",
    "\n",
    "model.compile(optimizer='adam',\n",
    "              loss='categorical_crossentropy',\n",
    "              metrics=['categorical_accuracy'])\n",
    "\n",
    "history = model.fit(Xtr, ytr, epochs=200, batch_size=128, validation_data=(Xtest,ytest), class_weight=weights)"
   ]
  },
  {
   "cell_type": "code",
   "execution_count": 445,
   "metadata": {},
   "outputs": [
    {
     "data": {
      "image/png": "[encoded data removed]",
      "text/plain": [
       "<Figure size 432x288 with 1 Axes>"
      ]
     },
     "metadata": {},
     "output_type": "display_data"
    }
   ],
   "source": [
    "plt.plot(history.history['categorical_accuracy'])\n",
    "plt.plot(history.history['val_categorical_accuracy'])\n",
    "plt.title('Model accuracy')\n",
    "plt.ylabel('Accuracy')\n",
    "plt.xlabel('Epoch')\n",
    "plt.legend(['Train', 'Test'], loc='upper left')\n",
    "plt.show()"
   ]
  },
  {
   "cell_type": "code",
   "execution_count": 446,
   "metadata": {},
   "outputs": [
    {
     "data": {
      "image/png": "[encoded data removed]",
      "text/plain": [
       "<Figure size 432x288 with 1 Axes>"
      ]
     },
     "metadata": {},
     "output_type": "display_data"
    }
   ],
   "source": [
    "plt.plot(history.history['loss'])\n",
    "plt.plot(history.history['val_loss'])\n",
    "plt.title('Model loss')\n",
    "plt.ylabel('Loss')\n",
    "plt.xlabel('Epoch')\n",
    "plt.legend(['Train', 'Test'], loc='upper left')\n",
    "plt.show()"
   ]
  },
  {
   "cell_type": "code",
   "execution_count": 447,
   "metadata": {},
   "outputs": [],
   "source": [
    "ypred = model.predict_classes(Xtest)\n",
    "ytrue = np.argmax(ytest, axis=1)"
   ]
  },
  {
   "cell_type": "code",
   "execution_count": 448,
   "metadata": {},
   "outputs": [
    {
     "data": {
      "text/plain": [
       "0.706875"
      ]
     },
     "execution_count": 448,
     "metadata": {},
     "output_type": "execute_result"
    }
   ],
   "source": [
    "f1_score(ytrue, ypred, average='micro')"
   ]
  },
  {
   "cell_type": "markdown",
   "metadata": {},
   "source": [
    "# Output predictions"
   ]
  },
  {
   "cell_type": "code",
   "execution_count": 307,
   "metadata": {},
   "outputs": [],
   "source": [
    "\"\"\"\n",
    "Creates testing data where every row is an individual heartbeat\n",
    "\"\"\"\n",
    "def create_testing_data(x_test):\n",
    "    X = []\n",
    "    for i in range(0, x_test.shape[0]):\n",
    "        if i % 100 == 0:\n",
    "            print(i)\n",
    "        beats = get_heartbeats(x_test.iloc[i].values)\n",
    "        if beats.shape[0] == 0: # some rows gave back 0 beats for some reason ? \n",
    "            print('0 shape, row {}'.format(i))\n",
    "#             continue\n",
    "        X.append(beats)\n",
    "    return X"
   ]
  },
  {
   "cell_type": "code",
   "execution_count": 309,
   "metadata": {
    "collapsed": true
   },
   "outputs": [
    {
     "name": "stdout",
     "output_type": "stream",
     "text": [
      "0\n",
      "100\n",
      "200\n",
      "0 shape, row 254\n",
      "300\n",
      "400\n",
      "0 shape, row 437\n",
      "500\n",
      "600\n",
      "700\n",
      "800\n",
      "900\n",
      "1000\n",
      "0 shape, row 1056\n",
      "1100\n",
      "0 shape, row 1107\n",
      "1200\n",
      "0 shape, row 1225\n",
      "1300\n",
      "0 shape, row 1355\n",
      "1400\n",
      "1500\n",
      "1600\n",
      "0 shape, row 1655\n",
      "1700\n",
      "1800\n",
      "1900\n",
      "2000\n",
      "2100\n",
      "0 shape, row 2127\n",
      "2200\n",
      "2300\n",
      "0 shape, row 2351\n",
      "2400\n",
      "2500\n",
      "2600\n",
      "2700\n",
      "2800\n",
      "2900\n",
      "3000\n",
      "3100\n",
      "3200\n",
      "3300\n",
      "0 shape, row 3345\n",
      "3400\n"
     ]
    }
   ],
   "source": [
    "X_test = create_testing_data(x_test)"
   ]
  },
  {
   "cell_type": "code",
   "execution_count": 321,
   "metadata": {},
   "outputs": [],
   "source": [
    "np.save('x_test.npy', X_test_np)"
   ]
  },
  {
   "cell_type": "code",
   "execution_count": 323,
   "metadata": {},
   "outputs": [],
   "source": [
    "np.save('x_train.npy', x_train)"
   ]
  },
  {
   "cell_type": "code",
   "execution_count": 324,
   "metadata": {},
   "outputs": [],
   "source": [
    "np.save('y_train.npy', y_train)"
   ]
  },
  {
   "cell_type": "code",
   "execution_count": 350,
   "metadata": {},
   "outputs": [],
   "source": [
    "def get_predictions(model):\n",
    "    y_pred = []\n",
    "    for i in range(0,len(X_test)):\n",
    "        x = X_test[i]\n",
    "        if len(x) == 0:\n",
    "            print('no pred')\n",
    "            y_pred.append(0)\n",
    "            continue\n",
    "        pred = model.predict_classes(X_test[i])\n",
    "        counts = np.bincount(pred)\n",
    "        y_pred.append(np.argmax(counts))\n",
    "    return y_pred\n",
    "\n",
    "def output_pred(preds, name):\n",
    "    output = pd.DataFrame({'id':[float(i) for i in range(0, len(preds))], 'y': preds})\n",
    "    output.to_csv(name,index=False)"
   ]
  },
  {
   "cell_type": "code",
   "execution_count": 361,
   "metadata": {},
   "outputs": [
    {
     "name": "stdout",
     "output_type": "stream",
     "text": [
      "no pred\n",
      "no pred\n",
      "no pred\n",
      "no pred\n",
      "no pred\n",
      "no pred\n",
      "no pred\n",
      "no pred\n",
      "no pred\n",
      "no pred\n"
     ]
    }
   ],
   "source": [
    "preds = get_predictions(model)"
   ]
  },
  {
   "cell_type": "code",
   "execution_count": 362,
   "metadata": {},
   "outputs": [],
   "source": [
    "output_pred(preds, 'nn1.csv')"
   ]
  },
  {
   "cell_type": "code",
   "execution_count": null,
   "metadata": {},
   "outputs": [],
   "source": []
  }
 ],
 "metadata": {
  "kernelspec": {
   "display_name": "Python 3",
   "language": "python",
   "name": "python3"
  }
 },
 "nbformat": 4,
 "nbformat_minor": 2
}
