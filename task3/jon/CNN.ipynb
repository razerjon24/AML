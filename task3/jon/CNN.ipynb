{
 "cells": [
  {
   "cell_type": "code",
   "execution_count": 371,
   "metadata": {},
   "outputs": [],
   "source": [
    "import pandas as pd\n",
    "import tensorflow as tf\n",
    "import matplotlib.pyplot as plt\n",
    "%matplotlib inline\n",
    "import seaborn as sns; sns.set()\n",
    "from sklearn.model_selection import train_test_split\n",
    "from tensorflow.keras import layers, models, optimizers\n",
    "#from sklearn.neighbors import KNeighborsRegressor\n",
    "#from sklearn.experimental import enable_iterative_imputer\n",
    "#from sklearn.impute import IterativeImputer\n",
    "from sklearn.preprocessing import StandardScaler\n",
    "import numpy as np\n",
    "import biosppy.signals.ecg as ecg\n",
    "from sklearn.utils import class_weight\n",
    "from sklearn.metrics import balanced_accuracy_score\n",
    "from sklearn.metrics import f1_score\n",
    "from scipy import signal\n",
    "from sklearn.preprocessing import MinMaxScaler"
   ]
  },
  {
   "cell_type": "code",
   "execution_count": 2,
   "metadata": {},
   "outputs": [],
   "source": [
    "train = pd.read_csv(\"../data/X_train.csv\").drop('id',axis=1)\n",
    "test = pd.read_csv(\"../data/X_test.csv\").drop('id',axis=1)\n",
    "y = pd.read_csv(\"../data/y_train.csv\").drop('id',axis=1).y.values"
   ]
  },
  {
   "cell_type": "code",
   "execution_count": 75,
   "metadata": {},
   "outputs": [
    {
     "data": {
      "text/plain": [
       "(5117, 17813)"
      ]
     },
     "execution_count": 75,
     "metadata": {},
     "output_type": "execute_result"
    }
   ],
   "source": [
    "train.shape"
   ]
  },
  {
   "cell_type": "code",
   "execution_count": 8,
   "metadata": {},
   "outputs": [
    {
     "data": {
      "text/plain": [
       "<matplotlib.axes._subplots.AxesSubplot at 0x15a244d6448>"
      ]
     },
     "execution_count": 8,
     "metadata": {},
     "output_type": "execute_result"
    },
    {
     "data": {
      "image/png": "[encoded data removed]",
      "text/plain": [
       "<Figure size 432x288 with 1 Axes>"
      ]
     },
     "metadata": {},
     "output_type": "display_data"
    }
   ],
   "source": [
    "train.iloc[2,:].plot()"
   ]
  },
  {
   "cell_type": "code",
   "execution_count": 65,
   "metadata": {},
   "outputs": [
    {
     "data": {
      "text/html": [
       "<div>\n",
       "<style scoped>\n",
       "    .dataframe tbody tr th:only-of-type {\n",
       "        vertical-align: middle;\n",
       "    }\n",
       "\n",
       "    .dataframe tbody tr th {\n",
       "        vertical-align: top;\n",
       "    }\n",
       "\n",
       "    .dataframe thead th {\n",
       "        text-align: right;\n",
       "    }\n",
       "</style>\n",
       "<table border=\"1\" class=\"dataframe\">\n",
       "  <thead>\n",
       "    <tr style=\"text-align: right;\">\n",
       "      <th></th>\n",
       "      <th>x0</th>\n",
       "      <th>x1</th>\n",
       "      <th>x2</th>\n",
       "      <th>x3</th>\n",
       "      <th>x4</th>\n",
       "      <th>x5</th>\n",
       "      <th>x6</th>\n",
       "      <th>x7</th>\n",
       "      <th>x8</th>\n",
       "      <th>x9</th>\n",
       "      <th>...</th>\n",
       "      <th>x17804</th>\n",
       "      <th>x17805</th>\n",
       "      <th>x17806</th>\n",
       "      <th>x17807</th>\n",
       "      <th>x17808</th>\n",
       "      <th>x17809</th>\n",
       "      <th>x17810</th>\n",
       "      <th>x17811</th>\n",
       "      <th>x17812</th>\n",
       "      <th>y</th>\n",
       "    </tr>\n",
       "  </thead>\n",
       "  <tbody>\n",
       "    <tr>\n",
       "      <th>0</th>\n",
       "      <td>215</td>\n",
       "      <td>210</td>\n",
       "      <td>200</td>\n",
       "      <td>184</td>\n",
       "      <td>159</td>\n",
       "      <td>131</td>\n",
       "      <td>107</td>\n",
       "      <td>87</td>\n",
       "      <td>61</td>\n",
       "      <td>38</td>\n",
       "      <td>...</td>\n",
       "      <td>NaN</td>\n",
       "      <td>NaN</td>\n",
       "      <td>NaN</td>\n",
       "      <td>NaN</td>\n",
       "      <td>NaN</td>\n",
       "      <td>NaN</td>\n",
       "      <td>NaN</td>\n",
       "      <td>NaN</td>\n",
       "      <td>NaN</td>\n",
       "      <td>0</td>\n",
       "    </tr>\n",
       "    <tr>\n",
       "      <th>1</th>\n",
       "      <td>56</td>\n",
       "      <td>53</td>\n",
       "      <td>50</td>\n",
       "      <td>47</td>\n",
       "      <td>42</td>\n",
       "      <td>38</td>\n",
       "      <td>34</td>\n",
       "      <td>30</td>\n",
       "      <td>26</td>\n",
       "      <td>23</td>\n",
       "      <td>...</td>\n",
       "      <td>NaN</td>\n",
       "      <td>NaN</td>\n",
       "      <td>NaN</td>\n",
       "      <td>NaN</td>\n",
       "      <td>NaN</td>\n",
       "      <td>NaN</td>\n",
       "      <td>NaN</td>\n",
       "      <td>NaN</td>\n",
       "      <td>NaN</td>\n",
       "      <td>0</td>\n",
       "    </tr>\n",
       "    <tr>\n",
       "      <th>2</th>\n",
       "      <td>-65</td>\n",
       "      <td>-63</td>\n",
       "      <td>-61</td>\n",
       "      <td>-59</td>\n",
       "      <td>-57</td>\n",
       "      <td>-55</td>\n",
       "      <td>-52</td>\n",
       "      <td>-49</td>\n",
       "      <td>-46</td>\n",
       "      <td>-44</td>\n",
       "      <td>...</td>\n",
       "      <td>NaN</td>\n",
       "      <td>NaN</td>\n",
       "      <td>NaN</td>\n",
       "      <td>NaN</td>\n",
       "      <td>NaN</td>\n",
       "      <td>NaN</td>\n",
       "      <td>NaN</td>\n",
       "      <td>NaN</td>\n",
       "      <td>NaN</td>\n",
       "      <td>0</td>\n",
       "    </tr>\n",
       "    <tr>\n",
       "      <th>3</th>\n",
       "      <td>38</td>\n",
       "      <td>67</td>\n",
       "      <td>100</td>\n",
       "      <td>131</td>\n",
       "      <td>161</td>\n",
       "      <td>191</td>\n",
       "      <td>219</td>\n",
       "      <td>249</td>\n",
       "      <td>267</td>\n",
       "      <td>275</td>\n",
       "      <td>...</td>\n",
       "      <td>NaN</td>\n",
       "      <td>NaN</td>\n",
       "      <td>NaN</td>\n",
       "      <td>NaN</td>\n",
       "      <td>NaN</td>\n",
       "      <td>NaN</td>\n",
       "      <td>NaN</td>\n",
       "      <td>NaN</td>\n",
       "      <td>NaN</td>\n",
       "      <td>1</td>\n",
       "    </tr>\n",
       "    <tr>\n",
       "      <th>4</th>\n",
       "      <td>-291</td>\n",
       "      <td>-279</td>\n",
       "      <td>-261</td>\n",
       "      <td>-224</td>\n",
       "      <td>-148</td>\n",
       "      <td>-64</td>\n",
       "      <td>11</td>\n",
       "      <td>66</td>\n",
       "      <td>71</td>\n",
       "      <td>42</td>\n",
       "      <td>...</td>\n",
       "      <td>NaN</td>\n",
       "      <td>NaN</td>\n",
       "      <td>NaN</td>\n",
       "      <td>NaN</td>\n",
       "      <td>NaN</td>\n",
       "      <td>NaN</td>\n",
       "      <td>NaN</td>\n",
       "      <td>NaN</td>\n",
       "      <td>NaN</td>\n",
       "      <td>2</td>\n",
       "    </tr>\n",
       "  </tbody>\n",
       "</table>\n",
       "<p>5 rows × 17814 columns</p>\n",
       "</div>"
      ],
      "text/plain": [
       "    x0   x1   x2   x3   x4   x5   x6   x7   x8   x9  ...  x17804  x17805  \\\n",
       "0  215  210  200  184  159  131  107   87   61   38  ...     NaN     NaN   \n",
       "1   56   53   50   47   42   38   34   30   26   23  ...     NaN     NaN   \n",
       "2  -65  -63  -61  -59  -57  -55  -52  -49  -46  -44  ...     NaN     NaN   \n",
       "3   38   67  100  131  161  191  219  249  267  275  ...     NaN     NaN   \n",
       "4 -291 -279 -261 -224 -148  -64   11   66   71   42  ...     NaN     NaN   \n",
       "\n",
       "   x17806  x17807  x17808  x17809  x17810  x17811  x17812  y  \n",
       "0     NaN     NaN     NaN     NaN     NaN     NaN     NaN  0  \n",
       "1     NaN     NaN     NaN     NaN     NaN     NaN     NaN  0  \n",
       "2     NaN     NaN     NaN     NaN     NaN     NaN     NaN  0  \n",
       "3     NaN     NaN     NaN     NaN     NaN     NaN     NaN  1  \n",
       "4     NaN     NaN     NaN     NaN     NaN     NaN     NaN  2  \n",
       "\n",
       "[5 rows x 17814 columns]"
      ]
     },
     "execution_count": 65,
     "metadata": {},
     "output_type": "execute_result"
    }
   ],
   "source": [
    "train = pd.concat([train,pd.DataFrame(y,columns=['y'])],axis=1)\n",
    "train.head()"
   ]
  },
  {
   "cell_type": "code",
   "execution_count": 83,
   "metadata": {},
   "outputs": [],
   "source": [
    "f = signal.resample(train.iloc[0,:].drop('y').dropna(), 128)"
   ]
  },
  {
   "cell_type": "code",
   "execution_count": 88,
   "metadata": {},
   "outputs": [
    {
     "data": {
      "text/plain": [
       "[<matplotlib.lines.Line2D at 0x293bee94948>]"
      ]
     },
     "execution_count": 88,
     "metadata": {},
     "output_type": "execute_result"
    },
    {
     "data": {
      "image/png": "[encoded data removed]",
      "text/plain": [
       "<Figure size 432x288 with 1 Axes>"
      ]
     },
     "metadata": {
      "needs_background": "light"
     },
     "output_type": "display_data"
    }
   ],
   "source": [
    "plt.plot(f)"
   ]
  },
  {
   "cell_type": "code",
   "execution_count": 508,
   "metadata": {},
   "outputs": [],
   "source": [
    "def create_hbts_df(df):\n",
    "    htbs_df = pd.DataFrame()\n",
    "    sampling_rate = 300.0\n",
    "#    new_sampling_rate = 128\n",
    "#     before_ms = 0.235\n",
    "#     after_ms = 0.390\n",
    "    before_ms = 0.1\n",
    "    after_ms = 0.167\n",
    "    #print('Process {} started'.format(process_id))\n",
    "    for index, row in df.iterrows():\n",
    "        #print(\"row {}\".format(index))\n",
    "#         secs = len(row.drop('y').dropna())/sampling_rate # Number of seconds in signal X\n",
    "#         samps = secs*new_sampling_rate     # Number of samples to downsample\n",
    "#         sig =  signal.resample(row.drop('y').dropna(), round(samps))\n",
    "        rpeaks = ecg.christov_segmenter(signal=row.drop('y').dropna().values, sampling_rate=sampling_rate)\n",
    "        hbts = ecg.extract_heartbeats(signal=sig, rpeaks=rpeaks[0], sampling_rate=sampling_rate, \n",
    "                                      before=before_ms, after=after_ms)[0]\n",
    "        htbs_df = pd.concat([htbs_df,\n",
    "                             pd.DataFrame([np.append(x.reshape(-1, 1) \n",
    "                                 ,[index, row['y']]) for x in hbts])])\n",
    "    return htbs_df\n",
    "    #htbs_df.to_csv(\"{}_htbs.csv\".format(process_id),index=False)\n",
    "    #print('Process {} ended successfully'.format(process_id))\n",
    "#StandardScaler().fit_transform(x.reshape(-1, 1))"
   ]
  },
  {
   "cell_type": "code",
   "execution_count": 506,
   "metadata": {},
   "outputs": [
    {
     "data": {
      "text/plain": [
       "(5117, 17814)"
      ]
     },
     "execution_count": 506,
     "metadata": {},
     "output_type": "execute_result"
    }
   ],
   "source": [
    "train.shape"
   ]
  },
  {
   "cell_type": "code",
   "execution_count": 509,
   "metadata": {},
   "outputs": [],
   "source": [
    "hbts_df = create_hbts_df(train)"
   ]
  },
  {
   "cell_type": "code",
   "execution_count": 510,
   "metadata": {},
   "outputs": [],
   "source": [
    "hbts_df.to_csv(\"hbts3.csv\",index=False)"
   ]
  },
  {
   "cell_type": "code",
   "execution_count": 41,
   "metadata": {},
   "outputs": [],
   "source": [
    "hbts_df = pd.read_csv(\"hbts.csv\")"
   ]
  },
  {
   "cell_type": "code",
   "execution_count": 511,
   "metadata": {},
   "outputs": [
    {
     "data": {
      "text/plain": [
       "(45296, 82)"
      ]
     },
     "execution_count": 511,
     "metadata": {},
     "output_type": "execute_result"
    }
   ],
   "source": [
    "hbts_df.shape"
   ]
  },
  {
   "cell_type": "code",
   "execution_count": 512,
   "metadata": {},
   "outputs": [
    {
     "data": {
      "text/html": [
       "<div>\n",
       "<style scoped>\n",
       "    .dataframe tbody tr th:only-of-type {\n",
       "        vertical-align: middle;\n",
       "    }\n",
       "\n",
       "    .dataframe tbody tr th {\n",
       "        vertical-align: top;\n",
       "    }\n",
       "\n",
       "    .dataframe thead th {\n",
       "        text-align: right;\n",
       "    }\n",
       "</style>\n",
       "<table border=\"1\" class=\"dataframe\">\n",
       "  <thead>\n",
       "    <tr style=\"text-align: right;\">\n",
       "      <th></th>\n",
       "      <th>0</th>\n",
       "      <th>1</th>\n",
       "      <th>2</th>\n",
       "      <th>3</th>\n",
       "      <th>4</th>\n",
       "      <th>5</th>\n",
       "      <th>6</th>\n",
       "      <th>7</th>\n",
       "      <th>8</th>\n",
       "      <th>9</th>\n",
       "      <th>...</th>\n",
       "      <th>72</th>\n",
       "      <th>73</th>\n",
       "      <th>74</th>\n",
       "      <th>75</th>\n",
       "      <th>76</th>\n",
       "      <th>77</th>\n",
       "      <th>78</th>\n",
       "      <th>79</th>\n",
       "      <th>80</th>\n",
       "      <th>81</th>\n",
       "    </tr>\n",
       "  </thead>\n",
       "  <tbody>\n",
       "    <tr>\n",
       "      <th>0</th>\n",
       "      <td>-8.410628</td>\n",
       "      <td>-3.817117</td>\n",
       "      <td>0.301565</td>\n",
       "      <td>6.526258</td>\n",
       "      <td>13.549684</td>\n",
       "      <td>27.281695</td>\n",
       "      <td>30.056087</td>\n",
       "      <td>11.639331</td>\n",
       "      <td>-11.315568</td>\n",
       "      <td>-11.246781</td>\n",
       "      <td>...</td>\n",
       "      <td>34.785789</td>\n",
       "      <td>19.385382</td>\n",
       "      <td>6.235923</td>\n",
       "      <td>5.264334</td>\n",
       "      <td>5.624829</td>\n",
       "      <td>3.645255</td>\n",
       "      <td>0.713773</td>\n",
       "      <td>16.567484</td>\n",
       "      <td>0.0</td>\n",
       "      <td>0.0</td>\n",
       "    </tr>\n",
       "    <tr>\n",
       "      <th>1</th>\n",
       "      <td>-56.641083</td>\n",
       "      <td>-76.774662</td>\n",
       "      <td>-90.229899</td>\n",
       "      <td>-51.068419</td>\n",
       "      <td>-8.555516</td>\n",
       "      <td>-6.887276</td>\n",
       "      <td>-5.725007</td>\n",
       "      <td>-6.682445</td>\n",
       "      <td>-13.549662</td>\n",
       "      <td>-24.901913</td>\n",
       "      <td>...</td>\n",
       "      <td>45.695046</td>\n",
       "      <td>24.861297</td>\n",
       "      <td>21.264150</td>\n",
       "      <td>16.033558</td>\n",
       "      <td>18.712596</td>\n",
       "      <td>13.141558</td>\n",
       "      <td>6.873434</td>\n",
       "      <td>-0.942977</td>\n",
       "      <td>0.0</td>\n",
       "      <td>0.0</td>\n",
       "    </tr>\n",
       "    <tr>\n",
       "      <th>2</th>\n",
       "      <td>-33.553340</td>\n",
       "      <td>-31.010812</td>\n",
       "      <td>-4.378226</td>\n",
       "      <td>16.369167</td>\n",
       "      <td>13.284984</td>\n",
       "      <td>2.381774</td>\n",
       "      <td>-5.093607</td>\n",
       "      <td>-5.195087</td>\n",
       "      <td>3.945590</td>\n",
       "      <td>11.948395</td>\n",
       "      <td>...</td>\n",
       "      <td>98.888053</td>\n",
       "      <td>102.191234</td>\n",
       "      <td>101.947259</td>\n",
       "      <td>85.886081</td>\n",
       "      <td>69.575530</td>\n",
       "      <td>50.029640</td>\n",
       "      <td>34.522201</td>\n",
       "      <td>-0.928110</td>\n",
       "      <td>0.0</td>\n",
       "      <td>0.0</td>\n",
       "    </tr>\n",
       "    <tr>\n",
       "      <th>3</th>\n",
       "      <td>42.366470</td>\n",
       "      <td>32.991940</td>\n",
       "      <td>16.983736</td>\n",
       "      <td>-5.558421</td>\n",
       "      <td>-7.465341</td>\n",
       "      <td>-4.324353</td>\n",
       "      <td>28.230558</td>\n",
       "      <td>58.822783</td>\n",
       "      <td>54.542876</td>\n",
       "      <td>5.907260</td>\n",
       "      <td>...</td>\n",
       "      <td>-48.288832</td>\n",
       "      <td>-23.633502</td>\n",
       "      <td>-13.725232</td>\n",
       "      <td>-1.391527</td>\n",
       "      <td>69.373025</td>\n",
       "      <td>128.625084</td>\n",
       "      <td>128.137427</td>\n",
       "      <td>135.357742</td>\n",
       "      <td>0.0</td>\n",
       "      <td>0.0</td>\n",
       "    </tr>\n",
       "    <tr>\n",
       "      <th>4</th>\n",
       "      <td>36.687244</td>\n",
       "      <td>37.779040</td>\n",
       "      <td>52.383634</td>\n",
       "      <td>22.561632</td>\n",
       "      <td>-41.214933</td>\n",
       "      <td>-61.344712</td>\n",
       "      <td>-50.893466</td>\n",
       "      <td>-28.398476</td>\n",
       "      <td>-22.335139</td>\n",
       "      <td>-27.567076</td>\n",
       "      <td>...</td>\n",
       "      <td>-79.919705</td>\n",
       "      <td>-62.090461</td>\n",
       "      <td>-44.805879</td>\n",
       "      <td>-33.111132</td>\n",
       "      <td>3.775127</td>\n",
       "      <td>89.441354</td>\n",
       "      <td>140.282970</td>\n",
       "      <td>160.700927</td>\n",
       "      <td>0.0</td>\n",
       "      <td>0.0</td>\n",
       "    </tr>\n",
       "  </tbody>\n",
       "</table>\n",
       "<p>5 rows × 82 columns</p>\n",
       "</div>"
      ],
      "text/plain": [
       "          0          1          2          3          4          5   \\\n",
       "0  -8.410628  -3.817117   0.301565   6.526258  13.549684  27.281695   \n",
       "1 -56.641083 -76.774662 -90.229899 -51.068419  -8.555516  -6.887276   \n",
       "2 -33.553340 -31.010812  -4.378226  16.369167  13.284984   2.381774   \n",
       "3  42.366470  32.991940  16.983736  -5.558421  -7.465341  -4.324353   \n",
       "4  36.687244  37.779040  52.383634  22.561632 -41.214933 -61.344712   \n",
       "\n",
       "          6          7          8          9   ...         72          73  \\\n",
       "0  30.056087  11.639331 -11.315568 -11.246781  ...  34.785789   19.385382   \n",
       "1  -5.725007  -6.682445 -13.549662 -24.901913  ...  45.695046   24.861297   \n",
       "2  -5.093607  -5.195087   3.945590  11.948395  ...  98.888053  102.191234   \n",
       "3  28.230558  58.822783  54.542876   5.907260  ... -48.288832  -23.633502   \n",
       "4 -50.893466 -28.398476 -22.335139 -27.567076  ... -79.919705  -62.090461   \n",
       "\n",
       "           74         75         76          77          78          79   80  \\\n",
       "0    6.235923   5.264334   5.624829    3.645255    0.713773   16.567484  0.0   \n",
       "1   21.264150  16.033558  18.712596   13.141558    6.873434   -0.942977  0.0   \n",
       "2  101.947259  85.886081  69.575530   50.029640   34.522201   -0.928110  0.0   \n",
       "3  -13.725232  -1.391527  69.373025  128.625084  128.137427  135.357742  0.0   \n",
       "4  -44.805879 -33.111132   3.775127   89.441354  140.282970  160.700927  0.0   \n",
       "\n",
       "    81  \n",
       "0  0.0  \n",
       "1  0.0  \n",
       "2  0.0  \n",
       "3  0.0  \n",
       "4  0.0  \n",
       "\n",
       "[5 rows x 82 columns]"
      ]
     },
     "execution_count": 512,
     "metadata": {},
     "output_type": "execute_result"
    }
   ],
   "source": [
    "hbts_df.head()"
   ]
  },
  {
   "cell_type": "code",
   "execution_count": 4,
   "metadata": {},
   "outputs": [],
   "source": [
    "# c0 = np.where(y == 0)\n",
    "# c1 = np.where(y == 1)\n",
    "# c2 = np.where(y == 2)\n",
    "# c3 = np.where(y == 3)"
   ]
  },
  {
   "cell_type": "code",
   "execution_count": null,
   "metadata": {},
   "outputs": [],
   "source": [
    "# fig, axes = plt.subplots(nrows=2, ncols=2, figsize=(12,8))\n",
    "# train.iloc[c0].isna().sum().plot.area(ax=axes[0,0], title='C1', color='purple')\n",
    "# train.iloc[c1].isna().sum().plot.area(ax=axes[0,1], title='C2', color='skyblue')\n",
    "# train.iloc[c2].isna().sum().plot.area(ax=axes[1,0], title='C3', color='silver')\n",
    "# train.iloc[c3].isna().sum().plot.area(ax=axes[1,1], title='C4')"
   ]
  },
  {
   "cell_type": "code",
   "execution_count": 513,
   "metadata": {},
   "outputs": [],
   "source": [
    "hbts_df = hbts_df.reset_index(drop=True)"
   ]
  },
  {
   "cell_type": "code",
   "execution_count": 523,
   "metadata": {},
   "outputs": [
    {
     "data": {
      "text/plain": [
       "(5111, 17814)"
      ]
     },
     "execution_count": 523,
     "metadata": {},
     "output_type": "execute_result"
    }
   ],
   "source": [
    "train_ = train[~train.index.isin(np.array([1474, 4999, 4940, 4752, 2292, 3871]))]\n",
    "train_.shape"
   ]
  },
  {
   "cell_type": "code",
   "execution_count": 524,
   "metadata": {},
   "outputs": [],
   "source": [
    "x_train, x_test, y_train, y_test = train_test_split(train_.drop('y',axis=1), train_['y'], test_size = 0.20, stratify = train_['y'])"
   ]
  },
  {
   "cell_type": "code",
   "execution_count": 525,
   "metadata": {},
   "outputs": [],
   "source": [
    "train_split = pd.DataFrame({'index':x_train.index, 'y': y_train})\n",
    "train_split.to_csv(\"train_split.csv\",index=False)\n",
    "test_split = pd.DataFrame({'index':x_test.index, 'y': y_test})\n",
    "test_split.to_csv(\"test_split.csv\",index=False)"
   ]
  },
  {
   "cell_type": "code",
   "execution_count": 526,
   "metadata": {},
   "outputs": [
    {
     "data": {
      "text/plain": [
       "(5111, 17814)"
      ]
     },
     "execution_count": 526,
     "metadata": {},
     "output_type": "execute_result"
    }
   ],
   "source": [
    "train_.shape"
   ]
  },
  {
   "cell_type": "code",
   "execution_count": 517,
   "metadata": {},
   "outputs": [
    {
     "data": {
      "text/plain": [
       "5111"
      ]
     },
     "execution_count": 517,
     "metadata": {},
     "output_type": "execute_result"
    }
   ],
   "source": [
    "hbts_df[80].nunique()"
   ]
  },
  {
   "cell_type": "code",
   "execution_count": 228,
   "metadata": {},
   "outputs": [
    {
     "data": {
      "text/plain": [
       "RangeIndex(start=0, stop=5117, step=1)"
      ]
     },
     "execution_count": 228,
     "metadata": {},
     "output_type": "execute_result"
    }
   ],
   "source": [
    "train.index"
   ]
  },
  {
   "cell_type": "code",
   "execution_count": 522,
   "metadata": {},
   "outputs": [
    {
     "data": {
      "text/plain": [
       "array({1474, 4999, 4940, 4752, 2292, 3871}, dtype=object)"
      ]
     },
     "execution_count": 522,
     "metadata": {},
     "output_type": "execute_result"
    }
   ],
   "source": [
    "np.array(set(train.index) - set(hbts_df[80].unique()))"
   ]
  },
  {
   "cell_type": "code",
   "execution_count": 347,
   "metadata": {},
   "outputs": [
    {
     "name": "stdout",
     "output_type": "stream",
     "text": [
      "ReturnTuple(rpeaks=array([11]))\n"
     ]
    },
    {
     "data": {
      "text/plain": [
       "[<matplotlib.lines.Line2D at 0x293dcb6ebc8>]"
      ]
     },
     "execution_count": 347,
     "metadata": {},
     "output_type": "execute_result"
    },
    {
     "data": {
      "image/png": "[encoded data removed]",
      "text/plain": [
       "<Figure size 432x288 with 1 Axes>"
      ]
     },
     "metadata": {},
     "output_type": "display_data"
    }
   ],
   "source": [
    "sampling_rate = 300.0\n",
    "new_sampling_rate = 128\n",
    "before_ms = 0.093\n",
    "after_ms = 0.532\n",
    "secs = len(train.iloc[3871,:].drop('y').dropna())/sampling_rate # Number of seconds in signal X\n",
    "samps = secs*new_sampling_rate     # Number of samples to downsample\n",
    "sig =  signal.resample(train.iloc[333,:].drop('y').dropna(), round(samps))\n",
    "#plt.axvline(x=11,color='red')\n",
    "rpeaks = ecg.christov_segmenter(signal=sig, sampling_rate=new_sampling_rate)\n",
    "print(rpeaks)\n",
    "hbts = ecg.extract_heartbeats(signal=sig, rpeaks=rpeaks[0], sampling_rate=new_sampling_rate, \n",
    "                                before=before_ms, after=after_ms)[0]\n",
    "# print(hbts)\n",
    "plt.plot(hbts[0])\n",
    "# pd.DataFrame([np.append(x.reshape(-1, 1),[1474, int(train.iloc[1474,:]['y'])]) for x in hbts])"
   ]
  },
  {
   "cell_type": "code",
   "execution_count": 556,
   "metadata": {},
   "outputs": [],
   "source": [
    "def Standardize(row):\n",
    "    return pd.DataFrame(np.append(pd.DataFrame(MinMaxScaler().fit_transform(row.iloc[:80].values.reshape(-1, 1)))[0],np.array([row[80],row[81]])))[0]"
   ]
  },
  {
   "cell_type": "code",
   "execution_count": 557,
   "metadata": {},
   "outputs": [],
   "source": [
    "hbts_df_ = hbts_df.apply(Standardize, axis=1)"
   ]
  },
  {
   "cell_type": "code",
   "execution_count": 558,
   "metadata": {},
   "outputs": [
    {
     "data": {
      "text/html": [
       "<div>\n",
       "<style scoped>\n",
       "    .dataframe tbody tr th:only-of-type {\n",
       "        vertical-align: middle;\n",
       "    }\n",
       "\n",
       "    .dataframe tbody tr th {\n",
       "        vertical-align: top;\n",
       "    }\n",
       "\n",
       "    .dataframe thead th {\n",
       "        text-align: right;\n",
       "    }\n",
       "</style>\n",
       "<table border=\"1\" class=\"dataframe\">\n",
       "  <thead>\n",
       "    <tr style=\"text-align: right;\">\n",
       "      <th></th>\n",
       "      <th>0</th>\n",
       "      <th>1</th>\n",
       "      <th>2</th>\n",
       "      <th>3</th>\n",
       "      <th>4</th>\n",
       "      <th>5</th>\n",
       "      <th>6</th>\n",
       "      <th>7</th>\n",
       "      <th>8</th>\n",
       "      <th>9</th>\n",
       "      <th>...</th>\n",
       "      <th>72</th>\n",
       "      <th>73</th>\n",
       "      <th>74</th>\n",
       "      <th>75</th>\n",
       "      <th>76</th>\n",
       "      <th>77</th>\n",
       "      <th>78</th>\n",
       "      <th>79</th>\n",
       "      <th>80</th>\n",
       "      <th>81</th>\n",
       "    </tr>\n",
       "  </thead>\n",
       "  <tbody>\n",
       "    <tr>\n",
       "      <th>0</th>\n",
       "      <td>0.223536</td>\n",
       "      <td>0.231614</td>\n",
       "      <td>0.238857</td>\n",
       "      <td>0.249804</td>\n",
       "      <td>0.262156</td>\n",
       "      <td>0.286305</td>\n",
       "      <td>0.291184</td>\n",
       "      <td>0.258796</td>\n",
       "      <td>0.218427</td>\n",
       "      <td>0.218548</td>\n",
       "      <td>...</td>\n",
       "      <td>0.299502</td>\n",
       "      <td>0.272419</td>\n",
       "      <td>0.249293</td>\n",
       "      <td>0.247585</td>\n",
       "      <td>0.248219</td>\n",
       "      <td>0.244737</td>\n",
       "      <td>0.239582</td>\n",
       "      <td>0.267463</td>\n",
       "      <td>0.0</td>\n",
       "      <td>0.0</td>\n",
       "    </tr>\n",
       "    <tr>\n",
       "      <th>1</th>\n",
       "      <td>0.231800</td>\n",
       "      <td>0.197937</td>\n",
       "      <td>0.175307</td>\n",
       "      <td>0.241172</td>\n",
       "      <td>0.312674</td>\n",
       "      <td>0.315480</td>\n",
       "      <td>0.317434</td>\n",
       "      <td>0.315824</td>\n",
       "      <td>0.304274</td>\n",
       "      <td>0.285181</td>\n",
       "      <td>...</td>\n",
       "      <td>0.403917</td>\n",
       "      <td>0.368877</td>\n",
       "      <td>0.362827</td>\n",
       "      <td>0.354030</td>\n",
       "      <td>0.358536</td>\n",
       "      <td>0.349166</td>\n",
       "      <td>0.338624</td>\n",
       "      <td>0.325477</td>\n",
       "      <td>0.0</td>\n",
       "      <td>0.0</td>\n",
       "    </tr>\n",
       "    <tr>\n",
       "      <th>2</th>\n",
       "      <td>0.272854</td>\n",
       "      <td>0.276965</td>\n",
       "      <td>0.320026</td>\n",
       "      <td>0.353572</td>\n",
       "      <td>0.348585</td>\n",
       "      <td>0.330956</td>\n",
       "      <td>0.318869</td>\n",
       "      <td>0.318705</td>\n",
       "      <td>0.333485</td>\n",
       "      <td>0.346424</td>\n",
       "      <td>...</td>\n",
       "      <td>0.486993</td>\n",
       "      <td>0.492333</td>\n",
       "      <td>0.491939</td>\n",
       "      <td>0.465970</td>\n",
       "      <td>0.439599</td>\n",
       "      <td>0.407996</td>\n",
       "      <td>0.382922</td>\n",
       "      <td>0.325604</td>\n",
       "      <td>0.0</td>\n",
       "      <td>0.0</td>\n",
       "    </tr>\n",
       "    <tr>\n",
       "      <th>3</th>\n",
       "      <td>0.330762</td>\n",
       "      <td>0.315698</td>\n",
       "      <td>0.289974</td>\n",
       "      <td>0.253752</td>\n",
       "      <td>0.250687</td>\n",
       "      <td>0.255735</td>\n",
       "      <td>0.308047</td>\n",
       "      <td>0.357205</td>\n",
       "      <td>0.350328</td>\n",
       "      <td>0.272176</td>\n",
       "      <td>...</td>\n",
       "      <td>0.185088</td>\n",
       "      <td>0.224707</td>\n",
       "      <td>0.240628</td>\n",
       "      <td>0.260447</td>\n",
       "      <td>0.374159</td>\n",
       "      <td>0.469370</td>\n",
       "      <td>0.468587</td>\n",
       "      <td>0.480189</td>\n",
       "      <td>0.0</td>\n",
       "      <td>0.0</td>\n",
       "    </tr>\n",
       "    <tr>\n",
       "      <th>4</th>\n",
       "      <td>0.308079</td>\n",
       "      <td>0.309964</td>\n",
       "      <td>0.335175</td>\n",
       "      <td>0.283695</td>\n",
       "      <td>0.173603</td>\n",
       "      <td>0.138855</td>\n",
       "      <td>0.156896</td>\n",
       "      <td>0.195727</td>\n",
       "      <td>0.206194</td>\n",
       "      <td>0.197162</td>\n",
       "      <td>...</td>\n",
       "      <td>0.106790</td>\n",
       "      <td>0.137567</td>\n",
       "      <td>0.167404</td>\n",
       "      <td>0.187592</td>\n",
       "      <td>0.251266</td>\n",
       "      <td>0.399144</td>\n",
       "      <td>0.486908</td>\n",
       "      <td>0.522154</td>\n",
       "      <td>0.0</td>\n",
       "      <td>0.0</td>\n",
       "    </tr>\n",
       "  </tbody>\n",
       "</table>\n",
       "<p>5 rows × 82 columns</p>\n",
       "</div>"
      ],
      "text/plain": [
       "         0         1         2         3         4         5         6   \\\n",
       "0  0.223536  0.231614  0.238857  0.249804  0.262156  0.286305  0.291184   \n",
       "1  0.231800  0.197937  0.175307  0.241172  0.312674  0.315480  0.317434   \n",
       "2  0.272854  0.276965  0.320026  0.353572  0.348585  0.330956  0.318869   \n",
       "3  0.330762  0.315698  0.289974  0.253752  0.250687  0.255735  0.308047   \n",
       "4  0.308079  0.309964  0.335175  0.283695  0.173603  0.138855  0.156896   \n",
       "\n",
       "         7         8         9   ...        72        73        74        75  \\\n",
       "0  0.258796  0.218427  0.218548  ...  0.299502  0.272419  0.249293  0.247585   \n",
       "1  0.315824  0.304274  0.285181  ...  0.403917  0.368877  0.362827  0.354030   \n",
       "2  0.318705  0.333485  0.346424  ...  0.486993  0.492333  0.491939  0.465970   \n",
       "3  0.357205  0.350328  0.272176  ...  0.185088  0.224707  0.240628  0.260447   \n",
       "4  0.195727  0.206194  0.197162  ...  0.106790  0.137567  0.167404  0.187592   \n",
       "\n",
       "         76        77        78        79   80   81  \n",
       "0  0.248219  0.244737  0.239582  0.267463  0.0  0.0  \n",
       "1  0.358536  0.349166  0.338624  0.325477  0.0  0.0  \n",
       "2  0.439599  0.407996  0.382922  0.325604  0.0  0.0  \n",
       "3  0.374159  0.469370  0.468587  0.480189  0.0  0.0  \n",
       "4  0.251266  0.399144  0.486908  0.522154  0.0  0.0  \n",
       "\n",
       "[5 rows x 82 columns]"
      ]
     },
     "execution_count": 558,
     "metadata": {},
     "output_type": "execute_result"
    }
   ],
   "source": [
    "hbts_df_.head()"
   ]
  },
  {
   "cell_type": "code",
   "execution_count": 559,
   "metadata": {},
   "outputs": [
    {
     "name": "stdout",
     "output_type": "stream",
     "text": [
      "(36229, 80) (9067, 80) (45296, 82)\n"
     ]
    }
   ],
   "source": [
    "x_indx, y_indx = 80, 81\n",
    "x_train_hbts = hbts_df_[hbts_df_[x_indx].isin(x_train.index)]\n",
    "y_train_hbts = x_train_hbts[y_indx]\n",
    "x_train_hbts = x_train_hbts.drop(x_indx, axis=1).drop(y_indx, axis=1)\n",
    "x_test_hbts = hbts_df_[hbts_df_[x_indx].isin(x_test.index)]\n",
    "x_test_indx = x_test_hbts[x_indx]\n",
    "y_test_hbts = x_test_hbts[y_indx]\n",
    "x_test_hbts = x_test_hbts.drop(x_indx, axis=1).drop(y_indx, axis=1)\n",
    "print(x_train_hbts.shape, x_test_hbts.shape, hbts_df_.shape)"
   ]
  },
  {
   "cell_type": "code",
   "execution_count": 560,
   "metadata": {},
   "outputs": [],
   "source": [
    "y_train_hbts = y_train_hbts.astype('int')\n",
    "y_test_hbts = y_test_hbts.astype('int')"
   ]
  },
  {
   "cell_type": "code",
   "execution_count": 497,
   "metadata": {},
   "outputs": [],
   "source": [
    "cl_w = class_weight.compute_class_weight('balanced',\n",
    "                                                 np.unique(y_train_hbts),\n",
    "                                                 y_train_hbts)"
   ]
  },
  {
   "cell_type": "code",
   "execution_count": 498,
   "metadata": {},
   "outputs": [],
   "source": [
    "class_weight_dict = dict(enumerate(cl_w))\n",
    "class_weight_dict"
   ]
  },
  {
   "cell_type": "code",
   "execution_count": 541,
   "metadata": {},
   "outputs": [],
   "source": [
    "from keras.utils import to_categorical\n",
    "y_categorical = to_categorical(y_train_hbts)"
   ]
  },
  {
   "cell_type": "code",
   "execution_count": 470,
   "metadata": {},
   "outputs": [
    {
     "data": {
      "text/plain": [
       "141811"
      ]
     },
     "execution_count": 470,
     "metadata": {},
     "output_type": "execute_result"
    }
   ],
   "source": [
    "len(X)"
   ]
  },
  {
   "cell_type": "code",
   "execution_count": 366,
   "metadata": {},
   "outputs": [],
   "source": [
    "from keras import backend as K\n",
    "\n",
    "def f1(y_true, y_pred):\n",
    "    def recall(y_true, y_pred):\n",
    "        \"\"\"Recall metric.\n",
    "\n",
    "        Only computes a batch-wise average of recall.\n",
    "\n",
    "        Computes the recall, a metric for multi-label classification of\n",
    "        how many relevant items are selected.\n",
    "        \"\"\"\n",
    "        true_positives = K.sum(K.round(K.clip(y_true * y_pred, 0, 1)))\n",
    "        possible_positives = K.sum(K.round(K.clip(y_true, 0, 1)))\n",
    "        recall = true_positives / (possible_positives + K.epsilon())\n",
    "        return recall\n",
    "\n",
    "    def precision(y_true, y_pred):\n",
    "        \"\"\"Precision metric.\n",
    "\n",
    "        Only computes a batch-wise average of precision.\n",
    "\n",
    "        Computes the precision, a metric for multi-label classification of\n",
    "        how many selected items are relevant.\n",
    "        \"\"\"\n",
    "        true_positives = K.sum(K.round(K.clip(y_true * y_pred, 0, 1)))\n",
    "        predicted_positives = K.sum(K.round(K.clip(y_pred, 0, 1)))\n",
    "        precision = true_positives / (predicted_positives + K.epsilon())\n",
    "        return precision\n",
    "    precision = precision(y_true, y_pred)\n",
    "    recall = recall(y_true, y_pred)\n",
    "    return 2*((precision*recall)/(precision+recall+K.epsilon()))"
   ]
  },
  {
   "cell_type": "code",
   "execution_count": 536,
   "metadata": {},
   "outputs": [
    {
     "data": {
      "text/plain": [
       "<matplotlib.axes._subplots.AxesSubplot at 0x293f0add588>"
      ]
     },
     "execution_count": 536,
     "metadata": {},
     "output_type": "execute_result"
    },
    {
     "data": {
      "image/png": "[encoded data removed]",
      "text/plain": [
       "<Figure size 432x288 with 1 Axes>"
      ]
     },
     "metadata": {},
     "output_type": "display_data"
    }
   ],
   "source": [
    "x_train_hbts.iloc[0,:].plot()"
   ]
  },
  {
   "cell_type": "code",
   "execution_count": 537,
   "metadata": {},
   "outputs": [],
   "source": [
    "X = np.expand_dims(x_train_hbts, axis=2)"
   ]
  },
  {
   "cell_type": "code",
   "execution_count": 539,
   "metadata": {},
   "outputs": [
    {
     "data": {
      "text/html": [
       "<div>\n",
       "<style scoped>\n",
       "    .dataframe tbody tr th:only-of-type {\n",
       "        vertical-align: middle;\n",
       "    }\n",
       "\n",
       "    .dataframe tbody tr th {\n",
       "        vertical-align: top;\n",
       "    }\n",
       "\n",
       "    .dataframe thead th {\n",
       "        text-align: right;\n",
       "    }\n",
       "</style>\n",
       "<table border=\"1\" class=\"dataframe\">\n",
       "  <thead>\n",
       "    <tr style=\"text-align: right;\">\n",
       "      <th></th>\n",
       "      <th>0</th>\n",
       "      <th>1</th>\n",
       "      <th>2</th>\n",
       "      <th>3</th>\n",
       "      <th>4</th>\n",
       "      <th>5</th>\n",
       "      <th>6</th>\n",
       "      <th>7</th>\n",
       "      <th>8</th>\n",
       "      <th>9</th>\n",
       "      <th>...</th>\n",
       "      <th>70</th>\n",
       "      <th>71</th>\n",
       "      <th>72</th>\n",
       "      <th>73</th>\n",
       "      <th>74</th>\n",
       "      <th>75</th>\n",
       "      <th>76</th>\n",
       "      <th>77</th>\n",
       "      <th>78</th>\n",
       "      <th>79</th>\n",
       "    </tr>\n",
       "  </thead>\n",
       "  <tbody>\n",
       "    <tr>\n",
       "      <th>7</th>\n",
       "      <td>1.405390</td>\n",
       "      <td>1.568236</td>\n",
       "      <td>1.724439</td>\n",
       "      <td>1.503594</td>\n",
       "      <td>1.225471</td>\n",
       "      <td>1.112169</td>\n",
       "      <td>1.021304</td>\n",
       "      <td>1.028332</td>\n",
       "      <td>0.992514</td>\n",
       "      <td>0.925963</td>\n",
       "      <td>...</td>\n",
       "      <td>-0.375047</td>\n",
       "      <td>-0.194131</td>\n",
       "      <td>0.166732</td>\n",
       "      <td>0.134084</td>\n",
       "      <td>-0.160042</td>\n",
       "      <td>-0.219171</td>\n",
       "      <td>-0.293687</td>\n",
       "      <td>-0.250420</td>\n",
       "      <td>-0.171775</td>\n",
       "      <td>-0.072443</td>\n",
       "    </tr>\n",
       "    <tr>\n",
       "      <th>8</th>\n",
       "      <td>0.965281</td>\n",
       "      <td>0.769207</td>\n",
       "      <td>0.634081</td>\n",
       "      <td>0.739391</td>\n",
       "      <td>1.069275</td>\n",
       "      <td>1.107396</td>\n",
       "      <td>0.807819</td>\n",
       "      <td>0.570224</td>\n",
       "      <td>0.402450</td>\n",
       "      <td>0.325153</td>\n",
       "      <td>...</td>\n",
       "      <td>-1.057379</td>\n",
       "      <td>-0.921920</td>\n",
       "      <td>-0.641329</td>\n",
       "      <td>0.087637</td>\n",
       "      <td>0.581017</td>\n",
       "      <td>0.656235</td>\n",
       "      <td>0.726781</td>\n",
       "      <td>0.766997</td>\n",
       "      <td>0.810307</td>\n",
       "      <td>0.638337</td>\n",
       "    </tr>\n",
       "    <tr>\n",
       "      <th>9</th>\n",
       "      <td>-1.375460</td>\n",
       "      <td>-1.307668</td>\n",
       "      <td>-1.241643</td>\n",
       "      <td>-1.097226</td>\n",
       "      <td>-0.775795</td>\n",
       "      <td>-0.357572</td>\n",
       "      <td>0.090970</td>\n",
       "      <td>0.426341</td>\n",
       "      <td>0.636922</td>\n",
       "      <td>0.696804</td>\n",
       "      <td>...</td>\n",
       "      <td>1.098504</td>\n",
       "      <td>0.586820</td>\n",
       "      <td>0.118689</td>\n",
       "      <td>-0.273916</td>\n",
       "      <td>-0.670993</td>\n",
       "      <td>-1.300576</td>\n",
       "      <td>-1.395606</td>\n",
       "      <td>-1.465947</td>\n",
       "      <td>-1.547534</td>\n",
       "      <td>-1.538645</td>\n",
       "    </tr>\n",
       "    <tr>\n",
       "      <th>10</th>\n",
       "      <td>0.283698</td>\n",
       "      <td>0.109717</td>\n",
       "      <td>-0.237984</td>\n",
       "      <td>-0.563557</td>\n",
       "      <td>-0.699120</td>\n",
       "      <td>-0.557990</td>\n",
       "      <td>-0.118685</td>\n",
       "      <td>0.173940</td>\n",
       "      <td>0.438649</td>\n",
       "      <td>0.948159</td>\n",
       "      <td>...</td>\n",
       "      <td>-0.117706</td>\n",
       "      <td>-0.118881</td>\n",
       "      <td>-0.151311</td>\n",
       "      <td>-0.190010</td>\n",
       "      <td>-0.215485</td>\n",
       "      <td>-0.197278</td>\n",
       "      <td>-0.159347</td>\n",
       "      <td>-0.135455</td>\n",
       "      <td>-0.131857</td>\n",
       "      <td>-0.128696</td>\n",
       "    </tr>\n",
       "    <tr>\n",
       "      <th>11</th>\n",
       "      <td>-0.069520</td>\n",
       "      <td>-0.024759</td>\n",
       "      <td>-0.006882</td>\n",
       "      <td>0.008706</td>\n",
       "      <td>0.018265</td>\n",
       "      <td>0.015106</td>\n",
       "      <td>0.007604</td>\n",
       "      <td>-0.001204</td>\n",
       "      <td>-0.030622</td>\n",
       "      <td>-0.044395</td>\n",
       "      <td>...</td>\n",
       "      <td>0.404975</td>\n",
       "      <td>0.285615</td>\n",
       "      <td>0.210955</td>\n",
       "      <td>-0.084841</td>\n",
       "      <td>-0.411668</td>\n",
       "      <td>-0.419034</td>\n",
       "      <td>-0.258845</td>\n",
       "      <td>-0.191871</td>\n",
       "      <td>-0.336990</td>\n",
       "      <td>-0.563548</td>\n",
       "    </tr>\n",
       "  </tbody>\n",
       "</table>\n",
       "<p>5 rows × 80 columns</p>\n",
       "</div>"
      ],
      "text/plain": [
       "          0         1         2         3         4         5         6   \\\n",
       "7   1.405390  1.568236  1.724439  1.503594  1.225471  1.112169  1.021304   \n",
       "8   0.965281  0.769207  0.634081  0.739391  1.069275  1.107396  0.807819   \n",
       "9  -1.375460 -1.307668 -1.241643 -1.097226 -0.775795 -0.357572  0.090970   \n",
       "10  0.283698  0.109717 -0.237984 -0.563557 -0.699120 -0.557990 -0.118685   \n",
       "11 -0.069520 -0.024759 -0.006882  0.008706  0.018265  0.015106  0.007604   \n",
       "\n",
       "          7         8         9   ...        70        71        72        73  \\\n",
       "7   1.028332  0.992514  0.925963  ... -0.375047 -0.194131  0.166732  0.134084   \n",
       "8   0.570224  0.402450  0.325153  ... -1.057379 -0.921920 -0.641329  0.087637   \n",
       "9   0.426341  0.636922  0.696804  ...  1.098504  0.586820  0.118689 -0.273916   \n",
       "10  0.173940  0.438649  0.948159  ... -0.117706 -0.118881 -0.151311 -0.190010   \n",
       "11 -0.001204 -0.030622 -0.044395  ...  0.404975  0.285615  0.210955 -0.084841   \n",
       "\n",
       "          74        75        76        77        78        79  \n",
       "7  -0.160042 -0.219171 -0.293687 -0.250420 -0.171775 -0.072443  \n",
       "8   0.581017  0.656235  0.726781  0.766997  0.810307  0.638337  \n",
       "9  -0.670993 -1.300576 -1.395606 -1.465947 -1.547534 -1.538645  \n",
       "10 -0.215485 -0.197278 -0.159347 -0.135455 -0.131857 -0.128696  \n",
       "11 -0.411668 -0.419034 -0.258845 -0.191871 -0.336990 -0.563548  \n",
       "\n",
       "[5 rows x 80 columns]"
      ]
     },
     "execution_count": 539,
     "metadata": {},
     "output_type": "execute_result"
    }
   ],
   "source": [
    "x_train_hbts.head()"
   ]
  },
  {
   "cell_type": "code",
   "execution_count": 553,
   "metadata": {},
   "outputs": [
    {
     "data": {
      "text/plain": [
       "(36229, 80)"
      ]
     },
     "execution_count": 553,
     "metadata": {},
     "output_type": "execute_result"
    }
   ],
   "source": [
    "x_train_hbts.shape"
   ]
  },
  {
   "cell_type": "code",
   "execution_count": 562,
   "metadata": {},
   "outputs": [
    {
     "ename": "ValueError",
     "evalue": "Expected 2D array, got 1D array instead:\narray=[0.84227525 0.88329894 0.92264915 0.86701447 0.7969506  0.76840786\n 0.74551747 0.74728772 0.73826457 0.72149926 0.71317492 0.69845241\n 0.68711012 0.67425439 0.63591769 0.64803537 0.64258713 0.58005619\n 0.56738051 0.55818567 0.54044639 0.58775801 0.60400826 0.53532663\n 0.4567237  0.4402203  0.42718477 0.41523309 0.35914489 0.35653124\n 0.43825539 0.56200657 0.75132358 0.89389837 0.85511306 0.81929881\n 0.91076297 1.         0.68874723 0.348984   0.27951555 0.17973024\n 0.08226016 0.         0.0067747  0.05355295 0.05476576 0.01769435\n 0.06688255 0.09602885 0.07069592 0.07157414 0.10210438 0.14012924\n 0.19069579 0.21983466 0.24452663 0.28289825 0.3157468  0.34250113\n 0.47074728 0.56154852 0.568736   0.5431902  0.50839845 0.56816625\n 0.62554381 0.56800383 0.46694806 0.40956635 0.39375232 0.43932829\n 0.53023578 0.52201129 0.44791575 0.43302017 0.41424837 0.42514809\n 0.44495993 0.46998345].\nReshape your data either using array.reshape(-1, 1) if your data has a single feature or array.reshape(1, -1) if it contains a single sample.",
     "output_type": "error",
     "traceback": [
      "\u001b[1;31m---------------------------------------------------------------------------\u001b[0m",
      "\u001b[1;31mValueError\u001b[0m                                Traceback (most recent call last)",
      "\u001b[1;32m<ipython-input-562-9cae6cd6be1b>\u001b[0m in \u001b[0;36m<module>\u001b[1;34m\u001b[0m\n\u001b[0;32m      1\u001b[0m \u001b[1;32mfrom\u001b[0m \u001b[0msklearn\u001b[0m\u001b[1;33m.\u001b[0m\u001b[0mpreprocessing\u001b[0m \u001b[1;32mimport\u001b[0m \u001b[0mOneHotEncoder\u001b[0m\u001b[1;33m\u001b[0m\u001b[1;33m\u001b[0m\u001b[0m\n\u001b[0;32m      2\u001b[0m \u001b[0monehot_encoder\u001b[0m \u001b[1;33m=\u001b[0m \u001b[0mOneHotEncoder\u001b[0m\u001b[1;33m(\u001b[0m\u001b[0msparse\u001b[0m\u001b[1;33m=\u001b[0m\u001b[1;32mFalse\u001b[0m\u001b[1;33m)\u001b[0m\u001b[1;33m\u001b[0m\u001b[1;33m\u001b[0m\u001b[0m\n\u001b[1;32m----> 3\u001b[1;33m \u001b[0monehot_encoded\u001b[0m \u001b[1;33m=\u001b[0m \u001b[0monehot_encoder\u001b[0m\u001b[1;33m.\u001b[0m\u001b[0mfit_transform\u001b[0m\u001b[1;33m(\u001b[0m\u001b[0mx_train_hbts\u001b[0m\u001b[1;33m.\u001b[0m\u001b[0miloc\u001b[0m\u001b[1;33m[\u001b[0m\u001b[1;36m0\u001b[0m\u001b[1;33m,\u001b[0m\u001b[1;33m:\u001b[0m\u001b[1;33m]\u001b[0m\u001b[1;33m)\u001b[0m\u001b[1;33m\u001b[0m\u001b[1;33m\u001b[0m\u001b[0m\n\u001b[0m\u001b[0;32m      4\u001b[0m \u001b[0mprint\u001b[0m\u001b[1;33m(\u001b[0m\u001b[0monehot_encoded\u001b[0m\u001b[1;33m)\u001b[0m\u001b[1;33m\u001b[0m\u001b[1;33m\u001b[0m\u001b[0m\n",
      "\u001b[1;32mc:\\users\\razerjon24\\appdata\\local\\programs\\python\\python37\\lib\\site-packages\\sklearn\\preprocessing\\_encoders.py\u001b[0m in \u001b[0;36mfit_transform\u001b[1;34m(self, X, y)\u001b[0m\n\u001b[0;32m    629\u001b[0m                 self._categorical_features, copy=True)\n\u001b[0;32m    630\u001b[0m         \u001b[1;32melse\u001b[0m\u001b[1;33m:\u001b[0m\u001b[1;33m\u001b[0m\u001b[1;33m\u001b[0m\u001b[0m\n\u001b[1;32m--> 631\u001b[1;33m             \u001b[1;32mreturn\u001b[0m \u001b[0mself\u001b[0m\u001b[1;33m.\u001b[0m\u001b[0mfit\u001b[0m\u001b[1;33m(\u001b[0m\u001b[0mX\u001b[0m\u001b[1;33m)\u001b[0m\u001b[1;33m.\u001b[0m\u001b[0mtransform\u001b[0m\u001b[1;33m(\u001b[0m\u001b[0mX\u001b[0m\u001b[1;33m)\u001b[0m\u001b[1;33m\u001b[0m\u001b[1;33m\u001b[0m\u001b[0m\n\u001b[0m\u001b[0;32m    632\u001b[0m \u001b[1;33m\u001b[0m\u001b[0m\n\u001b[0;32m    633\u001b[0m     \u001b[1;32mdef\u001b[0m \u001b[0m_legacy_transform\u001b[0m\u001b[1;33m(\u001b[0m\u001b[0mself\u001b[0m\u001b[1;33m,\u001b[0m \u001b[0mX\u001b[0m\u001b[1;33m)\u001b[0m\u001b[1;33m:\u001b[0m\u001b[1;33m\u001b[0m\u001b[1;33m\u001b[0m\u001b[0m\n",
      "\u001b[1;32mc:\\users\\razerjon24\\appdata\\local\\programs\\python\\python37\\lib\\site-packages\\sklearn\\preprocessing\\_encoders.py\u001b[0m in \u001b[0;36mfit\u001b[1;34m(self, X, y)\u001b[0m\n\u001b[0;32m    491\u001b[0m             \u001b[1;32mreturn\u001b[0m \u001b[0mself\u001b[0m\u001b[1;33m\u001b[0m\u001b[1;33m\u001b[0m\u001b[0m\n\u001b[0;32m    492\u001b[0m         \u001b[1;32melse\u001b[0m\u001b[1;33m:\u001b[0m\u001b[1;33m\u001b[0m\u001b[1;33m\u001b[0m\u001b[0m\n\u001b[1;32m--> 493\u001b[1;33m             \u001b[0mself\u001b[0m\u001b[1;33m.\u001b[0m\u001b[0m_fit\u001b[0m\u001b[1;33m(\u001b[0m\u001b[0mX\u001b[0m\u001b[1;33m,\u001b[0m \u001b[0mhandle_unknown\u001b[0m\u001b[1;33m=\u001b[0m\u001b[0mself\u001b[0m\u001b[1;33m.\u001b[0m\u001b[0mhandle_unknown\u001b[0m\u001b[1;33m)\u001b[0m\u001b[1;33m\u001b[0m\u001b[1;33m\u001b[0m\u001b[0m\n\u001b[0m\u001b[0;32m    494\u001b[0m             \u001b[0mself\u001b[0m\u001b[1;33m.\u001b[0m\u001b[0mdrop_idx_\u001b[0m \u001b[1;33m=\u001b[0m \u001b[0mself\u001b[0m\u001b[1;33m.\u001b[0m\u001b[0m_compute_drop_idx\u001b[0m\u001b[1;33m(\u001b[0m\u001b[1;33m)\u001b[0m\u001b[1;33m\u001b[0m\u001b[1;33m\u001b[0m\u001b[0m\n\u001b[0;32m    495\u001b[0m             \u001b[1;32mreturn\u001b[0m \u001b[0mself\u001b[0m\u001b[1;33m\u001b[0m\u001b[1;33m\u001b[0m\u001b[0m\n",
      "\u001b[1;32mc:\\users\\razerjon24\\appdata\\local\\programs\\python\\python37\\lib\\site-packages\\sklearn\\preprocessing\\_encoders.py\u001b[0m in \u001b[0;36m_fit\u001b[1;34m(self, X, handle_unknown)\u001b[0m\n\u001b[0;32m     78\u001b[0m \u001b[1;33m\u001b[0m\u001b[0m\n\u001b[0;32m     79\u001b[0m     \u001b[1;32mdef\u001b[0m \u001b[0m_fit\u001b[0m\u001b[1;33m(\u001b[0m\u001b[0mself\u001b[0m\u001b[1;33m,\u001b[0m \u001b[0mX\u001b[0m\u001b[1;33m,\u001b[0m \u001b[0mhandle_unknown\u001b[0m\u001b[1;33m=\u001b[0m\u001b[1;34m'error'\u001b[0m\u001b[1;33m)\u001b[0m\u001b[1;33m:\u001b[0m\u001b[1;33m\u001b[0m\u001b[1;33m\u001b[0m\u001b[0m\n\u001b[1;32m---> 80\u001b[1;33m         \u001b[0mX_list\u001b[0m\u001b[1;33m,\u001b[0m \u001b[0mn_samples\u001b[0m\u001b[1;33m,\u001b[0m \u001b[0mn_features\u001b[0m \u001b[1;33m=\u001b[0m \u001b[0mself\u001b[0m\u001b[1;33m.\u001b[0m\u001b[0m_check_X\u001b[0m\u001b[1;33m(\u001b[0m\u001b[0mX\u001b[0m\u001b[1;33m)\u001b[0m\u001b[1;33m\u001b[0m\u001b[1;33m\u001b[0m\u001b[0m\n\u001b[0m\u001b[0;32m     81\u001b[0m \u001b[1;33m\u001b[0m\u001b[0m\n\u001b[0;32m     82\u001b[0m         \u001b[1;32mif\u001b[0m \u001b[0mself\u001b[0m\u001b[1;33m.\u001b[0m\u001b[0m_categories\u001b[0m \u001b[1;33m!=\u001b[0m \u001b[1;34m'auto'\u001b[0m\u001b[1;33m:\u001b[0m\u001b[1;33m\u001b[0m\u001b[1;33m\u001b[0m\u001b[0m\n",
      "\u001b[1;32mc:\\users\\razerjon24\\appdata\\local\\programs\\python\\python37\\lib\\site-packages\\sklearn\\preprocessing\\_encoders.py\u001b[0m in \u001b[0;36m_check_X\u001b[1;34m(self, X)\u001b[0m\n\u001b[0;32m     47\u001b[0m         \u001b[1;32mif\u001b[0m \u001b[1;32mnot\u001b[0m \u001b[1;33m(\u001b[0m\u001b[0mhasattr\u001b[0m\u001b[1;33m(\u001b[0m\u001b[0mX\u001b[0m\u001b[1;33m,\u001b[0m \u001b[1;34m'iloc'\u001b[0m\u001b[1;33m)\u001b[0m \u001b[1;32mand\u001b[0m \u001b[0mgetattr\u001b[0m\u001b[1;33m(\u001b[0m\u001b[0mX\u001b[0m\u001b[1;33m,\u001b[0m \u001b[1;34m'ndim'\u001b[0m\u001b[1;33m,\u001b[0m \u001b[1;36m0\u001b[0m\u001b[1;33m)\u001b[0m \u001b[1;33m==\u001b[0m \u001b[1;36m2\u001b[0m\u001b[1;33m)\u001b[0m\u001b[1;33m:\u001b[0m\u001b[1;33m\u001b[0m\u001b[1;33m\u001b[0m\u001b[0m\n\u001b[0;32m     48\u001b[0m             \u001b[1;31m# if not a dataframe, do normal check_array validation\u001b[0m\u001b[1;33m\u001b[0m\u001b[1;33m\u001b[0m\u001b[1;33m\u001b[0m\u001b[0m\n\u001b[1;32m---> 49\u001b[1;33m             \u001b[0mX_temp\u001b[0m \u001b[1;33m=\u001b[0m \u001b[0mcheck_array\u001b[0m\u001b[1;33m(\u001b[0m\u001b[0mX\u001b[0m\u001b[1;33m,\u001b[0m \u001b[0mdtype\u001b[0m\u001b[1;33m=\u001b[0m\u001b[1;32mNone\u001b[0m\u001b[1;33m)\u001b[0m\u001b[1;33m\u001b[0m\u001b[1;33m\u001b[0m\u001b[0m\n\u001b[0m\u001b[0;32m     50\u001b[0m             if (not hasattr(X, 'dtype')\n\u001b[0;32m     51\u001b[0m                     and np.issubdtype(X_temp.dtype, np.str_)):\n",
      "\u001b[1;32mc:\\users\\razerjon24\\appdata\\local\\programs\\python\\python37\\lib\\site-packages\\sklearn\\utils\\validation.py\u001b[0m in \u001b[0;36mcheck_array\u001b[1;34m(array, accept_sparse, accept_large_sparse, dtype, order, copy, force_all_finite, ensure_2d, allow_nd, ensure_min_samples, ensure_min_features, warn_on_dtype, estimator)\u001b[0m\n\u001b[0;32m    519\u001b[0m                     \u001b[1;34m\"Reshape your data either using array.reshape(-1, 1) if \"\u001b[0m\u001b[1;33m\u001b[0m\u001b[1;33m\u001b[0m\u001b[0m\n\u001b[0;32m    520\u001b[0m                     \u001b[1;34m\"your data has a single feature or array.reshape(1, -1) \"\u001b[0m\u001b[1;33m\u001b[0m\u001b[1;33m\u001b[0m\u001b[0m\n\u001b[1;32m--> 521\u001b[1;33m                     \"if it contains a single sample.\".format(array))\n\u001b[0m\u001b[0;32m    522\u001b[0m \u001b[1;33m\u001b[0m\u001b[0m\n\u001b[0;32m    523\u001b[0m         \u001b[1;31m# in the future np.flexible dtypes will be handled like object dtypes\u001b[0m\u001b[1;33m\u001b[0m\u001b[1;33m\u001b[0m\u001b[1;33m\u001b[0m\u001b[0m\n",
      "\u001b[1;31mValueError\u001b[0m: Expected 2D array, got 1D array instead:\narray=[0.84227525 0.88329894 0.92264915 0.86701447 0.7969506  0.76840786\n 0.74551747 0.74728772 0.73826457 0.72149926 0.71317492 0.69845241\n 0.68711012 0.67425439 0.63591769 0.64803537 0.64258713 0.58005619\n 0.56738051 0.55818567 0.54044639 0.58775801 0.60400826 0.53532663\n 0.4567237  0.4402203  0.42718477 0.41523309 0.35914489 0.35653124\n 0.43825539 0.56200657 0.75132358 0.89389837 0.85511306 0.81929881\n 0.91076297 1.         0.68874723 0.348984   0.27951555 0.17973024\n 0.08226016 0.         0.0067747  0.05355295 0.05476576 0.01769435\n 0.06688255 0.09602885 0.07069592 0.07157414 0.10210438 0.14012924\n 0.19069579 0.21983466 0.24452663 0.28289825 0.3157468  0.34250113\n 0.47074728 0.56154852 0.568736   0.5431902  0.50839845 0.56816625\n 0.62554381 0.56800383 0.46694806 0.40956635 0.39375232 0.43932829\n 0.53023578 0.52201129 0.44791575 0.43302017 0.41424837 0.42514809\n 0.44495993 0.46998345].\nReshape your data either using array.reshape(-1, 1) if your data has a single feature or array.reshape(1, -1) if it contains a single sample."
     ]
    }
   ],
   "source": [
    "from sklearn.preprocessing import OneHotEncoder\n",
    "onehot_encoder = OneHotEncoder(sparse=False)\n",
    "onehot_encoded = onehot_encoder.fit_transform(x_train_hbts.iloc[0,:])\n",
    "print(onehot_encoded)"
   ]
  },
  {
   "cell_type": "code",
   "execution_count": 554,
   "metadata": {
    "scrolled": true
   },
   "outputs": [
    {
     "name": "stdout",
     "output_type": "stream",
     "text": [
      "Train on 32606 samples, validate on 3623 samples\n",
      "Epoch 1/50\n",
      "32606/32606 [==============================] - 8s 251us/sample - loss: 1.0282 - accuracy: 0.5774 - val_loss: 1.0227 - val_accuracy: 0.5915\n",
      "Epoch 2/50\n",
      "32606/32606 [==============================] - 8s 238us/sample - loss: 1.0172 - accuracy: 0.5777 - val_loss: 1.0186 - val_accuracy: 0.5915\n",
      "Epoch 3/50\n",
      "32606/32606 [==============================] - 8s 234us/sample - loss: 1.0151 - accuracy: 0.5777 - val_loss: 1.0192 - val_accuracy: 0.5915\n",
      "Epoch 4/50\n",
      "32606/32606 [==============================] - 8s 239us/sample - loss: 1.0148 - accuracy: 0.5777 - val_loss: 1.0229 - val_accuracy: 0.5915\n",
      "Epoch 5/50\n",
      "32606/32606 [==============================] - 7s 228us/sample - loss: 1.0143 - accuracy: 0.5777 - val_loss: 1.0238 - val_accuracy: 0.5915\n",
      "Epoch 6/50\n",
      "32606/32606 [==============================] - 8s 232us/sample - loss: 1.0142 - accuracy: 0.5777 - val_loss: 1.0200 - val_accuracy: 0.5915\n",
      "Epoch 7/50\n",
      "32606/32606 [==============================] - 7s 229us/sample - loss: 1.0133 - accuracy: 0.5777 - val_loss: 1.0208 - val_accuracy: 0.5915\n",
      "Epoch 8/50\n",
      "32606/32606 [==============================] - 8s 240us/sample - loss: 1.0130 - accuracy: 0.5777 - val_loss: 1.0190 - val_accuracy: 0.5915\n",
      "Epoch 9/50\n",
      "32606/32606 [==============================] - 8s 233us/sample - loss: 1.0121 - accuracy: 0.5777 - val_loss: 1.0186 - val_accuracy: 0.5915\n",
      "Epoch 10/50\n",
      "32606/32606 [==============================] - 8s 236us/sample - loss: 1.0127 - accuracy: 0.5777 - val_loss: 1.0196 - val_accuracy: 0.5915\n",
      "Epoch 11/50\n",
      "26600/32606 [=======================>......] - ETA: 1s - loss: 1.0103 - accuracy: 0.5772"
     ]
    },
    {
     "ename": "KeyboardInterrupt",
     "evalue": "",
     "output_type": "error",
     "traceback": [
      "\u001b[1;31m---------------------------------------------------------------------------\u001b[0m",
      "\u001b[1;31mKeyboardInterrupt\u001b[0m                         Traceback (most recent call last)",
      "\u001b[1;32m<ipython-input-554-a84e9ae9b5af>\u001b[0m in \u001b[0;36m<module>\u001b[1;34m\u001b[0m\n\u001b[0;32m     23\u001b[0m               metrics=['accuracy'])\n\u001b[0;32m     24\u001b[0m \u001b[1;33m\u001b[0m\u001b[0m\n\u001b[1;32m---> 25\u001b[1;33m \u001b[0mmodel\u001b[0m\u001b[1;33m.\u001b[0m\u001b[0mfit\u001b[0m\u001b[1;33m(\u001b[0m\u001b[0mx_train_hbts\u001b[0m\u001b[1;33m.\u001b[0m\u001b[0mvalues\u001b[0m\u001b[1;33m,\u001b[0m \u001b[0my_categorical\u001b[0m\u001b[1;33m,\u001b[0m \u001b[0mbatch_size\u001b[0m\u001b[1;33m=\u001b[0m\u001b[1;36m200\u001b[0m\u001b[1;33m,\u001b[0m \u001b[0mepochs\u001b[0m\u001b[1;33m=\u001b[0m\u001b[1;36m50\u001b[0m\u001b[1;33m,\u001b[0m \u001b[0mvalidation_split\u001b[0m\u001b[1;33m=\u001b[0m\u001b[1;36m0.1\u001b[0m\u001b[1;33m)\u001b[0m\u001b[1;33m\u001b[0m\u001b[1;33m\u001b[0m\u001b[0m\n\u001b[0m\u001b[0;32m     26\u001b[0m \u001b[0mprint\u001b[0m\u001b[1;33m(\u001b[0m\u001b[0mmodel\u001b[0m\u001b[1;33m.\u001b[0m\u001b[0msummary\u001b[0m\u001b[1;33m(\u001b[0m\u001b[1;33m)\u001b[0m\u001b[1;33m)\u001b[0m\u001b[1;33m\u001b[0m\u001b[1;33m\u001b[0m\u001b[0m\n",
      "\u001b[1;32mc:\\users\\razerjon24\\appdata\\local\\programs\\python\\python37\\lib\\site-packages\\tensorflow_core\\python\\keras\\engine\\training.py\u001b[0m in \u001b[0;36mfit\u001b[1;34m(self, x, y, batch_size, epochs, verbose, callbacks, validation_split, validation_data, shuffle, class_weight, sample_weight, initial_epoch, steps_per_epoch, validation_steps, validation_freq, max_queue_size, workers, use_multiprocessing, **kwargs)\u001b[0m\n\u001b[0;32m    726\u001b[0m         \u001b[0mmax_queue_size\u001b[0m\u001b[1;33m=\u001b[0m\u001b[0mmax_queue_size\u001b[0m\u001b[1;33m,\u001b[0m\u001b[1;33m\u001b[0m\u001b[1;33m\u001b[0m\u001b[0m\n\u001b[0;32m    727\u001b[0m         \u001b[0mworkers\u001b[0m\u001b[1;33m=\u001b[0m\u001b[0mworkers\u001b[0m\u001b[1;33m,\u001b[0m\u001b[1;33m\u001b[0m\u001b[1;33m\u001b[0m\u001b[0m\n\u001b[1;32m--> 728\u001b[1;33m         use_multiprocessing=use_multiprocessing)\n\u001b[0m\u001b[0;32m    729\u001b[0m \u001b[1;33m\u001b[0m\u001b[0m\n\u001b[0;32m    730\u001b[0m   def evaluate(self,\n",
      "\u001b[1;32mc:\\users\\razerjon24\\appdata\\local\\programs\\python\\python37\\lib\\site-packages\\tensorflow_core\\python\\keras\\engine\\training_v2.py\u001b[0m in \u001b[0;36mfit\u001b[1;34m(self, model, x, y, batch_size, epochs, verbose, callbacks, validation_split, validation_data, shuffle, class_weight, sample_weight, initial_epoch, steps_per_epoch, validation_steps, validation_freq, **kwargs)\u001b[0m\n\u001b[0;32m    322\u001b[0m                 \u001b[0mmode\u001b[0m\u001b[1;33m=\u001b[0m\u001b[0mModeKeys\u001b[0m\u001b[1;33m.\u001b[0m\u001b[0mTRAIN\u001b[0m\u001b[1;33m,\u001b[0m\u001b[1;33m\u001b[0m\u001b[1;33m\u001b[0m\u001b[0m\n\u001b[0;32m    323\u001b[0m                 \u001b[0mtraining_context\u001b[0m\u001b[1;33m=\u001b[0m\u001b[0mtraining_context\u001b[0m\u001b[1;33m,\u001b[0m\u001b[1;33m\u001b[0m\u001b[1;33m\u001b[0m\u001b[0m\n\u001b[1;32m--> 324\u001b[1;33m                 total_epochs=epochs)\n\u001b[0m\u001b[0;32m    325\u001b[0m             \u001b[0mcbks\u001b[0m\u001b[1;33m.\u001b[0m\u001b[0mmake_logs\u001b[0m\u001b[1;33m(\u001b[0m\u001b[0mmodel\u001b[0m\u001b[1;33m,\u001b[0m \u001b[0mepoch_logs\u001b[0m\u001b[1;33m,\u001b[0m \u001b[0mtraining_result\u001b[0m\u001b[1;33m,\u001b[0m \u001b[0mModeKeys\u001b[0m\u001b[1;33m.\u001b[0m\u001b[0mTRAIN\u001b[0m\u001b[1;33m)\u001b[0m\u001b[1;33m\u001b[0m\u001b[1;33m\u001b[0m\u001b[0m\n\u001b[0;32m    326\u001b[0m \u001b[1;33m\u001b[0m\u001b[0m\n",
      "\u001b[1;32mc:\\users\\razerjon24\\appdata\\local\\programs\\python\\python37\\lib\\site-packages\\tensorflow_core\\python\\keras\\engine\\training_v2.py\u001b[0m in \u001b[0;36mrun_one_epoch\u001b[1;34m(model, iterator, execution_function, dataset_size, batch_size, strategy, steps_per_epoch, num_samples, mode, training_context, total_epochs)\u001b[0m\n\u001b[0;32m    121\u001b[0m         step=step, mode=mode, size=current_batch_size) as batch_logs:\n\u001b[0;32m    122\u001b[0m       \u001b[1;32mtry\u001b[0m\u001b[1;33m:\u001b[0m\u001b[1;33m\u001b[0m\u001b[1;33m\u001b[0m\u001b[0m\n\u001b[1;32m--> 123\u001b[1;33m         \u001b[0mbatch_outs\u001b[0m \u001b[1;33m=\u001b[0m \u001b[0mexecution_function\u001b[0m\u001b[1;33m(\u001b[0m\u001b[0miterator\u001b[0m\u001b[1;33m)\u001b[0m\u001b[1;33m\u001b[0m\u001b[1;33m\u001b[0m\u001b[0m\n\u001b[0m\u001b[0;32m    124\u001b[0m       \u001b[1;32mexcept\u001b[0m \u001b[1;33m(\u001b[0m\u001b[0mStopIteration\u001b[0m\u001b[1;33m,\u001b[0m \u001b[0merrors\u001b[0m\u001b[1;33m.\u001b[0m\u001b[0mOutOfRangeError\u001b[0m\u001b[1;33m)\u001b[0m\u001b[1;33m:\u001b[0m\u001b[1;33m\u001b[0m\u001b[1;33m\u001b[0m\u001b[0m\n\u001b[0;32m    125\u001b[0m         \u001b[1;31m# TODO(kaftan): File bug about tf function and errors.OutOfRangeError?\u001b[0m\u001b[1;33m\u001b[0m\u001b[1;33m\u001b[0m\u001b[1;33m\u001b[0m\u001b[0m\n",
      "\u001b[1;32mc:\\users\\razerjon24\\appdata\\local\\programs\\python\\python37\\lib\\site-packages\\tensorflow_core\\python\\keras\\engine\\training_v2_utils.py\u001b[0m in \u001b[0;36mexecution_function\u001b[1;34m(input_fn)\u001b[0m\n\u001b[0;32m     84\u001b[0m     \u001b[1;31m# `numpy` translates Tensors to values in Eager mode.\u001b[0m\u001b[1;33m\u001b[0m\u001b[1;33m\u001b[0m\u001b[1;33m\u001b[0m\u001b[0m\n\u001b[0;32m     85\u001b[0m     return nest.map_structure(_non_none_constant_value,\n\u001b[1;32m---> 86\u001b[1;33m                               distributed_function(input_fn))\n\u001b[0m\u001b[0;32m     87\u001b[0m \u001b[1;33m\u001b[0m\u001b[0m\n\u001b[0;32m     88\u001b[0m   \u001b[1;32mreturn\u001b[0m \u001b[0mexecution_function\u001b[0m\u001b[1;33m\u001b[0m\u001b[1;33m\u001b[0m\u001b[0m\n",
      "\u001b[1;32mc:\\users\\razerjon24\\appdata\\local\\programs\\python\\python37\\lib\\site-packages\\tensorflow_core\\python\\eager\\def_function.py\u001b[0m in \u001b[0;36m__call__\u001b[1;34m(self, *args, **kwds)\u001b[0m\n\u001b[0;32m    455\u001b[0m \u001b[1;33m\u001b[0m\u001b[0m\n\u001b[0;32m    456\u001b[0m     \u001b[0mtracing_count\u001b[0m \u001b[1;33m=\u001b[0m \u001b[0mself\u001b[0m\u001b[1;33m.\u001b[0m\u001b[0m_get_tracing_count\u001b[0m\u001b[1;33m(\u001b[0m\u001b[1;33m)\u001b[0m\u001b[1;33m\u001b[0m\u001b[1;33m\u001b[0m\u001b[0m\n\u001b[1;32m--> 457\u001b[1;33m     \u001b[0mresult\u001b[0m \u001b[1;33m=\u001b[0m \u001b[0mself\u001b[0m\u001b[1;33m.\u001b[0m\u001b[0m_call\u001b[0m\u001b[1;33m(\u001b[0m\u001b[1;33m*\u001b[0m\u001b[0margs\u001b[0m\u001b[1;33m,\u001b[0m \u001b[1;33m**\u001b[0m\u001b[0mkwds\u001b[0m\u001b[1;33m)\u001b[0m\u001b[1;33m\u001b[0m\u001b[1;33m\u001b[0m\u001b[0m\n\u001b[0m\u001b[0;32m    458\u001b[0m     \u001b[1;32mif\u001b[0m \u001b[0mtracing_count\u001b[0m \u001b[1;33m==\u001b[0m \u001b[0mself\u001b[0m\u001b[1;33m.\u001b[0m\u001b[0m_get_tracing_count\u001b[0m\u001b[1;33m(\u001b[0m\u001b[1;33m)\u001b[0m\u001b[1;33m:\u001b[0m\u001b[1;33m\u001b[0m\u001b[1;33m\u001b[0m\u001b[0m\n\u001b[0;32m    459\u001b[0m       \u001b[0mself\u001b[0m\u001b[1;33m.\u001b[0m\u001b[0m_call_counter\u001b[0m\u001b[1;33m.\u001b[0m\u001b[0mcalled_without_tracing\u001b[0m\u001b[1;33m(\u001b[0m\u001b[1;33m)\u001b[0m\u001b[1;33m\u001b[0m\u001b[1;33m\u001b[0m\u001b[0m\n",
      "\u001b[1;32mc:\\users\\razerjon24\\appdata\\local\\programs\\python\\python37\\lib\\site-packages\\tensorflow_core\\python\\eager\\def_function.py\u001b[0m in \u001b[0;36m_call\u001b[1;34m(self, *args, **kwds)\u001b[0m\n\u001b[0;32m    485\u001b[0m       \u001b[1;31m# In this case we have created variables on the first call, so we run the\u001b[0m\u001b[1;33m\u001b[0m\u001b[1;33m\u001b[0m\u001b[1;33m\u001b[0m\u001b[0m\n\u001b[0;32m    486\u001b[0m       \u001b[1;31m# defunned version which is guaranteed to never create variables.\u001b[0m\u001b[1;33m\u001b[0m\u001b[1;33m\u001b[0m\u001b[1;33m\u001b[0m\u001b[0m\n\u001b[1;32m--> 487\u001b[1;33m       \u001b[1;32mreturn\u001b[0m \u001b[0mself\u001b[0m\u001b[1;33m.\u001b[0m\u001b[0m_stateless_fn\u001b[0m\u001b[1;33m(\u001b[0m\u001b[1;33m*\u001b[0m\u001b[0margs\u001b[0m\u001b[1;33m,\u001b[0m \u001b[1;33m**\u001b[0m\u001b[0mkwds\u001b[0m\u001b[1;33m)\u001b[0m  \u001b[1;31m# pylint: disable=not-callable\u001b[0m\u001b[1;33m\u001b[0m\u001b[1;33m\u001b[0m\u001b[0m\n\u001b[0m\u001b[0;32m    488\u001b[0m     \u001b[1;32melif\u001b[0m \u001b[0mself\u001b[0m\u001b[1;33m.\u001b[0m\u001b[0m_stateful_fn\u001b[0m \u001b[1;32mis\u001b[0m \u001b[1;32mnot\u001b[0m \u001b[1;32mNone\u001b[0m\u001b[1;33m:\u001b[0m\u001b[1;33m\u001b[0m\u001b[1;33m\u001b[0m\u001b[0m\n\u001b[0;32m    489\u001b[0m       \u001b[1;31m# Release the lock early so that multiple threads can perform the call\u001b[0m\u001b[1;33m\u001b[0m\u001b[1;33m\u001b[0m\u001b[1;33m\u001b[0m\u001b[0m\n",
      "\u001b[1;32mc:\\users\\razerjon24\\appdata\\local\\programs\\python\\python37\\lib\\site-packages\\tensorflow_core\\python\\eager\\function.py\u001b[0m in \u001b[0;36m__call__\u001b[1;34m(self, *args, **kwargs)\u001b[0m\n\u001b[0;32m   1821\u001b[0m     \u001b[1;34m\"\"\"Calls a graph function specialized to the inputs.\"\"\"\u001b[0m\u001b[1;33m\u001b[0m\u001b[1;33m\u001b[0m\u001b[0m\n\u001b[0;32m   1822\u001b[0m     \u001b[0mgraph_function\u001b[0m\u001b[1;33m,\u001b[0m \u001b[0margs\u001b[0m\u001b[1;33m,\u001b[0m \u001b[0mkwargs\u001b[0m \u001b[1;33m=\u001b[0m \u001b[0mself\u001b[0m\u001b[1;33m.\u001b[0m\u001b[0m_maybe_define_function\u001b[0m\u001b[1;33m(\u001b[0m\u001b[0margs\u001b[0m\u001b[1;33m,\u001b[0m \u001b[0mkwargs\u001b[0m\u001b[1;33m)\u001b[0m\u001b[1;33m\u001b[0m\u001b[1;33m\u001b[0m\u001b[0m\n\u001b[1;32m-> 1823\u001b[1;33m     \u001b[1;32mreturn\u001b[0m \u001b[0mgraph_function\u001b[0m\u001b[1;33m.\u001b[0m\u001b[0m_filtered_call\u001b[0m\u001b[1;33m(\u001b[0m\u001b[0margs\u001b[0m\u001b[1;33m,\u001b[0m \u001b[0mkwargs\u001b[0m\u001b[1;33m)\u001b[0m  \u001b[1;31m# pylint: disable=protected-access\u001b[0m\u001b[1;33m\u001b[0m\u001b[1;33m\u001b[0m\u001b[0m\n\u001b[0m\u001b[0;32m   1824\u001b[0m \u001b[1;33m\u001b[0m\u001b[0m\n\u001b[0;32m   1825\u001b[0m   \u001b[1;33m@\u001b[0m\u001b[0mproperty\u001b[0m\u001b[1;33m\u001b[0m\u001b[1;33m\u001b[0m\u001b[0m\n",
      "\u001b[1;32mc:\\users\\razerjon24\\appdata\\local\\programs\\python\\python37\\lib\\site-packages\\tensorflow_core\\python\\eager\\function.py\u001b[0m in \u001b[0;36m_filtered_call\u001b[1;34m(self, args, kwargs)\u001b[0m\n\u001b[0;32m   1139\u001b[0m          if isinstance(t, (ops.Tensor,\n\u001b[0;32m   1140\u001b[0m                            resource_variable_ops.BaseResourceVariable))),\n\u001b[1;32m-> 1141\u001b[1;33m         self.captured_inputs)\n\u001b[0m\u001b[0;32m   1142\u001b[0m \u001b[1;33m\u001b[0m\u001b[0m\n\u001b[0;32m   1143\u001b[0m   \u001b[1;32mdef\u001b[0m \u001b[0m_call_flat\u001b[0m\u001b[1;33m(\u001b[0m\u001b[0mself\u001b[0m\u001b[1;33m,\u001b[0m \u001b[0margs\u001b[0m\u001b[1;33m,\u001b[0m \u001b[0mcaptured_inputs\u001b[0m\u001b[1;33m,\u001b[0m \u001b[0mcancellation_manager\u001b[0m\u001b[1;33m=\u001b[0m\u001b[1;32mNone\u001b[0m\u001b[1;33m)\u001b[0m\u001b[1;33m:\u001b[0m\u001b[1;33m\u001b[0m\u001b[1;33m\u001b[0m\u001b[0m\n",
      "\u001b[1;32mc:\\users\\razerjon24\\appdata\\local\\programs\\python\\python37\\lib\\site-packages\\tensorflow_core\\python\\eager\\function.py\u001b[0m in \u001b[0;36m_call_flat\u001b[1;34m(self, args, captured_inputs, cancellation_manager)\u001b[0m\n\u001b[0;32m   1222\u001b[0m     \u001b[1;32mif\u001b[0m \u001b[0mexecuting_eagerly\u001b[0m\u001b[1;33m:\u001b[0m\u001b[1;33m\u001b[0m\u001b[1;33m\u001b[0m\u001b[0m\n\u001b[0;32m   1223\u001b[0m       flat_outputs = forward_function.call(\n\u001b[1;32m-> 1224\u001b[1;33m           ctx, args, cancellation_manager=cancellation_manager)\n\u001b[0m\u001b[0;32m   1225\u001b[0m     \u001b[1;32melse\u001b[0m\u001b[1;33m:\u001b[0m\u001b[1;33m\u001b[0m\u001b[1;33m\u001b[0m\u001b[0m\n\u001b[0;32m   1226\u001b[0m       \u001b[0mgradient_name\u001b[0m \u001b[1;33m=\u001b[0m \u001b[0mself\u001b[0m\u001b[1;33m.\u001b[0m\u001b[0m_delayed_rewrite_functions\u001b[0m\u001b[1;33m.\u001b[0m\u001b[0mregister\u001b[0m\u001b[1;33m(\u001b[0m\u001b[1;33m)\u001b[0m\u001b[1;33m\u001b[0m\u001b[1;33m\u001b[0m\u001b[0m\n",
      "\u001b[1;32mc:\\users\\razerjon24\\appdata\\local\\programs\\python\\python37\\lib\\site-packages\\tensorflow_core\\python\\eager\\function.py\u001b[0m in \u001b[0;36mcall\u001b[1;34m(self, ctx, args, cancellation_manager)\u001b[0m\n\u001b[0;32m    509\u001b[0m               \u001b[0minputs\u001b[0m\u001b[1;33m=\u001b[0m\u001b[0margs\u001b[0m\u001b[1;33m,\u001b[0m\u001b[1;33m\u001b[0m\u001b[1;33m\u001b[0m\u001b[0m\n\u001b[0;32m    510\u001b[0m               \u001b[0mattrs\u001b[0m\u001b[1;33m=\u001b[0m\u001b[1;33m(\u001b[0m\u001b[1;34m\"executor_type\"\u001b[0m\u001b[1;33m,\u001b[0m \u001b[0mexecutor_type\u001b[0m\u001b[1;33m,\u001b[0m \u001b[1;34m\"config_proto\"\u001b[0m\u001b[1;33m,\u001b[0m \u001b[0mconfig\u001b[0m\u001b[1;33m)\u001b[0m\u001b[1;33m,\u001b[0m\u001b[1;33m\u001b[0m\u001b[1;33m\u001b[0m\u001b[0m\n\u001b[1;32m--> 511\u001b[1;33m               ctx=ctx)\n\u001b[0m\u001b[0;32m    512\u001b[0m         \u001b[1;32melse\u001b[0m\u001b[1;33m:\u001b[0m\u001b[1;33m\u001b[0m\u001b[1;33m\u001b[0m\u001b[0m\n\u001b[0;32m    513\u001b[0m           outputs = execute.execute_with_cancellation(\n",
      "\u001b[1;32mc:\\users\\razerjon24\\appdata\\local\\programs\\python\\python37\\lib\\site-packages\\tensorflow_core\\python\\eager\\execute.py\u001b[0m in \u001b[0;36mquick_execute\u001b[1;34m(op_name, num_outputs, inputs, attrs, ctx, name)\u001b[0m\n\u001b[0;32m     59\u001b[0m     tensors = pywrap_tensorflow.TFE_Py_Execute(ctx._handle, device_name,\n\u001b[0;32m     60\u001b[0m                                                \u001b[0mop_name\u001b[0m\u001b[1;33m,\u001b[0m \u001b[0minputs\u001b[0m\u001b[1;33m,\u001b[0m \u001b[0mattrs\u001b[0m\u001b[1;33m,\u001b[0m\u001b[1;33m\u001b[0m\u001b[1;33m\u001b[0m\u001b[0m\n\u001b[1;32m---> 61\u001b[1;33m                                                num_outputs)\n\u001b[0m\u001b[0;32m     62\u001b[0m   \u001b[1;32mexcept\u001b[0m \u001b[0mcore\u001b[0m\u001b[1;33m.\u001b[0m\u001b[0m_NotOkStatusException\u001b[0m \u001b[1;32mas\u001b[0m \u001b[0me\u001b[0m\u001b[1;33m:\u001b[0m\u001b[1;33m\u001b[0m\u001b[1;33m\u001b[0m\u001b[0m\n\u001b[0;32m     63\u001b[0m     \u001b[1;32mif\u001b[0m \u001b[0mname\u001b[0m \u001b[1;32mis\u001b[0m \u001b[1;32mnot\u001b[0m \u001b[1;32mNone\u001b[0m\u001b[1;33m:\u001b[0m\u001b[1;33m\u001b[0m\u001b[1;33m\u001b[0m\u001b[0m\n",
      "\u001b[1;31mKeyboardInterrupt\u001b[0m: "
     ]
    }
   ],
   "source": [
    "TIME_PERIODS = x_train_hbts.shape[1]\n",
    "\n",
    "model = models.Sequential()\n",
    "\n",
    "model.add(layers.Reshape((TIME_PERIODS, 1), input_shape=(TIME_PERIODS,)))\n",
    "model.add(layers.Conv1D(filters=5, kernel_size=11, strides=1, activation='relu', input_shape=(TIME_PERIODS, 1)))\n",
    "#model.add(layers.BatchNormalization())\n",
    "model.add(layers.Conv1D(filters=5, kernel_size=11, strides=1, activation='relu'))\n",
    "model.add(layers.MaxPool1D(pool_size=2, strides = 2))\n",
    "# model.add(layers.Conv1D(filters=160, kernel_size=10, activation='relu'))\n",
    "#model.add(layers.Conv1D(filters=160, kernel_size=10, activation='relu'))\n",
    "#model.add(layers.GlobalAveragePooling1D())\n",
    "# model.add(layers.BatchNormalization())\n",
    "# model.add(layers.Conv1D(filters=160, kernel_size=10, strides=1, activation='relu',kernel_initializer='glorot_normal', bias_initializer='zeros'))\n",
    "model.add(layers.Flatten())\n",
    "model.add(layers.Dense(256, activation='relu'))\n",
    "# model.add(layers.Dropout(rate=0.5))\n",
    "model.add(layers.Dense(64, activation='relu'))\n",
    "model.add(layers.Dense(4, activation='softmax'))\n",
    "\n",
    "model.compile(loss='categorical_crossentropy',\n",
    "              optimizer=optimizers.Adam(learning_rate=0.001),\n",
    "              metrics=['accuracy'])\n",
    "\n",
    "model.fit(x_train_hbts.values, y_categorical, batch_size=200, epochs=50, validation_split=0.1)\n",
    "print(model.summary())"
   ]
  },
  {
   "cell_type": "code",
   "execution_count": 555,
   "metadata": {
    "scrolled": true
   },
   "outputs": [
    {
     "name": "stdout",
     "output_type": "stream",
     "text": [
      "Train on 32606 samples, validate on 3623 samples\n",
      "Epoch 1/50\n",
      "32606/32606 [==============================] - 7s 227us/sample - loss: 1.0303 - acc: 0.5775 - val_loss: 1.0232 - val_acc: 0.5915\n",
      "Epoch 2/50\n",
      "32606/32606 [==============================] - 6s 189us/sample - loss: 1.0149 - acc: 0.5777 - val_loss: 1.0171 - val_acc: 0.5915\n",
      "Epoch 3/50\n",
      "32606/32606 [==============================] - 6s 188us/sample - loss: 1.0144 - acc: 0.5777 - val_loss: 1.0190 - val_acc: 0.5915\n",
      "Epoch 4/50\n",
      "32606/32606 [==============================] - 6s 189us/sample - loss: 1.0137 - acc: 0.5777 - val_loss: 1.0220 - val_acc: 0.5915\n",
      "Epoch 5/50\n",
      "32606/32606 [==============================] - 6s 188us/sample - loss: 1.0137 - acc: 0.5777 - val_loss: 1.0198 - val_acc: 0.5915\n",
      "Epoch 6/50\n",
      "32606/32606 [==============================] - 6s 190us/sample - loss: 1.0131 - acc: 0.5777 - val_loss: 1.0225 - val_acc: 0.5915\n",
      "Epoch 7/50\n",
      "17400/32606 [===============>..............] - ETA: 2s - loss: 1.0139 - acc: 0.5798"
     ]
    },
    {
     "ename": "KeyboardInterrupt",
     "evalue": "",
     "output_type": "error",
     "traceback": [
      "\u001b[1;31m---------------------------------------------------------------------------\u001b[0m",
      "\u001b[1;31mKeyboardInterrupt\u001b[0m                         Traceback (most recent call last)",
      "\u001b[1;32m<ipython-input-555-68dd310a992b>\u001b[0m in \u001b[0;36m<module>\u001b[1;34m\u001b[0m\n\u001b[0;32m     29\u001b[0m \u001b[0mmodel\u001b[0m\u001b[1;33m.\u001b[0m\u001b[0mcompile\u001b[0m\u001b[1;33m(\u001b[0m\u001b[0moptimizer\u001b[0m\u001b[1;33m=\u001b[0m\u001b[0mopt\u001b[0m\u001b[1;33m,\u001b[0m \u001b[0mloss\u001b[0m\u001b[1;33m=\u001b[0m\u001b[1;34m'sparse_categorical_crossentropy'\u001b[0m\u001b[1;33m,\u001b[0m \u001b[0mmetrics\u001b[0m\u001b[1;33m=\u001b[0m\u001b[1;33m[\u001b[0m\u001b[1;34m'acc'\u001b[0m\u001b[1;33m]\u001b[0m\u001b[1;33m)\u001b[0m\u001b[1;33m\u001b[0m\u001b[1;33m\u001b[0m\u001b[0m\n\u001b[0;32m     30\u001b[0m \u001b[1;33m\u001b[0m\u001b[0m\n\u001b[1;32m---> 31\u001b[1;33m \u001b[0mmodel\u001b[0m\u001b[1;33m.\u001b[0m\u001b[0mfit\u001b[0m\u001b[1;33m(\u001b[0m\u001b[0mx_train_hbts\u001b[0m\u001b[1;33m.\u001b[0m\u001b[0mvalues\u001b[0m\u001b[1;33m,\u001b[0m \u001b[0my_train_hbts\u001b[0m\u001b[1;33m.\u001b[0m\u001b[0mvalues\u001b[0m\u001b[1;33m,\u001b[0m  \u001b[0mbatch_size\u001b[0m\u001b[1;33m=\u001b[0m\u001b[1;36m200\u001b[0m\u001b[1;33m,\u001b[0m \u001b[0mepochs\u001b[0m\u001b[1;33m=\u001b[0m\u001b[1;36m50\u001b[0m\u001b[1;33m,\u001b[0m \u001b[0mvalidation_split\u001b[0m\u001b[1;33m=\u001b[0m\u001b[1;36m0.1\u001b[0m\u001b[1;33m)\u001b[0m\u001b[1;33m\u001b[0m\u001b[1;33m\u001b[0m\u001b[0m\n\u001b[0m\u001b[0;32m     32\u001b[0m \u001b[1;33m\u001b[0m\u001b[0m\n\u001b[0;32m     33\u001b[0m \u001b[0mprint\u001b[0m\u001b[1;33m(\u001b[0m\u001b[0mmodel\u001b[0m\u001b[1;33m.\u001b[0m\u001b[0msummary\u001b[0m\u001b[1;33m(\u001b[0m\u001b[1;33m)\u001b[0m\u001b[1;33m)\u001b[0m\u001b[1;33m\u001b[0m\u001b[1;33m\u001b[0m\u001b[0m\n",
      "\u001b[1;32mc:\\users\\razerjon24\\appdata\\local\\programs\\python\\python37\\lib\\site-packages\\tensorflow_core\\python\\keras\\engine\\training.py\u001b[0m in \u001b[0;36mfit\u001b[1;34m(self, x, y, batch_size, epochs, verbose, callbacks, validation_split, validation_data, shuffle, class_weight, sample_weight, initial_epoch, steps_per_epoch, validation_steps, validation_freq, max_queue_size, workers, use_multiprocessing, **kwargs)\u001b[0m\n\u001b[0;32m    726\u001b[0m         \u001b[0mmax_queue_size\u001b[0m\u001b[1;33m=\u001b[0m\u001b[0mmax_queue_size\u001b[0m\u001b[1;33m,\u001b[0m\u001b[1;33m\u001b[0m\u001b[1;33m\u001b[0m\u001b[0m\n\u001b[0;32m    727\u001b[0m         \u001b[0mworkers\u001b[0m\u001b[1;33m=\u001b[0m\u001b[0mworkers\u001b[0m\u001b[1;33m,\u001b[0m\u001b[1;33m\u001b[0m\u001b[1;33m\u001b[0m\u001b[0m\n\u001b[1;32m--> 728\u001b[1;33m         use_multiprocessing=use_multiprocessing)\n\u001b[0m\u001b[0;32m    729\u001b[0m \u001b[1;33m\u001b[0m\u001b[0m\n\u001b[0;32m    730\u001b[0m   def evaluate(self,\n",
      "\u001b[1;32mc:\\users\\razerjon24\\appdata\\local\\programs\\python\\python37\\lib\\site-packages\\tensorflow_core\\python\\keras\\engine\\training_v2.py\u001b[0m in \u001b[0;36mfit\u001b[1;34m(self, model, x, y, batch_size, epochs, verbose, callbacks, validation_split, validation_data, shuffle, class_weight, sample_weight, initial_epoch, steps_per_epoch, validation_steps, validation_freq, **kwargs)\u001b[0m\n\u001b[0;32m    322\u001b[0m                 \u001b[0mmode\u001b[0m\u001b[1;33m=\u001b[0m\u001b[0mModeKeys\u001b[0m\u001b[1;33m.\u001b[0m\u001b[0mTRAIN\u001b[0m\u001b[1;33m,\u001b[0m\u001b[1;33m\u001b[0m\u001b[1;33m\u001b[0m\u001b[0m\n\u001b[0;32m    323\u001b[0m                 \u001b[0mtraining_context\u001b[0m\u001b[1;33m=\u001b[0m\u001b[0mtraining_context\u001b[0m\u001b[1;33m,\u001b[0m\u001b[1;33m\u001b[0m\u001b[1;33m\u001b[0m\u001b[0m\n\u001b[1;32m--> 324\u001b[1;33m                 total_epochs=epochs)\n\u001b[0m\u001b[0;32m    325\u001b[0m             \u001b[0mcbks\u001b[0m\u001b[1;33m.\u001b[0m\u001b[0mmake_logs\u001b[0m\u001b[1;33m(\u001b[0m\u001b[0mmodel\u001b[0m\u001b[1;33m,\u001b[0m \u001b[0mepoch_logs\u001b[0m\u001b[1;33m,\u001b[0m \u001b[0mtraining_result\u001b[0m\u001b[1;33m,\u001b[0m \u001b[0mModeKeys\u001b[0m\u001b[1;33m.\u001b[0m\u001b[0mTRAIN\u001b[0m\u001b[1;33m)\u001b[0m\u001b[1;33m\u001b[0m\u001b[1;33m\u001b[0m\u001b[0m\n\u001b[0;32m    326\u001b[0m \u001b[1;33m\u001b[0m\u001b[0m\n",
      "\u001b[1;32mc:\\users\\razerjon24\\appdata\\local\\programs\\python\\python37\\lib\\site-packages\\tensorflow_core\\python\\keras\\engine\\training_v2.py\u001b[0m in \u001b[0;36mrun_one_epoch\u001b[1;34m(model, iterator, execution_function, dataset_size, batch_size, strategy, steps_per_epoch, num_samples, mode, training_context, total_epochs)\u001b[0m\n\u001b[0;32m    121\u001b[0m         step=step, mode=mode, size=current_batch_size) as batch_logs:\n\u001b[0;32m    122\u001b[0m       \u001b[1;32mtry\u001b[0m\u001b[1;33m:\u001b[0m\u001b[1;33m\u001b[0m\u001b[1;33m\u001b[0m\u001b[0m\n\u001b[1;32m--> 123\u001b[1;33m         \u001b[0mbatch_outs\u001b[0m \u001b[1;33m=\u001b[0m \u001b[0mexecution_function\u001b[0m\u001b[1;33m(\u001b[0m\u001b[0miterator\u001b[0m\u001b[1;33m)\u001b[0m\u001b[1;33m\u001b[0m\u001b[1;33m\u001b[0m\u001b[0m\n\u001b[0m\u001b[0;32m    124\u001b[0m       \u001b[1;32mexcept\u001b[0m \u001b[1;33m(\u001b[0m\u001b[0mStopIteration\u001b[0m\u001b[1;33m,\u001b[0m \u001b[0merrors\u001b[0m\u001b[1;33m.\u001b[0m\u001b[0mOutOfRangeError\u001b[0m\u001b[1;33m)\u001b[0m\u001b[1;33m:\u001b[0m\u001b[1;33m\u001b[0m\u001b[1;33m\u001b[0m\u001b[0m\n\u001b[0;32m    125\u001b[0m         \u001b[1;31m# TODO(kaftan): File bug about tf function and errors.OutOfRangeError?\u001b[0m\u001b[1;33m\u001b[0m\u001b[1;33m\u001b[0m\u001b[1;33m\u001b[0m\u001b[0m\n",
      "\u001b[1;32mc:\\users\\razerjon24\\appdata\\local\\programs\\python\\python37\\lib\\site-packages\\tensorflow_core\\python\\keras\\engine\\training_v2_utils.py\u001b[0m in \u001b[0;36mexecution_function\u001b[1;34m(input_fn)\u001b[0m\n\u001b[0;32m     84\u001b[0m     \u001b[1;31m# `numpy` translates Tensors to values in Eager mode.\u001b[0m\u001b[1;33m\u001b[0m\u001b[1;33m\u001b[0m\u001b[1;33m\u001b[0m\u001b[0m\n\u001b[0;32m     85\u001b[0m     return nest.map_structure(_non_none_constant_value,\n\u001b[1;32m---> 86\u001b[1;33m                               distributed_function(input_fn))\n\u001b[0m\u001b[0;32m     87\u001b[0m \u001b[1;33m\u001b[0m\u001b[0m\n\u001b[0;32m     88\u001b[0m   \u001b[1;32mreturn\u001b[0m \u001b[0mexecution_function\u001b[0m\u001b[1;33m\u001b[0m\u001b[1;33m\u001b[0m\u001b[0m\n",
      "\u001b[1;32mc:\\users\\razerjon24\\appdata\\local\\programs\\python\\python37\\lib\\site-packages\\tensorflow_core\\python\\eager\\def_function.py\u001b[0m in \u001b[0;36m__call__\u001b[1;34m(self, *args, **kwds)\u001b[0m\n\u001b[0;32m    455\u001b[0m \u001b[1;33m\u001b[0m\u001b[0m\n\u001b[0;32m    456\u001b[0m     \u001b[0mtracing_count\u001b[0m \u001b[1;33m=\u001b[0m \u001b[0mself\u001b[0m\u001b[1;33m.\u001b[0m\u001b[0m_get_tracing_count\u001b[0m\u001b[1;33m(\u001b[0m\u001b[1;33m)\u001b[0m\u001b[1;33m\u001b[0m\u001b[1;33m\u001b[0m\u001b[0m\n\u001b[1;32m--> 457\u001b[1;33m     \u001b[0mresult\u001b[0m \u001b[1;33m=\u001b[0m \u001b[0mself\u001b[0m\u001b[1;33m.\u001b[0m\u001b[0m_call\u001b[0m\u001b[1;33m(\u001b[0m\u001b[1;33m*\u001b[0m\u001b[0margs\u001b[0m\u001b[1;33m,\u001b[0m \u001b[1;33m**\u001b[0m\u001b[0mkwds\u001b[0m\u001b[1;33m)\u001b[0m\u001b[1;33m\u001b[0m\u001b[1;33m\u001b[0m\u001b[0m\n\u001b[0m\u001b[0;32m    458\u001b[0m     \u001b[1;32mif\u001b[0m \u001b[0mtracing_count\u001b[0m \u001b[1;33m==\u001b[0m \u001b[0mself\u001b[0m\u001b[1;33m.\u001b[0m\u001b[0m_get_tracing_count\u001b[0m\u001b[1;33m(\u001b[0m\u001b[1;33m)\u001b[0m\u001b[1;33m:\u001b[0m\u001b[1;33m\u001b[0m\u001b[1;33m\u001b[0m\u001b[0m\n\u001b[0;32m    459\u001b[0m       \u001b[0mself\u001b[0m\u001b[1;33m.\u001b[0m\u001b[0m_call_counter\u001b[0m\u001b[1;33m.\u001b[0m\u001b[0mcalled_without_tracing\u001b[0m\u001b[1;33m(\u001b[0m\u001b[1;33m)\u001b[0m\u001b[1;33m\u001b[0m\u001b[1;33m\u001b[0m\u001b[0m\n",
      "\u001b[1;32mc:\\users\\razerjon24\\appdata\\local\\programs\\python\\python37\\lib\\site-packages\\tensorflow_core\\python\\eager\\def_function.py\u001b[0m in \u001b[0;36m_call\u001b[1;34m(self, *args, **kwds)\u001b[0m\n\u001b[0;32m    485\u001b[0m       \u001b[1;31m# In this case we have created variables on the first call, so we run the\u001b[0m\u001b[1;33m\u001b[0m\u001b[1;33m\u001b[0m\u001b[1;33m\u001b[0m\u001b[0m\n\u001b[0;32m    486\u001b[0m       \u001b[1;31m# defunned version which is guaranteed to never create variables.\u001b[0m\u001b[1;33m\u001b[0m\u001b[1;33m\u001b[0m\u001b[1;33m\u001b[0m\u001b[0m\n\u001b[1;32m--> 487\u001b[1;33m       \u001b[1;32mreturn\u001b[0m \u001b[0mself\u001b[0m\u001b[1;33m.\u001b[0m\u001b[0m_stateless_fn\u001b[0m\u001b[1;33m(\u001b[0m\u001b[1;33m*\u001b[0m\u001b[0margs\u001b[0m\u001b[1;33m,\u001b[0m \u001b[1;33m**\u001b[0m\u001b[0mkwds\u001b[0m\u001b[1;33m)\u001b[0m  \u001b[1;31m# pylint: disable=not-callable\u001b[0m\u001b[1;33m\u001b[0m\u001b[1;33m\u001b[0m\u001b[0m\n\u001b[0m\u001b[0;32m    488\u001b[0m     \u001b[1;32melif\u001b[0m \u001b[0mself\u001b[0m\u001b[1;33m.\u001b[0m\u001b[0m_stateful_fn\u001b[0m \u001b[1;32mis\u001b[0m \u001b[1;32mnot\u001b[0m \u001b[1;32mNone\u001b[0m\u001b[1;33m:\u001b[0m\u001b[1;33m\u001b[0m\u001b[1;33m\u001b[0m\u001b[0m\n\u001b[0;32m    489\u001b[0m       \u001b[1;31m# Release the lock early so that multiple threads can perform the call\u001b[0m\u001b[1;33m\u001b[0m\u001b[1;33m\u001b[0m\u001b[1;33m\u001b[0m\u001b[0m\n",
      "\u001b[1;32mc:\\users\\razerjon24\\appdata\\local\\programs\\python\\python37\\lib\\site-packages\\tensorflow_core\\python\\eager\\function.py\u001b[0m in \u001b[0;36m__call__\u001b[1;34m(self, *args, **kwargs)\u001b[0m\n\u001b[0;32m   1821\u001b[0m     \u001b[1;34m\"\"\"Calls a graph function specialized to the inputs.\"\"\"\u001b[0m\u001b[1;33m\u001b[0m\u001b[1;33m\u001b[0m\u001b[0m\n\u001b[0;32m   1822\u001b[0m     \u001b[0mgraph_function\u001b[0m\u001b[1;33m,\u001b[0m \u001b[0margs\u001b[0m\u001b[1;33m,\u001b[0m \u001b[0mkwargs\u001b[0m \u001b[1;33m=\u001b[0m \u001b[0mself\u001b[0m\u001b[1;33m.\u001b[0m\u001b[0m_maybe_define_function\u001b[0m\u001b[1;33m(\u001b[0m\u001b[0margs\u001b[0m\u001b[1;33m,\u001b[0m \u001b[0mkwargs\u001b[0m\u001b[1;33m)\u001b[0m\u001b[1;33m\u001b[0m\u001b[1;33m\u001b[0m\u001b[0m\n\u001b[1;32m-> 1823\u001b[1;33m     \u001b[1;32mreturn\u001b[0m \u001b[0mgraph_function\u001b[0m\u001b[1;33m.\u001b[0m\u001b[0m_filtered_call\u001b[0m\u001b[1;33m(\u001b[0m\u001b[0margs\u001b[0m\u001b[1;33m,\u001b[0m \u001b[0mkwargs\u001b[0m\u001b[1;33m)\u001b[0m  \u001b[1;31m# pylint: disable=protected-access\u001b[0m\u001b[1;33m\u001b[0m\u001b[1;33m\u001b[0m\u001b[0m\n\u001b[0m\u001b[0;32m   1824\u001b[0m \u001b[1;33m\u001b[0m\u001b[0m\n\u001b[0;32m   1825\u001b[0m   \u001b[1;33m@\u001b[0m\u001b[0mproperty\u001b[0m\u001b[1;33m\u001b[0m\u001b[1;33m\u001b[0m\u001b[0m\n",
      "\u001b[1;32mc:\\users\\razerjon24\\appdata\\local\\programs\\python\\python37\\lib\\site-packages\\tensorflow_core\\python\\eager\\function.py\u001b[0m in \u001b[0;36m_filtered_call\u001b[1;34m(self, args, kwargs)\u001b[0m\n\u001b[0;32m   1139\u001b[0m          if isinstance(t, (ops.Tensor,\n\u001b[0;32m   1140\u001b[0m                            resource_variable_ops.BaseResourceVariable))),\n\u001b[1;32m-> 1141\u001b[1;33m         self.captured_inputs)\n\u001b[0m\u001b[0;32m   1142\u001b[0m \u001b[1;33m\u001b[0m\u001b[0m\n\u001b[0;32m   1143\u001b[0m   \u001b[1;32mdef\u001b[0m \u001b[0m_call_flat\u001b[0m\u001b[1;33m(\u001b[0m\u001b[0mself\u001b[0m\u001b[1;33m,\u001b[0m \u001b[0margs\u001b[0m\u001b[1;33m,\u001b[0m \u001b[0mcaptured_inputs\u001b[0m\u001b[1;33m,\u001b[0m \u001b[0mcancellation_manager\u001b[0m\u001b[1;33m=\u001b[0m\u001b[1;32mNone\u001b[0m\u001b[1;33m)\u001b[0m\u001b[1;33m:\u001b[0m\u001b[1;33m\u001b[0m\u001b[1;33m\u001b[0m\u001b[0m\n",
      "\u001b[1;32mc:\\users\\razerjon24\\appdata\\local\\programs\\python\\python37\\lib\\site-packages\\tensorflow_core\\python\\eager\\function.py\u001b[0m in \u001b[0;36m_call_flat\u001b[1;34m(self, args, captured_inputs, cancellation_manager)\u001b[0m\n\u001b[0;32m   1222\u001b[0m     \u001b[1;32mif\u001b[0m \u001b[0mexecuting_eagerly\u001b[0m\u001b[1;33m:\u001b[0m\u001b[1;33m\u001b[0m\u001b[1;33m\u001b[0m\u001b[0m\n\u001b[0;32m   1223\u001b[0m       flat_outputs = forward_function.call(\n\u001b[1;32m-> 1224\u001b[1;33m           ctx, args, cancellation_manager=cancellation_manager)\n\u001b[0m\u001b[0;32m   1225\u001b[0m     \u001b[1;32melse\u001b[0m\u001b[1;33m:\u001b[0m\u001b[1;33m\u001b[0m\u001b[1;33m\u001b[0m\u001b[0m\n\u001b[0;32m   1226\u001b[0m       \u001b[0mgradient_name\u001b[0m \u001b[1;33m=\u001b[0m \u001b[0mself\u001b[0m\u001b[1;33m.\u001b[0m\u001b[0m_delayed_rewrite_functions\u001b[0m\u001b[1;33m.\u001b[0m\u001b[0mregister\u001b[0m\u001b[1;33m(\u001b[0m\u001b[1;33m)\u001b[0m\u001b[1;33m\u001b[0m\u001b[1;33m\u001b[0m\u001b[0m\n",
      "\u001b[1;32mc:\\users\\razerjon24\\appdata\\local\\programs\\python\\python37\\lib\\site-packages\\tensorflow_core\\python\\eager\\function.py\u001b[0m in \u001b[0;36mcall\u001b[1;34m(self, ctx, args, cancellation_manager)\u001b[0m\n\u001b[0;32m    509\u001b[0m               \u001b[0minputs\u001b[0m\u001b[1;33m=\u001b[0m\u001b[0margs\u001b[0m\u001b[1;33m,\u001b[0m\u001b[1;33m\u001b[0m\u001b[1;33m\u001b[0m\u001b[0m\n\u001b[0;32m    510\u001b[0m               \u001b[0mattrs\u001b[0m\u001b[1;33m=\u001b[0m\u001b[1;33m(\u001b[0m\u001b[1;34m\"executor_type\"\u001b[0m\u001b[1;33m,\u001b[0m \u001b[0mexecutor_type\u001b[0m\u001b[1;33m,\u001b[0m \u001b[1;34m\"config_proto\"\u001b[0m\u001b[1;33m,\u001b[0m \u001b[0mconfig\u001b[0m\u001b[1;33m)\u001b[0m\u001b[1;33m,\u001b[0m\u001b[1;33m\u001b[0m\u001b[1;33m\u001b[0m\u001b[0m\n\u001b[1;32m--> 511\u001b[1;33m               ctx=ctx)\n\u001b[0m\u001b[0;32m    512\u001b[0m         \u001b[1;32melse\u001b[0m\u001b[1;33m:\u001b[0m\u001b[1;33m\u001b[0m\u001b[1;33m\u001b[0m\u001b[0m\n\u001b[0;32m    513\u001b[0m           outputs = execute.execute_with_cancellation(\n",
      "\u001b[1;32mc:\\users\\razerjon24\\appdata\\local\\programs\\python\\python37\\lib\\site-packages\\tensorflow_core\\python\\eager\\execute.py\u001b[0m in \u001b[0;36mquick_execute\u001b[1;34m(op_name, num_outputs, inputs, attrs, ctx, name)\u001b[0m\n\u001b[0;32m     59\u001b[0m     tensors = pywrap_tensorflow.TFE_Py_Execute(ctx._handle, device_name,\n\u001b[0;32m     60\u001b[0m                                                \u001b[0mop_name\u001b[0m\u001b[1;33m,\u001b[0m \u001b[0minputs\u001b[0m\u001b[1;33m,\u001b[0m \u001b[0mattrs\u001b[0m\u001b[1;33m,\u001b[0m\u001b[1;33m\u001b[0m\u001b[1;33m\u001b[0m\u001b[0m\n\u001b[1;32m---> 61\u001b[1;33m                                                num_outputs)\n\u001b[0m\u001b[0;32m     62\u001b[0m   \u001b[1;32mexcept\u001b[0m \u001b[0mcore\u001b[0m\u001b[1;33m.\u001b[0m\u001b[0m_NotOkStatusException\u001b[0m \u001b[1;32mas\u001b[0m \u001b[0me\u001b[0m\u001b[1;33m:\u001b[0m\u001b[1;33m\u001b[0m\u001b[1;33m\u001b[0m\u001b[0m\n\u001b[0;32m     63\u001b[0m     \u001b[1;32mif\u001b[0m \u001b[0mname\u001b[0m \u001b[1;32mis\u001b[0m \u001b[1;32mnot\u001b[0m \u001b[1;32mNone\u001b[0m\u001b[1;33m:\u001b[0m\u001b[1;33m\u001b[0m\u001b[1;33m\u001b[0m\u001b[0m\n",
      "\u001b[1;31mKeyboardInterrupt\u001b[0m: "
     ]
    }
   ],
   "source": [
    "TIME_PERIODS = x_train_hbts.shape[1]\n",
    "\n",
    "model = models.Sequential()\n",
    "\n",
    "model.add(layers.Reshape((TIME_PERIODS, 1), input_shape=(TIME_PERIODS,)))\n",
    "model.add(layers.Convolution1D(16, kernel_size=5, activation='relu', padding=\"valid\", input_shape=(x_train_hbts.shape[1], 1)))\n",
    "model.add(layers.Convolution1D(16, kernel_size=5, activation='relu', padding=\"valid\"))\n",
    "model.add(layers.MaxPool1D(pool_size=2))\n",
    "model.add(layers.Dropout(rate=0.1))\n",
    "model.add(layers.Convolution1D(32, kernel_size=3, activation='relu', padding=\"valid\"))\n",
    "model.add(layers.Convolution1D(32, kernel_size=3, activation='relu', padding=\"valid\"))\n",
    "model.add(layers.MaxPool1D(pool_size=2))\n",
    "model.add(layers.Dropout(rate=0.1))\n",
    "model.add(layers.Convolution1D(32, kernel_size=3, activation='relu', padding=\"valid\"))\n",
    "model.add(layers.Convolution1D(32, kernel_size=3, activation='relu', padding=\"valid\"))\n",
    "model.add(layers.MaxPool1D(pool_size=2))\n",
    "model.add(layers.Dropout(rate=0.1))\n",
    "model.add(layers.Convolution1D(256, kernel_size=3, activation='relu', padding=\"valid\"))\n",
    "model.add(layers.Convolution1D(256, kernel_size=3, activation='relu', padding=\"valid\"))\n",
    "model.add(layers.GlobalMaxPool1D())\n",
    "model.add(layers.Dropout(rate=0.2))\n",
    "\n",
    "model.add(layers.Dense(64, activation='relu', name=\"dense_1\"))\n",
    "model.add(layers.Dense(64, activation='relu', name=\"dense_2\"))\n",
    "model.add(layers.Dense(4, activation='softmax', name=\"dense_3_mitbih\"))\n",
    "\n",
    "opt = optimizers.Adam(0.001)\n",
    "\n",
    "model.compile(optimizer=opt, loss='sparse_categorical_crossentropy', metrics=['acc'])\n",
    "\n",
    "model.fit(x_train_hbts.values, y_train_hbts.values,  batch_size=200, epochs=50, validation_split=0.1)\n",
    "\n",
    "print(model.summary())"
   ]
  },
  {
   "cell_type": "code",
   "execution_count": 368,
   "metadata": {},
   "outputs": [
    {
     "name": "stdout",
     "output_type": "stream",
     "text": [
      "1023\n",
      "1023\n"
     ]
    }
   ],
   "source": [
    "print(x_test_indx.nunique())\n",
    "print(y_test.size)"
   ]
  },
  {
   "cell_type": "code",
   "execution_count": 477,
   "metadata": {},
   "outputs": [
    {
     "data": {
      "text/plain": [
       "0.5347018572825024"
      ]
     },
     "execution_count": 477,
     "metadata": {},
     "output_type": "execute_result"
    }
   ],
   "source": [
    "X_ = np.expand_dims(x_test_hbts, axis=2)\n",
    "pred = model.predict(X_)\n",
    "y_pred = np.array([np.argmax(y) for y in pred])\n",
    "test_pred_df = pd.DataFrame({'ind': x_test_indx, 'y':y_pred})\n",
    "y_test_pred = test_pred_df.groupby('ind')['y'].value_counts().unstack().idxmax(axis=1)\n",
    "F1 = f1_score(y_test, y_test_pred, average='micro')\n",
    "F1"
   ]
  },
  {
   "cell_type": "code",
   "execution_count": 193,
   "metadata": {},
   "outputs": [
    {
     "data": {
      "text/plain": [
       "ind\n",
       "1.0       0\n",
       "32.0      0\n",
       "34.0      2\n",
       "36.0      0\n",
       "39.0      0\n",
       "         ..\n",
       "5103.0    1\n",
       "5104.0    0\n",
       "5105.0    0\n",
       "5108.0    0\n",
       "5110.0    2\n",
       "Length: 1022, dtype: int64"
      ]
     },
     "execution_count": 193,
     "metadata": {},
     "output_type": "execute_result"
    }
   ],
   "source": [
    "y_test_pred"
   ]
  }
 ],
 "metadata": {
  "kernelspec": {
   "display_name": "Python 3",
   "language": "python",
   "name": "python3"
  },
  "language_info": {
   "codemirror_mode": {
    "name": "ipython",
    "version": 3
   },
   "file_extension": ".py",
   "mimetype": "text/x-python",
   "name": "python",
   "nbconvert_exporter": "python",
   "pygments_lexer": "ipython3",
   "version": "3.7.5"
  }
 },
 "nbformat": 4,
 "nbformat_minor": 2
}
