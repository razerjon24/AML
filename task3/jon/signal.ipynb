{
 "cells": [
  {
   "cell_type": "code",
   "execution_count": 164,
   "metadata": {},
   "outputs": [],
   "source": [
    "import numpy as np\n",
    "import pandas as pd\n",
    "from sklearn.impute import SimpleImputer\n",
    "from sklearn.metrics import f1_score\n",
    "from sklearn.metrics import make_scorer\n",
    "from sklearn.model_selection import cross_val_score\n",
    "from sklearn.ensemble import RandomForestClassifier, GradientBoostingClassifier\n",
    "from sklearn import svm\n",
    "from sklearn.preprocessing import MinMaxScaler, StandardScaler\n",
    "from sklearn.pipeline import Pipeline\n",
    "from sklearn.decomposition import PCA\n",
    "from sklearn.model_selection import GridSearchCV\n",
    "from imblearn.pipeline import Pipeline as PipeIMB\n",
    "import xgboost as xgb\n",
    "from imblearn.over_sampling import SMOTE\n",
    "from imblearn.combine import SMOTEENN, SMOTETomek\n",
    "from sklearn.utils import class_weight\n",
    "from imblearn.under_sampling import ClusterCentroids\n",
    "from sklearn.multiclass import OneVsOneClassifier\n",
    "from sklearn.preprocessing import MultiLabelBinarizer\n",
    "from sklearn.model_selection import train_test_split\n"
   ]
  },
  {
   "cell_type": "code",
   "execution_count": 8,
   "metadata": {},
   "outputs": [
    {
     "data": {
      "text/html": [
       "<div>\n",
       "<style scoped>\n",
       "    .dataframe tbody tr th:only-of-type {\n",
       "        vertical-align: middle;\n",
       "    }\n",
       "\n",
       "    .dataframe tbody tr th {\n",
       "        vertical-align: top;\n",
       "    }\n",
       "\n",
       "    .dataframe thead th {\n",
       "        text-align: right;\n",
       "    }\n",
       "</style>\n",
       "<table border=\"1\" class=\"dataframe\">\n",
       "  <thead>\n",
       "    <tr style=\"text-align: right;\">\n",
       "      <th></th>\n",
       "      <th>0</th>\n",
       "      <th>1</th>\n",
       "      <th>2</th>\n",
       "      <th>3</th>\n",
       "      <th>4</th>\n",
       "      <th>5</th>\n",
       "      <th>6</th>\n",
       "      <th>7</th>\n",
       "      <th>8</th>\n",
       "      <th>9</th>\n",
       "      <th>...</th>\n",
       "      <th>58</th>\n",
       "      <th>59</th>\n",
       "      <th>60</th>\n",
       "      <th>61</th>\n",
       "      <th>62</th>\n",
       "      <th>63</th>\n",
       "      <th>64</th>\n",
       "      <th>65</th>\n",
       "      <th>66</th>\n",
       "      <th>67</th>\n",
       "    </tr>\n",
       "  </thead>\n",
       "  <tbody>\n",
       "    <tr>\n",
       "      <th>0</th>\n",
       "      <td>243.597015</td>\n",
       "      <td>98.0</td>\n",
       "      <td>256.0</td>\n",
       "      <td>22.185823</td>\n",
       "      <td>251.129032</td>\n",
       "      <td>218.0</td>\n",
       "      <td>504.0</td>\n",
       "      <td>33.234496</td>\n",
       "      <td>243.126984</td>\n",
       "      <td>125.0</td>\n",
       "      <td>...</td>\n",
       "      <td>124.185529</td>\n",
       "      <td>9.952609</td>\n",
       "      <td>0.011488</td>\n",
       "      <td>-37.602443</td>\n",
       "      <td>37.320107</td>\n",
       "      <td>7.029856</td>\n",
       "      <td>0.811568</td>\n",
       "      <td>0.326647</td>\n",
       "      <td>0.853283</td>\n",
       "      <td>0.074444</td>\n",
       "    </tr>\n",
       "    <tr>\n",
       "      <th>1</th>\n",
       "      <td>235.606061</td>\n",
       "      <td>208.0</td>\n",
       "      <td>257.0</td>\n",
       "      <td>12.761066</td>\n",
       "      <td>234.433333</td>\n",
       "      <td>164.0</td>\n",
       "      <td>274.0</td>\n",
       "      <td>20.196837</td>\n",
       "      <td>232.206897</td>\n",
       "      <td>154.0</td>\n",
       "      <td>...</td>\n",
       "      <td>85.586597</td>\n",
       "      <td>3.883948</td>\n",
       "      <td>-0.137922</td>\n",
       "      <td>-3.205128</td>\n",
       "      <td>2.411407</td>\n",
       "      <td>1.493474</td>\n",
       "      <td>0.784593</td>\n",
       "      <td>0.693250</td>\n",
       "      <td>0.856564</td>\n",
       "      <td>0.043021</td>\n",
       "    </tr>\n",
       "    <tr>\n",
       "      <th>2</th>\n",
       "      <td>269.551724</td>\n",
       "      <td>251.0</td>\n",
       "      <td>297.0</td>\n",
       "      <td>10.578398</td>\n",
       "      <td>271.153846</td>\n",
       "      <td>201.0</td>\n",
       "      <td>349.0</td>\n",
       "      <td>32.314193</td>\n",
       "      <td>271.040000</td>\n",
       "      <td>252.0</td>\n",
       "      <td>...</td>\n",
       "      <td>70.603353</td>\n",
       "      <td>2.230728</td>\n",
       "      <td>0.125242</td>\n",
       "      <td>-2.186039</td>\n",
       "      <td>2.006572</td>\n",
       "      <td>1.117426</td>\n",
       "      <td>0.898105</td>\n",
       "      <td>0.836565</td>\n",
       "      <td>0.989880</td>\n",
       "      <td>0.035847</td>\n",
       "    </tr>\n",
       "    <tr>\n",
       "      <th>3</th>\n",
       "      <td>123.376812</td>\n",
       "      <td>101.0</td>\n",
       "      <td>204.0</td>\n",
       "      <td>21.830773</td>\n",
       "      <td>857.250000</td>\n",
       "      <td>144.0</td>\n",
       "      <td>2813.0</td>\n",
       "      <td>834.007606</td>\n",
       "      <td>122.553846</td>\n",
       "      <td>97.0</td>\n",
       "      <td>...</td>\n",
       "      <td>170.026161</td>\n",
       "      <td>11.912734</td>\n",
       "      <td>-0.108934</td>\n",
       "      <td>-26.143791</td>\n",
       "      <td>25.886388</td>\n",
       "      <td>10.429553</td>\n",
       "      <td>0.409855</td>\n",
       "      <td>0.336628</td>\n",
       "      <td>0.679922</td>\n",
       "      <td>0.072426</td>\n",
       "    </tr>\n",
       "    <tr>\n",
       "      <th>4</th>\n",
       "      <td>179.697674</td>\n",
       "      <td>66.0</td>\n",
       "      <td>221.0</td>\n",
       "      <td>23.296406</td>\n",
       "      <td>205.200000</td>\n",
       "      <td>143.0</td>\n",
       "      <td>490.0</td>\n",
       "      <td>74.717296</td>\n",
       "      <td>179.923077</td>\n",
       "      <td>75.0</td>\n",
       "      <td>...</td>\n",
       "      <td>108.436358</td>\n",
       "      <td>6.004780</td>\n",
       "      <td>-0.052222</td>\n",
       "      <td>-10.608886</td>\n",
       "      <td>11.026965</td>\n",
       "      <td>3.222062</td>\n",
       "      <td>0.613908</td>\n",
       "      <td>0.503271</td>\n",
       "      <td>0.956549</td>\n",
       "      <td>0.072437</td>\n",
       "    </tr>\n",
       "    <tr>\n",
       "      <th>...</th>\n",
       "      <td>...</td>\n",
       "      <td>...</td>\n",
       "      <td>...</td>\n",
       "      <td>...</td>\n",
       "      <td>...</td>\n",
       "      <td>...</td>\n",
       "      <td>...</td>\n",
       "      <td>...</td>\n",
       "      <td>...</td>\n",
       "      <td>...</td>\n",
       "      <td>...</td>\n",
       "      <td>...</td>\n",
       "      <td>...</td>\n",
       "      <td>...</td>\n",
       "      <td>...</td>\n",
       "      <td>...</td>\n",
       "      <td>...</td>\n",
       "      <td>...</td>\n",
       "      <td>...</td>\n",
       "      <td>...</td>\n",
       "      <td>...</td>\n",
       "    </tr>\n",
       "    <tr>\n",
       "      <th>5108</th>\n",
       "      <td>217.043478</td>\n",
       "      <td>78.0</td>\n",
       "      <td>311.0</td>\n",
       "      <td>61.584497</td>\n",
       "      <td>250.166667</td>\n",
       "      <td>94.0</td>\n",
       "      <td>515.0</td>\n",
       "      <td>81.204988</td>\n",
       "      <td>218.315789</td>\n",
       "      <td>99.0</td>\n",
       "      <td>...</td>\n",
       "      <td>139.401010</td>\n",
       "      <td>20.812725</td>\n",
       "      <td>0.458240</td>\n",
       "      <td>-27.819755</td>\n",
       "      <td>33.615268</td>\n",
       "      <td>16.535187</td>\n",
       "      <td>0.757796</td>\n",
       "      <td>0.353268</td>\n",
       "      <td>1.036475</td>\n",
       "      <td>0.187219</td>\n",
       "    </tr>\n",
       "    <tr>\n",
       "      <th>5109</th>\n",
       "      <td>259.000000</td>\n",
       "      <td>252.0</td>\n",
       "      <td>275.0</td>\n",
       "      <td>3.741657</td>\n",
       "      <td>258.222222</td>\n",
       "      <td>205.0</td>\n",
       "      <td>315.0</td>\n",
       "      <td>30.910065</td>\n",
       "      <td>258.038462</td>\n",
       "      <td>184.0</td>\n",
       "      <td>...</td>\n",
       "      <td>70.868347</td>\n",
       "      <td>0.785999</td>\n",
       "      <td>-0.099029</td>\n",
       "      <td>-1.437632</td>\n",
       "      <td>0.532615</td>\n",
       "      <td>0.469217</td>\n",
       "      <td>0.863229</td>\n",
       "      <td>0.839899</td>\n",
       "      <td>0.916556</td>\n",
       "      <td>0.012684</td>\n",
       "    </tr>\n",
       "    <tr>\n",
       "      <th>5110</th>\n",
       "      <td>236.656250</td>\n",
       "      <td>201.0</td>\n",
       "      <td>298.0</td>\n",
       "      <td>29.022200</td>\n",
       "      <td>234.965517</td>\n",
       "      <td>196.0</td>\n",
       "      <td>303.0</td>\n",
       "      <td>29.998256</td>\n",
       "      <td>235.964286</td>\n",
       "      <td>185.0</td>\n",
       "      <td>...</td>\n",
       "      <td>89.404463</td>\n",
       "      <td>8.827483</td>\n",
       "      <td>-0.552520</td>\n",
       "      <td>-4.836081</td>\n",
       "      <td>3.437164</td>\n",
       "      <td>1.928052</td>\n",
       "      <td>0.791621</td>\n",
       "      <td>0.669916</td>\n",
       "      <td>0.993208</td>\n",
       "      <td>0.096930</td>\n",
       "    </tr>\n",
       "    <tr>\n",
       "      <th>5111</th>\n",
       "      <td>254.500000</td>\n",
       "      <td>238.0</td>\n",
       "      <td>269.0</td>\n",
       "      <td>8.257572</td>\n",
       "      <td>254.655172</td>\n",
       "      <td>234.0</td>\n",
       "      <td>273.0</td>\n",
       "      <td>10.117502</td>\n",
       "      <td>254.321429</td>\n",
       "      <td>171.0</td>\n",
       "      <td>...</td>\n",
       "      <td>74.324551</td>\n",
       "      <td>1.370485</td>\n",
       "      <td>0.086599</td>\n",
       "      <td>-2.309321</td>\n",
       "      <td>1.588037</td>\n",
       "      <td>1.225818</td>\n",
       "      <td>0.847321</td>\n",
       "      <td>0.793241</td>\n",
       "      <td>0.896562</td>\n",
       "      <td>0.027480</td>\n",
       "    </tr>\n",
       "    <tr>\n",
       "      <th>5112</th>\n",
       "      <td>177.325581</td>\n",
       "      <td>160.0</td>\n",
       "      <td>203.0</td>\n",
       "      <td>10.953859</td>\n",
       "      <td>181.131579</td>\n",
       "      <td>127.0</td>\n",
       "      <td>408.0</td>\n",
       "      <td>43.937857</td>\n",
       "      <td>177.641026</td>\n",
       "      <td>130.0</td>\n",
       "      <td>...</td>\n",
       "      <td>111.804118</td>\n",
       "      <td>5.821007</td>\n",
       "      <td>0.026309</td>\n",
       "      <td>-3.592521</td>\n",
       "      <td>2.431470</td>\n",
       "      <td>1.580616</td>\n",
       "      <td>0.590879</td>\n",
       "      <td>0.533267</td>\n",
       "      <td>0.676582</td>\n",
       "      <td>0.036930</td>\n",
       "    </tr>\n",
       "  </tbody>\n",
       "</table>\n",
       "<p>5113 rows × 68 columns</p>\n",
       "</div>"
      ],
      "text/plain": [
       "              0      1      2          3           4      5       6   \\\n",
       "0     243.597015   98.0  256.0  22.185823  251.129032  218.0   504.0   \n",
       "1     235.606061  208.0  257.0  12.761066  234.433333  164.0   274.0   \n",
       "2     269.551724  251.0  297.0  10.578398  271.153846  201.0   349.0   \n",
       "3     123.376812  101.0  204.0  21.830773  857.250000  144.0  2813.0   \n",
       "4     179.697674   66.0  221.0  23.296406  205.200000  143.0   490.0   \n",
       "...          ...    ...    ...        ...         ...    ...     ...   \n",
       "5108  217.043478   78.0  311.0  61.584497  250.166667   94.0   515.0   \n",
       "5109  259.000000  252.0  275.0   3.741657  258.222222  205.0   315.0   \n",
       "5110  236.656250  201.0  298.0  29.022200  234.965517  196.0   303.0   \n",
       "5111  254.500000  238.0  269.0   8.257572  254.655172  234.0   273.0   \n",
       "5112  177.325581  160.0  203.0  10.953859  181.131579  127.0   408.0   \n",
       "\n",
       "              7           8      9   ...          58         59        60  \\\n",
       "0      33.234496  243.126984  125.0  ...  124.185529   9.952609  0.011488   \n",
       "1      20.196837  232.206897  154.0  ...   85.586597   3.883948 -0.137922   \n",
       "2      32.314193  271.040000  252.0  ...   70.603353   2.230728  0.125242   \n",
       "3     834.007606  122.553846   97.0  ...  170.026161  11.912734 -0.108934   \n",
       "4      74.717296  179.923077   75.0  ...  108.436358   6.004780 -0.052222   \n",
       "...          ...         ...    ...  ...         ...        ...       ...   \n",
       "5108   81.204988  218.315789   99.0  ...  139.401010  20.812725  0.458240   \n",
       "5109   30.910065  258.038462  184.0  ...   70.868347   0.785999 -0.099029   \n",
       "5110   29.998256  235.964286  185.0  ...   89.404463   8.827483 -0.552520   \n",
       "5111   10.117502  254.321429  171.0  ...   74.324551   1.370485  0.086599   \n",
       "5112   43.937857  177.641026  130.0  ...  111.804118   5.821007  0.026309   \n",
       "\n",
       "             61         62         63        64        65        66        67  \n",
       "0    -37.602443  37.320107   7.029856  0.811568  0.326647  0.853283  0.074444  \n",
       "1     -3.205128   2.411407   1.493474  0.784593  0.693250  0.856564  0.043021  \n",
       "2     -2.186039   2.006572   1.117426  0.898105  0.836565  0.989880  0.035847  \n",
       "3    -26.143791  25.886388  10.429553  0.409855  0.336628  0.679922  0.072426  \n",
       "4    -10.608886  11.026965   3.222062  0.613908  0.503271  0.956549  0.072437  \n",
       "...         ...        ...        ...       ...       ...       ...       ...  \n",
       "5108 -27.819755  33.615268  16.535187  0.757796  0.353268  1.036475  0.187219  \n",
       "5109  -1.437632   0.532615   0.469217  0.863229  0.839899  0.916556  0.012684  \n",
       "5110  -4.836081   3.437164   1.928052  0.791621  0.669916  0.993208  0.096930  \n",
       "5111  -2.309321   1.588037   1.225818  0.847321  0.793241  0.896562  0.027480  \n",
       "5112  -3.592521   2.431470   1.580616  0.590879  0.533267  0.676582  0.036930  \n",
       "\n",
       "[5113 rows x 68 columns]"
      ]
     },
     "execution_count": 8,
     "metadata": {},
     "output_type": "execute_result"
    }
   ],
   "source": [
    "train = pd.DataFrame(np.load('../elrich/x_train_features.npy'))\n",
    "y = np.load('../elrich/y_train_values.npy')\n",
    "train"
   ]
  },
  {
   "cell_type": "code",
   "execution_count": 15,
   "metadata": {},
   "outputs": [],
   "source": [
    "imp = SimpleImputer(missing_values=np.nan, strategy='median')\n",
    "x_data = imp.fit_transform(train)\n",
    "y_data = y"
   ]
  },
  {
   "cell_type": "code",
   "execution_count": 178,
   "metadata": {},
   "outputs": [],
   "source": [
    "scorer = make_scorer(f1_score, average='micro')\n",
    "def cv(model):\n",
    "    return cross_val_score(model, x_data, y_data, cv=8, scoring=scorer, verbose=2, n_jobs=-1)"
   ]
  },
  {
   "cell_type": "code",
   "execution_count": 27,
   "metadata": {},
   "outputs": [
    {
     "name": "stderr",
     "output_type": "stream",
     "text": [
      "[Parallel(n_jobs=-1)]: Using backend LokyBackend with 8 concurrent workers.\n",
      "[Parallel(n_jobs=-1)]: Done   7 out of  10 | elapsed:   38.6s remaining:   16.5s\n",
      "[Parallel(n_jobs=-1)]: Done  10 out of  10 | elapsed:   55.3s finished\n"
     ]
    }
   ],
   "source": [
    "gb_model = GradientBoostingClassifier(n_estimators=200, learning_rate=0.1, max_depth=3)\n",
    "gb_scores = cv(gb_model)\n",
    "#0.8028555375489237"
   ]
  },
  {
   "cell_type": "code",
   "execution_count": 59,
   "metadata": {},
   "outputs": [
    {
     "data": {
      "text/plain": [
       "y\n",
       "0    3030\n",
       "1     443\n",
       "2    1470\n",
       "3     170\n",
       "dtype: int64"
      ]
     },
     "execution_count": 59,
     "metadata": {},
     "output_type": "execute_result"
    }
   ],
   "source": [
    "y_s = pd.DataFrame({'y':y})\n",
    "y_s.groupby('y').size()"
   ]
  },
  {
   "cell_type": "code",
   "execution_count": 104,
   "metadata": {},
   "outputs": [
    {
     "data": {
      "text/plain": [
       "{0: 0.4218646864686469,\n",
       " 1: 2.8854401805869077,\n",
       " 2: 0.8695578231292517,\n",
       " 3: 7.519117647058824}"
      ]
     },
     "execution_count": 104,
     "metadata": {},
     "output_type": "execute_result"
    }
   ],
   "source": [
    "cl_w = class_weight.compute_class_weight('balanced',\n",
    "                                                 np.unique(y_data),\n",
    "                                                 y_data)\n",
    "class_weight_dict = dict(enumerate(cl_w))\n",
    "class_weight_dict"
   ]
  },
  {
   "cell_type": "code",
   "execution_count": 160,
   "metadata": {},
   "outputs": [],
   "source": [
    "sample_weight = np.array([class_weight_dict[i] for i in y_data])"
   ]
  },
  {
   "cell_type": "code",
   "execution_count": 195,
   "metadata": {},
   "outputs": [],
   "source": [
    "pipe_steps = [('XGB', xgb.XGBClassifier(n_estimators=200, objective = 'multi:softmax', num_class=4))]\n",
    "\n",
    "check_params = {\n",
    "    'XGB__max_depth': [2, 3],\n",
    "    'XGB__learning_rate': [0.1, 0.01],\n",
    "    'XGB__min_child_weight' : [1, 2, 3]\n",
    "    #'SVM__gamma':np.logspace(-9, -3, 6)\n",
    "}\n",
    "\n",
    "pipeline = Pipeline(pipe_steps)"
   ]
  },
  {
   "cell_type": "code",
   "execution_count": null,
   "metadata": {},
   "outputs": [
    {
     "name": "stdout",
     "output_type": "stream",
     "text": [
      "Fitting 8 folds for each of 12 candidates, totalling 96 fits\n"
     ]
    },
    {
     "name": "stderr",
     "output_type": "stream",
     "text": [
      "[Parallel(n_jobs=-1)]: Using backend LokyBackend with 8 concurrent workers.\n",
      "[Parallel(n_jobs=-1)]: Done  25 tasks      | elapsed:  1.8min\n",
      "[Parallel(n_jobs=-1)]: Done  96 out of  96 | elapsed:  6.2min finished\n"
     ]
    }
   ],
   "source": [
    "# xgb_scores = cv(pipeline)\n",
    "# np.mean(xgb_scores)\n",
    "#0.803248073630137\n",
    "create_grid=GridSearchCV(pipeline, check_params,cv=8, scoring=scorer, n_jobs=-1, verbose=2)\n",
    "create_grid.fit(x_data,y_data)\n",
    "print(\"Best fit\")\n",
    "print(create_grid.best_params_)\n",
    "print(create_grid.best_score_)"
   ]
  },
  {
   "cell_type": "code",
   "execution_count": 186,
   "metadata": {},
   "outputs": [
    {
     "data": {
      "text/plain": [
       "(3411, 68)"
      ]
     },
     "execution_count": 186,
     "metadata": {},
     "output_type": "execute_result"
    }
   ],
   "source": [
    "test.shape"
   ]
  },
  {
   "cell_type": "code",
   "execution_count": 189,
   "metadata": {},
   "outputs": [
    {
     "data": {
      "text/plain": [
       "array([[2.43597015e+02, 9.80000000e+01, 2.56000000e+02, ...,\n",
       "        3.26647287e-01, 8.53282708e-01, 7.44435911e-02],\n",
       "       [2.35606061e+02, 2.08000000e+02, 2.57000000e+02, ...,\n",
       "        6.93249870e-01, 8.56563541e-01, 4.30214544e-02],\n",
       "       [2.69551724e+02, 2.51000000e+02, 2.97000000e+02, ...,\n",
       "        8.36565302e-01, 9.89880058e-01, 3.58467832e-02],\n",
       "       ...,\n",
       "       [2.36656250e+02, 2.01000000e+02, 2.98000000e+02, ...,\n",
       "        6.69915755e-01, 9.93208433e-01, 9.69298395e-02],\n",
       "       [2.54500000e+02, 2.38000000e+02, 2.69000000e+02, ...,\n",
       "        7.93240956e-01, 8.96562257e-01, 2.74803847e-02],\n",
       "       [1.77325581e+02, 1.60000000e+02, 2.03000000e+02, ...,\n",
       "        5.33266700e-01, 6.76582126e-01, 3.69300891e-02]])"
      ]
     },
     "execution_count": 189,
     "metadata": {},
     "output_type": "execute_result"
    }
   ],
   "source": [
    "x_data"
   ]
  },
  {
   "cell_type": "code",
   "execution_count": 190,
   "metadata": {},
   "outputs": [
    {
     "data": {
      "text/plain": [
       "XGBClassifier(base_score=0.5, booster='gbtree', colsample_bylevel=1,\n",
       "              colsample_bynode=1, colsample_bytree=1, gamma=0,\n",
       "              learning_rate=0.1, max_delta_step=0, max_depth=3,\n",
       "              min_child_weight=1, missing=None, n_estimators=200, n_jobs=1,\n",
       "              nthread=None, num_class=4, objective='multi:softprob',\n",
       "              random_state=0, reg_alpha=0, reg_lambda=1, scale_pos_weight=1,\n",
       "              seed=None, silent=None, subsample=1, verbosity=1)"
      ]
     },
     "execution_count": 190,
     "metadata": {},
     "output_type": "execute_result"
    }
   ],
   "source": [
    "test = pd.DataFrame(np.load('../elrich/x_test_data.npy'))\n",
    "clf = xgb.XGBClassifier(learning_rate = 0.1, max_depth = 3, n_estimators=200, objective = 'multi:softmax', num_class=4)\n",
    "clf.fit(x_data, y_data)"
   ]
  },
  {
   "cell_type": "code",
   "execution_count": 191,
   "metadata": {},
   "outputs": [],
   "source": [
    "pred = clf.predict(test.values)"
   ]
  },
  {
   "cell_type": "code",
   "execution_count": 192,
   "metadata": {},
   "outputs": [],
   "source": [
    "test_y = pred\n",
    "file_test = \"xgb_best\"\n",
    "output = pd.DataFrame({'id':[float(i) for i in range(0,len(test_y))],'y':test_y})\n",
    "output.to_csv(\"{}.csv\".format(file_test),index=False)"
   ]
  },
  {
   "cell_type": "code",
   "execution_count": 165,
   "metadata": {},
   "outputs": [],
   "source": [
    "#x_train, x_test, y_train, y_test = train_test_split(x_data, y_data, test_size = 0.3, stratify = y_data)"
   ]
  },
  {
   "cell_type": "code",
   "execution_count": 144,
   "metadata": {},
   "outputs": [],
   "source": [
    "pipe_steps = [('CC',SMOTE('not majority')), ('scaler', StandardScaler()) ,\n",
    "              ('SVM', svm.SVC(kernel = 'poly', gamma='scale', coef0=1, degree=4,\n",
    "                                                                decision_function_shape='ovo',\n",
    "                                                                cache_size=3000, random_state = 42\n",
    "                                                                ))]\n",
    "\n",
    "check_params = {\n",
    "    'SVM__degree': [2,3,4,5],\n",
    "    'SVM__coef0': [0,1]\n",
    "    #'SVM__gamma':np.logspace(-9, -3, 6)\n",
    "}\n",
    "\n",
    "pipeline = PipeIMB(pipe_steps)"
   ]
  },
  {
   "cell_type": "code",
   "execution_count": 145,
   "metadata": {},
   "outputs": [
    {
     "name": "stderr",
     "output_type": "stream",
     "text": [
      "[Parallel(n_jobs=-1)]: Using backend LokyBackend with 8 concurrent workers.\n",
      "[Parallel(n_jobs=-1)]: Done   7 out of  10 | elapsed:   54.3s remaining:   23.2s\n",
      "[Parallel(n_jobs=-1)]: Done  10 out of  10 | elapsed:  1.2min finished\n"
     ]
    },
    {
     "data": {
      "text/plain": [
       "0.7817270058708414"
      ]
     },
     "execution_count": 145,
     "metadata": {},
     "output_type": "execute_result"
    }
   ],
   "source": [
    "svm_scores = cv(pipeline)\n",
    "np.mean(svm_scores)\n",
    "# create_grid=GridSearchCV(pipeline, check_params,cv=10, scoring=scorer, n_jobs=-1, verbose=2)\n",
    "# create_grid.fit(x_data,y_data)\n",
    "# print(\"Best fit\")\n",
    "# print(create_grid.best_params_)\n",
    "# print(create_grid.best_score_)"
   ]
  },
  {
   "cell_type": "code",
   "execution_count": null,
   "metadata": {},
   "outputs": [],
   "source": [
    "#0.775079118762231 degree 4"
   ]
  }
 ],
 "metadata": {
  "kernelspec": {
   "display_name": "Python 3",
   "language": "python",
   "name": "python3"
  },
  "language_info": {
   "codemirror_mode": {
    "name": "ipython",
    "version": 3
   },
   "file_extension": ".py",
   "mimetype": "text/x-python",
   "name": "python",
   "nbconvert_exporter": "python",
   "pygments_lexer": "ipython3",
   "version": "3.7.5"
  }
 },
 "nbformat": 4,
 "nbformat_minor": 2
}
